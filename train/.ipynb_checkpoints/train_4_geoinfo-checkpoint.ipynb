{
 "cells": [
  {
   "cell_type": "code",
   "execution_count": 3,
   "id": "89b9237b-83aa-449f-8b20-e24bc83df818",
   "metadata": {},
   "outputs": [],
   "source": [
    "import pandas as pd\n",
    "import numpy as np"
   ]
  },
  {
   "cell_type": "markdown",
   "id": "60215453-2489-429e-b2a9-eeb6bbcebbee",
   "metadata": {},
   "source": [
    "# geo info를 획득하기 위해 데이터 준비\n",
    "\n",
    "- 원래 계획은 행안부 api로 주소를 획득하고, 카카오 api로 좌표를 얻고자 함\n",
    "- 하지만 행안부 api 검색시 주소 검색 오류 발생\n",
    "----------------------------\n",
    "- 국토교통부 레일포털에 기차역 정보에 관한 api 확인\n",
    "- 이를 통해서 기차역 정보 획득하고자 함"
   ]
  },
  {
   "cell_type": "code",
   "execution_count": 36,
   "id": "6eff4d57-dd54-4ad8-bf4b-05808da2c828",
   "metadata": {},
   "outputs": [
    {
     "data": {
      "text/html": [
       "<div>\n",
       "<style scoped>\n",
       "    .dataframe tbody tr th:only-of-type {\n",
       "        vertical-align: middle;\n",
       "    }\n",
       "\n",
       "    .dataframe tbody tr th {\n",
       "        vertical-align: top;\n",
       "    }\n",
       "\n",
       "    .dataframe thead th {\n",
       "        text-align: right;\n",
       "    }\n",
       "</style>\n",
       "<table border=\"1\" class=\"dataframe\">\n",
       "  <thead>\n",
       "    <tr style=\"text-align: right;\">\n",
       "      <th></th>\n",
       "      <th>station</th>\n",
       "      <th>down_on_2016</th>\n",
       "      <th>down_off_2016</th>\n",
       "      <th>down_total_2016</th>\n",
       "      <th>down_kilo_2016</th>\n",
       "      <th>up_on_2016</th>\n",
       "      <th>up_off_2016</th>\n",
       "      <th>up_total_2016</th>\n",
       "      <th>up_kilo_2016</th>\n",
       "      <th>total_2016</th>\n",
       "      <th>...</th>\n",
       "      <th>on_ktx_2022</th>\n",
       "      <th>on_saemaul_2022</th>\n",
       "      <th>on_mugungwha_2022</th>\n",
       "      <th>on_commute_2022</th>\n",
       "      <th>on_total_2022</th>\n",
       "      <th>off_ktx_2022</th>\n",
       "      <th>off_saemaul_2022</th>\n",
       "      <th>off_mugungwha_2022</th>\n",
       "      <th>off_commute_2022</th>\n",
       "      <th>off_total_2022</th>\n",
       "    </tr>\n",
       "  </thead>\n",
       "  <tbody>\n",
       "    <tr>\n",
       "      <th>0</th>\n",
       "      <td>각계</td>\n",
       "      <td>0.0</td>\n",
       "      <td>0.0</td>\n",
       "      <td>0.0</td>\n",
       "      <td>0.0</td>\n",
       "      <td>475.0</td>\n",
       "      <td>6.0</td>\n",
       "      <td>481.0</td>\n",
       "      <td>640.0</td>\n",
       "      <td>481.0</td>\n",
       "      <td>...</td>\n",
       "      <td>0.0</td>\n",
       "      <td>0.0</td>\n",
       "      <td>372.0</td>\n",
       "      <td>0.0</td>\n",
       "      <td>372.0</td>\n",
       "      <td>0.0</td>\n",
       "      <td>0.0</td>\n",
       "      <td>16.0</td>\n",
       "      <td>0.0</td>\n",
       "      <td>16.0</td>\n",
       "    </tr>\n",
       "    <tr>\n",
       "      <th>1</th>\n",
       "      <td>강경</td>\n",
       "      <td>29781.0</td>\n",
       "      <td>114890.0</td>\n",
       "      <td>144671.0</td>\n",
       "      <td>15222925.0</td>\n",
       "      <td>114280.0</td>\n",
       "      <td>33367.0</td>\n",
       "      <td>147647.0</td>\n",
       "      <td>6863592.0</td>\n",
       "      <td>292318.0</td>\n",
       "      <td>...</td>\n",
       "      <td>0.0</td>\n",
       "      <td>13357.0</td>\n",
       "      <td>91522.0</td>\n",
       "      <td>0.0</td>\n",
       "      <td>104879.0</td>\n",
       "      <td>0.0</td>\n",
       "      <td>18820.0</td>\n",
       "      <td>86335.0</td>\n",
       "      <td>0.0</td>\n",
       "      <td>105155.0</td>\n",
       "    </tr>\n",
       "  </tbody>\n",
       "</table>\n",
       "<p>2 rows × 134 columns</p>\n",
       "</div>"
      ],
      "text/plain": [
       "  station  down_on_2016  down_off_2016  down_total_2016  down_kilo_2016  \\\n",
       "0      각계           0.0            0.0              0.0             0.0   \n",
       "1      강경       29781.0       114890.0         144671.0      15222925.0   \n",
       "\n",
       "   up_on_2016  up_off_2016  up_total_2016  up_kilo_2016  total_2016  ...  \\\n",
       "0       475.0          6.0          481.0         640.0       481.0  ...   \n",
       "1    114280.0      33367.0       147647.0     6863592.0    292318.0  ...   \n",
       "\n",
       "   on_ktx_2022  on_saemaul_2022  on_mugungwha_2022  on_commute_2022  \\\n",
       "0          0.0              0.0              372.0              0.0   \n",
       "1          0.0          13357.0            91522.0              0.0   \n",
       "\n",
       "   on_total_2022  off_ktx_2022  off_saemaul_2022  off_mugungwha_2022  \\\n",
       "0          372.0           0.0               0.0                16.0   \n",
       "1       104879.0           0.0           18820.0             86335.0   \n",
       "\n",
       "   off_commute_2022  off_total_2022  \n",
       "0               0.0            16.0  \n",
       "1               0.0        105155.0  \n",
       "\n",
       "[2 rows x 134 columns]"
      ]
     },
     "execution_count": 36,
     "metadata": {},
     "output_type": "execute_result"
    }
   ],
   "source": [
    "train = pd.read_csv('./train.csv')\n",
    "df = train.copy()\n",
    "df.head(2)"
   ]
  },
  {
   "cell_type": "code",
   "execution_count": 44,
   "id": "7f6def8c-e273-446e-b4f2-0d78f5e6a0a0",
   "metadata": {},
   "outputs": [
    {
     "data": {
      "text/html": [
       "<div>\n",
       "<style scoped>\n",
       "    .dataframe tbody tr th:only-of-type {\n",
       "        vertical-align: middle;\n",
       "    }\n",
       "\n",
       "    .dataframe tbody tr th {\n",
       "        vertical-align: top;\n",
       "    }\n",
       "\n",
       "    .dataframe thead th {\n",
       "        text-align: right;\n",
       "    }\n",
       "</style>\n",
       "<table border=\"1\" class=\"dataframe\">\n",
       "  <thead>\n",
       "    <tr style=\"text-align: right;\">\n",
       "      <th></th>\n",
       "      <th>station</th>\n",
       "    </tr>\n",
       "  </thead>\n",
       "  <tbody>\n",
       "    <tr>\n",
       "      <th>0</th>\n",
       "      <td>각계역</td>\n",
       "    </tr>\n",
       "    <tr>\n",
       "      <th>1</th>\n",
       "      <td>강경역</td>\n",
       "    </tr>\n",
       "  </tbody>\n",
       "</table>\n",
       "</div>"
      ],
      "text/plain": [
       "  station\n",
       "0     각계역\n",
       "1     강경역"
      ]
     },
     "execution_count": 44,
     "metadata": {},
     "output_type": "execute_result"
    }
   ],
   "source": [
    "# 주소를 확인하고, 좌표를 획득하기 위해서 역 이름에 역 추가\n",
    "addr = df.loc[:, 'station'].to_frame()\n",
    "addr['station'] = addr['station'].apply(lambda x: str(x) + '역')\n",
    "addr.head(2)"
   ]
  },
  {
   "cell_type": "code",
   "execution_count": 42,
   "id": "43fba85d-1a63-4829-8943-a39c9f6feecd",
   "metadata": {},
   "outputs": [
    {
     "data": {
      "text/plain": [
       "0        각계\n",
       "1        강경\n",
       "2        개포\n",
       "3        경산\n",
       "4        경주\n",
       "       ... \n",
       "191      익산\n",
       "192      정읍\n",
       "193      부산\n",
       "194      대전\n",
       "195    천안아산\n",
       "Name: station, Length: 196, dtype: object"
      ]
     },
     "execution_count": 42,
     "metadata": {},
     "output_type": "execute_result"
    }
   ],
   "source": [
    "df.loc[:, 'station']"
   ]
  },
  {
   "cell_type": "markdown",
   "id": "31fa00e9-329f-4aea-a92a-30f8e9b24b2b",
   "metadata": {},
   "source": [
    "# 행정안전부 api를 통해 기차역의 주소 획득\n",
    "1. 서울역 주소검색시\n",
    "    - 서울역풍림아이원 플러스 주소가 얻어진다.\n",
    "2. 주소가 나오지 않는 기차역 존재\n",
    "    - 논산역 등\n"
   ]
  },
  {
   "cell_type": "code",
   "execution_count": 9,
   "id": "6d489da9-1322-4aee-8bf0-526550affeb3",
   "metadata": {},
   "outputs": [],
   "source": [
    "import requests, json\n",
    "from urllib.parse import quote"
   ]
  },
  {
   "cell_type": "code",
   "execution_count": 16,
   "id": "a844c04e-473b-4f31-ba57-e51217896c7c",
   "metadata": {},
   "outputs": [],
   "source": [
    "with open('D:/song/class_appendix/key/addr_key.txt') as file:\n",
    "    addr_key = file.read()"
   ]
  },
  {
   "cell_type": "markdown",
   "id": "4bf5fac5-1b81-4fc5-83b3-3def11936c9a",
   "metadata": {},
   "source": [
    "#### sample"
   ]
  },
  {
   "cell_type": "code",
   "execution_count": 13,
   "id": "17a79509-83d1-43e1-a397-97e19a445895",
   "metadata": {},
   "outputs": [
    {
     "data": {
      "text/plain": [
       "'%EC%84%9C%EC%9A%B8%EC%97%AD'"
      ]
     },
     "execution_count": 13,
     "metadata": {},
     "output_type": "execute_result"
    }
   ],
   "source": [
    "quote('서울역')"
   ]
  },
  {
   "cell_type": "code",
   "execution_count": 73,
   "id": "06e5e1bb-e31c-4c07-b7f5-8096ab29468a",
   "metadata": {},
   "outputs": [],
   "source": [
    "base_url = 'https://www.juso.go.kr/addrlink/addrLinkApi.do'\n",
    "params1 = f'confmKey={addr_key}&currentPage=1&countPerPage=10'\n",
    "params2 = f'keyword={quote(\"서울역\")}&resultType=json'\n",
    "url = f'{base_url}?{params1}&{params2}'\n"
   ]
  },
  {
   "cell_type": "code",
   "execution_count": 18,
   "id": "f7654eee-eba8-43cd-9d45-4730839e0442",
   "metadata": {},
   "outputs": [
    {
     "data": {
      "text/plain": [
       "200"
      ]
     },
     "execution_count": 18,
     "metadata": {},
     "output_type": "execute_result"
    }
   ],
   "source": [
    "result = requests.get(url)\n",
    "result.status_code"
   ]
  },
  {
   "cell_type": "code",
   "execution_count": 28,
   "id": "ff59304c-8d58-4969-aca6-18954c186b9d",
   "metadata": {},
   "outputs": [
    {
     "data": {
      "text/plain": [
       "'서울특별시 용산구 만리재로 202 (서계동)'"
      ]
     },
     "execution_count": 28,
     "metadata": {},
     "output_type": "execute_result"
    }
   ],
   "source": [
    "# result.json()['results'].keys()\n",
    "result.json()['results']['juso'][0]['roadAddr']"
   ]
  },
  {
   "cell_type": "code",
   "execution_count": 69,
   "id": "04cca395-00b9-46ca-8851-28426406191c",
   "metadata": {},
   "outputs": [],
   "source": [
    "import time\n",
    "\n",
    "def find_addr(station_name):\n",
    "    base_url = 'https://www.juso.go.kr/addrlink/addrLinkApi.do'\n",
    "    params1 = f'confmKey={addr_key}&currentPage=1&countPerPage=10'\n",
    "    params2 = f'keyword={quote(station_name)}&resultType=json'\n",
    "    url = f'{base_url}?{params1}&{params2}'\n",
    "    result = requests.get(url)\n",
    "    try:\n",
    "        if result.status_code == 200:\n",
    "            res = json.loads(result.text)\n",
    "            return result.json()['results']['juso'][0]['roadAddr']\n",
    "        else :\n",
    "            return 'none'\n",
    "    except:\n",
    "        return 'what'\n",
    "    time.sleep(0.3)"
   ]
  },
  {
   "cell_type": "code",
   "execution_count": 70,
   "id": "033b9935-34cd-412a-8c20-a3723aba7a05",
   "metadata": {},
   "outputs": [
    {
     "data": {
      "text/html": [
       "<div>\n",
       "<style scoped>\n",
       "    .dataframe tbody tr th:only-of-type {\n",
       "        vertical-align: middle;\n",
       "    }\n",
       "\n",
       "    .dataframe tbody tr th {\n",
       "        vertical-align: top;\n",
       "    }\n",
       "\n",
       "    .dataframe thead th {\n",
       "        text-align: right;\n",
       "    }\n",
       "</style>\n",
       "<table border=\"1\" class=\"dataframe\">\n",
       "  <thead>\n",
       "    <tr style=\"text-align: right;\">\n",
       "      <th></th>\n",
       "      <th>station</th>\n",
       "      <th>addr</th>\n",
       "    </tr>\n",
       "  </thead>\n",
       "  <tbody>\n",
       "    <tr>\n",
       "      <th>0</th>\n",
       "      <td>각계역</td>\n",
       "      <td>충청북도 영동군 심천면 각계길 55</td>\n",
       "    </tr>\n",
       "    <tr>\n",
       "      <th>1</th>\n",
       "      <td>강경역</td>\n",
       "      <td>충청남도 논산시 강경읍 대흥로 1</td>\n",
       "    </tr>\n",
       "    <tr>\n",
       "      <th>2</th>\n",
       "      <td>개포역</td>\n",
       "      <td>경상북도 예천군 개포면 방터길 7-11</td>\n",
       "    </tr>\n",
       "    <tr>\n",
       "      <th>3</th>\n",
       "      <td>경산역</td>\n",
       "      <td>경상북도 경산시 중앙로 1 (사정동)</td>\n",
       "    </tr>\n",
       "    <tr>\n",
       "      <th>4</th>\n",
       "      <td>경주역</td>\n",
       "      <td>경상북도 경주시 건천읍 경주역세권4로 24</td>\n",
       "    </tr>\n",
       "    <tr>\n",
       "      <th>5</th>\n",
       "      <td>계룡역</td>\n",
       "      <td>충청남도 계룡시 두마면 팥거리로 95</td>\n",
       "    </tr>\n",
       "    <tr>\n",
       "      <th>6</th>\n",
       "      <td>고한역</td>\n",
       "      <td>강원특별자치도 정선군 고한읍 고한로 166</td>\n",
       "    </tr>\n",
       "    <tr>\n",
       "      <th>7</th>\n",
       "      <td>곡성역</td>\n",
       "      <td>what</td>\n",
       "    </tr>\n",
       "    <tr>\n",
       "      <th>8</th>\n",
       "      <td>광명역</td>\n",
       "      <td>경기도 광명시 광명역로 21 (일직동)</td>\n",
       "    </tr>\n",
       "    <tr>\n",
       "      <th>9</th>\n",
       "      <td>광양역</td>\n",
       "      <td>전라남도 광양시 광양읍 해광로 800</td>\n",
       "    </tr>\n",
       "  </tbody>\n",
       "</table>\n",
       "</div>"
      ],
      "text/plain": [
       "  station                     addr\n",
       "0     각계역      충청북도 영동군 심천면 각계길 55\n",
       "1     강경역       충청남도 논산시 강경읍 대흥로 1\n",
       "2     개포역    경상북도 예천군 개포면 방터길 7-11\n",
       "3     경산역     경상북도 경산시 중앙로 1 (사정동)\n",
       "4     경주역  경상북도 경주시 건천읍 경주역세권4로 24\n",
       "5     계룡역     충청남도 계룡시 두마면 팥거리로 95\n",
       "6     고한역  강원특별자치도 정선군 고한읍 고한로 166\n",
       "7     곡성역                     what\n",
       "8     광명역    경기도 광명시 광명역로 21 (일직동)\n",
       "9     광양역     전라남도 광양시 광양읍 해광로 800"
      ]
     },
     "execution_count": 70,
     "metadata": {},
     "output_type": "execute_result"
    }
   ],
   "source": [
    "# addr['addr'] = addr['station'].apply(lambda x: find_addr(x))\n",
    "# addr.head(10)"
   ]
  },
  {
   "cell_type": "code",
   "execution_count": 71,
   "id": "171d2827-84ea-450c-a52c-bb4df2c6badb",
   "metadata": {},
   "outputs": [
    {
     "data": {
      "text/html": [
       "<div>\n",
       "<style scoped>\n",
       "    .dataframe tbody tr th:only-of-type {\n",
       "        vertical-align: middle;\n",
       "    }\n",
       "\n",
       "    .dataframe tbody tr th {\n",
       "        vertical-align: top;\n",
       "    }\n",
       "\n",
       "    .dataframe thead th {\n",
       "        text-align: right;\n",
       "    }\n",
       "</style>\n",
       "<table border=\"1\" class=\"dataframe\">\n",
       "  <thead>\n",
       "    <tr style=\"text-align: right;\">\n",
       "      <th></th>\n",
       "      <th>station</th>\n",
       "      <th>addr</th>\n",
       "    </tr>\n",
       "  </thead>\n",
       "  <tbody>\n",
       "    <tr>\n",
       "      <th>7</th>\n",
       "      <td>곡성역</td>\n",
       "      <td>what</td>\n",
       "    </tr>\n",
       "    <tr>\n",
       "      <th>20</th>\n",
       "      <td>나전역</td>\n",
       "      <td>what</td>\n",
       "    </tr>\n",
       "    <tr>\n",
       "      <th>21</th>\n",
       "      <td>남성현역</td>\n",
       "      <td>what</td>\n",
       "    </tr>\n",
       "    <tr>\n",
       "      <th>24</th>\n",
       "      <td>논산역</td>\n",
       "      <td>what</td>\n",
       "    </tr>\n",
       "    <tr>\n",
       "      <th>39</th>\n",
       "      <td>명봉역</td>\n",
       "      <td>what</td>\n",
       "    </tr>\n",
       "    <tr>\n",
       "      <th>47</th>\n",
       "      <td>벌교역</td>\n",
       "      <td>what</td>\n",
       "    </tr>\n",
       "    <tr>\n",
       "      <th>53</th>\n",
       "      <td>북영천역</td>\n",
       "      <td>what</td>\n",
       "    </tr>\n",
       "    <tr>\n",
       "      <th>61</th>\n",
       "      <td>삼탄역</td>\n",
       "      <td>what</td>\n",
       "    </tr>\n",
       "    <tr>\n",
       "      <th>69</th>\n",
       "      <td>석불역</td>\n",
       "      <td>what</td>\n",
       "    </tr>\n",
       "    <tr>\n",
       "      <th>71</th>\n",
       "      <td>선평역</td>\n",
       "      <td>what</td>\n",
       "    </tr>\n",
       "    <tr>\n",
       "      <th>88</th>\n",
       "      <td>약목역</td>\n",
       "      <td>what</td>\n",
       "    </tr>\n",
       "    <tr>\n",
       "      <th>100</th>\n",
       "      <td>예당역</td>\n",
       "      <td>what</td>\n",
       "    </tr>\n",
       "    <tr>\n",
       "      <th>104</th>\n",
       "      <td>오근장역</td>\n",
       "      <td>what</td>\n",
       "    </tr>\n",
       "    <tr>\n",
       "      <th>124</th>\n",
       "      <td>임성리역</td>\n",
       "      <td>what</td>\n",
       "    </tr>\n",
       "    <tr>\n",
       "      <th>133</th>\n",
       "      <td>조성역</td>\n",
       "      <td>what</td>\n",
       "    </tr>\n",
       "    <tr>\n",
       "      <th>136</th>\n",
       "      <td>주덕역</td>\n",
       "      <td>what</td>\n",
       "    </tr>\n",
       "    <tr>\n",
       "      <th>151</th>\n",
       "      <td>청리역</td>\n",
       "      <td>what</td>\n",
       "    </tr>\n",
       "    <tr>\n",
       "      <th>154</th>\n",
       "      <td>청주공항역</td>\n",
       "      <td>what</td>\n",
       "    </tr>\n",
       "    <tr>\n",
       "      <th>165</th>\n",
       "      <td>한림정역</td>\n",
       "      <td>what</td>\n",
       "    </tr>\n",
       "    <tr>\n",
       "      <th>168</th>\n",
       "      <td>함창역</td>\n",
       "      <td>what</td>\n",
       "    </tr>\n",
       "  </tbody>\n",
       "</table>\n",
       "</div>"
      ],
      "text/plain": [
       "    station  addr\n",
       "7       곡성역  what\n",
       "20      나전역  what\n",
       "21     남성현역  what\n",
       "24      논산역  what\n",
       "39      명봉역  what\n",
       "47      벌교역  what\n",
       "53     북영천역  what\n",
       "61      삼탄역  what\n",
       "69      석불역  what\n",
       "71      선평역  what\n",
       "88      약목역  what\n",
       "100     예당역  what\n",
       "104    오근장역  what\n",
       "124    임성리역  what\n",
       "133     조성역  what\n",
       "136     주덕역  what\n",
       "151     청리역  what\n",
       "154   청주공항역  what\n",
       "165    한림정역  what\n",
       "168     함창역  what"
      ]
     },
     "execution_count": 71,
     "metadata": {},
     "output_type": "execute_result"
    }
   ],
   "source": [
    "# addr[addr['addr'] == 'what']"
   ]
  },
  {
   "cell_type": "markdown",
   "id": "729bfc82-9b4d-4d5c-a133-2200991887ff",
   "metadata": {},
   "source": [
    "# 국토교통부 레일포털을 통해 geo info 획득\n",
    "- https://data.kric.go.kr/rips/M_01_02/detail.do?id=183&service=convenientInfo&operation=stationInfo\n",
    "\n",
    "- https://openapi.kric.go.kr/openapi/convenientInfo/stationInfo?serviceKey=[서비스키값]&format=xml&railOprIsttCd=KR&lnCd=1&stinCd=135&stinNm=용산"
   ]
  },
  {
   "cell_type": "code",
   "execution_count": null,
   "id": "7f92508b-6e85-45b0-afe0-abf874d46ad3",
   "metadata": {},
   "outputs": [],
   "source": [
    "base_url = https://openapi.kric.go.kr/openapi/convenientInfo/stationInfo?serviceKey=\n",
    "rail_key =\n",
    "service_foramt = f'&format=json&railOprIsttCd=KR&lnCd=1&stinCd=135&stinNm={용산}'\n"
   ]
  }
 ],
 "metadata": {
  "kernelspec": {
   "display_name": "Python 3 (ipykernel)",
   "language": "python",
   "name": "python3"
  },
  "language_info": {
   "codemirror_mode": {
    "name": "ipython",
    "version": 3
   },
   "file_extension": ".py",
   "mimetype": "text/x-python",
   "name": "python",
   "nbconvert_exporter": "python",
   "pygments_lexer": "ipython3",
   "version": "3.9.12"
  }
 },
 "nbformat": 4,
 "nbformat_minor": 5
}
