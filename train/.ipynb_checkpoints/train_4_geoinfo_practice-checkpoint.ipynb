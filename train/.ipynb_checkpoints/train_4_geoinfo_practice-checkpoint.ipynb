{
 "cells": [
  {
   "cell_type": "code",
   "execution_count": 1,
   "id": "89b9237b-83aa-449f-8b20-e24bc83df818",
   "metadata": {},
   "outputs": [],
   "source": [
    "import pandas as pd\n",
    "import numpy as np\n",
    "import requests, json\n",
    "from urllib.parse import quote"
   ]
  },
  {
   "cell_type": "markdown",
   "id": "60215453-2489-429e-b2a9-eeb6bbcebbee",
   "metadata": {},
   "source": [
    "# geo info를 획득하기 위해 데이터 준비\n",
    "\n",
    "- 원래 계획은 행안부 api로 주소를 획득하고, 카카오 api로 좌표를 얻고자 함\n",
    "- 하지만 행안부 api 검색시 주소 검색 오류 발생\n",
    "----------------------------\n",
    "- 국토교통부 레일포털에 기차역 정보에 관한 api 확인\n",
    "- 이를 통해서 기차역 정보 획득하고자 함"
   ]
  },
  {
   "cell_type": "code",
   "execution_count": 2,
   "id": "6eff4d57-dd54-4ad8-bf4b-05808da2c828",
   "metadata": {},
   "outputs": [
    {
     "data": {
      "text/html": [
       "<div>\n",
       "<style scoped>\n",
       "    .dataframe tbody tr th:only-of-type {\n",
       "        vertical-align: middle;\n",
       "    }\n",
       "\n",
       "    .dataframe tbody tr th {\n",
       "        vertical-align: top;\n",
       "    }\n",
       "\n",
       "    .dataframe thead th {\n",
       "        text-align: right;\n",
       "    }\n",
       "</style>\n",
       "<table border=\"1\" class=\"dataframe\">\n",
       "  <thead>\n",
       "    <tr style=\"text-align: right;\">\n",
       "      <th></th>\n",
       "      <th>station</th>\n",
       "      <th>down_on_2016</th>\n",
       "      <th>down_off_2016</th>\n",
       "      <th>down_total_2016</th>\n",
       "      <th>down_kilo_2016</th>\n",
       "      <th>up_on_2016</th>\n",
       "      <th>up_off_2016</th>\n",
       "      <th>up_total_2016</th>\n",
       "      <th>up_kilo_2016</th>\n",
       "      <th>total_2016</th>\n",
       "      <th>...</th>\n",
       "      <th>on_ktx_2022</th>\n",
       "      <th>on_saemaul_2022</th>\n",
       "      <th>on_mugungwha_2022</th>\n",
       "      <th>on_commute_2022</th>\n",
       "      <th>on_total_2022</th>\n",
       "      <th>off_ktx_2022</th>\n",
       "      <th>off_saemaul_2022</th>\n",
       "      <th>off_mugungwha_2022</th>\n",
       "      <th>off_commute_2022</th>\n",
       "      <th>off_total_2022</th>\n",
       "    </tr>\n",
       "  </thead>\n",
       "  <tbody>\n",
       "    <tr>\n",
       "      <th>0</th>\n",
       "      <td>각계</td>\n",
       "      <td>0.0</td>\n",
       "      <td>0.0</td>\n",
       "      <td>0.0</td>\n",
       "      <td>0.0</td>\n",
       "      <td>475.0</td>\n",
       "      <td>6.0</td>\n",
       "      <td>481.0</td>\n",
       "      <td>640.0</td>\n",
       "      <td>481.0</td>\n",
       "      <td>...</td>\n",
       "      <td>0.0</td>\n",
       "      <td>0.0</td>\n",
       "      <td>372.0</td>\n",
       "      <td>0.0</td>\n",
       "      <td>372.0</td>\n",
       "      <td>0.0</td>\n",
       "      <td>0.0</td>\n",
       "      <td>16.0</td>\n",
       "      <td>0.0</td>\n",
       "      <td>16.0</td>\n",
       "    </tr>\n",
       "    <tr>\n",
       "      <th>1</th>\n",
       "      <td>강경</td>\n",
       "      <td>29781.0</td>\n",
       "      <td>114890.0</td>\n",
       "      <td>144671.0</td>\n",
       "      <td>15222925.0</td>\n",
       "      <td>114280.0</td>\n",
       "      <td>33367.0</td>\n",
       "      <td>147647.0</td>\n",
       "      <td>6863592.0</td>\n",
       "      <td>292318.0</td>\n",
       "      <td>...</td>\n",
       "      <td>0.0</td>\n",
       "      <td>13357.0</td>\n",
       "      <td>91522.0</td>\n",
       "      <td>0.0</td>\n",
       "      <td>104879.0</td>\n",
       "      <td>0.0</td>\n",
       "      <td>18820.0</td>\n",
       "      <td>86335.0</td>\n",
       "      <td>0.0</td>\n",
       "      <td>105155.0</td>\n",
       "    </tr>\n",
       "  </tbody>\n",
       "</table>\n",
       "<p>2 rows × 134 columns</p>\n",
       "</div>"
      ],
      "text/plain": [
       "  station  down_on_2016  down_off_2016  down_total_2016  down_kilo_2016  \\\n",
       "0      각계           0.0            0.0              0.0             0.0   \n",
       "1      강경       29781.0       114890.0         144671.0      15222925.0   \n",
       "\n",
       "   up_on_2016  up_off_2016  up_total_2016  up_kilo_2016  total_2016  ...  \\\n",
       "0       475.0          6.0          481.0         640.0       481.0  ...   \n",
       "1    114280.0      33367.0       147647.0     6863592.0    292318.0  ...   \n",
       "\n",
       "   on_ktx_2022  on_saemaul_2022  on_mugungwha_2022  on_commute_2022  \\\n",
       "0          0.0              0.0              372.0              0.0   \n",
       "1          0.0          13357.0            91522.0              0.0   \n",
       "\n",
       "   on_total_2022  off_ktx_2022  off_saemaul_2022  off_mugungwha_2022  \\\n",
       "0          372.0           0.0               0.0                16.0   \n",
       "1       104879.0           0.0           18820.0             86335.0   \n",
       "\n",
       "   off_commute_2022  off_total_2022  \n",
       "0               0.0            16.0  \n",
       "1               0.0        105155.0  \n",
       "\n",
       "[2 rows x 134 columns]"
      ]
     },
     "execution_count": 2,
     "metadata": {},
     "output_type": "execute_result"
    }
   ],
   "source": [
    "train = pd.read_csv('./train.csv')\n",
    "df = train.copy()\n",
    "df.head(2)"
   ]
  },
  {
   "cell_type": "code",
   "execution_count": 3,
   "id": "7f6def8c-e273-446e-b4f2-0d78f5e6a0a0",
   "metadata": {},
   "outputs": [
    {
     "data": {
      "text/html": [
       "<div>\n",
       "<style scoped>\n",
       "    .dataframe tbody tr th:only-of-type {\n",
       "        vertical-align: middle;\n",
       "    }\n",
       "\n",
       "    .dataframe tbody tr th {\n",
       "        vertical-align: top;\n",
       "    }\n",
       "\n",
       "    .dataframe thead th {\n",
       "        text-align: right;\n",
       "    }\n",
       "</style>\n",
       "<table border=\"1\" class=\"dataframe\">\n",
       "  <thead>\n",
       "    <tr style=\"text-align: right;\">\n",
       "      <th></th>\n",
       "      <th>station</th>\n",
       "    </tr>\n",
       "  </thead>\n",
       "  <tbody>\n",
       "    <tr>\n",
       "      <th>0</th>\n",
       "      <td>각계역</td>\n",
       "    </tr>\n",
       "    <tr>\n",
       "      <th>1</th>\n",
       "      <td>강경역</td>\n",
       "    </tr>\n",
       "  </tbody>\n",
       "</table>\n",
       "</div>"
      ],
      "text/plain": [
       "  station\n",
       "0     각계역\n",
       "1     강경역"
      ]
     },
     "execution_count": 3,
     "metadata": {},
     "output_type": "execute_result"
    }
   ],
   "source": [
    "# 주소를 확인하고, 좌표를 획득하기 위해서 역 이름에 역 추가\n",
    "addr = df.loc[:, 'station'].to_frame()\n",
    "addr['station'] = addr['station'].apply(lambda x: str(x) + '역')\n",
    "addr.head(2)"
   ]
  },
  {
   "cell_type": "markdown",
   "id": "31fa00e9-329f-4aea-a92a-30f8e9b24b2b",
   "metadata": {},
   "source": [
    "# 행정안전부 api를 통해 기차역의 주소 획득\n",
    "1. 서울역 주소검색시\n",
    "    - 서울역풍림아이원 플러스 주소가 얻어진다.\n",
    "2. 주소가 나오지 않는 기차역 존재\n",
    "    - 논산역 등\n"
   ]
  },
  {
   "cell_type": "code",
   "execution_count": 4,
   "id": "a844c04e-473b-4f31-ba57-e51217896c7c",
   "metadata": {},
   "outputs": [],
   "source": [
    "# with open('D:/song/class_appendix/key/addr_key.txt') as file:\n",
    "#     addr_key = file.read()"
   ]
  },
  {
   "cell_type": "markdown",
   "id": "4bf5fac5-1b81-4fc5-83b3-3def11936c9a",
   "metadata": {},
   "source": [
    "#### sample"
   ]
  },
  {
   "cell_type": "code",
   "execution_count": 5,
   "id": "17a79509-83d1-43e1-a397-97e19a445895",
   "metadata": {},
   "outputs": [],
   "source": [
    "# quote('서울역')"
   ]
  },
  {
   "cell_type": "code",
   "execution_count": 6,
   "id": "06e5e1bb-e31c-4c07-b7f5-8096ab29468a",
   "metadata": {},
   "outputs": [],
   "source": [
    "# base_url = 'https://www.juso.go.kr/addrlink/addrLinkApi.do'\n",
    "# params1 = f'confmKey={addr_key}&currentPage=1&countPerPage=10'\n",
    "# params2 = f'keyword={quote(\"서울역\")}&resultType=json'\n",
    "# url = f'{base_url}?{params1}&{params2}'\n"
   ]
  },
  {
   "cell_type": "code",
   "execution_count": 7,
   "id": "f7654eee-eba8-43cd-9d45-4730839e0442",
   "metadata": {},
   "outputs": [],
   "source": [
    "# result = requests.get(url)\n",
    "# result.status_code"
   ]
  },
  {
   "cell_type": "code",
   "execution_count": 8,
   "id": "ff59304c-8d58-4969-aca6-18954c186b9d",
   "metadata": {},
   "outputs": [],
   "source": [
    "# # result.json()['results'].keys()\n",
    "# result.json()['results']['juso'][0]['roadAddr']"
   ]
  },
  {
   "cell_type": "code",
   "execution_count": 9,
   "id": "04cca395-00b9-46ca-8851-28426406191c",
   "metadata": {},
   "outputs": [],
   "source": [
    "# import time\n",
    "\n",
    "# def find_addr(station_name):\n",
    "#     base_url = 'https://www.juso.go.kr/addrlink/addrLinkApi.do'\n",
    "#     params1 = f'confmKey={addr_key}&currentPage=1&countPerPage=10'\n",
    "#     params2 = f'keyword={quote(station_name)}&resultType=json'\n",
    "#     url = f'{base_url}?{params1}&{params2}'\n",
    "#     result = requests.get(url)\n",
    "#     try:\n",
    "#         if result.status_code == 200:\n",
    "#             res = json.loads(result.text)\n",
    "#             return result.json()['results']['juso'][0]['roadAddr']\n",
    "#         else :\n",
    "#             return 'none'\n",
    "#     except:\n",
    "#         return 'what'\n",
    "#     time.sleep(0.3)"
   ]
  },
  {
   "cell_type": "code",
   "execution_count": 10,
   "id": "033b9935-34cd-412a-8c20-a3723aba7a05",
   "metadata": {},
   "outputs": [],
   "source": [
    "# addr['addr'] = addr['station'].apply(lambda x: find_addr(x))\n",
    "# addr.head(10)"
   ]
  },
  {
   "cell_type": "code",
   "execution_count": 11,
   "id": "171d2827-84ea-450c-a52c-bb4df2c6badb",
   "metadata": {},
   "outputs": [],
   "source": [
    "# addr[addr['addr'] == 'what']"
   ]
  },
  {
   "cell_type": "markdown",
   "id": "729bfc82-9b4d-4d5c-a133-2200991887ff",
   "metadata": {},
   "source": [
    "# 국토교통부 레일포털을 통해 geo info 획득\n",
    "- https://data.kric.go.kr/rips/M_01_02/detail.do?id=183&service=convenientInfo&operation=stationInfo\n",
    "\n",
    "- https://openapi.kric.go.kr/openapi/convenientInfo/stationInfo?serviceKey=[서비스키값]&format=xml&railOprIsttCd=KR&lnCd=1&stinCd=135&stinNm=용산\n",
    "- 도시철도만 나오고, 운영기간 정보를 넣어야 한다.\n",
    "- 사용방법 : 역사별 정보 API 서비스 세부설명 및 역사에 대한 파라메터 코드는 자료실(https://data.kric.go.kr/rips/M_04_02/detail.do?id=10)의 역사코드정보 첨부파일을 참고하여 주시기 바랍니다.\n",
    "- 어떻게 하지?"
   ]
  },
  {
   "cell_type": "code",
   "execution_count": 12,
   "id": "ad64c21d-4a4b-4b7f-b58b-edbf22af9656",
   "metadata": {},
   "outputs": [],
   "source": [
    "# with open('D:/song/class_appendix/key/train_key.txt') as file:\n",
    "#      rail_key = file.read()"
   ]
  },
  {
   "cell_type": "code",
   "execution_count": 13,
   "id": "7f92508b-6e85-45b0-afe0-abf874d46ad3",
   "metadata": {},
   "outputs": [],
   "source": [
    "# base_url = 'https://openapi.kric.go.kr/openapi/convenientInfo/stationInfo?serviceKey='\n",
    "# rail_key \n",
    "# service_format = '&format=json&railOprIsttCd=KR&lnCd=1&stinCd=135&stinNm={서울}'\n",
    "# station_url2 = base_url + rail_key + service_format"
   ]
  },
  {
   "cell_type": "code",
   "execution_count": 14,
   "id": "11d7a813-44f5-44e7-aeed-eb6e25a1924d",
   "metadata": {},
   "outputs": [],
   "source": [
    "# result = requests.get(station_url2)\n",
    "# result.status_code"
   ]
  },
  {
   "cell_type": "code",
   "execution_count": 15,
   "id": "c6c75496-c56a-4ed7-a8fd-2d51c6ca4408",
   "metadata": {},
   "outputs": [],
   "source": [
    "# result.json()"
   ]
  },
  {
   "cell_type": "code",
   "execution_count": 16,
   "id": "fba111e6-d24e-426c-b33a-b86340f82220",
   "metadata": {},
   "outputs": [],
   "source": [
    "# import time\n",
    "\n",
    "# def find_roadaddr(station_name):\n",
    "#     base_url = 'https://openapi.kric.go.kr/openapi/convenientInfo/stationInfo?serviceKey='\n",
    "#     rail_key \n",
    "#     service_format = f'&format=json&railOprIsttCd=KR&lnCd=1&stinCd=135&stinNm={station_name}'\n",
    "#     station_url = base_url + rail_key + service_format\n",
    "#     result = requests.get(station_url)\n",
    "#     try:\n",
    "#         if result.status_code == 200:\n",
    "#             res = json.loads(result.text)\n",
    "#             return result.json()['body'][0]['roadNmAdr']\n",
    "#         else :\n",
    "#             return 'none'\n",
    "#     except:\n",
    "#         return 'what'\n",
    "#     time.sleep(0.3)"
   ]
  },
  {
   "cell_type": "code",
   "execution_count": 17,
   "id": "da4a8d3f-e3b0-465d-831f-6c05850b5028",
   "metadata": {},
   "outputs": [],
   "source": [
    "# addr['road_addr'] = addr['station'].apply(lambda x: find_roadaddr(x))\n",
    "# addr.head(10)"
   ]
  },
  {
   "cell_type": "code",
   "execution_count": 18,
   "id": "159e61ee-c3cf-4297-8238-3a23579fb14b",
   "metadata": {},
   "outputs": [],
   "source": [
    "# 1번째 페이지 - https://www.kric.go.kr/jsp/board/portal/sub05/est/estationList.jsp?pageNo=1\n",
    "# 마지막 페이지 -https://www.kric.go.kr/jsp/board/portal/sub05/est/estationList.jsp?pageNo=22"
   ]
  },
  {
   "cell_type": "code",
   "execution_count": 19,
   "id": "921e8694-9ff1-41f8-8199-a481c3358f08",
   "metadata": {},
   "outputs": [],
   "source": [
    "# 크롤링 준비\n",
    "# https://ggangtalife.tistory.com/99\n",
    "# !pip install beautifulsoup4 lxml requests\n",
    "import requests\n",
    "from bs4 import BeautifulSoup"
   ]
  },
  {
   "cell_type": "code",
   "execution_count": 20,
   "id": "28a8381e-0238-4781-8513-0bc288a0aaca",
   "metadata": {},
   "outputs": [],
   "source": [
    "test_url = 'https://www.kric.go.kr/jsp/board/portal/sub05/est/estationList.jsp?pageNo=1'"
   ]
  },
  {
   "cell_type": "code",
   "execution_count": 21,
   "id": "b791cd1c-b3d3-42fd-a083-097a872616a4",
   "metadata": {},
   "outputs": [],
   "source": [
    "resp = requests.get(test_url)\n",
    "html = resp.text\n",
    "soup = BeautifulSoup(html, 'html.parser')\n",
    "# soup"
   ]
  },
  {
   "cell_type": "code",
   "execution_count": 22,
   "id": "b47e45e4-e96c-49ee-b6f3-f48e7beac8da",
   "metadata": {},
   "outputs": [
    {
     "data": {
      "text/plain": [
       "[<col class=\"bd_railway_station\"/>,\n",
       " <th class=\"bd_railway_station\" scope=\"col\">역명</th>,\n",
       " <td class=\"bd_railway_station left\"><a href=\"javascript:popDetail('A030280313')\" title=\"새 창으로 열림\">서울역</a></td>,\n",
       " <td class=\"bd_railway_station left\"><a href=\"javascript:popDetail('A030280478')\" title=\"새 창으로 열림\">용산역</a></td>,\n",
       " <td class=\"bd_railway_station left\"><a href=\"javascript:popDetail('A030280435')\" title=\"새 창으로 열림\">영등포역</a></td>,\n",
       " <td class=\"bd_railway_station left\"><a href=\"javascript:popDetail('A030280054')\" title=\"새 창으로 열림\">광명역</a></td>,\n",
       " <td class=\"bd_railway_station left\"><a href=\"javascript:popDetail('A030280607')\" title=\"새 창으로 열림\">청량리역</a></td>,\n",
       " <td class=\"bd_railway_station left\"><a href=\"javascript:popDetail('A030280400')\" title=\"새 창으로 열림\">안양역</a></td>,\n",
       " <td class=\"bd_railway_station left\"><a href=\"javascript:popDetail('A030280700')\" title=\"새 창으로 열림\">상봉역</a></td>,\n",
       " <td class=\"bd_railway_station left\"><a href=\"javascript:popDetail('A030280355')\" title=\"새 창으로 열림\">수원역</a></td>,\n",
       " <td class=\"bd_railway_station left\"><a href=\"javascript:popDetail('A030280450')\" title=\"새 창으로 열림\">오산역</a></td>,\n",
       " <td class=\"bd_railway_station left\"><a href=\"javascript:popDetail('A030280314')\" title=\"새 창으로 열림\">서정리역</a></td>]"
      ]
     },
     "execution_count": 22,
     "metadata": {},
     "output_type": "execute_result"
    }
   ],
   "source": [
    "soup.select('.bd_railway_station')"
   ]
  },
  {
   "cell_type": "code",
   "execution_count": 23,
   "id": "7810a5f6-cbf7-4504-b30d-9b6abbc0204e",
   "metadata": {},
   "outputs": [
    {
     "data": {
      "text/plain": [
       "'서울역'"
      ]
     },
     "execution_count": 23,
     "metadata": {},
     "output_type": "execute_result"
    }
   ],
   "source": [
    "soup.select('.bd_railway_station')[2].text"
   ]
  },
  {
   "cell_type": "code",
   "execution_count": 24,
   "id": "237d93ba-ab6c-405c-91da-5a674c61668f",
   "metadata": {},
   "outputs": [
    {
     "data": {
      "text/plain": [
       "[<col class=\"bd_railway_add\"/>,\n",
       " <th class=\"bd_railway_add\" scope=\"col\">주소</th>,\n",
       " <td class=\"bd_railway_add left\">서울시 중구 한강대로 405</td>,\n",
       " <td class=\"bd_railway_add left\">서울특별시 용산구 한강대로 23길 55</td>,\n",
       " <td class=\"bd_railway_add left\">서울특별시 영등포구 경인로 846</td>,\n",
       " <td class=\"bd_railway_add left\">경기도 광명시 광명역로 21</td>,\n",
       " <td class=\"bd_railway_add left\">서울특별시 동대문구 왕산로 214</td>,\n",
       " <td class=\"bd_railway_add left\">경기도 안양시 만안구 만안로 244</td>,\n",
       " <td class=\"bd_railway_add left\">서울특별시 중랑구 망우로 297</td>,\n",
       " <td class=\"bd_railway_add left\">경기도 수원시 팔달구 덕영대로 924 </td>,\n",
       " <td class=\"bd_railway_add left\">경기도 오산시 오산동 역광장로 59</td>,\n",
       " <td class=\"bd_railway_add left\">경기도 평택시 탄현로 51</td>]"
      ]
     },
     "execution_count": 24,
     "metadata": {},
     "output_type": "execute_result"
    }
   ],
   "source": [
    "soup.select('.bd_railway_add')"
   ]
  },
  {
   "cell_type": "code",
   "execution_count": 25,
   "id": "456bd0f8-32f4-45bd-a8e3-b0ee36e02648",
   "metadata": {},
   "outputs": [
    {
     "data": {
      "text/plain": [
       "'서울시 중구 한강대로 405'"
      ]
     },
     "execution_count": 25,
     "metadata": {},
     "output_type": "execute_result"
    }
   ],
   "source": [
    "soup.select('.bd_railway_add')[2].text"
   ]
  },
  {
   "cell_type": "code",
   "execution_count": 26,
   "id": "1e5d264c-586a-4f0d-9d4a-6508f39b5aab",
   "metadata": {},
   "outputs": [
    {
     "data": {
      "text/html": [
       "<div>\n",
       "<style scoped>\n",
       "    .dataframe tbody tr th:only-of-type {\n",
       "        vertical-align: middle;\n",
       "    }\n",
       "\n",
       "    .dataframe tbody tr th {\n",
       "        vertical-align: top;\n",
       "    }\n",
       "\n",
       "    .dataframe thead th {\n",
       "        text-align: right;\n",
       "    }\n",
       "</style>\n",
       "<table border=\"1\" class=\"dataframe\">\n",
       "  <thead>\n",
       "    <tr style=\"text-align: right;\">\n",
       "      <th></th>\n",
       "      <th>station</th>\n",
       "      <th>road_addr</th>\n",
       "    </tr>\n",
       "  </thead>\n",
       "  <tbody>\n",
       "    <tr>\n",
       "      <th>0</th>\n",
       "      <td>서울역</td>\n",
       "      <td>서울시 중구 한강대로 405</td>\n",
       "    </tr>\n",
       "    <tr>\n",
       "      <th>1</th>\n",
       "      <td>용산역</td>\n",
       "      <td>서울특별시 용산구 한강대로 23길 55</td>\n",
       "    </tr>\n",
       "    <tr>\n",
       "      <th>2</th>\n",
       "      <td>영등포역</td>\n",
       "      <td>서울특별시 영등포구 경인로 846</td>\n",
       "    </tr>\n",
       "    <tr>\n",
       "      <th>3</th>\n",
       "      <td>광명역</td>\n",
       "      <td>경기도 광명시 광명역로 21</td>\n",
       "    </tr>\n",
       "    <tr>\n",
       "      <th>4</th>\n",
       "      <td>청량리역</td>\n",
       "      <td>서울특별시 동대문구 왕산로 214</td>\n",
       "    </tr>\n",
       "    <tr>\n",
       "      <th>5</th>\n",
       "      <td>안양역</td>\n",
       "      <td>경기도 안양시 만안구 만안로 244</td>\n",
       "    </tr>\n",
       "    <tr>\n",
       "      <th>6</th>\n",
       "      <td>상봉역</td>\n",
       "      <td>서울특별시 중랑구 망우로 297</td>\n",
       "    </tr>\n",
       "    <tr>\n",
       "      <th>7</th>\n",
       "      <td>수원역</td>\n",
       "      <td>경기도 수원시 팔달구 덕영대로 924</td>\n",
       "    </tr>\n",
       "    <tr>\n",
       "      <th>8</th>\n",
       "      <td>오산역</td>\n",
       "      <td>경기도 오산시 오산동 역광장로 59</td>\n",
       "    </tr>\n",
       "    <tr>\n",
       "      <th>9</th>\n",
       "      <td>서정리역</td>\n",
       "      <td>경기도 평택시 탄현로 51</td>\n",
       "    </tr>\n",
       "  </tbody>\n",
       "</table>\n",
       "</div>"
      ],
      "text/plain": [
       "  station              road_addr\n",
       "0     서울역        서울시 중구 한강대로 405\n",
       "1     용산역  서울특별시 용산구 한강대로 23길 55\n",
       "2    영등포역     서울특별시 영등포구 경인로 846\n",
       "3     광명역        경기도 광명시 광명역로 21\n",
       "4    청량리역     서울특별시 동대문구 왕산로 214\n",
       "5     안양역    경기도 안양시 만안구 만안로 244\n",
       "6     상봉역      서울특별시 중랑구 망우로 297\n",
       "7     수원역  경기도 수원시 팔달구 덕영대로 924 \n",
       "8     오산역    경기도 오산시 오산동 역광장로 59\n",
       "9    서정리역         경기도 평택시 탄현로 51"
      ]
     },
     "execution_count": 26,
     "metadata": {},
     "output_type": "execute_result"
    }
   ],
   "source": [
    "temp = pd.DataFrame()\n",
    "station = []\n",
    "road_addr = []\n",
    "for i in range(2, 12):\n",
    "    url = 'https://www.kric.go.kr/jsp/board/portal/sub05/est/estationList.jsp?pageNo=1'\n",
    "    resp = requests.get(url)\n",
    "    html = resp.text\n",
    "    soup = BeautifulSoup(html, 'html.parser')\n",
    "    station_name = soup.select('.bd_railway_station')[i].text\n",
    "    station_roadaddr = soup.select('.bd_railway_add')[i].text\n",
    "    station.append(station_name)\n",
    "    road_addr.append(station_roadaddr)\n",
    "\n",
    "temp['station'] = station\n",
    "temp['road_addr'] = road_addr\n",
    "temp"
   ]
  },
  {
   "cell_type": "code",
   "execution_count": 27,
   "id": "3c337df0-8da9-4e61-86c7-5dd1177972df",
   "metadata": {},
   "outputs": [
    {
     "data": {
      "text/html": [
       "<div>\n",
       "<style scoped>\n",
       "    .dataframe tbody tr th:only-of-type {\n",
       "        vertical-align: middle;\n",
       "    }\n",
       "\n",
       "    .dataframe tbody tr th {\n",
       "        vertical-align: top;\n",
       "    }\n",
       "\n",
       "    .dataframe thead th {\n",
       "        text-align: right;\n",
       "    }\n",
       "</style>\n",
       "<table border=\"1\" class=\"dataframe\">\n",
       "  <thead>\n",
       "    <tr style=\"text-align: right;\">\n",
       "      <th></th>\n",
       "      <th>station</th>\n",
       "      <th>road_addr</th>\n",
       "    </tr>\n",
       "  </thead>\n",
       "  <tbody>\n",
       "    <tr>\n",
       "      <th>0</th>\n",
       "      <td>서울역</td>\n",
       "      <td>서울시 중구 한강대로 405</td>\n",
       "    </tr>\n",
       "    <tr>\n",
       "      <th>1</th>\n",
       "      <td>용산역</td>\n",
       "      <td>서울특별시 용산구 한강대로 23길 55</td>\n",
       "    </tr>\n",
       "    <tr>\n",
       "      <th>2</th>\n",
       "      <td>영등포역</td>\n",
       "      <td>서울특별시 영등포구 경인로 846</td>\n",
       "    </tr>\n",
       "    <tr>\n",
       "      <th>3</th>\n",
       "      <td>광명역</td>\n",
       "      <td>경기도 광명시 광명역로 21</td>\n",
       "    </tr>\n",
       "    <tr>\n",
       "      <th>4</th>\n",
       "      <td>청량리역</td>\n",
       "      <td>서울특별시 동대문구 왕산로 214</td>\n",
       "    </tr>\n",
       "    <tr>\n",
       "      <th>...</th>\n",
       "      <td>...</td>\n",
       "      <td>...</td>\n",
       "    </tr>\n",
       "    <tr>\n",
       "      <th>210</th>\n",
       "      <td>김천(구미)</td>\n",
       "      <td>경상북도 김천시 남면 혁신1로 51</td>\n",
       "    </tr>\n",
       "    <tr>\n",
       "      <th>211</th>\n",
       "      <td>둔내역</td>\n",
       "      <td>강원도 횡성군 둔내면 자포곡리 429-1</td>\n",
       "    </tr>\n",
       "    <tr>\n",
       "      <th>212</th>\n",
       "      <td>센텀역</td>\n",
       "      <td>부산광역시 해운대구 해운대로 210</td>\n",
       "    </tr>\n",
       "    <tr>\n",
       "      <th>213</th>\n",
       "      <td>서원주역</td>\n",
       "      <td>강원도 원주시 지정로 145</td>\n",
       "    </tr>\n",
       "    <tr>\n",
       "      <th>214</th>\n",
       "      <td>양원(영동선)역</td>\n",
       "      <td>경상북도 봉화군 소천면 분천리 113-2</td>\n",
       "    </tr>\n",
       "  </tbody>\n",
       "</table>\n",
       "<p>215 rows × 2 columns</p>\n",
       "</div>"
      ],
      "text/plain": [
       "      station               road_addr\n",
       "0         서울역         서울시 중구 한강대로 405\n",
       "1         용산역   서울특별시 용산구 한강대로 23길 55\n",
       "2        영등포역      서울특별시 영등포구 경인로 846\n",
       "3         광명역         경기도 광명시 광명역로 21\n",
       "4        청량리역      서울특별시 동대문구 왕산로 214\n",
       "..        ...                     ...\n",
       "210    김천(구미)     경상북도 김천시 남면 혁신1로 51\n",
       "211       둔내역  강원도 횡성군 둔내면 자포곡리 429-1\n",
       "212       센텀역     부산광역시 해운대구 해운대로 210\n",
       "213      서원주역         강원도 원주시 지정로 145\n",
       "214  양원(영동선)역  경상북도 봉화군 소천면 분천리 113-2\n",
       "\n",
       "[215 rows x 2 columns]"
      ]
     },
     "execution_count": 27,
     "metadata": {},
     "output_type": "execute_result"
    }
   ],
   "source": [
    "temp = pd.DataFrame()\n",
    "station = []\n",
    "road_addr = []\n",
    "for i in range(1, 23):\n",
    "    if i < 22 :\n",
    "        for j in range(2, 12):\n",
    "            url = f'https://www.kric.go.kr/jsp/board/portal/sub05/est/estationList.jsp?pageNo={i}'\n",
    "            resp = requests.get(url)\n",
    "            html = resp.text\n",
    "            soup = BeautifulSoup(html, 'html.parser')\n",
    "            station_name = soup.select('.bd_railway_station')[j].text\n",
    "            station_roadaddr = soup.select('.bd_railway_add')[j].text\n",
    "            station.append(station_name)\n",
    "            road_addr.append(station_roadaddr)\n",
    "    # 22page는 5개역만 존재\n",
    "    else :\n",
    "        for j in range(2, 7):\n",
    "            url = f'https://www.kric.go.kr/jsp/board/portal/sub05/est/estationList.jsp?pageNo={i}'\n",
    "            resp = requests.get(url)\n",
    "            html = resp.text\n",
    "            soup = BeautifulSoup(html, 'html.parser')\n",
    "            station_name = soup.select('.bd_railway_station')[j].text\n",
    "            station_roadaddr = soup.select('.bd_railway_add')[j].text\n",
    "            station.append(station_name)\n",
    "            road_addr.append(station_roadaddr)\n",
    "        \n",
    "\n",
    "temp['station'] = station\n",
    "temp['road_addr'] = road_addr\n",
    "temp"
   ]
  },
  {
   "cell_type": "code",
   "execution_count": 30,
   "id": "d260eef7-7716-4b04-a078-6eb19c3995b6",
   "metadata": {},
   "outputs": [
    {
     "data": {
      "text/plain": [
       "array(['각계역', '강경역', '개포역', '경산역', '경주역', '계룡역', '고한역', '곡성역', '광명역',\n",
       "       '광양역', '광주역', '광천역', '구례구역', '구미역', '구포역', '군북역', '극락강역', '기장역',\n",
       "       '김제역', '김천역', '나전역', '남성현역', '남원역', '남창역', '논산역', '능주역', '다시역',\n",
       "       '단양역', '대구역', '대야역', '대천역', '덕소역', '도계역', '도고온천역', '동백산역', '동해역',\n",
       "       '득량역', '마산역', '매곡역', '명봉역', '몽탄역', '무안역', '묵호역', '물금역', '밀양역',\n",
       "       '반성역', '백양사역', '벌교역', '별어곡역', '보성역', '봉화역', '부강역', '부전역', '북영천역',\n",
       "       '북천역', '분천역', '비동역', '사북역', '사상역', '삼랑진역', '삼례역', '삼탄역', '삽교역',\n",
       "       '상동역', '상주역', '서광주역', '서대전역', '서정리역', '서천역', '석불역', '석포역', '선평역',\n",
       "       '성환역', '수원역', '순천역', '승부역', '신기역', '신녕역', '신동역', '신례원역', '신탄진역',\n",
       "       '신태인역', '심천역', '아산역', '아우라지역', '안강역', '안동역', '안양역', '약목역', '양동역',\n",
       "       '양원역', '양평역', '여수엑스포역', '여천역', '연산역', '영동역', '영등포역', '영월역', '영주역',\n",
       "       '영천역', '예당역', '예미역', '예산역', '예천역', '오근장역', '오산역', '오수역', '옥산역',\n",
       "       '옥천역', '온양온천역', '완사역', '왜관역', '용궁역', '용문역', '용산역', '웅천역', '원동역',\n",
       "       '원주역', '음성역', '의성역', '이양역', '이원역', '일로역', '임기역', '임성리역', '임실역',\n",
       "       '장성역', '전의역', '전주역', '점촌역', '정동진역', '정선역', '제천역', '조성역', '조치원역',\n",
       "       '좌천역', '주덕역', '중리역', '증평역', '지탄역', '지평역', '진례역', '진상역', '진영역',\n",
       "       '진주역', '창원역', '창원중앙역', '천안역', '철암역', '청도역', '청량리역', '청리역', '청소역',\n",
       "       '청주역', '청주공항역', '추풍령역', '춘양역', '충주역', '탑리역', '태백역', '판교역', '평택역',\n",
       "       '풍기역', '하동역', '하양역', '한림정역', '함안역', '함열역', '함창역', '함평역', '행신역',\n",
       "       '현동역', '호계역', '홍성역', '화명역', '화본역', '화순역', '황간역', '횡천역', '효천역',\n",
       "       '수서역', '동탄역', '울산역', '공주역', '신경주역', '오송역', '김천구미역', '광주송정역', '목포역',\n",
       "       '동대구역', '나주역', '익산역', '정읍역', '부산역', '대전역', '천안아산역'], dtype=object)"
      ]
     },
     "execution_count": 30,
     "metadata": {},
     "output_type": "execute_result"
    }
   ],
   "source": [
    "addr['station'].unique()"
   ]
  },
  {
   "cell_type": "code",
   "execution_count": 41,
   "id": "00b77ef4-8567-4fa6-b8b0-dc386749131c",
   "metadata": {},
   "outputs": [
    {
     "data": {
      "text/plain": [
       "array(['서울역', '용산역', '영등포역', '광명역', '청량리역', '안양역', '상봉역', '수원역', '오산역',\n",
       "       '서정리역', '평택역', '성환역', '한림정역', '천안역', '전의역', '조치원역', '부강역', '신탄진역',\n",
       "       '진영역', '오송역', '청주역', '천안아산역', '대전역', '오근장역', '청주공항역', '증평역', '옥천역',\n",
       "       '이원역', '지탄역', '심천역', '영동역', '음성역', '황간역', '주덕역', '추풍령역', '진례역',\n",
       "       '덕소역', '충주역', '김천역', '옥산역', '청리역', '상주역', '삼탄역', '구미역', '약목역',\n",
       "       '왜관역', '신동역', '창원중앙역', '서대전역', '대구역', '동대구역', '경산역', '함창역', '행신역',\n",
       "       '남성현역', '하양역', '청도역', '상동역', '창원역', '밀양역', '점촌역', '신경주역', '삼랑진역',\n",
       "       '원동역', '물금역', '화명역', '구포역', '사상역', '부전역', '울산역', '마산역', '개포역',\n",
       "       '아산역', '용궁역', '계룡역', '예천역', '중리역', '함안역', '기장역', '온양온천역', '군북역',\n",
       "       '좌천역', '연산역', '논산역', '도고온천역', '신례원역', '남창역', '양평역', '덕하역', '강경역',\n",
       "       '예산역', '반성역', '함열역', '태화강역', '삽교역', '용문역', '지평역', '석불역', '일신역',\n",
       "       '호계역', '매곡역', '홍성역', '양동역', '삼산역', '불국사역', '진주역', '만종역', '완사역',\n",
       "       '광천역', '북천역', '안강역', '청소역', '원주역', '극락강역', '횡천역', '부산역', '대천역',\n",
       "       '하동역', '진상역', '광양역', '웅천역', '봉양역', '판교역', '제천역', '서천역', '장항역',\n",
       "       '군산역', '단양역', '광주역', '포항역', '풍기역', '쌍용역', '영주역', '영월역', '봉화역',\n",
       "       '예미역', '민둥산역', '춘양역', '사북역', '안동역', '고한역', '임기역', '현동역', '분천역',\n",
       "       '태백역', '의성역', '승부역', '석포역', '탑리역', '대야역', '철암역', '화본역', '동백산역',\n",
       "       '신녕역', '익산역', '김제역', '북영천역', '삼례역', '도계역', '신태인역', '영천역', '정읍역',\n",
       "       '전주역', '건천역', '백양사역', '신기역', '서경주역', '임실역', '장성역', '동해역', '경주역',\n",
       "       '오수역', '묵호역', '남원역', '정동진역', '곡성역', '구례구역', '순천역', '벌교역', '조성역',\n",
       "       '예당역', '여천역', '득량역', '여수엑스포역', '보성역', '명봉역', '이양역', '능주역', '화순역',\n",
       "       '효천역', '서광주역', '광주송정역', '나주역', '다시역', '함평역', '무안역', '몽탄역', '일로역',\n",
       "       '임성리역', '목포역', '강릉역', '공주역', '신해운대역', '월포역', '평창역', '횡성역',\n",
       "       '진부(오대산)역', '장사역', '영덕역', '강구역', '김천(구미)', '둔내역', '센텀역', '서원주역',\n",
       "       '양원(영동선)역'], dtype=object)"
      ]
     },
     "execution_count": 41,
     "metadata": {},
     "output_type": "execute_result"
    }
   ],
   "source": [
    "temp['station'].unique()"
   ]
  },
  {
   "cell_type": "code",
   "execution_count": 39,
   "id": "128be45e-570d-4074-8a2b-31b20ab67507",
   "metadata": {},
   "outputs": [
    {
     "data": {
      "text/html": [
       "<div>\n",
       "<style scoped>\n",
       "    .dataframe tbody tr th:only-of-type {\n",
       "        vertical-align: middle;\n",
       "    }\n",
       "\n",
       "    .dataframe tbody tr th {\n",
       "        vertical-align: top;\n",
       "    }\n",
       "\n",
       "    .dataframe thead th {\n",
       "        text-align: right;\n",
       "    }\n",
       "</style>\n",
       "<table border=\"1\" class=\"dataframe\">\n",
       "  <thead>\n",
       "    <tr style=\"text-align: right;\">\n",
       "      <th></th>\n",
       "      <th>station</th>\n",
       "      <th>road_addr</th>\n",
       "    </tr>\n",
       "  </thead>\n",
       "  <tbody>\n",
       "    <tr>\n",
       "      <th>0</th>\n",
       "      <td>각계역</td>\n",
       "      <td>NaN</td>\n",
       "    </tr>\n",
       "    <tr>\n",
       "      <th>1</th>\n",
       "      <td>강경역</td>\n",
       "      <td>충청남도 논산시 강경읍 대흥로 1</td>\n",
       "    </tr>\n",
       "    <tr>\n",
       "      <th>2</th>\n",
       "      <td>개포역</td>\n",
       "      <td>경상북도 예천군 개포면 방터길 7-11</td>\n",
       "    </tr>\n",
       "    <tr>\n",
       "      <th>3</th>\n",
       "      <td>경산역</td>\n",
       "      <td>경상북도 경산시 중앙로 1</td>\n",
       "    </tr>\n",
       "    <tr>\n",
       "      <th>4</th>\n",
       "      <td>경주역</td>\n",
       "      <td>경상북도 경주시 원화로 266</td>\n",
       "    </tr>\n",
       "    <tr>\n",
       "      <th>...</th>\n",
       "      <td>...</td>\n",
       "      <td>...</td>\n",
       "    </tr>\n",
       "    <tr>\n",
       "      <th>191</th>\n",
       "      <td>익산역</td>\n",
       "      <td>전라북도 익산시 익산대로 153</td>\n",
       "    </tr>\n",
       "    <tr>\n",
       "      <th>192</th>\n",
       "      <td>정읍역</td>\n",
       "      <td>전라북도 정읍시 서부산업도로 305</td>\n",
       "    </tr>\n",
       "    <tr>\n",
       "      <th>193</th>\n",
       "      <td>부산역</td>\n",
       "      <td>부산광역시 동구 중앙대로 206</td>\n",
       "    </tr>\n",
       "    <tr>\n",
       "      <th>194</th>\n",
       "      <td>대전역</td>\n",
       "      <td>대전광역시 동구 중앙로 215</td>\n",
       "    </tr>\n",
       "    <tr>\n",
       "      <th>195</th>\n",
       "      <td>천안아산역</td>\n",
       "      <td>충청남도 아산시 배방읍 희망로 100</td>\n",
       "    </tr>\n",
       "  </tbody>\n",
       "</table>\n",
       "<p>196 rows × 2 columns</p>\n",
       "</div>"
      ],
      "text/plain": [
       "    station              road_addr\n",
       "0       각계역                    NaN\n",
       "1       강경역    충청남도 논산시 강경읍 대흥로 1 \n",
       "2       개포역  경상북도 예천군 개포면 방터길 7-11\n",
       "3       경산역         경상북도 경산시 중앙로 1\n",
       "4       경주역       경상북도 경주시 원화로 266\n",
       "..      ...                    ...\n",
       "191     익산역      전라북도 익산시 익산대로 153\n",
       "192     정읍역    전라북도 정읍시 서부산업도로 305\n",
       "193     부산역      부산광역시 동구 중앙대로 206\n",
       "194     대전역       대전광역시 동구 중앙로 215\n",
       "195   천안아산역  충청남도 아산시 배방읍 희망로 100 \n",
       "\n",
       "[196 rows x 2 columns]"
      ]
     },
     "execution_count": 39,
     "metadata": {},
     "output_type": "execute_result"
    }
   ],
   "source": [
    "test = pd.merge(addr, temp,\n",
    "         how = 'left',\n",
    "         on = 'station')\n",
    "test\n"
   ]
  },
  {
   "cell_type": "code",
   "execution_count": 40,
   "id": "66dc290b-70d3-4324-bba5-95d3f7d065b9",
   "metadata": {},
   "outputs": [
    {
     "data": {
      "text/html": [
       "<div>\n",
       "<style scoped>\n",
       "    .dataframe tbody tr th:only-of-type {\n",
       "        vertical-align: middle;\n",
       "    }\n",
       "\n",
       "    .dataframe tbody tr th {\n",
       "        vertical-align: top;\n",
       "    }\n",
       "\n",
       "    .dataframe thead th {\n",
       "        text-align: right;\n",
       "    }\n",
       "</style>\n",
       "<table border=\"1\" class=\"dataframe\">\n",
       "  <thead>\n",
       "    <tr style=\"text-align: right;\">\n",
       "      <th></th>\n",
       "      <th>station</th>\n",
       "      <th>road_addr</th>\n",
       "    </tr>\n",
       "  </thead>\n",
       "  <tbody>\n",
       "    <tr>\n",
       "      <th>0</th>\n",
       "      <td>각계역</td>\n",
       "      <td>NaN</td>\n",
       "    </tr>\n",
       "    <tr>\n",
       "      <th>20</th>\n",
       "      <td>나전역</td>\n",
       "      <td>NaN</td>\n",
       "    </tr>\n",
       "    <tr>\n",
       "      <th>48</th>\n",
       "      <td>별어곡역</td>\n",
       "      <td>NaN</td>\n",
       "    </tr>\n",
       "    <tr>\n",
       "      <th>56</th>\n",
       "      <td>비동역</td>\n",
       "      <td>NaN</td>\n",
       "    </tr>\n",
       "    <tr>\n",
       "      <th>71</th>\n",
       "      <td>선평역</td>\n",
       "      <td>NaN</td>\n",
       "    </tr>\n",
       "    <tr>\n",
       "      <th>84</th>\n",
       "      <td>아우라지역</td>\n",
       "      <td>NaN</td>\n",
       "    </tr>\n",
       "    <tr>\n",
       "      <th>90</th>\n",
       "      <td>양원역</td>\n",
       "      <td>NaN</td>\n",
       "    </tr>\n",
       "    <tr>\n",
       "      <th>131</th>\n",
       "      <td>정선역</td>\n",
       "      <td>NaN</td>\n",
       "    </tr>\n",
       "    <tr>\n",
       "      <th>180</th>\n",
       "      <td>수서역</td>\n",
       "      <td>NaN</td>\n",
       "    </tr>\n",
       "    <tr>\n",
       "      <th>181</th>\n",
       "      <td>동탄역</td>\n",
       "      <td>NaN</td>\n",
       "    </tr>\n",
       "    <tr>\n",
       "      <th>186</th>\n",
       "      <td>김천구미역</td>\n",
       "      <td>NaN</td>\n",
       "    </tr>\n",
       "  </tbody>\n",
       "</table>\n",
       "</div>"
      ],
      "text/plain": [
       "    station road_addr\n",
       "0       각계역       NaN\n",
       "20      나전역       NaN\n",
       "48     별어곡역       NaN\n",
       "56      비동역       NaN\n",
       "71      선평역       NaN\n",
       "84    아우라지역       NaN\n",
       "90      양원역       NaN\n",
       "131     정선역       NaN\n",
       "180     수서역       NaN\n",
       "181     동탄역       NaN\n",
       "186   김천구미역       NaN"
      ]
     },
     "execution_count": 40,
     "metadata": {},
     "output_type": "execute_result"
    }
   ],
   "source": [
    "test[test['road_addr'].isna() == True]"
   ]
  }
 ],
 "metadata": {
  "kernelspec": {
   "display_name": "Python 3 (ipykernel)",
   "language": "python",
   "name": "python3"
  },
  "language_info": {
   "codemirror_mode": {
    "name": "ipython",
    "version": 3
   },
   "file_extension": ".py",
   "mimetype": "text/x-python",
   "name": "python",
   "nbconvert_exporter": "python",
   "pygments_lexer": "ipython3",
   "version": "3.9.12"
  }
 },
 "nbformat": 4,
 "nbformat_minor": 5
}
