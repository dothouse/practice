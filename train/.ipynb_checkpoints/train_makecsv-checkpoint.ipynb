{
 "cells": [
  {
   "cell_type": "code",
   "execution_count": 1,
   "id": "d50d1308-7753-4345-85d7-cd45bf2140fe",
   "metadata": {},
   "outputs": [],
   "source": [
    "import pandas as pd\n",
    "import numpy as np"
   ]
  },
  {
   "cell_type": "markdown",
   "id": "0b81d574-24a4-4242-9b72-0815d2dc0085",
   "metadata": {},
   "source": [
    "### 자동화 양식\n",
    "- 파일이름의 형식이 다르다\n",
    "    - 2016-2020 -> 4. 수송(여객)(완)\n",
    "    - 2021-2022 -> 4. 수송(여객)_완\n",
    "-------------------------------\n",
    "- 내부 파일의 모습이 다르다.\n",
    "    - 2016-2017 -> 영어이름 컬럼 포함\n",
    "    - 2018-2022 \n",
    "-------------------------------\n",
    "- sheet 6 -> 7번쨰 시트 : 역별여객수송실적\n",
    "- sheet 7 -> 8번째 시트 : 역별승하차실적 "
   ]
  },
  {
   "cell_type": "markdown",
   "id": "e811427b-3976-4b73-8263-a8b7099e39d3",
   "metadata": {},
   "source": [
    "### load files"
   ]
  },
  {
   "cell_type": "code",
   "execution_count": 2,
   "id": "6218e277-1f47-435a-a3d3-2994fd047fe3",
   "metadata": {},
   "outputs": [],
   "source": [
    "file_path = 'D:/song/python_practice/0data/train/'"
   ]
  },
  {
   "cell_type": "code",
   "execution_count": 3,
   "id": "51f27e6b-0536-4a76-829b-61afa2e3d7fd",
   "metadata": {},
   "outputs": [],
   "source": [
    "# step1 2016-2020\n",
    "for i in range(2016, 2021):\n",
    "    for j in [6, 7]:\n",
    "        globals()['train' + '_' + str(i) + '_' + str(j+1)] = pd.read_excel(f'{file_path}{i}/4. 수송(여객)(완).xlsx',\n",
    "                                                                         sheet_name = j)"
   ]
  },
  {
   "cell_type": "code",
   "execution_count": 4,
   "id": "261db910-a779-4ea7-8e4b-382696cb2d43",
   "metadata": {},
   "outputs": [],
   "source": [
    "# step2 2021-2022\n",
    "for i in range(2021, 2023):\n",
    "    for j in [6, 7]:\n",
    "        globals()['train' + '_' + str(i) + '_' + str(j+1)] = pd.read_excel(f'{file_path}{i}/4. 수송(여객)_완.xlsx',\n",
    "                                                                         sheet_name = j)"
   ]
  },
  {
   "cell_type": "markdown",
   "id": "513fbbd0-fb28-4b76-a30b-0ffe215eb471",
   "metadata": {},
   "source": [
    "### convert to csv"
   ]
  },
  {
   "cell_type": "code",
   "execution_count": 5,
   "id": "c1031b53-0744-4700-bd8d-fa773fde3d21",
   "metadata": {},
   "outputs": [],
   "source": [
    "for i in range(2016, 2023):\n",
    "    for j in [6, 7]:\n",
    "        globals()['train' + '_' + str(i) + '_' + str(j+1)].to_csv(f'{file_path}/train_{i}_{j+1}.csv', index = False)"
   ]
  },
  {
   "cell_type": "code",
   "execution_count": null,
   "id": "320e2d67-6222-4e43-b145-2ac7e425b597",
   "metadata": {},
   "outputs": [],
   "source": []
  }
 ],
 "metadata": {
  "kernelspec": {
   "display_name": "Python 3 (ipykernel)",
   "language": "python",
   "name": "python3"
  },
  "language_info": {
   "codemirror_mode": {
    "name": "ipython",
    "version": 3
   },
   "file_extension": ".py",
   "mimetype": "text/x-python",
   "name": "python",
   "nbconvert_exporter": "python",
   "pygments_lexer": "ipython3",
   "version": "3.9.12"
  }
 },
 "nbformat": 4,
 "nbformat_minor": 5
}
