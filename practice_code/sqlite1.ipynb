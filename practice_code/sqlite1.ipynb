{
 "cells": [
  {
   "cell_type": "markdown",
   "metadata": {},
   "source": []
  },
  {
   "cell_type": "markdown",
   "metadata": {},
   "source": [
    "#### SQLite\n"
   ]
  },
  {
   "cell_type": "code",
   "execution_count": 2,
   "metadata": {},
   "outputs": [],
   "source": [
    "from sqlalchemy import create_engine, MetaData, Table, Column, Integer, String\n",
    "\n",
    "import pandas as pd\n",
    "import numpy as np "
   ]
  },
  {
   "cell_type": "code",
   "execution_count": 6,
   "metadata": {},
   "outputs": [
    {
     "name": "stdout",
     "output_type": "stream",
     "text": [
      "2024-01-16 15:17:14,930 INFO sqlalchemy.engine.Engine BEGIN (implicit)\n",
      "2024-01-16 15:17:14,931 INFO sqlalchemy.engine.Engine PRAGMA main.table_info(\"test\")\n",
      "2024-01-16 15:17:14,932 INFO sqlalchemy.engine.Engine [raw sql] ()\n",
      "2024-01-16 15:17:14,935 INFO sqlalchemy.engine.Engine PRAGMA temp.table_info(\"test\")\n",
      "2024-01-16 15:17:14,936 INFO sqlalchemy.engine.Engine [raw sql] ()\n",
      "2024-01-16 15:17:14,937 INFO sqlalchemy.engine.Engine \n",
      "CREATE TABLE test (\n",
      "\tid INTEGER NOT NULL, \n",
      "\t\"reviewNum\" INTEGER, \n",
      "\taddr VARCHAR, \n",
      "\tPRIMARY KEY (id)\n",
      ")\n",
      "\n",
      "\n",
      "2024-01-16 15:17:14,938 INFO sqlalchemy.engine.Engine [no key 0.00082s] ()\n",
      "2024-01-16 15:17:15,035 INFO sqlalchemy.engine.Engine COMMIT\n"
     ]
    }
   ],
   "source": [
    "engine = create_engine('sqlite:///test.db', echo = True)\n",
    "meta = MetaData()\n",
    "\n",
    "company = Table(\n",
    "   'test', meta, \n",
    "   Column('id', Integer, primary_key = True), \n",
    "   Column('score', Integer), \n",
    "   Column('addr', String),\n",
    "   Column('title', String)\n",
    ")\n",
    "\n",
    "meta.create_all(engine)"
   ]
  }
 ],
 "metadata": {
  "kernelspec": {
   "display_name": "project1",
   "language": "python",
   "name": "python3"
  },
  "language_info": {
   "codemirror_mode": {
    "name": "ipython",
    "version": 3
   },
   "file_extension": ".py",
   "mimetype": "text/x-python",
   "name": "python",
   "nbconvert_exporter": "python",
   "pygments_lexer": "ipython3",
   "version": "3.9.12"
  }
 },
 "nbformat": 4,
 "nbformat_minor": 2
}
