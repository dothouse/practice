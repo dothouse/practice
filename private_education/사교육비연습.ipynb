{
 "cells": [
  {
   "cell_type": "code",
   "execution_count": 1,
   "id": "d24ba1af-a727-4c82-ba03-c3932872d895",
   "metadata": {},
   "outputs": [
    {
     "data": {
      "text/html": [
       "<div>\n",
       "<style scoped>\n",
       "    .dataframe tbody tr th:only-of-type {\n",
       "        vertical-align: middle;\n",
       "    }\n",
       "\n",
       "    .dataframe tbody tr th {\n",
       "        vertical-align: top;\n",
       "    }\n",
       "\n",
       "    .dataframe thead th {\n",
       "        text-align: right;\n",
       "    }\n",
       "</style>\n",
       "<table border=\"1\" class=\"dataframe\">\n",
       "  <thead>\n",
       "    <tr style=\"text-align: right;\">\n",
       "      <th></th>\n",
       "      <th>지역구분코드</th>\n",
       "      <th>행정구역시도코드</th>\n",
       "      <th>학교급구분코드</th>\n",
       "      <th>방과후학교참여여부</th>\n",
       "      <th>방과후학교참여시간수</th>\n",
       "      <th>방과후학교총비용</th>\n",
       "      <th>방과후학교_초등방과후보육프로그램비용</th>\n",
       "      <th>방과후학교_특기적성프로그램비용</th>\n",
       "      <th>방과후학교_교과프로그램비용</th>\n",
       "      <th>EBS교재비</th>\n",
       "      <th>...</th>\n",
       "      <th>학생성적구분코드</th>\n",
       "      <th>부연령코드</th>\n",
       "      <th>부_교육정도코드</th>\n",
       "      <th>모연령코드</th>\n",
       "      <th>모_교육정도코드</th>\n",
       "      <th>부모경제활동코드</th>\n",
       "      <th>월평균가구소득코드</th>\n",
       "      <th>진학희망고등학교유형코드</th>\n",
       "      <th>진학희망대학전공영역코드</th>\n",
       "      <th>가중값</th>\n",
       "    </tr>\n",
       "  </thead>\n",
       "  <tbody>\n",
       "    <tr>\n",
       "      <th>0</th>\n",
       "      <td>1</td>\n",
       "      <td>11</td>\n",
       "      <td>1</td>\n",
       "      <td>1</td>\n",
       "      <td>0.333333</td>\n",
       "      <td>11.652382</td>\n",
       "      <td>0.0</td>\n",
       "      <td>11.652382</td>\n",
       "      <td>0.000000</td>\n",
       "      <td>0.0</td>\n",
       "      <td>...</td>\n",
       "      <td>NaN</td>\n",
       "      <td>3.0</td>\n",
       "      <td>61.0</td>\n",
       "      <td>3.0</td>\n",
       "      <td>71.0</td>\n",
       "      <td>3.0</td>\n",
       "      <td>8</td>\n",
       "      <td>2.0</td>\n",
       "      <td>NaN</td>\n",
       "      <td>84.684210</td>\n",
       "    </tr>\n",
       "    <tr>\n",
       "      <th>1</th>\n",
       "      <td>1</td>\n",
       "      <td>11</td>\n",
       "      <td>1</td>\n",
       "      <td>1</td>\n",
       "      <td>0.333333</td>\n",
       "      <td>12.484695</td>\n",
       "      <td>0.0</td>\n",
       "      <td>12.484695</td>\n",
       "      <td>0.000000</td>\n",
       "      <td>0.0</td>\n",
       "      <td>...</td>\n",
       "      <td>NaN</td>\n",
       "      <td>3.0</td>\n",
       "      <td>61.0</td>\n",
       "      <td>3.0</td>\n",
       "      <td>51.0</td>\n",
       "      <td>1.0</td>\n",
       "      <td>8</td>\n",
       "      <td>1.0</td>\n",
       "      <td>NaN</td>\n",
       "      <td>134.331488</td>\n",
       "    </tr>\n",
       "    <tr>\n",
       "      <th>2</th>\n",
       "      <td>1</td>\n",
       "      <td>11</td>\n",
       "      <td>1</td>\n",
       "      <td>1</td>\n",
       "      <td>0.333333</td>\n",
       "      <td>15.397790</td>\n",
       "      <td>0.0</td>\n",
       "      <td>15.397790</td>\n",
       "      <td>0.000000</td>\n",
       "      <td>0.0</td>\n",
       "      <td>...</td>\n",
       "      <td>NaN</td>\n",
       "      <td>3.0</td>\n",
       "      <td>51.0</td>\n",
       "      <td>3.0</td>\n",
       "      <td>51.0</td>\n",
       "      <td>1.0</td>\n",
       "      <td>5</td>\n",
       "      <td>1.0</td>\n",
       "      <td>NaN</td>\n",
       "      <td>153.445963</td>\n",
       "    </tr>\n",
       "    <tr>\n",
       "      <th>3</th>\n",
       "      <td>1</td>\n",
       "      <td>11</td>\n",
       "      <td>1</td>\n",
       "      <td>1</td>\n",
       "      <td>0.333333</td>\n",
       "      <td>19.143199</td>\n",
       "      <td>0.0</td>\n",
       "      <td>0.000000</td>\n",
       "      <td>19.143199</td>\n",
       "      <td>0.0</td>\n",
       "      <td>...</td>\n",
       "      <td>NaN</td>\n",
       "      <td>3.0</td>\n",
       "      <td>61.0</td>\n",
       "      <td>3.0</td>\n",
       "      <td>61.0</td>\n",
       "      <td>1.0</td>\n",
       "      <td>8</td>\n",
       "      <td>2.0</td>\n",
       "      <td>NaN</td>\n",
       "      <td>88.287794</td>\n",
       "    </tr>\n",
       "    <tr>\n",
       "      <th>4</th>\n",
       "      <td>1</td>\n",
       "      <td>11</td>\n",
       "      <td>1</td>\n",
       "      <td>1</td>\n",
       "      <td>0.333333</td>\n",
       "      <td>19.559355</td>\n",
       "      <td>0.0</td>\n",
       "      <td>19.559355</td>\n",
       "      <td>0.000000</td>\n",
       "      <td>0.0</td>\n",
       "      <td>...</td>\n",
       "      <td>NaN</td>\n",
       "      <td>3.0</td>\n",
       "      <td>61.0</td>\n",
       "      <td>2.0</td>\n",
       "      <td>51.0</td>\n",
       "      <td>3.0</td>\n",
       "      <td>8</td>\n",
       "      <td>4.0</td>\n",
       "      <td>NaN</td>\n",
       "      <td>88.287794</td>\n",
       "    </tr>\n",
       "  </tbody>\n",
       "</table>\n",
       "<p>5 rows × 58 columns</p>\n",
       "</div>"
      ],
      "text/plain": [
       "   지역구분코드  행정구역시도코드  학교급구분코드  방과후학교참여여부  방과후학교참여시간수   방과후학교총비용  \\\n",
       "0       1        11        1          1    0.333333  11.652382   \n",
       "1       1        11        1          1    0.333333  12.484695   \n",
       "2       1        11        1          1    0.333333  15.397790   \n",
       "3       1        11        1          1    0.333333  19.143199   \n",
       "4       1        11        1          1    0.333333  19.559355   \n",
       "\n",
       "   방과후학교_초등방과후보육프로그램비용  방과후학교_특기적성프로그램비용  방과후학교_교과프로그램비용  EBS교재비  ...  \\\n",
       "0                  0.0         11.652382        0.000000     0.0  ...   \n",
       "1                  0.0         12.484695        0.000000     0.0  ...   \n",
       "2                  0.0         15.397790        0.000000     0.0  ...   \n",
       "3                  0.0          0.000000       19.143199     0.0  ...   \n",
       "4                  0.0         19.559355        0.000000     0.0  ...   \n",
       "\n",
       "   학생성적구분코드  부연령코드  부_교육정도코드  모연령코드  모_교육정도코드  부모경제활동코드  월평균가구소득코드  \\\n",
       "0       NaN    3.0      61.0    3.0      71.0       3.0          8   \n",
       "1       NaN    3.0      61.0    3.0      51.0       1.0          8   \n",
       "2       NaN    3.0      51.0    3.0      51.0       1.0          5   \n",
       "3       NaN    3.0      61.0    3.0      61.0       1.0          8   \n",
       "4       NaN    3.0      61.0    2.0      51.0       3.0          8   \n",
       "\n",
       "   진학희망고등학교유형코드  진학희망대학전공영역코드         가중값  \n",
       "0           2.0           NaN   84.684210  \n",
       "1           1.0           NaN  134.331488  \n",
       "2           1.0           NaN  153.445963  \n",
       "3           2.0           NaN   88.287794  \n",
       "4           4.0           NaN   88.287794  \n",
       "\n",
       "[5 rows x 58 columns]"
      ]
     },
     "execution_count": 1,
     "metadata": {},
     "output_type": "execute_result"
    }
   ],
   "source": [
    "import pandas as pd\n",
    "\n",
    "df = pd.read_csv('d:/song/data/사교육비조사2022.csv', encoding= 'cp949')\n",
    "df.head()"
   ]
  },
  {
   "cell_type": "code",
   "execution_count": 2,
   "id": "af940252-c7f3-4885-907c-70fb8814de83",
   "metadata": {},
   "outputs": [
    {
     "data": {
      "text/plain": [
       "Index(['지역구분코드', '행정구역시도코드', '학교급구분코드', '방과후학교참여여부', '방과후학교참여시간수', '방과후학교총비용',\n",
       "       '방과후학교_초등방과후보육프로그램비용', '방과후학교_특기적성프로그램비용', '방과후학교_교과프로그램비용', 'EBS교재비',\n",
       "       '사교육참여시간수', '일반교과사교육목적구분1코드', '일반교과사교육목적구분2코드', '일반교과사교육시간수',\n",
       "       '예체능사교육목적구분1코드', '예체능사교육목적구분2코드', '예체능사교육시간수', '취업관련사교육시간수', '사교육비총비용',\n",
       "       '사교육비_일반교과비용', '사교육비_일반교과_국어비용', '사교육비_일반교과_영어비용', '사교육비_일반교과_수학비용',\n",
       "       '사교육비_일반교과_사회과학비용', '사교육비_일반교과_논술비용', '사교육비_일반교과_컴퓨터비용',\n",
       "       '사교육비_일반교과_제2외국어한문기술가정비용', '사교육비_일반교과_개인과외비용', '사교육비_일반교과_그룹과외비용',\n",
       "       '사교육비_일반교과_학원수강비용', '사교육비_일반교과_방문학습지비용', '사교육비_일반교과_유료인터넷및통신강좌비용',\n",
       "       '사교육비_예체능취미교양비용', '사교육비_예체능취미교양_음악비용', '사교육비_예체능취미교양_미술비용',\n",
       "       '사교육비_예체능취미교양_체육비용', '사교육비_예체능취미교양_취미교양비용', '사교육비_예체능취미교양_개인과외비용',\n",
       "       '사교육비_예체능취미교양_그룹과외비용', '사교육비_예체능취미교양_학원수강비용', '사교육비_예체능취미교양_방문수업및기타비용',\n",
       "       '취업관련비용', '진로진학학습상담컨설팅참여여부', '진로진학학습상담컨설팅비용', '진로진학학습상담컨설팅횟수', '학생성별코드',\n",
       "       '총자녀수', '출생순위', '학생성적구분코드', '부연령코드', '부_교육정도코드', '모연령코드', '모_교육정도코드',\n",
       "       '부모경제활동코드', '월평균가구소득코드', '진학희망고등학교유형코드', '진학희망대학전공영역코드', '가중값'],\n",
       "      dtype='object')"
      ]
     },
     "execution_count": 2,
     "metadata": {},
     "output_type": "execute_result"
    }
   ],
   "source": [
    "df.columns"
   ]
  },
  {
   "cell_type": "code",
   "execution_count": 3,
   "id": "aaaae6c9-478d-4334-ac7d-547265d7e73c",
   "metadata": {},
   "outputs": [
    {
     "data": {
      "text/plain": [
       "지역구분코드\n",
       "1    816.893704\n",
       "2    491.010337\n",
       "3    457.439035\n",
       "4    318.385320\n",
       "Name: 사교육비총비용, dtype: float64"
      ]
     },
     "execution_count": 3,
     "metadata": {},
     "output_type": "execute_result"
    }
   ],
   "source": [
    "df.groupby('지역구분코드')['사교육비총비용'].mean()"
   ]
  },
  {
   "cell_type": "code",
   "execution_count": 4,
   "id": "f3dcaa4f-5d31-4486-83ba-468c687541ae",
   "metadata": {},
   "outputs": [
    {
     "data": {
      "text/plain": [
       "행정구역시도코드\n",
       "11    816.893704\n",
       "21    504.486173\n",
       "22    532.523636\n",
       "23    491.284768\n",
       "24    449.778071\n",
       "25    475.262320\n",
       "26    450.060954\n",
       "29    524.741194\n",
       "31    552.036316\n",
       "32    359.519378\n",
       "33    365.801986\n",
       "34    347.094743\n",
       "35    354.181840\n",
       "36    313.474021\n",
       "37    352.123700\n",
       "38    360.440750\n",
       "39    377.312759\n",
       "Name: 사교육비총비용, dtype: float64"
      ]
     },
     "execution_count": 4,
     "metadata": {},
     "output_type": "execute_result"
    }
   ],
   "source": [
    "test = df.groupby('행정구역시도코드')['사교육비총비용'].mean()\n",
    "test"
   ]
  },
  {
   "cell_type": "code",
   "execution_count": 5,
   "id": "8d391905-eadd-4fb1-9864-5be539955c98",
   "metadata": {},
   "outputs": [
    {
     "data": {
      "text/plain": [
       "행정구역시도코드\n",
       "11    816.893704\n",
       "21    504.486173\n",
       "22    532.523636\n",
       "23    491.284768\n",
       "24    449.778071\n",
       "25    475.262320\n",
       "26    450.060954\n",
       "29    524.741194\n",
       "31    552.036316\n",
       "Name: 사교육비총비용, dtype: float64"
      ]
     },
     "execution_count": 5,
     "metadata": {},
     "output_type": "execute_result"
    }
   ],
   "source": [
    "test[test.values > test.mean()]"
   ]
  },
  {
   "cell_type": "code",
   "execution_count": 6,
   "id": "d0c70e2e-0b02-4b07-957f-7f6b375e96ac",
   "metadata": {},
   "outputs": [
    {
     "data": {
      "text/plain": [
       "array([11, 21, 22, 23, 24, 25, 26, 29, 31, 32, 33, 34, 35, 36, 37, 38, 39],\n",
       "      dtype=int64)"
      ]
     },
     "execution_count": 6,
     "metadata": {},
     "output_type": "execute_result"
    }
   ],
   "source": [
    "df.행정구역시도코드.unique()"
   ]
  },
  {
   "cell_type": "code",
   "execution_count": 7,
   "id": "b5dcc0ad-090a-4174-b37f-c7455f7137af",
   "metadata": {},
   "outputs": [],
   "source": [
    "region = ['서울', '부산', '대구', '인천', '광주', '대전', '울산', '세종', '경기', '강원', '충북', '충남',\n",
    "'전북', '전남', '경북', '경남', '제주']\n",
    "region_code = [11, 21, 22, 23, 24, 25, 26, 29, 31, 32, 33, 34, 35, 36, 37, 38, 39]\n",
    "region_dict = dict(zip(region_code, region))\n",
    "region_dict\n"
   ]
  },
  {
   "cell_type": "code",
   "execution_count": 14,
   "id": "77f77f74-2c71-4d20-bdb7-d386d68c27fc",
   "metadata": {},
   "outputs": [
    {
     "data": {
      "text/plain": [
       "행정구역시도코드  region_code\n",
       "11        서울             9234\n",
       "31        경기             8645\n",
       "38        경남             4774\n",
       "21        부산             4503\n",
       "23        인천             4425\n",
       "22        대구             4195\n",
       "37        경북             3992\n",
       "34        충남             3931\n",
       "35        전북             3909\n",
       "36        전남             3570\n",
       "24        광주             3464\n",
       "25        대전             3320\n",
       "33        충북             3114\n",
       "26        울산             2899\n",
       "32        강원             2705\n",
       "39        제주             2402\n",
       "29        세종             1960\n",
       "Name: count, dtype: int64"
      ]
     },
     "execution_count": 14,
     "metadata": {},
     "output_type": "execute_result"
    }
   ],
   "source": [
    "df['region_code'] = df['행정구역시도코드'].apply(lambda x: region_dict[x])\n",
    "\n",
    "df[['행정구역시도코드', 'region_code']].value_counts()"
   ]
  }
 ],
 "metadata": {
  "kernelspec": {
   "display_name": "Python 3 (ipykernel)",
   "language": "python",
   "name": "python3"
  },
  "language_info": {
   "codemirror_mode": {
    "name": "ipython",
    "version": 3
   },
   "file_extension": ".py",
   "mimetype": "text/x-python",
   "name": "python",
   "nbconvert_exporter": "python",
   "pygments_lexer": "ipython3",
   "version": "3.9.12"
  }
 },
 "nbformat": 4,
 "nbformat_minor": 5
}
