{
 "cells": [
  {
   "cell_type": "markdown",
   "id": "1b9b551f-1435-4331-b1d5-80db3e3f37bf",
   "metadata": {},
   "source": [
    "# 10813\t공 바꾸기"
   ]
  },
  {
   "cell_type": "code",
   "execution_count": null,
   "id": "5abc10f6-1be4-48c3-bbe2-72cc1a7b53f4",
   "metadata": {},
   "outputs": [],
   "source": [
    "N, M = map(int, input().split())\n",
    "\n",
    "basket = []\n",
    "for i in range(N):\n",
    "    basket.append(i + 1)\n",
    "\n",
    "for j in range(M):\n",
    "    a, b = map(int, input().split())\n",
    "    for i in range(((b-a + 1)//2) + 1):\n",
    "        basket[a - 1 - i], basket[b - 1 - i] = basket[b - 1 - i], basket[a - 1 - i]  \n",
    "    \n",
    "print(*basket)"
   ]
  }
 ],
 "metadata": {
  "kernelspec": {
   "display_name": "Python 3 (ipykernel)",
   "language": "python",
   "name": "python3"
  },
  "language_info": {
   "codemirror_mode": {
    "name": "ipython",
    "version": 3
   },
   "file_extension": ".py",
   "mimetype": "text/x-python",
   "name": "python",
   "nbconvert_exporter": "python",
   "pygments_lexer": "ipython3",
   "version": "3.9.12"
  }
 },
 "nbformat": 4,
 "nbformat_minor": 5
}
