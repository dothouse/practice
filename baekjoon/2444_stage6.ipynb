{
 "cells": [
  {
   "cell_type": "markdown",
   "id": "557dce8c-f9e4-4c1f-9374-5695bf02d1f6",
   "metadata": {},
   "source": [
    "# 2444\t별 찍기 - 7\n"
   ]
  },
  {
   "cell_type": "code",
   "execution_count": null,
   "id": "399570f6-7520-4622-9bdf-25345e10b634",
   "metadata": {},
   "outputs": [],
   "source": [
    "n = int(input())\n",
    "for i in range(1, n):\n",
    "    print(' '*(n-i) + '*'*(2*i-1))\n",
    "for i in range(n, 0, -1):\n",
    "    print(' '*(n-i) + '*'*(2*i-1))"
   ]
  }
 ],
 "metadata": {
  "kernelspec": {
   "display_name": "Python 3 (ipykernel)",
   "language": "python",
   "name": "python3"
  },
  "language_info": {
   "codemirror_mode": {
    "name": "ipython",
    "version": 3
   },
   "file_extension": ".py",
   "mimetype": "text/x-python",
   "name": "python",
   "nbconvert_exporter": "python",
   "pygments_lexer": "ipython3",
   "version": "3.9.12"
  }
 },
 "nbformat": 4,
 "nbformat_minor": 5
}
