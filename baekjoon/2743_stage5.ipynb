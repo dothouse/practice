{
 "cells": [
  {
   "cell_type": "markdown",
   "id": "53e5a24f-d9b4-43a0-997c-57627e170d7d",
   "metadata": {},
   "source": [
    "# 2743"
   ]
  },
  {
   "cell_type": "code",
   "execution_count": null,
   "id": "fd840c41-92be-4bf5-b942-f8b395a65bf2",
   "metadata": {},
   "outputs": [],
   "source": [
    "cha2 = input()\n",
    "\n",
    "print(len(cha2))"
   ]
  }
 ],
 "metadata": {
  "kernelspec": {
   "display_name": "Python 3 (ipykernel)",
   "language": "python",
   "name": "python3"
  },
  "language_info": {
   "codemirror_mode": {
    "name": "ipython",
    "version": 3
   },
   "file_extension": ".py",
   "mimetype": "text/x-python",
   "name": "python",
   "nbconvert_exporter": "python",
   "pygments_lexer": "ipython3",
   "version": "3.9.12"
  }
 },
 "nbformat": 4,
 "nbformat_minor": 5
}
