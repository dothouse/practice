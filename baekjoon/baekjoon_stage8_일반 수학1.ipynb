{
 "cells": [
  {
   "cell_type": "code",
   "execution_count": 2,
   "id": "0d7db905-a1a7-4cd7-8fc9-671c5ebff0cd",
   "metadata": {},
   "outputs": [
    {
     "name": "stdin",
     "output_type": "stream",
     "text": [
      " ZZZZZ 36\n"
     ]
    },
    {
     "name": "stdout",
     "output_type": "stream",
     "text": [
      "60466175\n"
     ]
    }
   ],
   "source": [
    "# 1\t2745\t진법 변환\n",
    "numbers = '0123456789ABCDEFGHIJKLMNOPQRSTUVWXYZ'\n",
    "\n",
    "data, jin = input().split()\n",
    "total = 0\n",
    "\n",
    "for i in range(len(data)):\n",
    "    total += numbers.index(data[i]) * (int(jin) ** (len(data) - i - 1))\n",
    "\n",
    "print(total)\n"
   ]
  },
  {
   "cell_type": "code",
   "execution_count": 36,
   "id": "5b44cbed-6768-4573-bd8b-029edd0289d7",
   "metadata": {},
   "outputs": [
    {
     "name": "stdin",
     "output_type": "stream",
     "text": [
      " 60466175 36\n"
     ]
    },
    {
     "name": "stdout",
     "output_type": "stream",
     "text": [
      "1679615\n",
      "46655\n",
      "1295\n",
      "35\n",
      "0\n"
     ]
    }
   ],
   "source": [
    "# 2\t11005\t진법 변환 2\n",
    "# 60466175 36\n",
    "numbers = '0123456789ABCDEFGHIJKLMNOPQRSTUVWXYZ'\n",
    "data11005, jin = map(int, input().split())\n",
    "\n",
    "digit = 0\n",
    "while True:\n",
    "    try :\n",
    "        div = data11005 // 36\n",
    "        \n",
    "\n",
    "    except :\n",
    "        break\n",
    "\n",
    "\n",
    "        \n"
   ]
  },
  {
   "cell_type": "code",
   "execution_count": 29,
   "id": "ed31b1fd-5812-4237-9844-a6e20b099330",
   "metadata": {},
   "outputs": [
    {
     "name": "stdout",
     "output_type": "stream",
     "text": [
      "5\n"
     ]
    }
   ],
   "source": [
    "print(digit)"
   ]
  },
  {
   "cell_type": "code",
   "execution_count": null,
   "id": "c154db7c-6f32-4a95-9fb8-65d0a7c91ae0",
   "metadata": {},
   "outputs": [],
   "source": [
    "for j in range(digit):\n",
    "        numbers.index(data11005[i])\n",
    "    "
   ]
  },
  {
   "cell_type": "code",
   "execution_count": null,
   "id": "d8cb49f7-877d-43da-97c8-cb0a8a3963c5",
   "metadata": {},
   "outputs": [],
   "source": []
  }
 ],
 "metadata": {
  "kernelspec": {
   "display_name": "Python 3 (ipykernel)",
   "language": "python",
   "name": "python3"
  },
  "language_info": {
   "codemirror_mode": {
    "name": "ipython",
    "version": 3
   },
   "file_extension": ".py",
   "mimetype": "text/x-python",
   "name": "python",
   "nbconvert_exporter": "python",
   "pygments_lexer": "ipython3",
   "version": "3.9.12"
  }
 },
 "nbformat": 4,
 "nbformat_minor": 5
}
