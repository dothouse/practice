{
 "cells": [
  {
   "cell_type": "code",
   "execution_count": 2,
   "id": "0d7db905-a1a7-4cd7-8fc9-671c5ebff0cd",
   "metadata": {},
   "outputs": [
    {
     "name": "stdin",
     "output_type": "stream",
     "text": [
      " ZZZZZ 36\n"
     ]
    },
    {
     "name": "stdout",
     "output_type": "stream",
     "text": [
      "60466175\n"
     ]
    }
   ],
   "source": [
    "# 1\t2745\t진법 변환\n",
    "numbers = '0123456789ABCDEFGHIJKLMNOPQRSTUVWXYZ'\n",
    "\n",
    "data, jin = input().split()\n",
    "total = 0\n",
    "\n",
    "for i in range(len(data)):\n",
    "    total += numbers.index(data[i]) * (int(jin) ** (len(data) - i - 1))\n",
    "\n",
    "print(total)\n"
   ]
  },
  {
   "cell_type": "code",
   "execution_count": 30,
   "id": "5b44cbed-6768-4573-bd8b-029edd0289d7",
   "metadata": {},
   "outputs": [
    {
     "name": "stdin",
     "output_type": "stream",
     "text": [
      " 7 3\n"
     ]
    },
    {
     "name": "stdout",
     "output_type": "stream",
     "text": [
      "21\n"
     ]
    }
   ],
   "source": [
    "# 2\t11005\t진법 변환 2\n",
    "# 60466175 36\n",
    "numbers = '0123456789ABCDEFGHIJKLMNOPQRSTUVWXYZ'\n",
    "data11005, jin = map(int, input().split())\n",
    "\n",
    "digit = 0\n",
    "div = data11005\n",
    "result = []\n",
    "\n",
    "\n",
    "while div > 0:\n",
    "    sub = div % jin\n",
    "    div = div // jin    \n",
    "    result.append(str(numbers[sub]))\n",
    "    digit += 1     \n",
    "\n",
    "print(\"\".join(result[::-1]))\n",
    "\n",
    "        \n"
   ]
  },
  {
   "cell_type": "code",
   "execution_count": 36,
   "id": "ed31b1fd-5812-4237-9844-a6e20b099330",
   "metadata": {},
   "outputs": [
    {
     "name": "stdin",
     "output_type": "stream",
     "text": [
      " 7 3\n"
     ]
    },
    {
     "name": "stdout",
     "output_type": "stream",
     "text": [
      "21\n"
     ]
    }
   ],
   "source": [
    "# 2\t11005\t진법 변환 2\n",
    "\n",
    "numbers = '0123456789ABCDEFGHIJKLMNOPQRSTUVWXYZ'\n",
    "result = ''\n",
    "\n",
    "data11005, jin = map(int, input().split())\n",
    "while data11005 != 0:\n",
    "    result += str(numbers[data11005%jin])\n",
    "    data11005 = data11005 // jin\n",
    "\n",
    "print(result[::-1])\n",
    "    \n"
   ]
  },
  {
   "cell_type": "code",
   "execution_count": 75,
   "id": "c002170b-bf62-421a-8c42-fbf5242b07d4",
   "metadata": {},
   "outputs": [
    {
     "name": "stdin",
     "output_type": "stream",
     "text": [
      " 3\n",
      " 124\n"
     ]
    },
    {
     "name": "stdout",
     "output_type": "stream",
     "text": [
      "4 2 0 4 "
     ]
    },
    {
     "name": "stdin",
     "output_type": "stream",
     "text": [
      " 25\n"
     ]
    },
    {
     "name": "stdout",
     "output_type": "stream",
     "text": [
      "1 0 0 0 "
     ]
    },
    {
     "name": "stdin",
     "output_type": "stream",
     "text": [
      " 194\n"
     ]
    },
    {
     "name": "stdout",
     "output_type": "stream",
     "text": [
      "7 1 1 4 "
     ]
    }
   ],
   "source": [
    "#### 3\t2720\t세탁소 사장 동혁\n",
    "# 124\n",
    "# 25\n",
    "# 194\n",
    "\n",
    "\n",
    "T = int(input())\n",
    "coins = [25, 10, 5, 1]\n",
    "\n",
    "for i in range(T):\n",
    "    change = int(input())\n",
    "    for j in range(len((coins))):\n",
    "        return_coin = change // coins[j]\n",
    "        change = change % coins[j]\n",
    "        print(return_coin, end = \" \")"
   ]
  },
  {
   "cell_type": "code",
   "execution_count": 74,
   "id": "d8cb49f7-877d-43da-97c8-cb0a8a3963c5",
   "metadata": {},
   "outputs": [
    {
     "name": "stdin",
     "output_type": "stream",
     "text": [
      " 3\n",
      " 124\n"
     ]
    },
    {
     "name": "stdout",
     "output_type": "stream",
     "text": [
      "4 2 0 4 "
     ]
    },
    {
     "name": "stdin",
     "output_type": "stream",
     "text": [
      " 25\n"
     ]
    },
    {
     "name": "stdout",
     "output_type": "stream",
     "text": [
      "1 0 0 0 "
     ]
    },
    {
     "name": "stdin",
     "output_type": "stream",
     "text": [
      " 194\n"
     ]
    },
    {
     "name": "stdout",
     "output_type": "stream",
     "text": [
      "7 1 1 4 "
     ]
    }
   ],
   "source": [
    "#### 3\t2720\t세탁소 사장 동혁 - refactoring\n",
    "\n",
    "T = int(input())\n",
    "coins = [25, 10, 5, 1]\n",
    "\n",
    "for i in range(T):\n",
    "    change = int(input())\n",
    "    for j in range(len((coins))):\n",
    "        print(change // coins[j], end = \" \")\n",
    "        change = change % coins[j]"
   ]
  },
  {
   "cell_type": "code",
   "execution_count": 111,
   "id": "2abf8ce6-dc51-42ea-aab6-b16948147f91",
   "metadata": {},
   "outputs": [
    {
     "name": "stdin",
     "output_type": "stream",
     "text": [
      " 5\n"
     ]
    },
    {
     "name": "stdout",
     "output_type": "stream",
     "text": [
      "1089\n"
     ]
    }
   ],
   "source": [
    "# 4\t2903\t중앙 이동 알고리즘\n",
    "\n",
    "N = int(input())\n",
    "square = 2\n",
    "\n",
    "for i in range(N):\n",
    "    square = (square * 2) - 1\n",
    "print(square ** 2)"
   ]
  },
  {
   "cell_type": "code",
   "execution_count": 113,
   "id": "55798d66-f4af-4b72-b283-aee5b456bad7",
   "metadata": {},
   "outputs": [
    {
     "name": "stdin",
     "output_type": "stream",
     "text": [
      " 5\n"
     ]
    },
    {
     "name": "stdout",
     "output_type": "stream",
     "text": [
      "1089\n"
     ]
    }
   ],
   "source": [
    "# 4\t2903\t중앙 이동 알고리즘 - re\n",
    "print((2 ** int(input()) + 1) ** 2)\n",
    "\n",
    "\n",
    "\n"
   ]
  },
  {
   "cell_type": "markdown",
   "id": "b8f24c77-b9f3-444c-869b-46dae9d21453",
   "metadata": {},
   "source": [
    "### q5\t2292\t벌집"
   ]
  },
  {
   "cell_type": "code",
   "execution_count": 160,
   "id": "05226440-dd41-4380-8dc2-63eba4fe3c4a",
   "metadata": {},
   "outputs": [
    {
     "name": "stdin",
     "output_type": "stream",
     "text": [
      " 91\n"
     ]
    },
    {
     "name": "stdout",
     "output_type": "stream",
     "text": [
      "6\n"
     ]
    }
   ],
   "source": [
    "N = int(input())\n",
    "\n",
    "hexagon = 1\n",
    "distance = 1\n",
    "\n",
    "while True:\n",
    "    if N > hexagon:\n",
    "        hexagon += distance * 6        \n",
    "        distance += 1\n",
    "        \n",
    "    else :\n",
    "        print(distance)\n",
    "        break\n",
    "        \n",
    "        \n"
   ]
  },
  {
   "cell_type": "code",
   "execution_count": 162,
   "id": "d3c50b9c-662c-496a-98c4-bafb16e12128",
   "metadata": {},
   "outputs": [
    {
     "name": "stdin",
     "output_type": "stream",
     "text": [
      " 1\n"
     ]
    },
    {
     "name": "stdout",
     "output_type": "stream",
     "text": [
      "1\n"
     ]
    }
   ],
   "source": [
    "# 5 - refactoring\n",
    "N = int(input())\n",
    "\n",
    "hexagon = 1\n",
    "distance = 1\n",
    "\n",
    "while N > hexagon:\n",
    "    hexagon += distance * 6        \n",
    "    distance += 1\n",
    "\n",
    "print(distance)\n"
   ]
  },
  {
   "cell_type": "markdown",
   "id": "ad9653d9-3d66-4d0e-bfce-8716fff335fe",
   "metadata": {},
   "source": [
    "### q6\t1193\t분수찾기"
   ]
  },
  {
   "cell_type": "code",
   "execution_count": 43,
   "id": "e967cfca-7c08-41d7-bc32-be858f3ce6dd",
   "metadata": {},
   "outputs": [
    {
     "name": "stdin",
     "output_type": "stream",
     "text": [
      " 8\n"
     ]
    },
    {
     "name": "stdout",
     "output_type": "stream",
     "text": [
      "2/3\n"
     ]
    }
   ],
   "source": [
    "N = int(input())\n",
    "\n",
    "groups = 1\n",
    "\n",
    "while N > groups:\n",
    "    N -= groups \n",
    "    groups += 1\n",
    "\n",
    "if groups % 2 == 0:\n",
    "    print(f'{N}/{groups - N + 1}')\n",
    "else :\n",
    "    print(f'{groups - N + 1}/{N}')\n",
    "\n"
   ]
  },
  {
   "cell_type": "markdown",
   "id": "7cfc9fa1-9280-413b-90c2-f8735037deb6",
   "metadata": {},
   "source": [
    "### q7\t2869\t달팽이는 올라가고 싶다"
   ]
  },
  {
   "cell_type": "code",
   "execution_count": 83,
   "id": "181a4661-10be-496b-935f-df52df2545e2",
   "metadata": {},
   "outputs": [
    {
     "name": "stdin",
     "output_type": "stream",
     "text": [
      " 100 99 1000000000\n"
     ]
    },
    {
     "name": "stdout",
     "output_type": "stream",
     "text": [
      "999999901\n"
     ]
    }
   ],
   "source": [
    "# time error -> for 문을 안쓰고 해야하나?\n",
    "day, night, height = map(int, input().split())\n",
    "\n",
    "move = 0\n",
    "cnt = 0\n",
    "\n",
    "while move < height:\n",
    "    move += day\n",
    "    cnt += 1\n",
    "    if move < height:\n",
    "        move -= night\n",
    "\n",
    "print(cnt)\n"
   ]
  },
  {
   "cell_type": "code",
   "execution_count": 2,
   "id": "cd35f1d8-eba2-4d8a-9926-c2933637ca2e",
   "metadata": {},
   "outputs": [
    {
     "name": "stdin",
     "output_type": "stream",
     "text": [
      " 2 1 5\n"
     ]
    },
    {
     "name": "stdout",
     "output_type": "stream",
     "text": [
      "3\n"
     ]
    }
   ],
   "source": [
    "# for 문 안쓰고\n",
    "\n",
    "day, night, height = map(int, input().split())\n",
    "\n",
    "if height % (day + night) != 0:\n",
    "    print(height % (day + night) + 1)\n",
    "else :\n",
    "    print(height % (day + night))\n",
    "\n"
   ]
  },
  {
   "cell_type": "code",
   "execution_count": null,
   "id": "9f31617d-fca8-4fbc-81b1-27b35315d1d3",
   "metadata": {},
   "outputs": [],
   "source": []
  }
 ],
 "metadata": {
  "kernelspec": {
   "display_name": "Python 3 (ipykernel)",
   "language": "python",
   "name": "python3"
  },
  "language_info": {
   "codemirror_mode": {
    "name": "ipython",
    "version": 3
   },
   "file_extension": ".py",
   "mimetype": "text/x-python",
   "name": "python",
   "nbconvert_exporter": "python",
   "pygments_lexer": "ipython3",
   "version": "3.9.12"
  }
 },
 "nbformat": 4,
 "nbformat_minor": 5
}
