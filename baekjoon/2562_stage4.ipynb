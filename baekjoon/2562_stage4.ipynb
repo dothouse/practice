{
 "cells": [
  {
   "cell_type": "markdown",
   "id": "d1497515-bf73-4d37-910d-3af9c9819857",
   "metadata": {},
   "source": [
    "# 2562\t최댓값"
   ]
  },
  {
   "cell_type": "code",
   "execution_count": null,
   "id": "f687c0d2-c274-427d-a77b-fb8381094a09",
   "metadata": {},
   "outputs": [],
   "source": [
    "lst = []\n",
    "\n",
    "\n",
    "while True:\n",
    "    try: \n",
    "        a = int(input())    \n",
    "        lst.append(a)\n",
    "    except:\n",
    "        break\n",
    "\n",
    "print(max(lst))\n",
    "for i in range(len(lst)):\n",
    "    if lst[i] == max(lst):\n",
    "        print(i+1)"
   ]
  },
  {
   "cell_type": "code",
   "execution_count": null,
   "id": "e353baa6-03cf-451a-8755-94b34cc54cb6",
   "metadata": {},
   "outputs": [],
   "source": [
    "lst = []\n",
    "\n",
    "\n",
    "while True:\n",
    "    try: \n",
    "        a = int(input())    \n",
    "        lst.append(a)\n",
    "    except:\n",
    "        break\n",
    "\n",
    "print(max(lst))\n",
    "print(lst.index(max(lst)) + 1)"
   ]
  }
 ],
 "metadata": {
  "kernelspec": {
   "display_name": "Python 3 (ipykernel)",
   "language": "python",
   "name": "python3"
  },
  "language_info": {
   "codemirror_mode": {
    "name": "ipython",
    "version": 3
   },
   "file_extension": ".py",
   "mimetype": "text/x-python",
   "name": "python",
   "nbconvert_exporter": "python",
   "pygments_lexer": "ipython3",
   "version": "3.9.12"
  }
 },
 "nbformat": 4,
 "nbformat_minor": 5
}
