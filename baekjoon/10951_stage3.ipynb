{
 "cells": [
  {
   "cell_type": "markdown",
   "id": "6632d801-19e3-43fd-8553-5f46adaea369",
   "metadata": {},
   "source": [
    "# 10951\tA+B - 4"
   ]
  },
  {
   "cell_type": "code",
   "execution_count": null,
   "id": "2acd7443-d4ef-4319-86b6-b77583963484",
   "metadata": {},
   "outputs": [],
   "source": [
    "while True:\n",
    "    try :\n",
    "        a, b = map(int, input().split())\n",
    "        print(a+b)\n",
    "    except:\n",
    "        break"
   ]
  }
 ],
 "metadata": {
  "kernelspec": {
   "display_name": "Python 3 (ipykernel)",
   "language": "python",
   "name": "python3"
  },
  "language_info": {
   "codemirror_mode": {
    "name": "ipython",
    "version": 3
   },
   "file_extension": ".py",
   "mimetype": "text/x-python",
   "name": "python",
   "nbconvert_exporter": "python",
   "pygments_lexer": "ipython3",
   "version": "3.9.12"
  }
 },
 "nbformat": 4,
 "nbformat_minor": 5
}
