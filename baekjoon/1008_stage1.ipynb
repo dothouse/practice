{
 "cells": [
  {
   "cell_type": "markdown",
   "id": "6d00bb1b-8d19-45b4-a57c-228dab9fbd09",
   "metadata": {},
   "source": [
    "# 1008"
   ]
  },
  {
   "cell_type": "code",
   "execution_count": null,
   "id": "75a251e8-5b8f-483a-80a1-f8d691763354",
   "metadata": {},
   "outputs": [],
   "source": [
    "a, b= map(int, input().split())\n",
    "\n",
    "print(a/b)"
   ]
  }
 ],
 "metadata": {
  "kernelspec": {
   "display_name": "Python 3 (ipykernel)",
   "language": "python",
   "name": "python3"
  },
  "language_info": {
   "codemirror_mode": {
    "name": "ipython",
    "version": 3
   },
   "file_extension": ".py",
   "mimetype": "text/x-python",
   "name": "python",
   "nbconvert_exporter": "python",
   "pygments_lexer": "ipython3",
   "version": "3.9.12"
  }
 },
 "nbformat": 4,
 "nbformat_minor": 5
}
