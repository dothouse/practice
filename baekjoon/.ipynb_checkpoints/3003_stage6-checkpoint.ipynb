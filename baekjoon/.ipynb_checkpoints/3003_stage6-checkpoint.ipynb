{
 "cells": [
  {
   "cell_type": "code",
   "execution_count": 1,
   "id": "f8a072a7-bb2d-4e13-a74f-921df525af21",
   "metadata": {},
   "outputs": [],
   "source": [
    "# 3003 킹, 퀸, 룩, 비숍, 나이트, 폰"
   ]
  },
  {
   "cell_type": "code",
   "execution_count": 2,
   "id": "5cdc646f-6eae-42b8-a3b2-3c64e8b6f8d7",
   "metadata": {},
   "outputs": [
    {
     "name": "stdin",
     "output_type": "stream",
     "text": [
      " 2 1 2 1 2 1\n"
     ]
    },
    {
     "name": "stdout",
     "output_type": "stream",
     "text": [
      "-1 0 0 1 0 7\n"
     ]
    }
   ],
   "source": [
    "chess = [1, 1, 2, 2, 2, 8]\n",
    "\n",
    "king, queen, rook, bishop, knight, pawn = map(int, input().split())\n",
    "\n",
    "chess[0] -= king\n",
    "chess[1] -= queen\n",
    "chess[2] -= rook\n",
    "chess[3] -= bishop\n",
    "chess[4] -= knight\n",
    "chess[5] -= pawn\n",
    "\n",
    "print(*chess)"
   ]
  },
  {
   "cell_type": "code",
   "execution_count": null,
   "id": "fba28157-06ad-4b09-909a-ac9ebd7dda74",
   "metadata": {},
   "outputs": [],
   "source": []
  }
 ],
 "metadata": {
  "kernelspec": {
   "display_name": "Python 3 (ipykernel)",
   "language": "python",
   "name": "python3"
  },
  "language_info": {
   "codemirror_mode": {
    "name": "ipython",
    "version": 3
   },
   "file_extension": ".py",
   "mimetype": "text/x-python",
   "name": "python",
   "nbconvert_exporter": "python",
   "pygments_lexer": "ipython3",
   "version": "3.9.12"
  }
 },
 "nbformat": 4,
 "nbformat_minor": 5
}
