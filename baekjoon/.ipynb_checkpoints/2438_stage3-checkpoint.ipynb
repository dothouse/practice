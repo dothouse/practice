{
 "cells": [
  {
   "cell_type": "markdown",
   "id": "ad448a90-b962-4cf4-990c-c6ca4320b388",
   "metadata": {},
   "source": [
    "# 2438\t별 찍기 - 1"
   ]
  },
  {
   "cell_type": "code",
   "execution_count": null,
   "id": "ed40ae19-6f6b-4865-9ae6-a3599a4c7888",
   "metadata": {},
   "outputs": [],
   "source": [
    "a = int(input())\n",
    "\n",
    "for i in range(1, a+1):\n",
    "    print('*'*i)"
   ]
  }
 ],
 "metadata": {
  "kernelspec": {
   "display_name": "Python 3 (ipykernel)",
   "language": "python",
   "name": "python3"
  },
  "language_info": {
   "codemirror_mode": {
    "name": "ipython",
    "version": 3
   },
   "file_extension": ".py",
   "mimetype": "text/x-python",
   "name": "python",
   "nbconvert_exporter": "python",
   "pygments_lexer": "ipython3",
   "version": "3.9.12"
  }
 },
 "nbformat": 4,
 "nbformat_minor": 5
}
