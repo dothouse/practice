{
 "cells": [
  {
   "cell_type": "markdown",
   "id": "4c408f03-26ce-4cfb-8888-1f6eef3e74ea",
   "metadata": {},
   "source": [
    "# 25305 커트라인"
   ]
  },
  {
   "cell_type": "code",
   "execution_count": 20,
   "id": "9aeb097f-cd3b-44ef-ac04-d822c12b2afd",
   "metadata": {},
   "outputs": [
    {
     "name": "stdin",
     "output_type": "stream",
     "text": [
      " 5 2\n",
      " 100 76 85 93 98\n"
     ]
    },
    {
     "name": "stdout",
     "output_type": "stream",
     "text": [
      "98\n"
     ]
    }
   ],
   "source": [
    "N, k = map(int, input().split())\n",
    "\n",
    "score = list(map(int, input().split()))\n",
    "score = sorted(score, reverse = True)\n",
    "\n",
    "print(score[k-1])"
   ]
  }
 ],
 "metadata": {
  "kernelspec": {
   "display_name": "Python 3 (ipykernel)",
   "language": "python",
   "name": "python3"
  },
  "language_info": {
   "codemirror_mode": {
    "name": "ipython",
    "version": 3
   },
   "file_extension": ".py",
   "mimetype": "text/x-python",
   "name": "python",
   "nbconvert_exporter": "python",
   "pygments_lexer": "ipython3",
   "version": "3.9.12"
  }
 },
 "nbformat": 4,
 "nbformat_minor": 5
}
