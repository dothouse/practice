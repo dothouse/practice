{
 "cells": [
  {
   "cell_type": "markdown",
   "id": "53a51dd9-ebd8-4026-bdca-b4338f29d9a8",
   "metadata": {},
   "source": [
    "# 1000"
   ]
  },
  {
   "cell_type": "code",
   "execution_count": null,
   "id": "e7952341-e642-46a8-8ec9-9a9bd3ef3128",
   "metadata": {},
   "outputs": [],
   "source": [
    "a, b= map(int, input().split())\n",
    "\n",
    "print(a+b)"
   ]
  }
 ],
 "metadata": {
  "kernelspec": {
   "display_name": "Python 3 (ipykernel)",
   "language": "python",
   "name": "python3"
  },
  "language_info": {
   "codemirror_mode": {
    "name": "ipython",
    "version": 3
   },
   "file_extension": ".py",
   "mimetype": "text/x-python",
   "name": "python",
   "nbconvert_exporter": "python",
   "pygments_lexer": "ipython3",
   "version": "3.9.12"
  }
 },
 "nbformat": 4,
 "nbformat_minor": 5
}
