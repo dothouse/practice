{
 "cells": [
  {
   "cell_type": "markdown",
   "id": "0130ee2f-6e50-4c9d-9bef-85ba04046496",
   "metadata": {},
   "source": [
    "# 5073\t삼각형과 세 변"
   ]
  },
  {
   "cell_type": "code",
   "execution_count": 1,
   "id": "3e2b795e-02f7-4170-8195-b553e96070e3",
   "metadata": {},
   "outputs": [
    {
     "name": "stdin",
     "output_type": "stream",
     "text": [
      " 7 7 7\n"
     ]
    },
    {
     "name": "stdout",
     "output_type": "stream",
     "text": [
      "Equilateral\n"
     ]
    },
    {
     "name": "stdin",
     "output_type": "stream",
     "text": [
      " 3 2 5\n"
     ]
    },
    {
     "name": "stdout",
     "output_type": "stream",
     "text": [
      "Invalid\n"
     ]
    },
    {
     "name": "stdin",
     "output_type": "stream",
     "text": [
      " 0 0 0\n"
     ]
    }
   ],
   "source": [
    "while True:\n",
    "    a, b, c = map(int, input().split())\n",
    "    if a == b == c == 0:\n",
    "        break\n",
    "    \n",
    "    if max(a, b, c) >= sum([a, b, c]) - max(a, b, c):\n",
    "        print('Invalid')\n",
    "    else :\n",
    "        if a == b == c:\n",
    "            print('Equilateral')\n",
    "        elif (a == b) | (b == c) | (c == a):\n",
    "            print('Isosceles')\n",
    "        else :\n",
    "            print('Scalene')"
   ]
  },
  {
   "cell_type": "code",
   "execution_count": 2,
   "id": "d488729a-bbee-45e4-8b9c-65cb1d71f4cd",
   "metadata": {},
   "outputs": [],
   "source": [
    "# 0 0 0 입력시 while문 종료\n",
    "# 짧은 두 변의 길이의 합이 가장 큰 변의 길이보다 커야한다."
   ]
  },
  {
   "cell_type": "code",
   "execution_count": null,
   "id": "90c9414b-cf74-40bd-a31d-81ac69a822d1",
   "metadata": {},
   "outputs": [],
   "source": []
  }
 ],
 "metadata": {
  "kernelspec": {
   "display_name": "Python 3 (ipykernel)",
   "language": "python",
   "name": "python3"
  },
  "language_info": {
   "codemirror_mode": {
    "name": "ipython",
    "version": 3
   },
   "file_extension": ".py",
   "mimetype": "text/x-python",
   "name": "python",
   "nbconvert_exporter": "python",
   "pygments_lexer": "ipython3",
   "version": "3.9.12"
  }
 },
 "nbformat": 4,
 "nbformat_minor": 5
}
