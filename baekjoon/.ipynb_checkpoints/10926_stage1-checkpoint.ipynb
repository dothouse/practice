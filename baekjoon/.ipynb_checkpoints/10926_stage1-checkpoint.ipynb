{
 "cells": [
  {
   "cell_type": "markdown",
   "id": "0bc4b345-4bf6-43e3-acf0-61865f7b8463",
   "metadata": {},
   "source": [
    "# 10926"
   ]
  },
  {
   "cell_type": "code",
   "execution_count": null,
   "id": "d5ff69c0-4eb9-43b3-a042-77738c0916bb",
   "metadata": {},
   "outputs": [],
   "source": [
    "a = input()\n",
    "print(f'{a}??!')"
   ]
  }
 ],
 "metadata": {
  "kernelspec": {
   "display_name": "Python 3 (ipykernel)",
   "language": "python",
   "name": "python3"
  },
  "language_info": {
   "codemirror_mode": {
    "name": "ipython",
    "version": 3
   },
   "file_extension": ".py",
   "mimetype": "text/x-python",
   "name": "python",
   "nbconvert_exporter": "python",
   "pygments_lexer": "ipython3",
   "version": "3.9.12"
  }
 },
 "nbformat": 4,
 "nbformat_minor": 5
}
