{
 "cells": [
  {
   "cell_type": "markdown",
   "id": "11f2b39a-99a8-4784-8f00-54e1df103d0d",
   "metadata": {},
   "source": [
    "# Stage11\t시간 복잡도"
   ]
  },
  {
   "cell_type": "markdown",
   "id": "fbf61212-9373-46df-a657-ebb7b7d01fa7",
   "metadata": {},
   "source": [
    "### q1\t24262\t알고리즘 수업 - 알고리즘의 수행 시간 1"
   ]
  },
  {
   "cell_type": "code",
   "execution_count": 6,
   "id": "34300f60-c468-4e26-84cc-a0cf500a06cd",
   "metadata": {},
   "outputs": [
    {
     "name": "stdout",
     "output_type": "stream",
     "text": [
      "1\n",
      "0\n"
     ]
    }
   ],
   "source": [
    "print(\n",
    "    \"\"\"1\n",
    "0\"\"\")"
   ]
  },
  {
   "cell_type": "markdown",
   "id": "9d05ba06-148e-453b-87f7-bc18c4883e33",
   "metadata": {},
   "source": [
    "### q2\t24263\t알고리즘 수업 - 알고리즘의 수행 시간 2"
   ]
  },
  {
   "cell_type": "code",
   "execution_count": 7,
   "id": "2e9b8e8c-1ff9-4e60-8fe2-b2e01f2345c9",
   "metadata": {},
   "outputs": [
    {
     "name": "stdin",
     "output_type": "stream",
     "text": [
      " 7\n"
     ]
    },
    {
     "name": "stdout",
     "output_type": "stream",
     "text": [
      "7\n",
      "1\n"
     ]
    }
   ],
   "source": [
    "a = int(input())\n",
    "# 1부터 a까지 수행\n",
    "# 즉 1 * a 번수행\n",
    "print(a)\n",
    "print(1)"
   ]
  },
  {
   "cell_type": "markdown",
   "id": "6221b63e-2636-4830-814f-4282b2beb0ab",
   "metadata": {},
   "source": [
    "### q3\t24264\t알고리즘 수업 - 알고리즘의 수행 시간 3"
   ]
  },
  {
   "cell_type": "code",
   "execution_count": 9,
   "id": "d9eb94bd-3f7d-4efc-b183-6d832c20f82c",
   "metadata": {},
   "outputs": [
    {
     "name": "stdin",
     "output_type": "stream",
     "text": [
      " 7\n"
     ]
    },
    {
     "name": "stdout",
     "output_type": "stream",
     "text": [
      "49\n",
      "2\n"
     ]
    }
   ],
   "source": [
    "a = int(input())\n",
    "\n",
    "# n * n 번 수행\n",
    "# 2차항\n",
    "print(a ** 2)\n",
    "print(2)"
   ]
  },
  {
   "cell_type": "markdown",
   "id": "08d019d3-116a-4ac8-a987-fe0aa31d116d",
   "metadata": {},
   "source": [
    "### q4\t24265\t알고리즘 수업 - 알고리즘의 수행 시간 4"
   ]
  },
  {
   "cell_type": "code",
   "execution_count": 11,
   "id": "7480088f-a3f0-467b-a267-bd9aa9ec1766",
   "metadata": {},
   "outputs": [
    {
     "name": "stdin",
     "output_type": "stream",
     "text": [
      " 7\n"
     ]
    },
    {
     "name": "stdout",
     "output_type": "stream",
     "text": [
      "21\n",
      "2\n"
     ]
    }
   ],
   "source": [
    "a = int(input())\n",
    "\n",
    "# i는 7 - 1번 (1,2,3,4,5,6)\n",
    "# j는\n",
    "# i가 1이면 2,3,4,5,6,7\n",
    "# i가 2이면 3,4,5,6,7\n",
    "# ..\n",
    "# i가 6이면 7\n",
    "\n",
    "# 6 + 5 + 4 + 3 + 2 + 1\n",
    "\n",
    "# 등차수열 공식 \n",
    "# 전체갯수 * (첫항 + 마지막항) / 2\n",
    "# 알고리즘 수행횟수 \n",
    "# (n-1) * (1 + n-1) / 2\n",
    "# (n^2 - n) / 2\n",
    "\n",
    "print(int((a ** 2 - a) / 2))\n",
    "print(2)"
   ]
  },
  {
   "cell_type": "markdown",
   "id": "b512409d-35bf-44aa-8539-ca88be0d07a8",
   "metadata": {},
   "source": [
    "### q5 24266\t알고리즘 수업 - 알고리즘의 수행 시간 5"
   ]
  },
  {
   "cell_type": "code",
   "execution_count": 12,
   "id": "b9224717-2fce-4644-bf80-fb1d5788f88a",
   "metadata": {},
   "outputs": [
    {
     "name": "stdin",
     "output_type": "stream",
     "text": [
      " 7\n"
     ]
    },
    {
     "name": "stdout",
     "output_type": "stream",
     "text": [
      "343\n",
      "3\n"
     ]
    }
   ],
   "source": [
    "a = int(input())\n",
    "\n",
    "# n * n * n 회 실행\n",
    "# n ** 3\n",
    "\n",
    "print(a ** 3)\n",
    "print(3)\n"
   ]
  },
  {
   "cell_type": "markdown",
   "id": "47629d96-12dc-42a1-b783-0c49aa323adb",
   "metadata": {},
   "source": [
    "### q6\t24267\t알고리즘 수업 - 알고리즘의 수행 시간 6"
   ]
  },
  {
   "cell_type": "markdown",
   "id": "b764158f-e2ca-4854-9dbe-1b442b610d18",
   "metadata": {},
   "source": [
    "MenOfPassion(A[], n) {\n",
    "    sum <- 0;\n",
    "    for i <- 1 to n - 2\n",
    "        for j <- i + 1 to n - 1\n",
    "            for k <- j + 1 to n\n",
    "                sum <- sum + A[i] × A[j] × A[k]; # 코드1\n",
    "    return sum;"
   ]
  },
  {
   "cell_type": "code",
   "execution_count": null,
   "id": "847dcfb7-1f88-4ac4-917b-d390dec78619",
   "metadata": {},
   "outputs": [],
   "source": [
    "# 7번한다고 했을때 \n",
    "\n",
    "# i - 1,2,3,4,5\n",
    "# j - i = 1 : 2 3 4 5 6\n",
    "# j - i = 2 : 3 4 5 6\n",
    "# ...\n",
    "# j - 1 = 5 : 6\n",
    "# k  = j - 1 / i = 1 : 2 3 4 5 6 7\n",
    "# k  = j - 2 / i = 1 : 3 4 5 6 7\n",
    "\n",
    "# k  = j - 1 / i = 2 : 3 4 5 6 7\n",
    "# k  = j - 2 / i = 2 : 4 5 6 7\n",
    "\n",
    "\n",
    "\n",
    "\n",
    "\n"
   ]
  }
 ],
 "metadata": {
  "kernelspec": {
   "display_name": "Python 3 (ipykernel)",
   "language": "python",
   "name": "python3"
  },
  "language_info": {
   "codemirror_mode": {
    "name": "ipython",
    "version": 3
   },
   "file_extension": ".py",
   "mimetype": "text/x-python",
   "name": "python",
   "nbconvert_exporter": "python",
   "pygments_lexer": "ipython3",
   "version": "3.9.12"
  }
 },
 "nbformat": 4,
 "nbformat_minor": 5
}
