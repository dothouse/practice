{
 "cells": [
  {
   "cell_type": "markdown",
   "id": "78e71368-c676-4983-a7c9-3a773d171bfe",
   "metadata": {},
   "source": [
    "# 2525"
   ]
  },
  {
   "cell_type": "code",
   "execution_count": null,
   "id": "192f7694-0b08-4cf2-97cd-81700bef3aeb",
   "metadata": {},
   "outputs": [],
   "source": [
    "h, m = map(int, input().split())\n",
    "timer = int(input())\n",
    "\n",
    "h_timer = timer // 60\n",
    "m_timer = timer % 60\n",
    "\n",
    "h_last = None\n",
    "m_last = None\n",
    "\n",
    "if m + m_timer >= 60 :\n",
    "    h_last = (h_timer + h + 1) % 24\n",
    "    m_last = (m_timer + m - 60)\n",
    "\n",
    "else :\n",
    "    h_last = (h_timer + h) % 24\n",
    "    m_last = (m_timer + m)\n",
    "\n",
    "\n",
    "\n",
    "\n",
    "print(f\"{h_last} {m_last}\")"
   ]
  }
 ],
 "metadata": {
  "kernelspec": {
   "display_name": "Python 3 (ipykernel)",
   "language": "python",
   "name": "python3"
  },
  "language_info": {
   "codemirror_mode": {
    "name": "ipython",
    "version": 3
   },
   "file_extension": ".py",
   "mimetype": "text/x-python",
   "name": "python",
   "nbconvert_exporter": "python",
   "pygments_lexer": "ipython3",
   "version": "3.9.12"
  }
 },
 "nbformat": 4,
 "nbformat_minor": 5
}
