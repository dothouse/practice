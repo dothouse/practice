{
 "cells": [
  {
   "cell_type": "markdown",
   "id": "ba3f975d-10b2-4024-ad12-b21f1fa622cf",
   "metadata": {},
   "source": [
    "# 10988\t팰린드롬인지 확인하기"
   ]
  },
  {
   "cell_type": "code",
   "execution_count": 1,
   "id": "8b9ca2ce-172c-4a9b-8c5c-c8f3428c6c4f",
   "metadata": {},
   "outputs": [
    {
     "name": "stdin",
     "output_type": "stream",
     "text": [
      " level\n"
     ]
    },
    {
     "name": "stdout",
     "output_type": "stream",
     "text": [
      "1\n"
     ]
    }
   ],
   "source": [
    "word = list(input())\n",
    "lst = []\n",
    "lst_check = []\n",
    "\n",
    "for i in range(len(word)):\n",
    "    lst.append(word[i])\n",
    "    lst_check.append(word[i])\n",
    "lst_check.reverse()\n",
    "\n",
    "if lst == lst_check:\n",
    "    print(1)\n",
    "else :\n",
    "    print(0)"
   ]
  },
  {
   "cell_type": "code",
   "execution_count": 2,
   "id": "a715f6c2-359b-4c4a-b5dd-eb384648aada",
   "metadata": {},
   "outputs": [
    {
     "name": "stdin",
     "output_type": "stream",
     "text": [
      " level\n"
     ]
    },
    {
     "name": "stdout",
     "output_type": "stream",
     "text": [
      "1\n"
     ]
    }
   ],
   "source": [
    "word2 = list(str(input()))\n",
    "\n",
    "if list(reversed(word2)) == word2:\n",
    "    print(1)\n",
    "else:\n",
    "    print(0)"
   ]
  },
  {
   "cell_type": "code",
   "execution_count": null,
   "id": "d4f28b84-b646-475e-952c-7d2ccdf297a6",
   "metadata": {},
   "outputs": [],
   "source": []
  }
 ],
 "metadata": {
  "kernelspec": {
   "display_name": "Python 3 (ipykernel)",
   "language": "python",
   "name": "python3"
  },
  "language_info": {
   "codemirror_mode": {
    "name": "ipython",
    "version": 3
   },
   "file_extension": ".py",
   "mimetype": "text/x-python",
   "name": "python",
   "nbconvert_exporter": "python",
   "pygments_lexer": "ipython3",
   "version": "3.9.12"
  }
 },
 "nbformat": 4,
 "nbformat_minor": 5
}
