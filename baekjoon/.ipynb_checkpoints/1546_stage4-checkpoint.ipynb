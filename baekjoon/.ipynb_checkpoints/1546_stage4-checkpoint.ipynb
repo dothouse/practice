{
 "cells": [
  {
   "cell_type": "markdown",
   "id": "7c4e300d-7f70-4bb9-a21e-1a409d834a80",
   "metadata": {},
   "source": [
    "# 1546\t평균"
   ]
  },
  {
   "cell_type": "code",
   "execution_count": null,
   "id": "8278d3ed-701e-4bf4-adaa-f9416172289d",
   "metadata": {},
   "outputs": [],
   "source": [
    "N = int(input())\n",
    "subject = list(map(int, input().split()))\n",
    "max_values = max(subject)\n",
    "result = []\n",
    "\n",
    "for i in range(len(subject)):\n",
    "    result.append(subject[i] / max_values * 100)\n",
    "print(sum(result) / len(result))"
   ]
  }
 ],
 "metadata": {
  "kernelspec": {
   "display_name": "Python 3 (ipykernel)",
   "language": "python",
   "name": "python3"
  },
  "language_info": {
   "codemirror_mode": {
    "name": "ipython",
    "version": 3
   },
   "file_extension": ".py",
   "mimetype": "text/x-python",
   "name": "python",
   "nbconvert_exporter": "python",
   "pygments_lexer": "ipython3",
   "version": "3.9.12"
  }
 },
 "nbformat": 4,
 "nbformat_minor": 5
}
