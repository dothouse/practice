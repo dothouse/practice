{
 "cells": [
  {
   "cell_type": "markdown",
   "id": "60dac6b5-6c69-421d-a84f-1b9bba7ad55c",
   "metadata": {},
   "source": [
    "# 2581\t소수"
   ]
  },
  {
   "cell_type": "code",
   "execution_count": 1,
   "id": "c07b90c9-a48b-4bea-b20a-7c8b79152b66",
   "metadata": {},
   "outputs": [
    {
     "name": "stdin",
     "output_type": "stream",
     "text": [
      " 60\n",
      " 100\n"
     ]
    },
    {
     "name": "stdout",
     "output_type": "stream",
     "text": [
      "620\n",
      "61\n"
     ]
    }
   ],
   "source": [
    "M = int(input())\n",
    "N = int(input())\n",
    "lst = []\n",
    "\n",
    "for i in range(M, N+1):\n",
    "    cnt = 0\n",
    "    for j in range(1, i):\n",
    "        if i % j == 0:\n",
    "            cnt += 1\n",
    "    if cnt == 1:\n",
    "        lst.append(i)\n",
    "\n",
    "if sum(lst) == 0:\n",
    "    print(-1)\n",
    "else :\n",
    "    print(sum(lst), lst[0], sep = '\\n')\n"
   ]
  },
  {
   "cell_type": "code",
   "execution_count": null,
   "id": "545def5d-af59-4c2c-9a06-49952d58f423",
   "metadata": {},
   "outputs": [],
   "source": []
  }
 ],
 "metadata": {
  "kernelspec": {
   "display_name": "Python 3 (ipykernel)",
   "language": "python",
   "name": "python3"
  },
  "language_info": {
   "codemirror_mode": {
    "name": "ipython",
    "version": 3
   },
   "file_extension": ".py",
   "mimetype": "text/x-python",
   "name": "python",
   "nbconvert_exporter": "python",
   "pygments_lexer": "ipython3",
   "version": "3.9.12"
  }
 },
 "nbformat": 4,
 "nbformat_minor": 5
}
