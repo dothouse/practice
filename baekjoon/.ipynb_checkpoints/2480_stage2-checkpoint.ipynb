{
 "cells": [
  {
   "cell_type": "markdown",
   "id": "0b189f1d-e4a5-4316-b7f4-5072125eb5af",
   "metadata": {},
   "source": [
    "# 2480"
   ]
  },
  {
   "cell_type": "code",
   "execution_count": null,
   "id": "8371fd97-1495-434f-af9c-20947b2b7245",
   "metadata": {},
   "outputs": [],
   "source": [
    "a, b, c = map(int, input().split())\n",
    "prize = None\n",
    "\n",
    "if a == b == c :\n",
    "    prize = 10000 + (a * 1000)\n",
    "\n",
    "elif a == b :\n",
    "     prize = 1000 + (a * 100)\n",
    "\n",
    "elif a == c :\n",
    "     prize = 1000 + (a * 100)\n",
    "\n",
    "elif b == c :\n",
    "     prize = 1000 + (b * 100)\n",
    "\n",
    "else :\n",
    "    prize = (max(a, b, c) * 100)\n",
    "\n",
    "print(prize)"
   ]
  }
 ],
 "metadata": {
  "kernelspec": {
   "display_name": "Python 3 (ipykernel)",
   "language": "python",
   "name": "python3"
  },
  "language_info": {
   "codemirror_mode": {
    "name": "ipython",
    "version": 3
   },
   "file_extension": ".py",
   "mimetype": "text/x-python",
   "name": "python",
   "nbconvert_exporter": "python",
   "pygments_lexer": "ipython3",
   "version": "3.9.12"
  }
 },
 "nbformat": 4,
 "nbformat_minor": 5
}
