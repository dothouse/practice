{
 "cells": [
  {
   "cell_type": "markdown",
   "id": "ef300926-7ca9-4b39-9206-6caa97621803",
   "metadata": {},
   "source": [
    "# 25206\t너의 평점은"
   ]
  },
  {
   "cell_type": "code",
   "execution_count": null,
   "id": "98ffc38f-5056-4236-a615-47d44c88eecc",
   "metadata": {},
   "outputs": [],
   "source": [
    "# 실패\n",
    "all = input().split(\" \")\n",
    "table = {'A+':4.5, 'A0':4.0, 'B+':3.5, 'B0':3.0, 'C+':2.5, 'C0':2.0, 'D+':1.5, 'D0':1.0, 'F':0.0, 'P' : 0.0}\n",
    "total_score = []\n",
    "total_times = []\n",
    "\n",
    "for i in range(int(len(all)/3)):\n",
    "    if all[i*3 + 2] != 'P':\n",
    "        times = int((float(all[i*3 + 1])))\n",
    "        score = table[all[i*3 + 2]]\n",
    "        total_times.append(times)\n",
    "        total_score.append(times * score)\n",
    "    #print()\n",
    "   \n",
    "print('{:.6f}' .format(sum(total_score)/sum(total_times)))"
   ]
  },
  {
   "cell_type": "code",
   "execution_count": null,
   "id": "970609fe-20fd-42e7-9ab9-8c121f60529f",
   "metadata": {},
   "outputs": [],
   "source": [
    "n = 20\n",
    "score = 0\n",
    "total_credit = 0\n",
    "\n",
    "table = {'A+':4.5, 'A0':4.0, 'B+':3.5, 'B0':3.0, 'C+':2.5, 'C0':2.0, 'D+':1.5, 'D0':1.0, 'F':0.0, 'P' : 0.0}\n",
    "\n",
    "\n",
    "for _ in range(n):\n",
    "    subject, credit, grade = input().split()\n",
    "    credit = float(credit)\n",
    "    if grade != \"P\":\n",
    "        score += credit * table[grade]\n",
    "        total_credit += credit\n",
    "\n",
    "print(f'{score / total_credit: .6f}' )"
   ]
  }
 ],
 "metadata": {
  "kernelspec": {
   "display_name": "Python 3 (ipykernel)",
   "language": "python",
   "name": "python3"
  },
  "language_info": {
   "codemirror_mode": {
    "name": "ipython",
    "version": 3
   },
   "file_extension": ".py",
   "mimetype": "text/x-python",
   "name": "python",
   "nbconvert_exporter": "python",
   "pygments_lexer": "ipython3",
   "version": "3.9.12"
  }
 },
 "nbformat": 4,
 "nbformat_minor": 5
}
