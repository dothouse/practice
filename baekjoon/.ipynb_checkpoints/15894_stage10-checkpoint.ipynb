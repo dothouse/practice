{
 "cells": [
  {
   "cell_type": "markdown",
   "id": "cf270733-b6d7-4565-a55e-ac51d4c1b20a",
   "metadata": {},
   "source": [
    "15894\t수학은 체육과목 입니다"
   ]
  },
  {
   "cell_type": "code",
   "execution_count": 1,
   "id": "ce200f3e-7155-42e1-ab90-3e3bd1ce692b",
   "metadata": {},
   "outputs": [
    {
     "name": "stdin",
     "output_type": "stream",
     "text": [
      " 4\n"
     ]
    },
    {
     "name": "stdout",
     "output_type": "stream",
     "text": [
      "16\n"
     ]
    }
   ],
   "source": [
    "N = int(input())\n",
    "\n",
    "print(4*N)"
   ]
  },
  {
   "cell_type": "code",
   "execution_count": 2,
   "id": "9e7a29d8-3df6-4fa0-bc50-ea4aaf106986",
   "metadata": {},
   "outputs": [],
   "source": [
    "# 피라미드의 둘레의 합이\n",
    "# 마지막 피라미드의 밑변의 길이와 같은 \n",
    "# 사각형의 둘레와 같다"
   ]
  },
  {
   "cell_type": "code",
   "execution_count": null,
   "id": "8151a846-0646-4f97-8857-cab04e8bcaef",
   "metadata": {},
   "outputs": [],
   "source": []
  }
 ],
 "metadata": {
  "kernelspec": {
   "display_name": "Python 3 (ipykernel)",
   "language": "python",
   "name": "python3"
  },
  "language_info": {
   "codemirror_mode": {
    "name": "ipython",
    "version": 3
   },
   "file_extension": ".py",
   "mimetype": "text/x-python",
   "name": "python",
   "nbconvert_exporter": "python",
   "pygments_lexer": "ipython3",
   "version": "3.9.12"
  }
 },
 "nbformat": 4,
 "nbformat_minor": 5
}
