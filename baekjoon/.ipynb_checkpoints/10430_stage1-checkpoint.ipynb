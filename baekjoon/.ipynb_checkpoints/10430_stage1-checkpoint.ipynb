{
 "cells": [
  {
   "cell_type": "markdown",
   "id": "7cd582f8-a592-4bb3-8dc3-29ebf3f8af44",
   "metadata": {},
   "source": [
    "# 10430"
   ]
  },
  {
   "cell_type": "code",
   "execution_count": null,
   "id": "48f22faf-3465-46be-8791-0484b3ebed61",
   "metadata": {},
   "outputs": [],
   "source": [
    "A, B, C = map(int, input().split())\n",
    "\n",
    "print((A+B)%C)\n",
    "print(((A%C) + (B%C))%C)\n",
    "print((A*B)%C)\n",
    "print(((A%C)*(B%C))%C)"
   ]
  }
 ],
 "metadata": {
  "kernelspec": {
   "display_name": "Python 3 (ipykernel)",
   "language": "python",
   "name": "python3"
  },
  "language_info": {
   "codemirror_mode": {
    "name": "ipython",
    "version": 3
   },
   "file_extension": ".py",
   "mimetype": "text/x-python",
   "name": "python",
   "nbconvert_exporter": "python",
   "pygments_lexer": "ipython3",
   "version": "3.9.12"
  }
 },
 "nbformat": 4,
 "nbformat_minor": 5
}
