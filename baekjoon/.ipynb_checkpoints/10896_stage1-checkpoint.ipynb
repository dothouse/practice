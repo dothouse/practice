{
 "cells": [
  {
   "cell_type": "markdown",
   "id": "10645a6c-b854-44e7-b14b-3ec657195739",
   "metadata": {},
   "source": [
    "# 10896"
   ]
  },
  {
   "cell_type": "code",
   "execution_count": null,
   "id": "5f18e784-7c8e-469c-9354-17e1fc801e7e",
   "metadata": {},
   "outputs": [],
   "source": [
    "a, b = map(int, input().split())\n",
    "\n",
    "print(a+b)\n",
    "print(a-b)\n",
    "print(a*b)\n",
    "print(a//b)\n",
    "print(a%b)"
   ]
  }
 ],
 "metadata": {
  "kernelspec": {
   "display_name": "Python 3 (ipykernel)",
   "language": "python",
   "name": "python3"
  },
  "language_info": {
   "codemirror_mode": {
    "name": "ipython",
    "version": 3
   },
   "file_extension": ".py",
   "mimetype": "text/x-python",
   "name": "python",
   "nbconvert_exporter": "python",
   "pygments_lexer": "ipython3",
   "version": "3.9.12"
  }
 },
 "nbformat": 4,
 "nbformat_minor": 5
}
