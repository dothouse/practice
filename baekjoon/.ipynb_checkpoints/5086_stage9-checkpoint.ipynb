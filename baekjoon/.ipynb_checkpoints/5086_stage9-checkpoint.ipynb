{
 "cells": [
  {
   "cell_type": "markdown",
   "id": "ef54d924-1556-4be0-a8af-8722ba0f5340",
   "metadata": {},
   "source": [
    "# 5086 배수와 약수"
   ]
  },
  {
   "cell_type": "code",
   "execution_count": 1,
   "id": "21ce736e-2e99-4cd5-8e8c-bee2bbb05d54",
   "metadata": {},
   "outputs": [
    {
     "name": "stdin",
     "output_type": "stream",
     "text": [
      " 8 16\n"
     ]
    },
    {
     "name": "stdout",
     "output_type": "stream",
     "text": [
      "factor\n"
     ]
    },
    {
     "name": "stdin",
     "output_type": "stream",
     "text": [
      " 0 0\n"
     ]
    }
   ],
   "source": [
    "c = 0\n",
    "\n",
    "while True:\n",
    "    a, b = map(int, input().split())\n",
    "    if a == 0 & b == 0:\n",
    "        break\n",
    "    else :\n",
    "        if b % a == 0:\n",
    "            c = 'factor'\n",
    "        elif a % b == 0:\n",
    "            c = 'multiple'\n",
    "        elif (b % a == 0) & (a % b == 0):\n",
    "            c = 'both'\n",
    "        else :\n",
    "            c = 'neither'\n",
    "        print(c)"
   ]
  },
  {
   "cell_type": "code",
   "execution_count": null,
   "id": "58e2dded-9428-402c-a864-f71c24a3eeb9",
   "metadata": {},
   "outputs": [],
   "source": []
  }
 ],
 "metadata": {
  "kernelspec": {
   "display_name": "Python 3 (ipykernel)",
   "language": "python",
   "name": "python3"
  },
  "language_info": {
   "codemirror_mode": {
    "name": "ipython",
    "version": 3
   },
   "file_extension": ".py",
   "mimetype": "text/x-python",
   "name": "python",
   "nbconvert_exporter": "python",
   "pygments_lexer": "ipython3",
   "version": "3.9.12"
  }
 },
 "nbformat": 4,
 "nbformat_minor": 5
}
