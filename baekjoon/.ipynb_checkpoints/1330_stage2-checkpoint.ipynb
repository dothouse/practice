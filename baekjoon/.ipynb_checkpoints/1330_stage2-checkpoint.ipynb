{
 "cells": [
  {
   "cell_type": "markdown",
   "id": "8c691ed2-0407-4401-bcc6-b1b281b0b874",
   "metadata": {},
   "source": [
    "# 1330"
   ]
  },
  {
   "cell_type": "code",
   "execution_count": null,
   "id": "0399d7d0-da4c-4fb7-83b4-76941ad70496",
   "metadata": {},
   "outputs": [],
   "source": [
    "a, b = map(int, input().split())\n",
    "\n",
    "if a > b:\n",
    "    print(\">\")\n",
    "\n",
    "elif a == b :\n",
    "    print(\"==\")\n",
    "\n",
    "else :\n",
    "    print(\"<\")"
   ]
  }
 ],
 "metadata": {
  "kernelspec": {
   "display_name": "Python 3 (ipykernel)",
   "language": "python",
   "name": "python3"
  },
  "language_info": {
   "codemirror_mode": {
    "name": "ipython",
    "version": 3
   },
   "file_extension": ".py",
   "mimetype": "text/x-python",
   "name": "python",
   "nbconvert_exporter": "python",
   "pygments_lexer": "ipython3",
   "version": "3.9.12"
  }
 },
 "nbformat": 4,
 "nbformat_minor": 5
}
