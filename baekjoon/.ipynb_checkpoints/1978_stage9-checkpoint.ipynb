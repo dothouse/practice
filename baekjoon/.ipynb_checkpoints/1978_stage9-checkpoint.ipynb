{
 "cells": [
  {
   "cell_type": "markdown",
   "id": "b3facb71-d76d-4663-875e-edb806242309",
   "metadata": {},
   "source": [
    "# 1978\t소수 찾기"
   ]
  },
  {
   "cell_type": "code",
   "execution_count": 2,
   "id": "5346dd94-e99b-4639-a832-255103310bd2",
   "metadata": {},
   "outputs": [
    {
     "name": "stdin",
     "output_type": "stream",
     "text": [
      " 4\n",
      " 1 2 3 12 25\n"
     ]
    },
    {
     "name": "stdout",
     "output_type": "stream",
     "text": [
      "2\n"
     ]
    }
   ],
   "source": [
    "N = int(input())\n",
    "\n",
    "numbers = [i for i in map(int, input().split())]\n",
    "result = 0\n",
    "\n",
    "for j in numbers:\n",
    "    cnt = 0\n",
    "    for k in range(1, j):\n",
    "        if j % k == 0:\n",
    "            cnt += 1\n",
    "\n",
    "    if cnt == 1:\n",
    "        result += 1\n",
    "\n",
    "print(result)"
   ]
  },
  {
   "cell_type": "code",
   "execution_count": null,
   "id": "95bdaa58-2aa8-4a1e-9ab6-268317d9cdd1",
   "metadata": {},
   "outputs": [],
   "source": []
  }
 ],
 "metadata": {
  "kernelspec": {
   "display_name": "Python 3 (ipykernel)",
   "language": "python",
   "name": "python3"
  },
  "language_info": {
   "codemirror_mode": {
    "name": "ipython",
    "version": 3
   },
   "file_extension": ".py",
   "mimetype": "text/x-python",
   "name": "python",
   "nbconvert_exporter": "python",
   "pygments_lexer": "ipython3",
   "version": "3.9.12"
  }
 },
 "nbformat": 4,
 "nbformat_minor": 5
}
