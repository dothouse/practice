{
 "cells": [
  {
   "cell_type": "markdown",
   "id": "91e61b5e-1793-4689-bc42-fbb50d61bbe6",
   "metadata": {},
   "source": [
    "# 27866"
   ]
  },
  {
   "cell_type": "code",
   "execution_count": 2,
   "id": "fd117117-b361-43eb-8995-4e003ce43d2c",
   "metadata": {},
   "outputs": [
    {
     "name": "stdin",
     "output_type": "stream",
     "text": [
      " shiftpsh\n",
      " 6\n"
     ]
    },
    {
     "name": "stdout",
     "output_type": "stream",
     "text": [
      "p\n"
     ]
    }
   ],
   "source": [
    "cha1 = input()\n",
    "int1 = int(input())\n",
    "\n",
    "print(cha1[int1-1])"
   ]
  },
  {
   "cell_type": "code",
   "execution_count": null,
   "id": "b1f6e05b-2346-4dd1-a906-084ab87b634b",
   "metadata": {},
   "outputs": [],
   "source": []
  }
 ],
 "metadata": {
  "kernelspec": {
   "display_name": "Python 3 (ipykernel)",
   "language": "python",
   "name": "python3"
  },
  "language_info": {
   "codemirror_mode": {
    "name": "ipython",
    "version": 3
   },
   "file_extension": ".py",
   "mimetype": "text/x-python",
   "name": "python",
   "nbconvert_exporter": "python",
   "pygments_lexer": "ipython3",
   "version": "3.9.12"
  }
 },
 "nbformat": 4,
 "nbformat_minor": 5
}
