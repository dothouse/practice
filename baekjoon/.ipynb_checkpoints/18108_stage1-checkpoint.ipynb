{
 "cells": [
  {
   "cell_type": "markdown",
   "id": "cc56c6de-e3fb-47e0-8c81-73473b1e91ec",
   "metadata": {},
   "source": [
    "# 18108"
   ]
  },
  {
   "cell_type": "code",
   "execution_count": null,
   "id": "c5b4c5ed-648e-4be7-bb5d-bbc21c0a3767",
   "metadata": {},
   "outputs": [],
   "source": [
    "a = int(input()) - (2541 - 1998)\n",
    "print(a)"
   ]
  }
 ],
 "metadata": {
  "kernelspec": {
   "display_name": "Python 3 (ipykernel)",
   "language": "python",
   "name": "python3"
  },
  "language_info": {
   "codemirror_mode": {
    "name": "ipython",
    "version": 3
   },
   "file_extension": ".py",
   "mimetype": "text/x-python",
   "name": "python",
   "nbconvert_exporter": "python",
   "pygments_lexer": "ipython3",
   "version": "3.9.12"
  }
 },
 "nbformat": 4,
 "nbformat_minor": 5
}
