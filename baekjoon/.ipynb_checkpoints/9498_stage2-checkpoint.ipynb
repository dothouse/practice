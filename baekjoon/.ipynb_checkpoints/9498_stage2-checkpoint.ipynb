{
 "cells": [
  {
   "cell_type": "markdown",
   "id": "686d4002-5f40-49b0-aceb-8b0ab1e19e0b",
   "metadata": {},
   "source": [
    "# 9498"
   ]
  },
  {
   "cell_type": "code",
   "execution_count": null,
   "id": "48af7c7c-71da-445e-92ad-8a1aa76dd13b",
   "metadata": {},
   "outputs": [],
   "source": [
    "score = int(input())\n",
    "\n",
    "if score >= 90 and score <= 100:\n",
    "    print(\"A\")\n",
    "\n",
    "elif score >= 80 and score <= 89:\n",
    "    print(\"B\")\n",
    "\n",
    "elif score >= 70 and score <= 79:\n",
    "    print(\"C\")\n",
    "\n",
    "elif score >= 60 and score <= 69:\n",
    "    print(\"D\")\n",
    "\n",
    "else :\n",
    "    print(\"F\")"
   ]
  }
 ],
 "metadata": {
  "kernelspec": {
   "display_name": "Python 3 (ipykernel)",
   "language": "python",
   "name": "python3"
  },
  "language_info": {
   "codemirror_mode": {
    "name": "ipython",
    "version": 3
   },
   "file_extension": ".py",
   "mimetype": "text/x-python",
   "name": "python",
   "nbconvert_exporter": "python",
   "pygments_lexer": "ipython3",
   "version": "3.9.12"
  }
 },
 "nbformat": 4,
 "nbformat_minor": 5
}
