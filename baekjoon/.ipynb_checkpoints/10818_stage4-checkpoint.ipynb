{
 "cells": [
  {
   "cell_type": "markdown",
   "id": "06054c37-2980-440d-bb7c-8747957e779d",
   "metadata": {},
   "source": [
    "# 10818\t최소, 최대 "
   ]
  },
  {
   "cell_type": "code",
   "execution_count": null,
   "id": "cbb77dd7-5e27-4915-9d6d-8bc21801bef7",
   "metadata": {},
   "outputs": [],
   "source": [
    "a = int(input())\n",
    "b = list(map(int, input().split()))\n",
    "\n",
    "print(min(b), max(b))   "
   ]
  }
 ],
 "metadata": {
  "kernelspec": {
   "display_name": "Python 3 (ipykernel)",
   "language": "python",
   "name": "python3"
  },
  "language_info": {
   "codemirror_mode": {
    "name": "ipython",
    "version": 3
   },
   "file_extension": ".py",
   "mimetype": "text/x-python",
   "name": "python",
   "nbconvert_exporter": "python",
   "pygments_lexer": "ipython3",
   "version": "3.9.12"
  }
 },
 "nbformat": 4,
 "nbformat_minor": 5
}
