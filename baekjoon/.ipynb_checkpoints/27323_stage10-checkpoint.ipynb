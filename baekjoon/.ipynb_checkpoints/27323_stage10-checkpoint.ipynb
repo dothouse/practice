{
 "cells": [
  {
   "cell_type": "markdown",
   "id": "b6fb9edc-bfcc-4024-9804-75d7e5b7ffa3",
   "metadata": {},
   "source": [
    "# q1\t27323\t직사각형"
   ]
  },
  {
   "cell_type": "code",
   "execution_count": 1,
   "id": "2ba46d3c-1679-4540-8528-3dceea6c3fe2",
   "metadata": {},
   "outputs": [
    {
     "name": "stdin",
     "output_type": "stream",
     "text": [
      " 2\n",
      " 3\n"
     ]
    },
    {
     "name": "stdout",
     "output_type": "stream",
     "text": [
      "6\n"
     ]
    }
   ],
   "source": [
    "A = int(input())\n",
    "B = int(input())\n",
    "\n",
    "print(A*B)"
   ]
  },
  {
   "cell_type": "code",
   "execution_count": null,
   "id": "494fc50d-9320-4e1b-8b9f-adcedf17f7b7",
   "metadata": {},
   "outputs": [],
   "source": []
  }
 ],
 "metadata": {
  "kernelspec": {
   "display_name": "Python 3 (ipykernel)",
   "language": "python",
   "name": "python3"
  },
  "language_info": {
   "codemirror_mode": {
    "name": "ipython",
    "version": 3
   },
   "file_extension": ".py",
   "mimetype": "text/x-python",
   "name": "python",
   "nbconvert_exporter": "python",
   "pygments_lexer": "ipython3",
   "version": "3.9.12"
  }
 },
 "nbformat": 4,
 "nbformat_minor": 5
}
