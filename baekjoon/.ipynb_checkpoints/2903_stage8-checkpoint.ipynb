{
 "cells": [
  {
   "cell_type": "markdown",
   "id": "98085813-ede2-4e8c-9fae-e06acc520acf",
   "metadata": {},
   "source": [
    "# 2903\t중앙 이동 알고리즘"
   ]
  },
  {
   "cell_type": "code",
   "execution_count": 1,
   "id": "cd6e0f22-d4f9-4586-8df8-ea0f285dc3b3",
   "metadata": {},
   "outputs": [
    {
     "name": "stdin",
     "output_type": "stream",
     "text": [
      " 5\n"
     ]
    },
    {
     "name": "stdout",
     "output_type": "stream",
     "text": [
      "1089\n"
     ]
    }
   ],
   "source": [
    "N = int(input())\n",
    "square = 2\n",
    "\n",
    "for i in range(N):\n",
    "    square = (square * 2) - 1\n",
    "print(square ** 2)"
   ]
  },
  {
   "cell_type": "code",
   "execution_count": 2,
   "id": "e523e288-d5e7-4e4b-9cb7-747dd1ff8be4",
   "metadata": {},
   "outputs": [
    {
     "name": "stdin",
     "output_type": "stream",
     "text": [
      " 5\n"
     ]
    },
    {
     "name": "stdout",
     "output_type": "stream",
     "text": [
      "1089\n"
     ]
    }
   ],
   "source": [
    "# re\n",
    "print((2 ** int(input()) + 1) ** 2)"
   ]
  },
  {
   "cell_type": "code",
   "execution_count": null,
   "id": "d482358e-5975-452c-b041-1e61939a7a3f",
   "metadata": {},
   "outputs": [],
   "source": []
  }
 ],
 "metadata": {
  "kernelspec": {
   "display_name": "Python 3 (ipykernel)",
   "language": "python",
   "name": "python3"
  },
  "language_info": {
   "codemirror_mode": {
    "name": "ipython",
    "version": 3
   },
   "file_extension": ".py",
   "mimetype": "text/x-python",
   "name": "python",
   "nbconvert_exporter": "python",
   "pygments_lexer": "ipython3",
   "version": "3.9.12"
  }
 },
 "nbformat": 4,
 "nbformat_minor": 5
}
