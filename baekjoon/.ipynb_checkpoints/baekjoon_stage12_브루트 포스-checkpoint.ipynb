{
 "cells": [
  {
   "cell_type": "markdown",
   "id": "0a59089c-3b87-4905-ab06-b64b3f82bc7e",
   "metadata": {},
   "source": [
    "# Stage 12\t브루트 포스"
   ]
  },
  {
   "cell_type": "markdown",
   "id": "cf5b30c9-dcd9-4bff-ac1b-3bad7b9588fa",
   "metadata": {},
   "source": [
    "### q1\t2798\t블랙잭"
   ]
  },
  {
   "cell_type": "code",
   "execution_count": 84,
   "id": "4edc58aa-c1c5-4ba3-998d-c6c02fb5ad12",
   "metadata": {},
   "outputs": [
    {
     "name": "stdin",
     "output_type": "stream",
     "text": [
      " 10 500\n",
      " 93 181 245 214 315 36 185 138 216 295\n"
     ]
    },
    {
     "name": "stdout",
     "output_type": "stream",
     "text": [
      "497\n"
     ]
    }
   ],
   "source": [
    "N, M = map(int, input().split())\n",
    "\n",
    "cards = list(map(int, input().split()))\n",
    "\n",
    "result = []\n",
    "for i in range(len(cards)):\n",
    "    a = cards[i]\n",
    "    for j in range(i+1,len(cards)):\n",
    "        b = cards[j]\n",
    "        for k in range(j+1, len(cards)):\n",
    "            c = cards[k]\n",
    "            n = a + b + c\n",
    "            if n <= M:\n",
    "                result.append(n)\n",
    "                \n",
    "print(max(result))\n",
    "\n"
   ]
  },
  {
   "cell_type": "markdown",
   "id": "c5d85607-eaf8-48ec-bb78-482c69417bcf",
   "metadata": {},
   "source": [
    "### q2\t2231\t분해합"
   ]
  },
  {
   "cell_type": "code",
   "execution_count": 73,
   "id": "5e1a9852-d434-4807-ae0a-d8bd79c1f221",
   "metadata": {},
   "outputs": [
    {
     "name": "stdin",
     "output_type": "stream",
     "text": [
      " 54\n"
     ]
    },
    {
     "name": "stdout",
     "output_type": "stream",
     "text": [
      "45\n"
     ]
    }
   ],
   "source": [
    "N = int(input())\n",
    "\n",
    "result = []\n",
    "for i in range(0, N + 1):\n",
    "    sum_numbers = sum(map(int, str(i)))\n",
    "    P = sum_numbers + i\n",
    "    if P == N:\n",
    "        result.append(i)\n",
    "\n",
    "if len(result) > 0 :\n",
    "    print(min(result))\n",
    "else :\n",
    "    print(0)"
   ]
  },
  {
   "cell_type": "markdown",
   "id": "2c2466b9-0665-4785-b568-3884cd73bd4c",
   "metadata": {},
   "source": [
    "### q3\t19532\t수학은 비대면강의입니다"
   ]
  },
  {
   "cell_type": "code",
   "execution_count": 75,
   "id": "acc51919-0ae1-4b72-9810-38ba1f16ca84",
   "metadata": {},
   "outputs": [
    {
     "name": "stdin",
     "output_type": "stream",
     "text": [
      " 1 3 -1 4 1 7\n"
     ]
    }
   ],
   "source": [
    "a, b, c, d, e, f = map(int, input().split())\n",
    "\n",
    "for x in range(-999, 1000):\n",
    "    for y in range(-999, 1000):\n",
    "        if (a * x) + (b * y) == c:\n",
    "            if (d * x) + (e * y) == f:\n",
    "                print(x, y)"
   ]
  },
  {
   "cell_type": "markdown",
   "id": "1871c56a-f69f-45cd-99c0-a47ada2c5f34",
   "metadata": {},
   "source": [
    "### q4\t1018\t체스판 다시 칠하기"
   ]
  },
  {
   "cell_type": "code",
   "execution_count": 106,
   "id": "1a95de19-6d0b-4c2b-b5c1-5b4690de0215",
   "metadata": {},
   "outputs": [
    {
     "name": "stdin",
     "output_type": "stream",
     "text": [
      " 9 23\n",
      " BBBBBBBBBBBBBBBBBBBBBBB\n",
      " BBBBBBBBBBBBBBBBBBBBBBB\n",
      " BBBBBBBBBBBBBBBBBBBBBBB\n",
      " BBBBBBBBBBBBBBBBBBBBBBB\n",
      " BBBBBBBBBBBBBBBBBBBBBBB\n",
      " BBBBBBBBBBBBBBBBBBBBBBB\n",
      " BBBBBBBBBBBBBBBBBBBBBBB\n",
      " BBBBBBBBBBBBBBBBBBBBBBB\n",
      " BBBBBBBBBBBBBBBBBBBBBBW\n"
     ]
    },
    {
     "name": "stdout",
     "output_type": "stream",
     "text": [
      "100\n"
     ]
    }
   ],
   "source": [
    "N, M = map(int, input().split())\n",
    "check = 0\n",
    "for i in range(N): \n",
    "    line1 = list(map(str, input()))\n",
    "    if line1[0] == \"W\":\n",
    "        for j in range(M):\n",
    "            if j % 2 == 0:\n",
    "                if line1[j] == \"B\":\n",
    "                    check += 1\n",
    "            else :\n",
    "                if line1[j] == \"W\":\n",
    "                    check += 1\n",
    "    else :\n",
    "        for j in range(M):\n",
    "            if j % 2 == 0:\n",
    "                if line1[j] == \"W\":\n",
    "                    check += 1\n",
    "            else :\n",
    "                if line1[j] == \"B\":\n",
    "                    check += 1\n",
    "print(check)\n",
    "                "
   ]
  },
  {
   "cell_type": "code",
   "execution_count": 104,
   "id": "e2dccabb-5558-42ec-962b-99f17892a121",
   "metadata": {},
   "outputs": [
    {
     "name": "stdin",
     "output_type": "stream",
     "text": [
      " BBBBBBBBWBWBW\n"
     ]
    },
    {
     "name": "stdout",
     "output_type": "stream",
     "text": [
      "9\n"
     ]
    }
   ],
   "source": [
    "check = 0\n",
    "for i in range(N): \n",
    "    line1 = list(map(str, input()))\n",
    "    if line1[0] == \"W\":\n",
    "        for j in range(M):\n",
    "            if j % 2 == 0:\n",
    "                if line1[j] == \"B\":\n",
    "                    check += 1\n",
    "            else :\n",
    "                if line1[j] == \"W\":\n",
    "                    check += 1\n",
    "    else :\n",
    "        for j in range(M):\n",
    "            if j % 2 == 0:\n",
    "                if line1[j] == \"W\":\n",
    "                    check += 1\n",
    "            else :\n",
    "                if line1[j] == \"B\":\n",
    "                    check += 1\n",
    "print(check)"
   ]
  },
  {
   "cell_type": "markdown",
   "id": "82371f33-7647-4667-a040-96ea06bb3dd9",
   "metadata": {},
   "source": [
    "### q5\t1436\t영화감독 숌"
   ]
  },
  {
   "cell_type": "code",
   "execution_count": 121,
   "id": "c04ee233-97f7-4401-a1fb-61439e8e6765",
   "metadata": {},
   "outputs": [
    {
     "name": "stdin",
     "output_type": "stream",
     "text": [
      " 2\n"
     ]
    },
    {
     "name": "stdout",
     "output_type": "stream",
     "text": [
      "1666\n"
     ]
    }
   ],
   "source": [
    "# runtime error\n",
    "# 666이 연속으로 들어가야함\n",
    "\n",
    "N = int(input())\n",
    "\n",
    "six = []\n",
    "cnt = 0\n",
    "\n",
    "for i in range(10000):\n",
    "    numbers = list(map(int, str(i)))\n",
    "    if numbers.count(6) == 3:\n",
    "        cnt += 1\n",
    "        if cnt == N:\n",
    "            print(i)"
   ]
  },
  {
   "cell_type": "code",
   "execution_count": null,
   "id": "d529ee35-1d6a-4712-8676-9e079ece673f",
   "metadata": {},
   "outputs": [],
   "source": [
    "# 재도전\n",
    "\n",
    "N = int(input())\n",
    "\n",
    "six = '666'\n",
    "cnt = 0\n",
    "\n",
    "while cnt == N:\n",
    "    \n",
    "    "
   ]
  }
 ],
 "metadata": {
  "kernelspec": {
   "display_name": "Python 3 (ipykernel)",
   "language": "python",
   "name": "python3"
  },
  "language_info": {
   "codemirror_mode": {
    "name": "ipython",
    "version": 3
   },
   "file_extension": ".py",
   "mimetype": "text/x-python",
   "name": "python",
   "nbconvert_exporter": "python",
   "pygments_lexer": "ipython3",
   "version": "3.9.11"
  }
 },
 "nbformat": 4,
 "nbformat_minor": 5
}
