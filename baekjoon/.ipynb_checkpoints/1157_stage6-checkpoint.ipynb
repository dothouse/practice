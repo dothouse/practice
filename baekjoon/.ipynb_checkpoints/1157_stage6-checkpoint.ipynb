{
 "cells": [
  {
   "cell_type": "markdown",
   "id": "5ed0dba1-516a-4b3c-b798-ad838e09b713",
   "metadata": {},
   "source": [
    "# 1157\t단어 공부"
   ]
  },
  {
   "cell_type": "code",
   "execution_count": 2,
   "id": "160e8cb6-ca97-431b-bf3f-8b55e9409fd0",
   "metadata": {},
   "outputs": [
    {
     "name": "stdin",
     "output_type": "stream",
     "text": [
      " test\n"
     ]
    },
    {
     "name": "stdout",
     "output_type": "stream",
     "text": [
      "T\n"
     ]
    }
   ],
   "source": [
    "lst5 = list(str(input()))\n",
    "lst5_lower = []\n",
    "for a in range(len(lst5)):\n",
    "    lst5_lower.append(lst5[a].lower())\n",
    "\n",
    "check_lst = [0] * len(set(lst5_lower))\n",
    "\n",
    "for i in range(len(lst5_lower)):\n",
    "    for j in range(len(set(lst5_lower))):\n",
    "        if lst5_lower[i] == list(set(lst5_lower))[j]:\n",
    "            check_lst[j] += 1\n",
    "\n",
    "result = []\n",
    "for k in range(len(check_lst)):\n",
    "    if check_lst[k] == list(set(check_lst))[-1]:\n",
    "        result.append(list(set(lst5_lower))[k])\n",
    "    \n",
    "if len(result) == 1:\n",
    "    print(result[0].upper())\n",
    "else :\n",
    "    print('?')\n"
   ]
  },
  {
   "cell_type": "code",
   "execution_count": 1,
   "id": "e4c2005b-3aff-4c9d-9dc6-2d892f23ac37",
   "metadata": {},
   "outputs": [
    {
     "name": "stdin",
     "output_type": "stream",
     "text": [
      " test\n"
     ]
    },
    {
     "name": "stdout",
     "output_type": "stream",
     "text": [
      "T\n"
     ]
    }
   ],
   "source": [
    "words = input().upper()\n",
    "unique_words = list(set(words))\n",
    "\n",
    "list5 = []\n",
    "\n",
    "for i in unique_words:\n",
    "    list5.append(words.count(i))\n",
    "\n",
    "if list5.count(max(list5)) > 1:\n",
    "    print('?')\n",
    "else :\n",
    "    print(unique_words[list5.index(max(list5))])"
   ]
  },
  {
   "cell_type": "code",
   "execution_count": null,
   "id": "31485c51-62fa-4bee-90fc-35f4afc3bfa1",
   "metadata": {},
   "outputs": [],
   "source": []
  }
 ],
 "metadata": {
  "kernelspec": {
   "display_name": "Python 3 (ipykernel)",
   "language": "python",
   "name": "python3"
  },
  "language_info": {
   "codemirror_mode": {
    "name": "ipython",
    "version": 3
   },
   "file_extension": ".py",
   "mimetype": "text/x-python",
   "name": "python",
   "nbconvert_exporter": "python",
   "pygments_lexer": "ipython3",
   "version": "3.9.12"
  }
 },
 "nbformat": 4,
 "nbformat_minor": 5
}
