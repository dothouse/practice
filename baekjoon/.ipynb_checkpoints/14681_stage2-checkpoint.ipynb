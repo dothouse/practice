{
 "cells": [
  {
   "cell_type": "markdown",
   "id": "94214ede-1505-4dc6-b8c9-7d7463dd1828",
   "metadata": {},
   "source": [
    "# 14681"
   ]
  },
  {
   "cell_type": "code",
   "execution_count": null,
   "id": "5a665c90-e6ba-4980-9878-1bae01429930",
   "metadata": {},
   "outputs": [],
   "source": [
    "x = int(input())\n",
    "y = int(input())\n",
    "\n",
    "if x > 0 and y > 0 :\n",
    "    print(\"1\")\n",
    "\n",
    "elif x < 0 and y > 0 :\n",
    "    print(\"2\")\n",
    "\n",
    "elif x < 0 and y < 0 :\n",
    "    print(\"3\")\n",
    "\n",
    "else :\n",
    "    print(\"4\")"
   ]
  }
 ],
 "metadata": {
  "kernelspec": {
   "display_name": "Python 3 (ipykernel)",
   "language": "python",
   "name": "python3"
  },
  "language_info": {
   "codemirror_mode": {
    "name": "ipython",
    "version": 3
   },
   "file_extension": ".py",
   "mimetype": "text/x-python",
   "name": "python",
   "nbconvert_exporter": "python",
   "pygments_lexer": "ipython3",
   "version": "3.9.12"
  }
 },
 "nbformat": 4,
 "nbformat_minor": 5
}
