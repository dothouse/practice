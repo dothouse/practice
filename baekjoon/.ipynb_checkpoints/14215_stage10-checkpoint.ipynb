{
 "cells": [
  {
   "cell_type": "markdown",
   "id": "6c29e222-f4f2-4556-affb-f43f7006c0b1",
   "metadata": {},
   "source": [
    "# 14215 세 막대"
   ]
  },
  {
   "cell_type": "code",
   "execution_count": 1,
   "id": "77b402c4-4cd3-45a8-8c03-14a3ab003a1d",
   "metadata": {},
   "outputs": [
    {
     "name": "stdin",
     "output_type": "stream",
     "text": [
      " 41 64 16\n"
     ]
    },
    {
     "name": "stdout",
     "output_type": "stream",
     "text": [
      "113\n"
     ]
    }
   ],
   "source": [
    "numbers = list(map(int, input().split()))\n",
    "\n",
    "long = max(numbers)\n",
    "sum2 = sum(numbers) - max(numbers)\n",
    "\n",
    "if long >= sum2:\n",
    "    long = sum2 - 1\n",
    "print(long + sum2)"
   ]
  },
  {
   "cell_type": "code",
   "execution_count": 2,
   "id": "7d711521-eb00-486c-81bd-4dfc1f6ad120",
   "metadata": {},
   "outputs": [],
   "source": [
    "# 짧은 두 변의 길이의 합이 가장 큰 변의 길이보다 커야한다.\n",
    "# a,b의 길이 > c의 길이가 되도록\n",
    "# a+b의 합 보다 작도록 조정"
   ]
  },
  {
   "cell_type": "code",
   "execution_count": null,
   "id": "9aac2616-44ab-4b5b-8b37-fbc786f641eb",
   "metadata": {},
   "outputs": [],
   "source": []
  }
 ],
 "metadata": {
  "kernelspec": {
   "display_name": "Python 3 (ipykernel)",
   "language": "python",
   "name": "python3"
  },
  "language_info": {
   "codemirror_mode": {
    "name": "ipython",
    "version": 3
   },
   "file_extension": ".py",
   "mimetype": "text/x-python",
   "name": "python",
   "nbconvert_exporter": "python",
   "pygments_lexer": "ipython3",
   "version": "3.9.12"
  }
 },
 "nbformat": 4,
 "nbformat_minor": 5
}
