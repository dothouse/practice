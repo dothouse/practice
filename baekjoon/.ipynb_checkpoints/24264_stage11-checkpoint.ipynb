{
 "cells": [
  {
   "cell_type": "markdown",
   "id": "8eb63e4e-e9f2-4757-ad0d-acfe81ed1d6b",
   "metadata": {},
   "source": [
    "# q3\t24264\t알고리즘 수업 - 알고리즘의 수행 시간 3"
   ]
  },
  {
   "cell_type": "code",
   "execution_count": 1,
   "id": "ae5e4b1c-d7b9-49ca-bad5-36358949060e",
   "metadata": {},
   "outputs": [],
   "source": [
    "# n * n 번 수행\n",
    "# 2차항"
   ]
  },
  {
   "cell_type": "code",
   "execution_count": 2,
   "id": "b080501d-a1eb-4b81-b4d7-793e54d96f00",
   "metadata": {},
   "outputs": [
    {
     "name": "stdin",
     "output_type": "stream",
     "text": [
      " 7\n"
     ]
    },
    {
     "name": "stdout",
     "output_type": "stream",
     "text": [
      "49\n",
      "2\n"
     ]
    }
   ],
   "source": [
    "a = int(input())\n",
    "\n",
    "print(a ** 2)\n",
    "print(2)"
   ]
  },
  {
   "cell_type": "code",
   "execution_count": null,
   "id": "330e9be3-495d-462b-bc01-da76aae504f7",
   "metadata": {},
   "outputs": [],
   "source": []
  }
 ],
 "metadata": {
  "kernelspec": {
   "display_name": "Python 3 (ipykernel)",
   "language": "python",
   "name": "python3"
  },
  "language_info": {
   "codemirror_mode": {
    "name": "ipython",
    "version": 3
   },
   "file_extension": ".py",
   "mimetype": "text/x-python",
   "name": "python",
   "nbconvert_exporter": "python",
   "pygments_lexer": "ipython3",
   "version": "3.9.12"
  }
 },
 "nbformat": 4,
 "nbformat_minor": 5
}
