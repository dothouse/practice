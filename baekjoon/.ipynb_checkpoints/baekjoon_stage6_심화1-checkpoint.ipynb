{
 "cells": [
  {
   "cell_type": "code",
   "execution_count": 1,
   "id": "678e4a2a-fae3-494a-af37-8b82312b6882",
   "metadata": {},
   "outputs": [],
   "source": [
    "# 1\t25083\t새싹\n",
    "\n"
   ]
  },
  {
   "cell_type": "code",
   "execution_count": null,
   "id": "8e53be14-727b-4d06-a5c6-1463aecf3c95",
   "metadata": {},
   "outputs": [],
   "source": [
    "# 2 3003\t킹, 퀸, 룩, 비숍, 나이트, 폰\n",
    "\n"
   ]
  },
  {
   "cell_type": "code",
   "execution_count": null,
   "id": "65f7fa9b-6dbf-4726-abd3-53a86e627b32",
   "metadata": {},
   "outputs": [],
   "source": []
  }
 ],
 "metadata": {
  "kernelspec": {
   "display_name": "Python 3 (ipykernel)",
   "language": "python",
   "name": "python3"
  },
  "language_info": {
   "codemirror_mode": {
    "name": "ipython",
    "version": 3
   },
   "file_extension": ".py",
   "mimetype": "text/x-python",
   "name": "python",
   "nbconvert_exporter": "python",
   "pygments_lexer": "ipython3",
   "version": "3.9.12"
  }
 },
 "nbformat": 4,
 "nbformat_minor": 5
}
