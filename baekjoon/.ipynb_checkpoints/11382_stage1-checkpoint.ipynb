{
 "cells": [
  {
   "cell_type": "markdown",
   "id": "b929f5b7-5ba3-4975-8f36-170a2c87f3d4",
   "metadata": {},
   "source": [
    "# 11382"
   ]
  },
  {
   "cell_type": "code",
   "execution_count": null,
   "id": "61b4022d-2b44-4253-a46d-c42009585aac",
   "metadata": {},
   "outputs": [],
   "source": [
    "a, b, c = map(int, input().split())\n",
    "\n",
    "print(a+b+c)"
   ]
  }
 ],
 "metadata": {
  "kernelspec": {
   "display_name": "Python 3 (ipykernel)",
   "language": "python",
   "name": "python3"
  },
  "language_info": {
   "codemirror_mode": {
    "name": "ipython",
    "version": 3
   },
   "file_extension": ".py",
   "mimetype": "text/x-python",
   "name": "python",
   "nbconvert_exporter": "python",
   "pygments_lexer": "ipython3",
   "version": "3.9.12"
  }
 },
 "nbformat": 4,
 "nbformat_minor": 5
}
