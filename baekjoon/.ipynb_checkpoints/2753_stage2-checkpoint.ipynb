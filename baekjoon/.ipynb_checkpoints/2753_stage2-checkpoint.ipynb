{
 "cells": [
  {
   "cell_type": "markdown",
   "id": "0b41be21-7d79-455f-9492-09ccc5fb14cb",
   "metadata": {},
   "source": [
    "# 2753"
   ]
  },
  {
   "cell_type": "code",
   "execution_count": null,
   "id": "230ee862-2f4b-4122-96f6-331eefafcf7d",
   "metadata": {},
   "outputs": [],
   "source": [
    "a = int(input())\n",
    "\n",
    "if a % 4 == 0 and (a % 100 != 0 or a % 400 == 0) :\n",
    "    print(\"1\")\n",
    "else :\n",
    "    print(\"0\")"
   ]
  }
 ],
 "metadata": {
  "kernelspec": {
   "display_name": "Python 3 (ipykernel)",
   "language": "python",
   "name": "python3"
  },
  "language_info": {
   "codemirror_mode": {
    "name": "ipython",
    "version": 3
   },
   "file_extension": ".py",
   "mimetype": "text/x-python",
   "name": "python",
   "nbconvert_exporter": "python",
   "pygments_lexer": "ipython3",
   "version": "3.9.12"
  }
 },
 "nbformat": 4,
 "nbformat_minor": 5
}
