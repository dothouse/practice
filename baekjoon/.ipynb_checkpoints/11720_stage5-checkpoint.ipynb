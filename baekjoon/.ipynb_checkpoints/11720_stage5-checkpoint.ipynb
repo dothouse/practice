{
 "cells": [
  {
   "cell_type": "markdown",
   "id": "6d1dfacd-9e4d-4b72-a8b9-dd9ca79b9236",
   "metadata": {},
   "source": [
    "# 11720"
   ]
  },
  {
   "cell_type": "code",
   "execution_count": null,
   "id": "8fd69a26-06f9-41a6-ac25-23bc94207f50",
   "metadata": {},
   "outputs": [],
   "source": [
    "nums = int(input())\n",
    "case5 = (input())\n",
    "\n",
    "sums = 0\n",
    "for i in range(0, nums):\n",
    "    sums += int(case5[i])\n",
    "\n",
    "print(sums)"
   ]
  }
 ],
 "metadata": {
  "kernelspec": {
   "display_name": "Python 3 (ipykernel)",
   "language": "python",
   "name": "python3"
  },
  "language_info": {
   "codemirror_mode": {
    "name": "ipython",
    "version": 3
   },
   "file_extension": ".py",
   "mimetype": "text/x-python",
   "name": "python",
   "nbconvert_exporter": "python",
   "pygments_lexer": "ipython3",
   "version": "3.9.12"
  }
 },
 "nbformat": 4,
 "nbformat_minor": 5
}
