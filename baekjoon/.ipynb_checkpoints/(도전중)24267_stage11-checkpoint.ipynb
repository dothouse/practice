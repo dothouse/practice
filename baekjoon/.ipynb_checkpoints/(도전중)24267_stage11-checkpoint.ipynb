{
 "cells": [
  {
   "cell_type": "markdown",
   "id": "6e533b5a-19dc-45b4-8e87-ea2cd882c312",
   "metadata": {},
   "source": [
    "# q6\t24267\t알고리즘 수업 - 알고리즘의 수행 시간 6"
   ]
  },
  {
   "cell_type": "markdown",
   "id": "d8d14fce-9b84-490b-af88-50e858d1780e",
   "metadata": {},
   "source": [
    "```\n",
    "MenOfPassion(A[], n) {\n",
    "    sum <- 0;\n",
    "    for i <- 1 to n - 2\n",
    "        for j <- i + 1 to n - 1\n",
    "            for k <- j + 1 to n\n",
    "                sum <- sum + A[i] × A[j] × A[k]; # 코드1\n",
    "    return sum;\n",
    "```"
   ]
  },
  {
   "cell_type": "code",
   "execution_count": null,
   "id": "7eae3f86-e332-44a3-a681-517dee1855ae",
   "metadata": {},
   "outputs": [],
   "source": [
    "# 7번한다고 했을때 \n",
    "\n",
    "# i - 1,2,3,4,5\n",
    "# j - i = 1 : 2 3 4 5 6\n",
    "# j - i = 2 : 3 4 5 6\n",
    "# ...\n",
    "# j - 1 = 5 : 6\n",
    "# k  = j - 1 / i = 1 : 2 3 4 5 6 7\n",
    "# k  = j - 2 / i = 1 : 3 4 5 6 7\n",
    "\n",
    "# k  = j - 1 / i = 2 : 3 4 5 6 7\n",
    "# k  = j - 2 / i = 2 : 4 5 6 7"
   ]
  }
 ],
 "metadata": {
  "kernelspec": {
   "display_name": "Python 3 (ipykernel)",
   "language": "python",
   "name": "python3"
  },
  "language_info": {
   "codemirror_mode": {
    "name": "ipython",
    "version": 3
   },
   "file_extension": ".py",
   "mimetype": "text/x-python",
   "name": "python",
   "nbconvert_exporter": "python",
   "pygments_lexer": "ipython3",
   "version": "3.9.12"
  }
 },
 "nbformat": 4,
 "nbformat_minor": 5
}
