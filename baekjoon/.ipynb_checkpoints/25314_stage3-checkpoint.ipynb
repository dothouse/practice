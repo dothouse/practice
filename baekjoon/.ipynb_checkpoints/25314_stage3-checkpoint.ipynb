{
 "cells": [
  {
   "cell_type": "markdown",
   "id": "a9eb9e43-191a-4b90-bb13-ffd5878257b5",
   "metadata": {},
   "source": [
    "# 25314 코딩은 체육과목 입니다"
   ]
  },
  {
   "cell_type": "code",
   "execution_count": null,
   "id": "9f43cd2d-4a07-4e6d-b211-60e83a9f174e",
   "metadata": {},
   "outputs": [],
   "source": [
    "user = int(input())\n",
    "user_c = user // 4\n",
    "\n",
    "print(\"long \" * user_c, \"int\", sep = \"\")"
   ]
  }
 ],
 "metadata": {
  "kernelspec": {
   "display_name": "Python 3 (ipykernel)",
   "language": "python",
   "name": "python3"
  },
  "language_info": {
   "codemirror_mode": {
    "name": "ipython",
    "version": 3
   },
   "file_extension": ".py",
   "mimetype": "text/x-python",
   "name": "python",
   "nbconvert_exporter": "python",
   "pygments_lexer": "ipython3",
   "version": "3.9.12"
  }
 },
 "nbformat": 4,
 "nbformat_minor": 5
}
