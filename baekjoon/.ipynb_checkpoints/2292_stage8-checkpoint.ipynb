{
 "cells": [
  {
   "cell_type": "markdown",
   "id": "fd65b891-68d6-4423-b427-b590eb50714c",
   "metadata": {},
   "source": [
    "# 2292\t벌집"
   ]
  },
  {
   "cell_type": "code",
   "execution_count": 1,
   "id": "0c5a9286-678a-44d3-992e-4408b8f871ea",
   "metadata": {},
   "outputs": [
    {
     "name": "stdin",
     "output_type": "stream",
     "text": [
      " 91\n"
     ]
    },
    {
     "name": "stdout",
     "output_type": "stream",
     "text": [
      "6\n"
     ]
    }
   ],
   "source": [
    "N = int(input())\n",
    "\n",
    "hexagon = 1\n",
    "distance = 1\n",
    "\n",
    "while True:\n",
    "    if N > hexagon:\n",
    "        hexagon += distance * 6        \n",
    "        distance += 1\n",
    "        \n",
    "    else :\n",
    "        print(distance)\n",
    "        break"
   ]
  },
  {
   "cell_type": "code",
   "execution_count": null,
   "id": "3ddfdcbe-1c17-4cb6-be05-1b9778665c79",
   "metadata": {},
   "outputs": [],
   "source": [
    "# refactoring\n",
    "N = int(input())\n",
    "\n",
    "hexagon = 1\n",
    "distance = 1\n",
    "\n",
    "while N > hexagon:\n",
    "    hexagon += distance * 6        \n",
    "    distance += 1\n",
    "\n",
    "print(distance)"
   ]
  }
 ],
 "metadata": {
  "kernelspec": {
   "display_name": "Python 3 (ipykernel)",
   "language": "python",
   "name": "python3"
  },
  "language_info": {
   "codemirror_mode": {
    "name": "ipython",
    "version": 3
   },
   "file_extension": ".py",
   "mimetype": "text/x-python",
   "name": "python",
   "nbconvert_exporter": "python",
   "pygments_lexer": "ipython3",
   "version": "3.9.12"
  }
 },
 "nbformat": 4,
 "nbformat_minor": 5
}
