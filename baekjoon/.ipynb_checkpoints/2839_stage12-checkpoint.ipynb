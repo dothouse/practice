{
 "cells": [
  {
   "cell_type": "markdown",
   "id": "1e4588e1-433f-4272-bc04-7301659ea09c",
   "metadata": {},
   "source": [
    "# 2839\t설탕 배달"
   ]
  },
  {
   "cell_type": "code",
   "execution_count": 30,
   "id": "1a1d8ff2-147d-4aeb-9822-e0a0336f5f62",
   "metadata": {},
   "outputs": [
    {
     "name": "stdin",
     "output_type": "stream",
     "text": [
      " 11\n"
     ]
    },
    {
     "name": "stdout",
     "output_type": "stream",
     "text": [
      "3\n"
     ]
    }
   ],
   "source": [
    "N = int(input())\n",
    "\n",
    "result = []\n",
    "\n",
    "for i in range(N//3 + 1):\n",
    "    for j in range(N//5 + 1):\n",
    "        if 3 * i + 5 * j == N:\n",
    "            result.append(i + j)\n",
    "\n",
    "if result == [] :\n",
    "    print(-1)\n",
    "else :\n",
    "    print(min(result))\n",
    "\n",
    "\n"
   ]
  },
  {
   "cell_type": "markdown",
   "id": "16a8c2a0-cd05-4a49-85ae-1c7b32f76e9b",
   "metadata": {},
   "source": [
    "###### 19 % 5\n"
   ]
  },
  {
   "cell_type": "code",
   "execution_count": 4,
   "id": "b4b05313-9b4f-4140-a23f-96a0dad7bbf4",
   "metadata": {},
   "outputs": [
    {
     "data": {
      "text/plain": [
       "0"
      ]
     },
     "execution_count": 4,
     "metadata": {},
     "output_type": "execute_result"
    }
   ],
   "source": [
    "3 % 3\n"
   ]
  },
  {
   "cell_type": "code",
   "execution_count": null,
   "id": "3d7fd5be-b699-43ad-969b-d0586e1ffb83",
   "metadata": {},
   "outputs": [],
   "source": []
  }
 ],
 "metadata": {
  "kernelspec": {
   "display_name": "Python 3 (ipykernel)",
   "language": "python",
   "name": "python3"
  },
  "language_info": {
   "codemirror_mode": {
    "name": "ipython",
    "version": 3
   },
   "file_extension": ".py",
   "mimetype": "text/x-python",
   "name": "python",
   "nbconvert_exporter": "python",
   "pygments_lexer": "ipython3",
   "version": "3.9.12"
  }
 },
 "nbformat": 4,
 "nbformat_minor": 5
}
