{
 "cells": [
  {
   "cell_type": "markdown",
   "id": "3ecc2138-c4c0-41e2-ab4f-80f4a5f7ce3b",
   "metadata": {},
   "source": [
    "2745\t진법 변환"
   ]
  },
  {
   "cell_type": "code",
   "execution_count": 1,
   "id": "9843319e-3674-41ca-a5f9-40ef90c86c22",
   "metadata": {},
   "outputs": [
    {
     "name": "stdin",
     "output_type": "stream",
     "text": [
      " ZZZZZ 36\n"
     ]
    },
    {
     "name": "stdout",
     "output_type": "stream",
     "text": [
      "60466175\n"
     ]
    }
   ],
   "source": [
    "numbers = '0123456789ABCDEFGHIJKLMNOPQRSTUVWXYZ'\n",
    "\n",
    "data, jin = input().split()\n",
    "total = 0\n",
    "\n",
    "for i in range(len(data)):\n",
    "    total += numbers.index(data[i]) * (int(jin) ** (len(data) - i - 1))\n",
    "\n",
    "print(total)"
   ]
  },
  {
   "cell_type": "code",
   "execution_count": null,
   "id": "08dcc0f0-933f-4a8c-8406-bb91373c482c",
   "metadata": {},
   "outputs": [],
   "source": []
  }
 ],
 "metadata": {
  "kernelspec": {
   "display_name": "Python 3 (ipykernel)",
   "language": "python",
   "name": "python3"
  },
  "language_info": {
   "codemirror_mode": {
    "name": "ipython",
    "version": 3
   },
   "file_extension": ".py",
   "mimetype": "text/x-python",
   "name": "python",
   "nbconvert_exporter": "python",
   "pygments_lexer": "ipython3",
   "version": "3.9.12"
  }
 },
 "nbformat": 4,
 "nbformat_minor": 5
}
