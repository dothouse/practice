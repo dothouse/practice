{
 "cells": [
  {
   "cell_type": "markdown",
   "id": "bfdadb91-11dd-464b-af10-66c98b0851dc",
   "metadata": {},
   "source": [
    "# 10798\t세로읽기"
   ]
  },
  {
   "cell_type": "code",
   "execution_count": 3,
   "id": "005c4744-250a-4d94-9ae8-3ddc65410aa4",
   "metadata": {},
   "outputs": [
    {
     "name": "stdin",
     "output_type": "stream",
     "text": [
      " ABCDE\n",
      " abcde\n",
      " 01234\n",
      " GHIJ\n",
      " fghij\n"
     ]
    },
    {
     "name": "stdout",
     "output_type": "stream",
     "text": [
      "Aa0GfBb1HgCc2IhDd3JiEe4j"
     ]
    }
   ],
   "source": [
    "words = [input() for i in range(5)]\n",
    "\n",
    "for j in range(15):\n",
    "    for i in range(5):\n",
    "        if j < len(words[i]):\n",
    "            print(words[i][j], end =\"\")\n"
   ]
  },
  {
   "cell_type": "code",
   "execution_count": null,
   "id": "65cdb665-206f-4bf5-9b6c-bd6776e0bda7",
   "metadata": {},
   "outputs": [],
   "source": []
  }
 ],
 "metadata": {
  "kernelspec": {
   "display_name": "Python 3 (ipykernel)",
   "language": "python",
   "name": "python3"
  },
  "language_info": {
   "codemirror_mode": {
    "name": "ipython",
    "version": 3
   },
   "file_extension": ".py",
   "mimetype": "text/x-python",
   "name": "python",
   "nbconvert_exporter": "python",
   "pygments_lexer": "ipython3",
   "version": "3.9.12"
  }
 },
 "nbformat": 4,
 "nbformat_minor": 5
}
