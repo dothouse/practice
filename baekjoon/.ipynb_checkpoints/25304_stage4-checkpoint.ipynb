{
 "cells": [
  {
   "cell_type": "markdown",
   "id": "ae551ad1-d174-44a9-b028-ede5b7206c4f",
   "metadata": {},
   "source": [
    "# 25304 영수증"
   ]
  },
  {
   "cell_type": "code",
   "execution_count": null,
   "id": "e000466e-1e03-4c30-88a4-d6917011a9b5",
   "metadata": {},
   "outputs": [],
   "source": [
    "total_price = int(input())\n",
    "total_num = int(input())\n",
    "total = 0\n",
    "\n",
    "for i in range(total_num):\n",
    "    a, b = map(int, input().split())\n",
    "    total += a * b\n",
    "\n",
    "if total == total_price:\n",
    "    print(\"Yes\")\n",
    "else:\n",
    "    print(\"No\")"
   ]
  }
 ],
 "metadata": {
  "kernelspec": {
   "display_name": "Python 3 (ipykernel)",
   "language": "python",
   "name": "python3"
  },
  "language_info": {
   "codemirror_mode": {
    "name": "ipython",
    "version": 3
   },
   "file_extension": ".py",
   "mimetype": "text/x-python",
   "name": "python",
   "nbconvert_exporter": "python",
   "pygments_lexer": "ipython3",
   "version": "3.9.12"
  }
 },
 "nbformat": 4,
 "nbformat_minor": 5
}
