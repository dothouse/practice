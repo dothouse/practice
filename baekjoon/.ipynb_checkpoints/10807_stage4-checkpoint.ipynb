{
 "cells": [
  {
   "cell_type": "markdown",
   "id": "d719cca5-9827-43b6-8225-218e610732a3",
   "metadata": {},
   "source": [
    "# 10807\t개수 세기"
   ]
  },
  {
   "cell_type": "code",
   "execution_count": null,
   "id": "fbecf88e-7569-4ca4-b302-c213fae1dae5",
   "metadata": {},
   "outputs": [],
   "source": [
    "a = int(input())\n",
    "b = map(int, input().split())\n",
    "c = int(input())\n",
    "d = 0\n",
    "for i in b:\n",
    "    if i == c:\n",
    "        d += 1\n",
    "print(d)\n"
   ]
  },
  {
   "cell_type": "code",
   "execution_count": 1,
   "id": "1c01beca-ab9c-4ede-96ed-79a14db9b048",
   "metadata": {},
   "outputs": [
    {
     "name": "stdin",
     "output_type": "stream",
     "text": [
      " 11\n",
      "  1 4 1 2 4 2 4 2 3 4 4\n",
      " 2\n"
     ]
    },
    {
     "name": "stdout",
     "output_type": "stream",
     "text": [
      "3\n"
     ]
    }
   ],
   "source": [
    "# refactoring\n",
    "a = int(input())\n",
    "b = list(map(int, input().split()))\n",
    "c = int(input())\n",
    "\n",
    "print(b.count(c))"
   ]
  },
  {
   "cell_type": "code",
   "execution_count": null,
   "id": "136c1c03-fd2c-43f6-896f-14b8ed12b17c",
   "metadata": {},
   "outputs": [],
   "source": []
  }
 ],
 "metadata": {
  "kernelspec": {
   "display_name": "Python 3 (ipykernel)",
   "language": "python",
   "name": "python3"
  },
  "language_info": {
   "codemirror_mode": {
    "name": "ipython",
    "version": 3
   },
   "file_extension": ".py",
   "mimetype": "text/x-python",
   "name": "python",
   "nbconvert_exporter": "python",
   "pygments_lexer": "ipython3",
   "version": "3.9.12"
  }
 },
 "nbformat": 4,
 "nbformat_minor": 5
}
