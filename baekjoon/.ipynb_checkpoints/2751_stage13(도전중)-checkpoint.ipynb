{
 "cells": [
  {
   "cell_type": "code",
   "execution_count": 11,
   "id": "bb1c97cf-4420-4884-949e-226b3de157c2",
   "metadata": {},
   "outputs": [
    {
     "name": "stdin",
     "output_type": "stream",
     "text": [
      " 5\n",
      "0 5\n",
      "1 3\n",
      "2 1\n",
      "3 4\n",
      "4 2\n"
     ]
    },
    {
     "name": "stdout",
     "output_type": "stream",
     "text": [
      "1\n",
      "2\n",
      "3\n",
      "4\n",
      "5\n"
     ]
    }
   ],
   "source": [
    "# 시간초과\n",
    "N = int(input())\n",
    "\n",
    "numbers = [int(input(i)) for i in range(N)]\n",
    "\n",
    "numbers.sort()\n",
    "\n",
    "for i in numbers:\n",
    "    print(i)\n",
    "\n"
   ]
  },
  {
   "cell_type": "code",
   "execution_count": 18,
   "id": "97389fdb-7425-4a76-8492-e7df2c2b5f71",
   "metadata": {},
   "outputs": [
    {
     "name": "stdin",
     "output_type": "stream",
     "text": [
      " 5\n",
      " 5\n",
      " 3\n",
      " 4\n",
      " 1\n",
      " 2\n"
     ]
    },
    {
     "name": "stdout",
     "output_type": "stream",
     "text": [
      "1\n",
      "2\n",
      "3\n",
      "4\n",
      "5\n"
     ]
    }
   ],
   "source": [
    "N = int(input())\n",
    "\n",
    "numbers = []\n",
    "for i in range(N):\n",
    "    numbers.append(int(input()))\n",
    "\n",
    "for j in sorted(numbers):\n",
    "    print(j)\n"
   ]
  },
  {
   "cell_type": "code",
   "execution_count": null,
   "id": "dcc74d1b-afb4-4470-a2af-c266c3176c71",
   "metadata": {},
   "outputs": [],
   "source": [
    "# 합병 정렬 공부해서 다시 풀자\n",
    "\n",
    "def sort_num(list):\n",
    "    middle = length(numbers) // 2\n",
    "    left = numbers[:middle]\n",
    "    right = numbers[middle :]\n",
    "\n",
    "        "
   ]
  },
  {
   "cell_type": "code",
   "execution_count": 23,
   "id": "b3f8c8a2-a38a-43ab-8c7c-7716407fdc9d",
   "metadata": {},
   "outputs": [
    {
     "data": {
      "text/plain": [
       "([5, 3], [4, 1, 2])"
      ]
     },
     "execution_count": 23,
     "metadata": {},
     "output_type": "execute_result"
    }
   ],
   "source": [
    "middle = len(numbers) // 2\n",
    "left = numbers[:middle]\n",
    "right = numbers[middle :]\n",
    "\n",
    "left, right"
   ]
  },
  {
   "cell_type": "code",
   "execution_count": 19,
   "id": "99769a23-b33f-4824-98ac-4283a8ab0614",
   "metadata": {},
   "outputs": [
    {
     "data": {
      "text/plain": [
       "[5, 3, 4, 1, 2]"
      ]
     },
     "execution_count": 19,
     "metadata": {},
     "output_type": "execute_result"
    }
   ],
   "source": [
    "numbers"
   ]
  }
 ],
 "metadata": {
  "kernelspec": {
   "display_name": "Python 3 (ipykernel)",
   "language": "python",
   "name": "python3"
  },
  "language_info": {
   "codemirror_mode": {
    "name": "ipython",
    "version": 3
   },
   "file_extension": ".py",
   "mimetype": "text/x-python",
   "name": "python",
   "nbconvert_exporter": "python",
   "pygments_lexer": "ipython3",
   "version": "3.9.12"
  }
 },
 "nbformat": 4,
 "nbformat_minor": 5
}
