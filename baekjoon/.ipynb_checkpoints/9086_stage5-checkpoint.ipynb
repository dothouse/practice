{
 "cells": [
  {
   "cell_type": "markdown",
   "id": "e0e270cd-56a5-4eac-8042-5d091ca68842",
   "metadata": {},
   "source": [
    "# 9086"
   ]
  },
  {
   "cell_type": "code",
   "execution_count": null,
   "id": "d732da8d-7ab2-43e8-b745-eb3370a3223c",
   "metadata": {},
   "outputs": [],
   "source": [
    "test_case = int(input())\n",
    "\n",
    "for i in range(test_case):\n",
    "    cha3 = input()\n",
    "    print(cha3[0], cha3[-1], sep = \"\")"
   ]
  }
 ],
 "metadata": {
  "kernelspec": {
   "display_name": "Python 3 (ipykernel)",
   "language": "python",
   "name": "python3"
  },
  "language_info": {
   "codemirror_mode": {
    "name": "ipython",
    "version": 3
   },
   "file_extension": ".py",
   "mimetype": "text/x-python",
   "name": "python",
   "nbconvert_exporter": "python",
   "pygments_lexer": "ipython3",
   "version": "3.9.12"
  }
 },
 "nbformat": 4,
 "nbformat_minor": 5
}
