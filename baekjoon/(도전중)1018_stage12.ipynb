{
 "cells": [
  {
   "cell_type": "markdown",
   "id": "d200b808-8999-448f-88bd-ee0f57433270",
   "metadata": {},
   "source": [
    "# q4\t1018\t체스판 다시 칠하기"
   ]
  },
  {
   "cell_type": "code",
   "execution_count": null,
   "id": "64d4e6a1-75f5-42ae-acbc-254de73ef471",
   "metadata": {},
   "outputs": [],
   "source": [
    "## 전체에서 그리는걸로 생각했네\n",
    "# 그 중에서 8*8을 뽑아서 그려야하는데\n",
    "# 그 중에서 최소값\n",
    "N, M = map(int, input().split())\n",
    "check = 0\n",
    "for i in range(N): \n",
    "    line1 = list(map(str, input()))\n",
    "    if line1[0] == \"W\":\n",
    "        for j in range(M):\n",
    "            if j % 2 == 0:\n",
    "                if line1[j] == \"B\":\n",
    "                    check += 1\n",
    "            else :\n",
    "                if line1[j] == \"W\":\n",
    "                    check += 1\n",
    "    else :\n",
    "        for j in range(M):\n",
    "            if j % 2 == 0:\n",
    "                if line1[j] == \"W\":\n",
    "                    check += 1\n",
    "            else :\n",
    "                if line1[j] == \"B\":\n",
    "                    check += 1\n",
    "print(check)"
   ]
  },
  {
   "cell_type": "code",
   "execution_count": 12,
   "id": "a41cd1b9-248b-4f84-b0e8-a8c51bd829c5",
   "metadata": {},
   "outputs": [
    {
     "name": "stdin",
     "output_type": "stream",
     "text": [
      " 10 13\n",
      " BBBBBBBBWBWBW\n",
      " BBBBBBBBBWBWB\n",
      " BBBBBBBBWBWBW\n",
      " BBBBBBBBBWBWB\n",
      " BBBBBBBBWBWBW\n",
      " BBBBBBBBBWBWB\n",
      " BBBBBBBBWBWBW\n",
      " BBBBBBBBBWBWB\n",
      " WWWWWWWWWWBWB\n",
      " WWWWWWWWWWBWB\n"
     ]
    }
   ],
   "source": [
    "## 다시 풀기\n",
    "\n",
    "N, M = map(int, input().split())\n",
    "chess_board = [input() for _ in range(N)]\n"
   ]
  },
  {
   "cell_type": "code",
   "execution_count": 13,
   "id": "95022cf1-d131-4f40-9f29-fadfb344be62",
   "metadata": {},
   "outputs": [
    {
     "data": {
      "text/plain": [
       "['BBBBBBBBWBWBW',\n",
       " 'BBBBBBBBBWBWB',\n",
       " 'BBBBBBBBWBWBW',\n",
       " 'BBBBBBBBBWBWB',\n",
       " 'BBBBBBBBWBWBW',\n",
       " 'BBBBBBBBBWBWB',\n",
       " 'BBBBBBBBWBWBW',\n",
       " 'BBBBBBBBBWBWB',\n",
       " 'WWWWWWWWWWBWB',\n",
       " 'WWWWWWWWWWBWB']"
      ]
     },
     "execution_count": 13,
     "metadata": {},
     "output_type": "execute_result"
    }
   ],
   "source": [
    "chess_board"
   ]
  },
  {
   "cell_type": "code",
   "execution_count": 93,
   "id": "3c6e443c-c95f-4778-bdf3-c719dc027620",
   "metadata": {},
   "outputs": [
    {
     "name": "stdout",
     "output_type": "stream",
     "text": [
      "['BBBBBBBB', 'BBBBBBBB', 'BBBBBBBB', 'BBBBBBBB', 'BBBBBBBB', 'BBBBBBBB', 'BBBBBBBB', 'BBBBBBBB']\n",
      "2\n",
      "['BBBBBBBB', 'BBBBBBBB', 'BBBBBBBB', 'BBBBBBBB', 'BBBBBBBB', 'BBBBBBBB', 'BBBBBBBB', 'WWWWWWWW']\n",
      "2\n",
      "['BBBBBBBB', 'BBBBBBBB', 'BBBBBBBB', 'BBBBBBBB', 'BBBBBBBB', 'BBBBBBBB', 'WWWWWWWW', 'WWWWWWWW']\n",
      "2\n",
      "['BBBBBBBW', 'BBBBBBBB', 'BBBBBBBW', 'BBBBBBBB', 'BBBBBBBW', 'BBBBBBBB', 'BBBBBBBW', 'BBBBBBBB']\n",
      "2\n",
      "['BBBBBBBB', 'BBBBBBBW', 'BBBBBBBB', 'BBBBBBBW', 'BBBBBBBB', 'BBBBBBBW', 'BBBBBBBB', 'WWWWWWWW']\n",
      "2\n",
      "['BBBBBBBW', 'BBBBBBBB', 'BBBBBBBW', 'BBBBBBBB', 'BBBBBBBW', 'BBBBBBBB', 'WWWWWWWW', 'WWWWWWWW']\n",
      "2\n",
      "['BBBBBBWB', 'BBBBBBBW', 'BBBBBBWB', 'BBBBBBBW', 'BBBBBBWB', 'BBBBBBBW', 'BBBBBBWB', 'BBBBBBBW']\n",
      "2\n",
      "['BBBBBBBW', 'BBBBBBWB', 'BBBBBBBW', 'BBBBBBWB', 'BBBBBBBW', 'BBBBBBWB', 'BBBBBBBW', 'WWWWWWWW']\n",
      "2\n",
      "['BBBBBBWB', 'BBBBBBBW', 'BBBBBBWB', 'BBBBBBBW', 'BBBBBBWB', 'BBBBBBBW', 'WWWWWWWW', 'WWWWWWWW']\n",
      "2\n",
      "['BBBBBWBW', 'BBBBBBWB', 'BBBBBWBW', 'BBBBBBWB', 'BBBBBWBW', 'BBBBBBWB', 'BBBBBWBW', 'BBBBBBWB']\n",
      "2\n",
      "['BBBBBBWB', 'BBBBBWBW', 'BBBBBBWB', 'BBBBBWBW', 'BBBBBBWB', 'BBBBBWBW', 'BBBBBBWB', 'WWWWWWWB']\n",
      "2\n",
      "['BBBBBWBW', 'BBBBBBWB', 'BBBBBWBW', 'BBBBBBWB', 'BBBBBWBW', 'BBBBBBWB', 'WWWWWWWB', 'WWWWWWWB']\n",
      "2\n",
      "['BBBBWBWB', 'BBBBBWBW', 'BBBBWBWB', 'BBBBBWBW', 'BBBBWBWB', 'BBBBBWBW', 'BBBBWBWB', 'BBBBBWBW']\n",
      "2\n",
      "['BBBBBWBW', 'BBBBWBWB', 'BBBBBWBW', 'BBBBWBWB', 'BBBBBWBW', 'BBBBWBWB', 'BBBBBWBW', 'WWWWWWBW']\n",
      "2\n",
      "['BBBBWBWB', 'BBBBBWBW', 'BBBBWBWB', 'BBBBBWBW', 'BBBBWBWB', 'BBBBBWBW', 'WWWWWWBW', 'WWWWWWBW']\n",
      "2\n",
      "['BBBWBWBW', 'BBBBWBWB', 'BBBWBWBW', 'BBBBWBWB', 'BBBWBWBW', 'BBBBWBWB', 'BBBWBWBW', 'BBBBWBWB']\n",
      "2\n",
      "['BBBBWBWB', 'BBBWBWBW', 'BBBBWBWB', 'BBBWBWBW', 'BBBBWBWB', 'BBBWBWBW', 'BBBBWBWB', 'WWWWWBWB']\n",
      "2\n",
      "['BBBWBWBW', 'BBBBWBWB', 'BBBWBWBW', 'BBBBWBWB', 'BBBWBWBW', 'BBBBWBWB', 'WWWWWBWB', 'WWWWWBWB']\n",
      "2\n"
     ]
    }
   ],
   "source": [
    "# 체스판 완성\n",
    "\n",
    "select = []\n",
    "for k in range(M - 8 + 1):\n",
    "    for i in range(N - 8  + 1):\n",
    "        for j in range(8):\n",
    "            select.append(chess_board[j + i][k: k + 8])\n",
    "        print(select)\n",
    "        \n",
    "        \n",
    "        \n",
    "        \n",
    "        \n",
    "        \n",
    "        \n",
    "        \n",
    "        \n",
    "        \n",
    "        select = []            \n",
    "        print(2)"
   ]
  },
  {
   "cell_type": "code",
   "execution_count": null,
   "id": "75bc6326-bb8d-4a2a-b235-607b67851e6e",
   "metadata": {},
   "outputs": [],
   "source": [
    "# 체스판 완성\n",
    "\n",
    "select = []\n",
    "for k in range(M - 8 + 1):\n",
    "    for i in range(N - 8  + 1):\n",
    "        for j in range(8):\n",
    "            select.append(chess_board[j + i][k: k + 8])\n",
    "        \n",
    "        for x in range(8):\n",
    "            for y in range(8):\n",
    "                if select[0][0] == 'B': \n",
    "                    if x % 2 == 0:\n",
    "                        select[x][y] == \"W\"\n",
    "\n",
    "\n",
    "                else:\n",
    "                    \n",
    "        \n",
    "        \n",
    "        \n",
    "        \n",
    "        \n",
    "        \n",
    "        \n",
    "        \n",
    "        \n",
    "        \n",
    "        select = []            \n",
    "        print(2)"
   ]
  },
  {
   "cell_type": "code",
   "execution_count": 94,
   "id": "31bd5a72-a020-4993-8c1e-cbc60def8f16",
   "metadata": {},
   "outputs": [
    {
     "ename": "IndentationError",
     "evalue": "unexpected indent (319709160.py, line 3)",
     "output_type": "error",
     "traceback": [
      "\u001b[1;36m  Cell \u001b[1;32mIn[94], line 3\u001b[1;36m\u001b[0m\n\u001b[1;33m    for x in range(8):\u001b[0m\n\u001b[1;37m    ^\u001b[0m\n\u001b[1;31mIndentationError\u001b[0m\u001b[1;31m:\u001b[0m unexpected indent\n"
     ]
    }
   ],
   "source": [
    "test = ['BBBBBBWB', 'BBBBBWBW', 'BBBBBBWB', 'BBBBBWBW', 'BBBBBBWB', 'BBBBBWBW', 'BBBBBBWB', 'WWWWWWWB']\n",
    "\n",
    "cnt = 0\n",
    "\n",
    "for x in range(8):\n",
    "    for y in range(8):        \n",
    "        if select[0][0] == 'B': \n",
    "            if x % 2 == 1:\n",
    "                if select[0][x] == 'B':\n",
    "                    cnt += 1\n",
    "            else :\n",
    "                if select[0][x] == 'W':\n",
    "                    cnt += 1\n",
    "        else : \n",
    "            if x % 2 == 1:\n",
    "                if select[0][x] == 'W':\n",
    "                    cnt += 1\n",
    "            else :\n",
    "                if select[0][x] == 'B':\n",
    "                    cnt += 1\n",
    "                "
   ]
  },
  {
   "cell_type": "code",
   "execution_count": null,
   "id": "9018774d-ecc2-440c-b420-200bc85ea396",
   "metadata": {},
   "outputs": [],
   "source": []
  }
 ],
 "metadata": {
  "kernelspec": {
   "display_name": "Python 3 (ipykernel)",
   "language": "python",
   "name": "python3"
  },
  "language_info": {
   "codemirror_mode": {
    "name": "ipython",
    "version": 3
   },
   "file_extension": ".py",
   "mimetype": "text/x-python",
   "name": "python",
   "nbconvert_exporter": "python",
   "pygments_lexer": "ipython3",
   "version": "3.9.12"
  }
 },
 "nbformat": 4,
 "nbformat_minor": 5
}
