{
 "cells": [
  {
   "cell_type": "markdown",
   "id": "2a606a48-8c88-4ec3-b68c-c802e7d91da9",
   "metadata": {},
   "source": [
    "# 10811\t바구니 뒤집기"
   ]
  },
  {
   "cell_type": "code",
   "execution_count": null,
   "id": "1f8db59b-198b-4528-8ac1-da06b8c0d348",
   "metadata": {},
   "outputs": [],
   "source": [
    "N, M = map(int, input().split())\n",
    "\n",
    "basket = []\n",
    "for i in range(N):\n",
    "    basket.append(i+1)\n",
    "\n",
    "times = 0\n",
    "\n",
    "while times < M:\n",
    "    a, b = map(int, input().split())\n",
    "    times += 1\n",
    "    temp = basket[a -1 :b]\n",
    "    temp.reverse()\n",
    "    basket[a-1: b] = temp\n",
    "    \n",
    "    \n",
    "print(*basket)"
   ]
  }
 ],
 "metadata": {
  "kernelspec": {
   "display_name": "Python 3 (ipykernel)",
   "language": "python",
   "name": "python3"
  },
  "language_info": {
   "codemirror_mode": {
    "name": "ipython",
    "version": 3
   },
   "file_extension": ".py",
   "mimetype": "text/x-python",
   "name": "python",
   "nbconvert_exporter": "python",
   "pygments_lexer": "ipython3",
   "version": "3.9.12"
  }
 },
 "nbformat": 4,
 "nbformat_minor": 5
}
