{
 "cells": [
  {
   "cell_type": "markdown",
   "id": "4547e4e9-113c-4a2f-ba3d-93ccad8c5d62",
   "metadata": {},
   "source": [
    "# 10809"
   ]
  },
  {
   "cell_type": "code",
   "execution_count": 1,
   "id": "c1e9619f-4276-4acd-8eb8-5f0a75f140be",
   "metadata": {},
   "outputs": [
    {
     "name": "stdin",
     "output_type": "stream",
     "text": [
      " baekjoon\n"
     ]
    },
    {
     "name": "stdout",
     "output_type": "stream",
     "text": [
      "1\n",
      "0\n",
      "-1\n",
      "-1\n",
      "2\n",
      "-1\n",
      "-1\n",
      "-1\n",
      "-1\n",
      "4\n",
      "3\n",
      "-1\n",
      "-1\n",
      "7\n",
      "5\n",
      "-1\n",
      "-1\n",
      "-1\n",
      "-1\n",
      "-1\n",
      "-1\n",
      "-1\n",
      "-1\n",
      "-1\n",
      "-1\n",
      "-1\n"
     ]
    }
   ],
   "source": [
    "case6 = input()\n",
    "alphabet = 'abcdefghijklmnopqrstuvwxyz'\n",
    "\n",
    "for i in alphabet:\n",
    "    print(case6.find(i))"
   ]
  },
  {
   "cell_type": "code",
   "execution_count": null,
   "id": "57a3ab6a-c282-4804-8a25-963c7cd88ae4",
   "metadata": {},
   "outputs": [],
   "source": []
  }
 ],
 "metadata": {
  "kernelspec": {
   "display_name": "Python 3 (ipykernel)",
   "language": "python",
   "name": "python3"
  },
  "language_info": {
   "codemirror_mode": {
    "name": "ipython",
    "version": 3
   },
   "file_extension": ".py",
   "mimetype": "text/x-python",
   "name": "python",
   "nbconvert_exporter": "python",
   "pygments_lexer": "ipython3",
   "version": "3.9.12"
  }
 },
 "nbformat": 4,
 "nbformat_minor": 5
}
