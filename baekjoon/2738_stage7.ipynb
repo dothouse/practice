{
 "cells": [
  {
   "cell_type": "markdown",
   "id": "7323f4dc-fe51-4eaf-9d6f-ae7f9412cb17",
   "metadata": {},
   "source": [
    "# 2738\t행렬 덧셈"
   ]
  },
  {
   "cell_type": "code",
   "execution_count": 1,
   "id": "cff12e86-7007-4c93-8acb-73787b88ec35",
   "metadata": {},
   "outputs": [
    {
     "name": "stdin",
     "output_type": "stream",
     "text": [
      " 3 3\n",
      " 1 1 1\n",
      " 2 2 2\n",
      " 0 1 0\n",
      " 3 3 3\n",
      " 4 4 4\n",
      " 5 5 100\n"
     ]
    },
    {
     "name": "stdout",
     "output_type": "stream",
     "text": [
      "4 4 4 \n",
      "6 6 6 \n",
      "5 6 100 \n"
     ]
    }
   ],
   "source": [
    "N, M = map(int, input().split())\n",
    "\n",
    "matrix_1 = []\n",
    "matrix_2 = []\n",
    "\n",
    "for i in range(N):\n",
    "    row1 = list(map(int, input().split()))\n",
    "    matrix_1.append(row1)\n",
    "\n",
    "for j in range(N):\n",
    "    row2 = list(map(int, input().split()))\n",
    "    matrix_2.append(row2)\n",
    "\n",
    "\n",
    "for k in range(N):\n",
    "    for q in range(M):\n",
    "        print(matrix_1[k][q] + matrix_2[k][q], end = ' ')\n",
    "    print()"
   ]
  },
  {
   "cell_type": "code",
   "execution_count": null,
   "id": "68817eda-b6e4-4cc0-a98e-da02c11f7bdc",
   "metadata": {},
   "outputs": [],
   "source": []
  }
 ],
 "metadata": {
  "kernelspec": {
   "display_name": "Python 3 (ipykernel)",
   "language": "python",
   "name": "python3"
  },
  "language_info": {
   "codemirror_mode": {
    "name": "ipython",
    "version": 3
   },
   "file_extension": ".py",
   "mimetype": "text/x-python",
   "name": "python",
   "nbconvert_exporter": "python",
   "pygments_lexer": "ipython3",
   "version": "3.9.12"
  }
 },
 "nbformat": 4,
 "nbformat_minor": 5
}
