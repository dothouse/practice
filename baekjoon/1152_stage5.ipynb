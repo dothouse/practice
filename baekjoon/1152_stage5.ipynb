{
 "cells": [
  {
   "cell_type": "markdown",
   "id": "5e9edbfd-c41c-404a-8254-635e4a714656",
   "metadata": {},
   "source": [
    "# 1152"
   ]
  },
  {
   "cell_type": "code",
   "execution_count": null,
   "id": "5daa3c48-33df-4212-a9f0-314c022361e3",
   "metadata": {},
   "outputs": [],
   "source": [
    "case8 = input().split()\n",
    "result8 = []\n",
    "\n",
    "for i in case8:\n",
    "    result8.append(i)\n",
    "\n",
    "print(len(result8))"
   ]
  }
 ],
 "metadata": {
  "kernelspec": {
   "display_name": "Python 3 (ipykernel)",
   "language": "python",
   "name": "python3"
  },
  "language_info": {
   "codemirror_mode": {
    "name": "ipython",
    "version": 3
   },
   "file_extension": ".py",
   "mimetype": "text/x-python",
   "name": "python",
   "nbconvert_exporter": "python",
   "pygments_lexer": "ipython3",
   "version": "3.9.12"
  }
 },
 "nbformat": 4,
 "nbformat_minor": 5
}
