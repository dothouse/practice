{
 "cells": [
  {
   "cell_type": "markdown",
   "id": "8aa68009-bbc7-4a97-be27-596951236243",
   "metadata": {},
   "source": [
    "# 11022\tA+B - 8"
   ]
  },
  {
   "cell_type": "code",
   "execution_count": null,
   "id": "61369b11-6108-440a-93f0-dbccaee74617",
   "metadata": {},
   "outputs": [],
   "source": [
    "n = int(input())\n",
    "\n",
    "for i in range(n):\n",
    "    a, b = map(int, input().split())\n",
    "    print(f'Case #{i+1}: {a} + {b} = {a+b}')"
   ]
  }
 ],
 "metadata": {
  "kernelspec": {
   "display_name": "Python 3 (ipykernel)",
   "language": "python",
   "name": "python3"
  },
  "language_info": {
   "codemirror_mode": {
    "name": "ipython",
    "version": 3
   },
   "file_extension": ".py",
   "mimetype": "text/x-python",
   "name": "python",
   "nbconvert_exporter": "python",
   "pygments_lexer": "ipython3",
   "version": "3.9.12"
  }
 },
 "nbformat": 4,
 "nbformat_minor": 5
}
