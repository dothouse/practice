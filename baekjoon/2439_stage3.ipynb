{
 "cells": [
  {
   "cell_type": "markdown",
   "id": "c99090d0-fc77-49a5-aaa8-163b341383ae",
   "metadata": {},
   "source": [
    "# 2439\t별 찍기 - 2"
   ]
  },
  {
   "cell_type": "code",
   "execution_count": null,
   "id": "15fbdcac-a991-4ea6-8275-772ae9bad0ae",
   "metadata": {},
   "outputs": [],
   "source": [
    "a = int(input())\n",
    "\n",
    "for i in range(1, a+1):\n",
    "    print(\" \" * (a-i) + '*' * i, sep = \"\")"
   ]
  }
 ],
 "metadata": {
  "kernelspec": {
   "display_name": "Python 3 (ipykernel)",
   "language": "python",
   "name": "python3"
  },
  "language_info": {
   "codemirror_mode": {
    "name": "ipython",
    "version": 3
   },
   "file_extension": ".py",
   "mimetype": "text/x-python",
   "name": "python",
   "nbconvert_exporter": "python",
   "pygments_lexer": "ipython3",
   "version": "3.9.12"
  }
 },
 "nbformat": 4,
 "nbformat_minor": 5
}
