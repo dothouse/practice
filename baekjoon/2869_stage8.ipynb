{
 "cells": [
  {
   "cell_type": "markdown",
   "id": "59644403-5699-49d0-8776-fa7709a895c9",
   "metadata": {},
   "source": [
    "# 2869\t달팽이는 올라가고 싶다"
   ]
  },
  {
   "cell_type": "code",
   "execution_count": 1,
   "id": "a9a625b0-89bc-48a3-b93a-bcf36405182e",
   "metadata": {},
   "outputs": [
    {
     "name": "stdin",
     "output_type": "stream",
     "text": [
      " 100 99 500\n"
     ]
    },
    {
     "name": "stdout",
     "output_type": "stream",
     "text": [
      "401\n"
     ]
    }
   ],
   "source": [
    "# time error -> for 문을 안쓰고 해야하나?\n",
    "day, night, height = map(int, input().split())\n",
    "\n",
    "move = 0\n",
    "cnt = 0\n",
    "\n",
    "while move < height:\n",
    "    move += day\n",
    "    cnt += 1\n",
    "    if move < height:\n",
    "        move -= night\n",
    "\n",
    "print(cnt)"
   ]
  },
  {
   "cell_type": "code",
   "execution_count": 2,
   "id": "eac6ad6c-019e-49c3-9b99-402b8b66577b",
   "metadata": {},
   "outputs": [
    {
     "name": "stdin",
     "output_type": "stream",
     "text": [
      " 2 1 5\n"
     ]
    },
    {
     "name": "stdout",
     "output_type": "stream",
     "text": [
      "4\n"
     ]
    }
   ],
   "source": [
    "# for 문 안쓰고\n",
    "\n",
    "day, night, height = map(int, input().split())\n",
    "\n",
    "if (height - night) % (day - night) == 0:\n",
    "    print((height - night) // (day - night))\n",
    "else :\n",
    "    print((height - night) // (day - night) + 1)\n"
   ]
  },
  {
   "cell_type": "code",
   "execution_count": null,
   "id": "dc0329d0-e6a4-4391-96b5-ab9e33de559b",
   "metadata": {},
   "outputs": [],
   "source": []
  }
 ],
 "metadata": {
  "kernelspec": {
   "display_name": "Python 3 (ipykernel)",
   "language": "python",
   "name": "python3"
  },
  "language_info": {
   "codemirror_mode": {
    "name": "ipython",
    "version": 3
   },
   "file_extension": ".py",
   "mimetype": "text/x-python",
   "name": "python",
   "nbconvert_exporter": "python",
   "pygments_lexer": "ipython3",
   "version": "3.9.12"
  }
 },
 "nbformat": 4,
 "nbformat_minor": 5
}
