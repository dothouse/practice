{
 "cells": [
  {
   "cell_type": "markdown",
   "id": "3ea90ca8-e135-4564-8193-1b946286c207",
   "metadata": {},
   "source": [
    "# 11005\t진법 변환 2"
   ]
  },
  {
   "cell_type": "code",
   "execution_count": 1,
   "id": "dbe5ddbe-02d1-4651-9f09-f9db01b2f951",
   "metadata": {},
   "outputs": [
    {
     "name": "stdin",
     "output_type": "stream",
     "text": [
      " 60466175 36\n"
     ]
    },
    {
     "name": "stdout",
     "output_type": "stream",
     "text": [
      "ZZZZZ\n"
     ]
    }
   ],
   "source": [
    "numbers = '0123456789ABCDEFGHIJKLMNOPQRSTUVWXYZ'\n",
    "data11005, jin = map(int, input().split())\n",
    "\n",
    "digit = 0\n",
    "div = data11005\n",
    "result = []\n",
    "\n",
    "\n",
    "while div > 0:\n",
    "    sub = div % jin\n",
    "    div = div // jin    \n",
    "    result.append(str(numbers[sub]))\n",
    "    digit += 1     \n",
    "\n",
    "print(\"\".join(result[::-1]))"
   ]
  },
  {
   "cell_type": "code",
   "execution_count": null,
   "id": "91a98650-bc38-481b-83b5-125392f3b505",
   "metadata": {},
   "outputs": [],
   "source": []
  }
 ],
 "metadata": {
  "kernelspec": {
   "display_name": "Python 3 (ipykernel)",
   "language": "python",
   "name": "python3"
  },
  "language_info": {
   "codemirror_mode": {
    "name": "ipython",
    "version": 3
   },
   "file_extension": ".py",
   "mimetype": "text/x-python",
   "name": "python",
   "nbconvert_exporter": "python",
   "pygments_lexer": "ipython3",
   "version": "3.9.12"
  }
 },
 "nbformat": 4,
 "nbformat_minor": 5
}
