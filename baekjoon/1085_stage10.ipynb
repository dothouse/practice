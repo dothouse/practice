{
 "cells": [
  {
   "cell_type": "markdown",
   "id": "40a34fc7-fe31-462f-b7bd-d780c1e47612",
   "metadata": {},
   "source": [
    "# q2\t1085\t직사각형에서 탈출"
   ]
  },
  {
   "cell_type": "code",
   "execution_count": 1,
   "id": "f9724dcc-5e55-4875-bd22-f3adb32a8bd8",
   "metadata": {},
   "outputs": [
    {
     "name": "stdin",
     "output_type": "stream",
     "text": [
      " 653 375 1000 1000\n"
     ]
    },
    {
     "name": "stdout",
     "output_type": "stream",
     "text": [
      "347\n"
     ]
    }
   ],
   "source": [
    "x, y, w, h = map(int, input().split())\n",
    "\n",
    "print(min(x, y, (h - y), (w - x)))"
   ]
  },
  {
   "cell_type": "code",
   "execution_count": null,
   "id": "ec3acb71-9632-4222-ba0a-70ad055c01d1",
   "metadata": {},
   "outputs": [],
   "source": []
  }
 ],
 "metadata": {
  "kernelspec": {
   "display_name": "Python 3 (ipykernel)",
   "language": "python",
   "name": "python3"
  },
  "language_info": {
   "codemirror_mode": {
    "name": "ipython",
    "version": 3
   },
   "file_extension": ".py",
   "mimetype": "text/x-python",
   "name": "python",
   "nbconvert_exporter": "python",
   "pygments_lexer": "ipython3",
   "version": "3.9.12"
  }
 },
 "nbformat": 4,
 "nbformat_minor": 5
}
