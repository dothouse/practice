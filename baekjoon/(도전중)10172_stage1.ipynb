{
 "cells": [
  {
   "cell_type": "markdown",
   "id": "ba793377-57c1-46ae-8d7b-6dd1b9aa1099",
   "metadata": {},
   "source": [
    "# 10172"
   ]
  },
  {
   "cell_type": "code",
   "execution_count": null,
   "id": "fe96dde5-85b0-4dcc-859e-0b50daa85dda",
   "metadata": {},
   "outputs": [],
   "source": []
  }
 ],
 "metadata": {
  "kernelspec": {
   "display_name": "Python 3 (ipykernel)",
   "language": "python",
   "name": "python3"
  },
  "language_info": {
   "codemirror_mode": {
    "name": "ipython",
    "version": 3
   },
   "file_extension": ".py",
   "mimetype": "text/x-python",
   "name": "python",
   "nbconvert_exporter": "python",
   "pygments_lexer": "ipython3",
   "version": "3.9.12"
  }
 },
 "nbformat": 4,
 "nbformat_minor": 5
}
