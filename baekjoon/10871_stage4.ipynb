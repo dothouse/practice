{
 "cells": [
  {
   "cell_type": "markdown",
   "id": "f366f31a-c32c-47fc-913b-0a4afbe9cfe5",
   "metadata": {},
   "source": [
    "# 10871\tX보다 작은 수"
   ]
  },
  {
   "cell_type": "code",
   "execution_count": null,
   "id": "6574212f-f891-4d44-963b-8674779401ef",
   "metadata": {},
   "outputs": [],
   "source": [
    "N, X = map(int, (input().split()))\n",
    "A = map(int, input().split())\n",
    "\n",
    "for i in A:\n",
    "    if int(i) < X:\n",
    "        print(i, end = \" \")\n"
   ]
  },
  {
   "cell_type": "code",
   "execution_count": null,
   "id": "fcbf061a-6cfe-4345-abb1-39f6446c941e",
   "metadata": {},
   "outputs": [],
   "source": [
    "# 2-1\t10871\tX보다 작은 수\n",
    "N, X = map(int, (input().split()))\n",
    "A = list(map(int, input().split()))\n",
    "\n",
    "for i in range(N):\n",
    "    if A[i] < X:\n",
    "        print(A[i], end = \" \")"
   ]
  }
 ],
 "metadata": {
  "kernelspec": {
   "display_name": "Python 3 (ipykernel)",
   "language": "python",
   "name": "python3"
  },
  "language_info": {
   "codemirror_mode": {
    "name": "ipython",
    "version": 3
   },
   "file_extension": ".py",
   "mimetype": "text/x-python",
   "name": "python",
   "nbconvert_exporter": "python",
   "pygments_lexer": "ipython3",
   "version": "3.9.12"
  }
 },
 "nbformat": 4,
 "nbformat_minor": 5
}
