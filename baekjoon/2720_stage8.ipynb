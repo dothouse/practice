{
 "cells": [
  {
   "cell_type": "markdown",
   "id": "b8f2a1e2-7729-4475-bd85-a94dfab8be2e",
   "metadata": {},
   "source": [
    "# 2720\t세탁소 사장 동혁"
   ]
  },
  {
   "cell_type": "code",
   "execution_count": 1,
   "id": "c6603ee1-9d1d-4884-b806-7ea6412daf89",
   "metadata": {},
   "outputs": [
    {
     "name": "stdin",
     "output_type": "stream",
     "text": [
      " 3\n",
      " 124\n"
     ]
    },
    {
     "name": "stdout",
     "output_type": "stream",
     "text": [
      "4 2 0 4 "
     ]
    },
    {
     "name": "stdin",
     "output_type": "stream",
     "text": [
      " 25\n"
     ]
    },
    {
     "name": "stdout",
     "output_type": "stream",
     "text": [
      "1 0 0 0 "
     ]
    },
    {
     "name": "stdin",
     "output_type": "stream",
     "text": [
      " 194\n"
     ]
    },
    {
     "name": "stdout",
     "output_type": "stream",
     "text": [
      "7 1 1 4 "
     ]
    }
   ],
   "source": [
    "T = int(input())\n",
    "coins = [25, 10, 5, 1]\n",
    "\n",
    "for i in range(T):\n",
    "    change = int(input())\n",
    "    for j in range(len((coins))):\n",
    "        return_coin = change // coins[j]\n",
    "        change = change % coins[j]\n",
    "        print(return_coin, end = \" \")"
   ]
  },
  {
   "cell_type": "code",
   "execution_count": 2,
   "id": "a393b780-425d-4cd8-b72e-fbf40d76a755",
   "metadata": {},
   "outputs": [
    {
     "name": "stdin",
     "output_type": "stream",
     "text": [
      " 3\n",
      " 124\n"
     ]
    },
    {
     "name": "stdout",
     "output_type": "stream",
     "text": [
      "4 2 0 4 "
     ]
    },
    {
     "name": "stdin",
     "output_type": "stream",
     "text": [
      " 25\n"
     ]
    },
    {
     "name": "stdout",
     "output_type": "stream",
     "text": [
      "1 0 0 0 "
     ]
    },
    {
     "name": "stdin",
     "output_type": "stream",
     "text": [
      " 194\n"
     ]
    },
    {
     "name": "stdout",
     "output_type": "stream",
     "text": [
      "7 1 1 4 "
     ]
    }
   ],
   "source": [
    "#### 3\t2720\t세탁소 사장 동혁 - refactoring\n",
    "\n",
    "T = int(input())\n",
    "coins = [25, 10, 5, 1]\n",
    "\n",
    "for i in range(T):\n",
    "    change = int(input())\n",
    "    for j in range(len((coins))):\n",
    "        print(change // coins[j], end = \" \")\n",
    "        change = change % coins[j]"
   ]
  },
  {
   "cell_type": "code",
   "execution_count": null,
   "id": "381338c0-7dd3-4e81-bd65-53e3e633e2ba",
   "metadata": {},
   "outputs": [],
   "source": []
  }
 ],
 "metadata": {
  "kernelspec": {
   "display_name": "Python 3 (ipykernel)",
   "language": "python",
   "name": "python3"
  },
  "language_info": {
   "codemirror_mode": {
    "name": "ipython",
    "version": 3
   },
   "file_extension": ".py",
   "mimetype": "text/x-python",
   "name": "python",
   "nbconvert_exporter": "python",
   "pygments_lexer": "ipython3",
   "version": "3.9.12"
  }
 },
 "nbformat": 4,
 "nbformat_minor": 5
}
