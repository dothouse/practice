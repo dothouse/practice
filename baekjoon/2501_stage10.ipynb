{
 "cells": [
  {
   "cell_type": "markdown",
   "id": "15808975-6481-4882-a57a-91f8e7ed94d4",
   "metadata": {},
   "source": [
    "2501\t약수 구하기"
   ]
  },
  {
   "cell_type": "code",
   "execution_count": 1,
   "id": "3067a8c4-4ff1-4683-9cb9-efb7201ab896",
   "metadata": {},
   "outputs": [
    {
     "name": "stdin",
     "output_type": "stream",
     "text": [
      " 6 3\n"
     ]
    },
    {
     "name": "stdout",
     "output_type": "stream",
     "text": [
      "3\n"
     ]
    }
   ],
   "source": [
    "a, b = map(int, input().split())\n",
    "\n",
    "factors = []\n",
    "\n",
    "for i in range(1, a+1):\n",
    "    if a % i == 0:\n",
    "        factors.append(i)\n",
    "\n",
    "if b <= len(factors):\n",
    "    print(factors[b-1])\n",
    "else :\n",
    "    print(0)"
   ]
  },
  {
   "cell_type": "code",
   "execution_count": null,
   "id": "fab22e99-dfaf-42bf-8dcf-713c5bdacbc7",
   "metadata": {},
   "outputs": [],
   "source": []
  }
 ],
 "metadata": {
  "kernelspec": {
   "display_name": "Python 3 (ipykernel)",
   "language": "python",
   "name": "python3"
  },
  "language_info": {
   "codemirror_mode": {
    "name": "ipython",
    "version": 3
   },
   "file_extension": ".py",
   "mimetype": "text/x-python",
   "name": "python",
   "nbconvert_exporter": "python",
   "pygments_lexer": "ipython3",
   "version": "3.9.12"
  }
 },
 "nbformat": 4,
 "nbformat_minor": 5
}
