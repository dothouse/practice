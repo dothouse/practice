{
 "cells": [
  {
   "cell_type": "markdown",
   "id": "9ec36904-c37b-4996-9f19-04ff6ac9160b",
   "metadata": {},
   "source": [
    "# 2557"
   ]
  },
  {
   "cell_type": "code",
   "execution_count": null,
   "id": "6ff17ade-aa56-41be-a29a-fa0afc842b5e",
   "metadata": {},
   "outputs": [],
   "source": [
    "print(\"Hello World!\")"
   ]
  }
 ],
 "metadata": {
  "kernelspec": {
   "display_name": "Python 3 (ipykernel)",
   "language": "python",
   "name": "python3"
  },
  "language_info": {
   "codemirror_mode": {
    "name": "ipython",
    "version": 3
   },
   "file_extension": ".py",
   "mimetype": "text/x-python",
   "name": "python",
   "nbconvert_exporter": "python",
   "pygments_lexer": "ipython3",
   "version": "3.9.12"
  }
 },
 "nbformat": 4,
 "nbformat_minor": 5
}
