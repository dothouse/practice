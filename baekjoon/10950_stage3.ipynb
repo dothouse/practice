{
 "cells": [
  {
   "cell_type": "markdown",
   "id": "5df4b480-d23e-476a-8df6-3f6e711ce432",
   "metadata": {},
   "source": [
    "# 10950 A+B - 3"
   ]
  },
  {
   "cell_type": "code",
   "execution_count": null,
   "id": "2d9bf67b-4d74-407d-a1f4-8cd97f4ea25d",
   "metadata": {},
   "outputs": [],
   "source": [
    "t_case = int(input())\n",
    "\n",
    "for i in range(t_case):\n",
    "    num1, num2 = map(int, input().split())\n",
    "    total = num1 + num2\n",
    "    print(total)"
   ]
  },
  {
   "cell_type": "code",
   "execution_count": null,
   "id": "0fc95a30-4a68-4dc4-9d72-733b505de91c",
   "metadata": {},
   "outputs": [],
   "source": []
  }
 ],
 "metadata": {
  "kernelspec": {
   "display_name": "Python 3 (ipykernel)",
   "language": "python",
   "name": "python3"
  },
  "language_info": {
   "codemirror_mode": {
    "name": "ipython",
    "version": 3
   },
   "file_extension": ".py",
   "mimetype": "text/x-python",
   "name": "python",
   "nbconvert_exporter": "python",
   "pygments_lexer": "ipython3",
   "version": "3.9.12"
  }
 },
 "nbformat": 4,
 "nbformat_minor": 5
}
