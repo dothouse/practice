{
 "cells": [
  {
   "cell_type": "code",
   "execution_count": 1,
   "id": "165a127c-b16e-4a38-aa97-0ba094ed75e5",
   "metadata": {},
   "outputs": [],
   "source": [
    "# 11654"
   ]
  },
  {
   "cell_type": "code",
   "execution_count": null,
   "id": "5abdbc32-9657-4f41-bd06-2baead4a4d1c",
   "metadata": {},
   "outputs": [],
   "source": [
    "case4 = input()\n",
    "\n",
    "print(ord(case4))"
   ]
  }
 ],
 "metadata": {
  "kernelspec": {
   "display_name": "Python 3 (ipykernel)",
   "language": "python",
   "name": "python3"
  },
  "language_info": {
   "codemirror_mode": {
    "name": "ipython",
    "version": 3
   },
   "file_extension": ".py",
   "mimetype": "text/x-python",
   "name": "python",
   "nbconvert_exporter": "python",
   "pygments_lexer": "ipython3",
   "version": "3.9.12"
  }
 },
 "nbformat": 4,
 "nbformat_minor": 5
}
