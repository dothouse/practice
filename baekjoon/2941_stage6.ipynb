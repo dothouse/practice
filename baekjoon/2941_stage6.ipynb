{
 "cells": [
  {
   "cell_type": "markdown",
   "id": "d11c5763-0bb2-40e5-b717-5b3ace5411db",
   "metadata": {},
   "source": [
    "# 2941\t크로아티아 알파벳"
   ]
  },
  {
   "cell_type": "code",
   "execution_count": 1,
   "id": "11f341f2-7237-447d-ad20-519648182cdd",
   "metadata": {},
   "outputs": [
    {
     "name": "stdin",
     "output_type": "stream",
     "text": [
      " ljes=njak\n"
     ]
    },
    {
     "name": "stdout",
     "output_type": "stream",
     "text": [
      "6\n"
     ]
    }
   ],
   "source": [
    "croatia = ['c=', 'c-', 'dz=', 'd-', 'lj', 'nj', 's=', 'z=']\n",
    "text = input()\n",
    "co = 0\n",
    "\n",
    "for i in croatia:\n",
    "    if i in text:\n",
    "        co += text.count(i)\n",
    "\n",
    "\n",
    "print(len(text)-co)"
   ]
  },
  {
   "cell_type": "code",
   "execution_count": null,
   "id": "7121259b-d38c-4f15-b949-0f913edb3e60",
   "metadata": {},
   "outputs": [],
   "source": []
  }
 ],
 "metadata": {
  "kernelspec": {
   "display_name": "Python 3 (ipykernel)",
   "language": "python",
   "name": "python3"
  },
  "language_info": {
   "codemirror_mode": {
    "name": "ipython",
    "version": 3
   },
   "file_extension": ".py",
   "mimetype": "text/x-python",
   "name": "python",
   "nbconvert_exporter": "python",
   "pygments_lexer": "ipython3",
   "version": "3.9.12"
  }
 },
 "nbformat": 4,
 "nbformat_minor": 5
}
