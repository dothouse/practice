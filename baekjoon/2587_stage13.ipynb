{
 "cells": [
  {
   "cell_type": "markdown",
   "id": "a1d55fc1-d9c2-44b5-9520-16e8c1fd39a4",
   "metadata": {},
   "source": [
    "# 2587"
   ]
  },
  {
   "cell_type": "code",
   "execution_count": 17,
   "id": "d3379693-b678-4dde-be90-c1863f6d7553",
   "metadata": {},
   "outputs": [
    {
     "name": "stdin",
     "output_type": "stream",
     "text": [
      " 10\n",
      " 40\n",
      " 30\n",
      " 60\n",
      " 30\n"
     ]
    },
    {
     "name": "stdout",
     "output_type": "stream",
     "text": [
      "34\n",
      "30\n"
     ]
    }
   ],
   "source": [
    "num = [int(input()) for _ in range(5)]\n",
    "num = sorted(num)\n",
    "print(int(sum(num) / len(num)))\n",
    "print(num[2])\n",
    "\n",
    "# 평균에 int를 안해서 틀렸네 ㅡㅡ"
   ]
  }
 ],
 "metadata": {
  "kernelspec": {
   "display_name": "Python 3 (ipykernel)",
   "language": "python",
   "name": "python3"
  },
  "language_info": {
   "codemirror_mode": {
    "name": "ipython",
    "version": 3
   },
   "file_extension": ".py",
   "mimetype": "text/x-python",
   "name": "python",
   "nbconvert_exporter": "python",
   "pygments_lexer": "ipython3",
   "version": "3.9.12"
  }
 },
 "nbformat": 4,
 "nbformat_minor": 5
}
