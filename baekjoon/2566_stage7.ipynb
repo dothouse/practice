{
 "cells": [
  {
   "cell_type": "markdown",
   "id": "bdcd5d1b-ebea-4a8e-892a-d8aedae8edd0",
   "metadata": {},
   "source": [
    "# 2566\t최댓값"
   ]
  },
  {
   "cell_type": "code",
   "execution_count": 1,
   "id": "bd20480e-2520-42bc-9267-00473cfe75e0",
   "metadata": {},
   "outputs": [
    {
     "name": "stdin",
     "output_type": "stream",
     "text": [
      " 3 23 85 34 17 74 25 52 65\n",
      " 10 7 39 42 88 52 14 72 63\n",
      " 87 42 18 78 53 45 18 84 53\n",
      " 34 28 64 85 12 16 75 36 55\n",
      " 21 77 45 35 28 75 90 76 1\n",
      " 25 87 65 15 28 11 37 28 74\n",
      " 65 27 75 41 7 89 78 64 39\n",
      " 47 47 70 45 23 65 3 41 44\n",
      " 87 13 82 38 31 12 29 29 80\n"
     ]
    },
    {
     "name": "stdout",
     "output_type": "stream",
     "text": [
      "90\n",
      "5 7\n"
     ]
    }
   ],
   "source": [
    "matrix = []\n",
    "max_list = []\n",
    "\n",
    "for i in range(9):\n",
    "    row = list(map(int, input().split()))\n",
    "    matrix.append(row)\n",
    "    max_list.append(max(matrix[i]))\n",
    "    max_result = max(max_list)\n",
    "    \n",
    "print(max_result)\n",
    "print(max_list.index(max_result)+1, matrix[max_list.index(max_result)].index(max_result)+1)"
   ]
  },
  {
   "cell_type": "code",
   "execution_count": null,
   "id": "b532e4fd-33be-483d-b8b4-5ee7894395a7",
   "metadata": {},
   "outputs": [],
   "source": []
  }
 ],
 "metadata": {
  "kernelspec": {
   "display_name": "Python 3 (ipykernel)",
   "language": "python",
   "name": "python3"
  },
  "language_info": {
   "codemirror_mode": {
    "name": "ipython",
    "version": 3
   },
   "file_extension": ".py",
   "mimetype": "text/x-python",
   "name": "python",
   "nbconvert_exporter": "python",
   "pygments_lexer": "ipython3",
   "version": "3.9.12"
  }
 },
 "nbformat": 4,
 "nbformat_minor": 5
}
