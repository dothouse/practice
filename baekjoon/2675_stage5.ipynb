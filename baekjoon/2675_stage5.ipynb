{
 "cells": [
  {
   "cell_type": "markdown",
   "id": "e561a6e8-0dc2-4198-9d7e-dd704cc63b94",
   "metadata": {},
   "source": [
    "# 2675"
   ]
  },
  {
   "cell_type": "code",
   "execution_count": null,
   "id": "9fe95b16-0b21-4fd3-9401-844b9766612c",
   "metadata": {},
   "outputs": [],
   "source": [
    "case7 = int(input())\n",
    "\n",
    "for n in range(case7):\n",
    "    num7, word7 = input().split()\n",
    "    for i in range(len(word7)):\n",
    "        print(word7[i] * int(num7), end = \"\")\n",
    "    print()"
   ]
  }
 ],
 "metadata": {
  "kernelspec": {
   "display_name": "Python 3 (ipykernel)",
   "language": "python",
   "name": "python3"
  },
  "language_info": {
   "codemirror_mode": {
    "name": "ipython",
    "version": 3
   },
   "file_extension": ".py",
   "mimetype": "text/x-python",
   "name": "python",
   "nbconvert_exporter": "python",
   "pygments_lexer": "ipython3",
   "version": "3.9.12"
  }
 },
 "nbformat": 4,
 "nbformat_minor": 5
}
