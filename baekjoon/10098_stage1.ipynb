{
 "cells": [
  {
   "cell_type": "markdown",
   "id": "f09e23af-9a9b-476d-b3d7-1cddb156ca40",
   "metadata": {},
   "source": [
    "# 10098"
   ]
  },
  {
   "cell_type": "code",
   "execution_count": null,
   "id": "660d1247-251f-473f-9951-29082382c52e",
   "metadata": {},
   "outputs": [],
   "source": [
    "a, b= map(int, input().split())\n",
    "\n",
    "print(a*b)"
   ]
  }
 ],
 "metadata": {
  "kernelspec": {
   "display_name": "Python 3 (ipykernel)",
   "language": "python",
   "name": "python3"
  },
  "language_info": {
   "codemirror_mode": {
    "name": "ipython",
    "version": 3
   },
   "file_extension": ".py",
   "mimetype": "text/x-python",
   "name": "python",
   "nbconvert_exporter": "python",
   "pygments_lexer": "ipython3",
   "version": "3.9.12"
  }
 },
 "nbformat": 4,
 "nbformat_minor": 5
}
