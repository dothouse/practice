{
 "cells": [
  {
   "cell_type": "markdown",
   "id": "a91c3fbe-2818-483b-9dfe-e4dd36dff06f",
   "metadata": {},
   "source": [
    "# 11653\t소인수분해"
   ]
  },
  {
   "cell_type": "code",
   "execution_count": 2,
   "id": "005d7267-de34-485a-802a-cddc963565f5",
   "metadata": {},
   "outputs": [
    {
     "name": "stdin",
     "output_type": "stream",
     "text": [
      " 10\n"
     ]
    },
    {
     "name": "stdout",
     "output_type": "stream",
     "text": [
      "2\n",
      "5\n"
     ]
    }
   ],
   "source": [
    "N = int(input())\n",
    "factor_lst = []\n",
    "\n",
    "while N > 1:      \n",
    "    for i in range(2, N+1):\n",
    "        if N % i == 0:\n",
    "            N = N // i\n",
    "            factor_lst.append(i)\n",
    "            break\n",
    "            \n",
    "print(*factor_lst, sep = '\\n')"
   ]
  },
  {
   "cell_type": "code",
   "execution_count": null,
   "id": "640da1d7-8483-48c9-8e8b-d3a208c98df2",
   "metadata": {},
   "outputs": [],
   "source": []
  }
 ],
 "metadata": {
  "kernelspec": {
   "display_name": "Python 3 (ipykernel)",
   "language": "python",
   "name": "python3"
  },
  "language_info": {
   "codemirror_mode": {
    "name": "ipython",
    "version": 3
   },
   "file_extension": ".py",
   "mimetype": "text/x-python",
   "name": "python",
   "nbconvert_exporter": "python",
   "pygments_lexer": "ipython3",
   "version": "3.9.12"
  }
 },
 "nbformat": 4,
 "nbformat_minor": 5
}
