{
 "cells": [
  {
   "cell_type": "markdown",
   "id": "21d1ce3d-08be-45fe-8dca-2e4cc46cd8b5",
   "metadata": {},
   "source": [
    "# q4\t24265\t알고리즘 수업 - 알고리즘의 수행 시간 4"
   ]
  },
  {
   "cell_type": "code",
   "execution_count": null,
   "id": "afe4af0f-c19f-4615-93e2-32b1bb89de8d",
   "metadata": {},
   "outputs": [],
   "source": [
    "# i는 7 - 1번 (1,2,3,4,5,6)\n",
    "# j는\n",
    "# i가 1이면 2,3,4,5,6,7\n",
    "# i가 2이면 3,4,5,6,7\n",
    "# ..\n",
    "# i가 6이면 7\n",
    "\n",
    "# 6 + 5 + 4 + 3 + 2 + 1\n",
    "\n",
    "# 등차수열 공식 \n",
    "# 전체갯수 * (첫항 + 마지막항) / 2\n",
    "# 알고리즘 수행횟수 \n",
    "# (n-1) * (1 + n-1) / 2\n",
    "# (n^2 - n) / 2"
   ]
  },
  {
   "cell_type": "code",
   "execution_count": null,
   "id": "6c798d21-7bd1-4a65-8db7-3fc902ba7d0c",
   "metadata": {},
   "outputs": [],
   "source": [
    "a = int(input())\n",
    "\n",
    "print(int((a ** 2 - a) / 2))\n",
    "print(2)"
   ]
  }
 ],
 "metadata": {
  "kernelspec": {
   "display_name": "Python 3 (ipykernel)",
   "language": "python",
   "name": "python3"
  },
  "language_info": {
   "codemirror_mode": {
    "name": "ipython",
    "version": 3
   },
   "file_extension": ".py",
   "mimetype": "text/x-python",
   "name": "python",
   "nbconvert_exporter": "python",
   "pygments_lexer": "ipython3",
   "version": "3.9.12"
  }
 },
 "nbformat": 4,
 "nbformat_minor": 5
}
