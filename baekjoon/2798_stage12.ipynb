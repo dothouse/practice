{
 "cells": [
  {
   "cell_type": "markdown",
   "id": "f19ae285-0a56-4ea3-b283-88e4e3c6f859",
   "metadata": {},
   "source": [
    "# q1\t2798\t블랙잭"
   ]
  },
  {
   "cell_type": "code",
   "execution_count": 1,
   "id": "d44cb967-4b81-4e22-929e-1c766d2384f6",
   "metadata": {},
   "outputs": [
    {
     "name": "stdin",
     "output_type": "stream",
     "text": [
      " 5 21\n",
      " 5 6 7 8 9\n"
     ]
    },
    {
     "name": "stdout",
     "output_type": "stream",
     "text": [
      "21\n"
     ]
    }
   ],
   "source": [
    "N, M = map(int, input().split())\n",
    "\n",
    "cards = list(map(int, input().split()))\n",
    "\n",
    "result = []\n",
    "for i in range(len(cards)):\n",
    "    a = cards[i]\n",
    "    for j in range(i+1,len(cards)):\n",
    "        b = cards[j]\n",
    "        for k in range(j+1, len(cards)):\n",
    "            c = cards[k]\n",
    "            n = a + b + c\n",
    "            if n <= M:\n",
    "                result.append(n)\n",
    "                \n",
    "print(max(result))"
   ]
  },
  {
   "cell_type": "code",
   "execution_count": null,
   "id": "96b3cd15-6213-4f6e-b72f-ffd4390c6595",
   "metadata": {},
   "outputs": [],
   "source": []
  }
 ],
 "metadata": {
  "kernelspec": {
   "display_name": "Python 3 (ipykernel)",
   "language": "python",
   "name": "python3"
  },
  "language_info": {
   "codemirror_mode": {
    "name": "ipython",
    "version": 3
   },
   "file_extension": ".py",
   "mimetype": "text/x-python",
   "name": "python",
   "nbconvert_exporter": "python",
   "pygments_lexer": "ipython3",
   "version": "3.9.12"
  }
 },
 "nbformat": 4,
 "nbformat_minor": 5
}
