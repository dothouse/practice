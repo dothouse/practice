{
 "cells": [
  {
   "cell_type": "markdown",
   "id": "d874fb51-f8b5-4ea0-9e9a-51c06306a857",
   "metadata": {},
   "source": [
    "# 10171"
   ]
  },
  {
   "cell_type": "code",
   "execution_count": null,
   "id": "aded8c6f-4f20-4100-a9fa-bc3ddffa2af0",
   "metadata": {},
   "outputs": [],
   "source": [
    "print(\"\\\\    /\\\\\")\n",
    "print(\" )  ( ')\")\n",
    "print(\"(  /  )\")\n",
    "print(\" \\\\(__)|\")"
   ]
  }
 ],
 "metadata": {
  "kernelspec": {
   "display_name": "Python 3 (ipykernel)",
   "language": "python",
   "name": "python3"
  },
  "language_info": {
   "codemirror_mode": {
    "name": "ipython",
    "version": 3
   },
   "file_extension": ".py",
   "mimetype": "text/x-python",
   "name": "python",
   "nbconvert_exporter": "python",
   "pygments_lexer": "ipython3",
   "version": "3.9.12"
  }
 },
 "nbformat": 4,
 "nbformat_minor": 5
}
