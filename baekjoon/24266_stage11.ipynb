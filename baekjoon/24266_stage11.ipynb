{
 "cells": [
  {
   "cell_type": "markdown",
   "id": "e5ed9901-ff17-43b9-bca1-df3dc2adcef2",
   "metadata": {},
   "source": [
    "# q5 24266\t알고리즘 수업 - 알고리즘의 수행 시간 5"
   ]
  },
  {
   "cell_type": "code",
   "execution_count": null,
   "id": "25639a68-e4a5-44ac-9f40-c4e072fb8261",
   "metadata": {},
   "outputs": [],
   "source": [
    "# n * n * n 회 실행\n",
    "# n ** 3\n"
   ]
  },
  {
   "cell_type": "code",
   "execution_count": null,
   "id": "54edc861-d305-4c03-8043-d52e885081a4",
   "metadata": {},
   "outputs": [],
   "source": [
    "a = int(input())\n",
    "\n",
    "print(a ** 3)\n",
    "print(3)"
   ]
  }
 ],
 "metadata": {
  "kernelspec": {
   "display_name": "Python 3 (ipykernel)",
   "language": "python",
   "name": "python3"
  },
  "language_info": {
   "codemirror_mode": {
    "name": "ipython",
    "version": 3
   },
   "file_extension": ".py",
   "mimetype": "text/x-python",
   "name": "python",
   "nbconvert_exporter": "python",
   "pygments_lexer": "ipython3",
   "version": "3.9.12"
  }
 },
 "nbformat": 4,
 "nbformat_minor": 5
}
