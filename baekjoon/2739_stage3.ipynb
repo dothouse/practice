{
 "cells": [
  {
   "cell_type": "markdown",
   "id": "4f0128ad-2bfe-4056-94cf-e0ceb8608b82",
   "metadata": {},
   "source": [
    "# 2739 구구단"
   ]
  },
  {
   "cell_type": "code",
   "execution_count": null,
   "id": "867a1ab2-0c49-4d49-9a7a-c8f7268c5eec",
   "metadata": {},
   "outputs": [],
   "source": [
    "a = int(input())\n",
    "\n",
    "for i in range(1, 10):\n",
    "    print(f'{a} * {i} = {a * i}')"
   ]
  }
 ],
 "metadata": {
  "kernelspec": {
   "display_name": "Python 3 (ipykernel)",
   "language": "python",
   "name": "python3"
  },
  "language_info": {
   "codemirror_mode": {
    "name": "ipython",
    "version": 3
   },
   "file_extension": ".py",
   "mimetype": "text/x-python",
   "name": "python",
   "nbconvert_exporter": "python",
   "pygments_lexer": "ipython3",
   "version": "3.9.12"
  }
 },
 "nbformat": 4,
 "nbformat_minor": 5
}
