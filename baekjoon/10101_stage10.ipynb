{
 "cells": [
  {
   "cell_type": "markdown",
   "id": "c95394c2-bdd5-4fe3-b9de-41b5f3c23531",
   "metadata": {},
   "source": [
    "# 10101\t삼각형 외우기"
   ]
  },
  {
   "cell_type": "code",
   "execution_count": 1,
   "id": "934ffd97-6666-4382-b1a8-3deff8c494b8",
   "metadata": {},
   "outputs": [
    {
     "name": "stdin",
     "output_type": "stream",
     "text": [
      " 70\n",
      " 70\n",
      " 70\n"
     ]
    },
    {
     "name": "stdout",
     "output_type": "stream",
     "text": [
      "Error\n"
     ]
    }
   ],
   "source": [
    "a = int(input())\n",
    "b = int(input())\n",
    "c = int(input())\n",
    "\n",
    "if a + b + c == 180:\n",
    "    if a == b == c:\n",
    "        print('Equilateral')\n",
    "    elif (a == b) | (b == c) | (c == a) :\n",
    "        print('Isosceles')\n",
    "    else :\n",
    "        print('Scalene')\n",
    "else :\n",
    "    print('Error')"
   ]
  },
  {
   "cell_type": "code",
   "execution_count": 2,
   "id": "6f95e70a-bbf5-4d90-b35f-c48c8bff7a63",
   "metadata": {},
   "outputs": [],
   "source": [
    "# 삼각형의 세 각의 합이 180이 되어야 한다.\n",
    "# 나머지의 경우는 감각형을 이룰수 없기 때문에 '에러'"
   ]
  },
  {
   "cell_type": "code",
   "execution_count": null,
   "id": "b6584169-8271-4727-86d3-38462708d645",
   "metadata": {},
   "outputs": [],
   "source": []
  }
 ],
 "metadata": {
  "kernelspec": {
   "display_name": "Python 3 (ipykernel)",
   "language": "python",
   "name": "python3"
  },
  "language_info": {
   "codemirror_mode": {
    "name": "ipython",
    "version": 3
   },
   "file_extension": ".py",
   "mimetype": "text/x-python",
   "name": "python",
   "nbconvert_exporter": "python",
   "pygments_lexer": "ipython3",
   "version": "3.9.12"
  }
 },
 "nbformat": 4,
 "nbformat_minor": 5
}
