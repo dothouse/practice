{
 "cells": [
  {
   "cell_type": "markdown",
   "id": "0a59089c-3b87-4905-ab06-b64b3f82bc7e",
   "metadata": {},
   "source": [
    "# Stage 12\t브루트 포스"
   ]
  },
  {
   "cell_type": "markdown",
   "id": "cf5b30c9-dcd9-4bff-ac1b-3bad7b9588fa",
   "metadata": {},
   "source": [
    "### q1\t2798\t블랙잭"
   ]
  },
  {
   "cell_type": "code",
   "execution_count": 84,
   "id": "4edc58aa-c1c5-4ba3-998d-c6c02fb5ad12",
   "metadata": {},
   "outputs": [
    {
     "name": "stdin",
     "output_type": "stream",
     "text": [
      " 10 500\n",
      " 93 181 245 214 315 36 185 138 216 295\n"
     ]
    },
    {
     "name": "stdout",
     "output_type": "stream",
     "text": [
      "497\n"
     ]
    }
   ],
   "source": [
    "N, M = map(int, input().split())\n",
    "\n",
    "cards = list(map(int, input().split()))\n",
    "\n",
    "result = []\n",
    "for i in range(len(cards)):\n",
    "    a = cards[i]\n",
    "    for j in range(i+1,len(cards)):\n",
    "        b = cards[j]\n",
    "        for k in range(j+1, len(cards)):\n",
    "            c = cards[k]\n",
    "            n = a + b + c\n",
    "            if n <= M:\n",
    "                result.append(n)\n",
    "                \n",
    "print(max(result))\n",
    "\n"
   ]
  },
  {
   "cell_type": "markdown",
   "id": "c5d85607-eaf8-48ec-bb78-482c69417bcf",
   "metadata": {},
   "source": [
    "### q2\t2231\t분해합"
   ]
  },
  {
   "cell_type": "code",
   "execution_count": 119,
   "id": "d10b03e3-db0c-474f-861a-e869f7dd00d8",
   "metadata": {},
   "outputs": [
    {
     "name": "stdin",
     "output_type": "stream",
     "text": [
      " 1000\n"
     ]
    },
    {
     "data": {
      "text/plain": [
       "str"
      ]
     },
     "execution_count": 119,
     "metadata": {},
     "output_type": "execute_result"
    }
   ],
   "source": [
    "N = str(input())\n",
    "\n",
    "type(N)"
   ]
  },
  {
   "cell_type": "code",
   "execution_count": null,
   "id": "7a88c012-2181-49d1-962f-5fc0a5806977",
   "metadata": {},
   "outputs": [],
   "source": [
    "a + b + c + abc"
   ]
  },
  {
   "cell_type": "code",
   "execution_count": null,
   "id": "30a9f5e0-1a00-471b-98e4-ae002ad4a966",
   "metadata": {},
   "outputs": [],
   "source": [
    "100a + 10b + c + a + b + c"
   ]
  },
  {
   "cell_type": "code",
   "execution_count": 117,
   "id": "ab8382ba-c442-4d86-a45b-f840ad4359ec",
   "metadata": {},
   "outputs": [
    {
     "name": "stdout",
     "output_type": "stream",
     "text": [
      "216\n"
     ]
    }
   ],
   "source": [
    "result = 0\n",
    "for i in range(len(N)):\n",
    "    result += int(N[i]) * (10 ** (len(N)-1-i))\n",
    "print(result)"
   ]
  },
  {
   "cell_type": "code",
   "execution_count": 124,
   "id": "6ab8a83a-0b03-4a90-8e49-affc25d2513b",
   "metadata": {},
   "outputs": [
    {
     "name": "stdout",
     "output_type": "stream",
     "text": [
      "0\n",
      "1000\n",
      "2000\n",
      "3000\n",
      "4000\n",
      "5000\n",
      "6000\n",
      "7000\n",
      "8000\n",
      "9000\n",
      "1\n",
      "0\n",
      "100\n",
      "200\n",
      "300\n",
      "400\n",
      "500\n",
      "600\n",
      "700\n",
      "800\n",
      "900\n",
      "1\n",
      "0\n",
      "10\n",
      "20\n",
      "30\n",
      "40\n",
      "50\n",
      "60\n",
      "70\n",
      "80\n",
      "90\n",
      "1\n",
      "0\n",
      "1\n",
      "2\n",
      "3\n",
      "4\n",
      "5\n",
      "6\n",
      "7\n",
      "8\n",
      "9\n",
      "1\n",
      "[None, None, None, None, None, None, None, None, None, None, None, None, None, None, None, None, None, None, None, None, None, None, None, None, None, None, None, None, None, None, None, None, None, None, None, None, None, None, None, None]\n"
     ]
    }
   ],
   "source": [
    "result = []\n",
    "for i in range(len(N)):\n",
    "    for j in range(10):\n",
    "        a = print(j * (10 ** (len(N)-1-i)))\n",
    "        result.append(a)\n",
    "    print(1)\n",
    "\n",
    "print(result)\n",
    "    "
   ]
  },
  {
   "cell_type": "code",
   "execution_count": 111,
   "id": "5941ad26-5a1e-4fe7-b4ef-2ee9781de3bf",
   "metadata": {},
   "outputs": [
    {
     "data": {
      "text/plain": [
       "2"
      ]
     },
     "execution_count": 111,
     "metadata": {},
     "output_type": "execute_result"
    }
   ],
   "source": [
    "len(N)-1"
   ]
  },
  {
   "cell_type": "code",
   "execution_count": 100,
   "id": "3be91d18-dfcc-4f72-aeae-93d61c6c2035",
   "metadata": {},
   "outputs": [
    {
     "data": {
      "text/plain": [
       "[0, 1, 2]"
      ]
     },
     "execution_count": 100,
     "metadata": {},
     "output_type": "execute_result"
    }
   ],
   "source": [
    "list(range(len(str(N))))"
   ]
  },
  {
   "cell_type": "code",
   "execution_count": null,
   "id": "1808b7e1-019c-4257-bb62-ee51b48ed253",
   "metadata": {},
   "outputs": [],
   "source": []
  }
 ],
 "metadata": {
  "kernelspec": {
   "display_name": "Python 3 (ipykernel)",
   "language": "python",
   "name": "python3"
  },
  "language_info": {
   "codemirror_mode": {
    "name": "ipython",
    "version": 3
   },
   "file_extension": ".py",
   "mimetype": "text/x-python",
   "name": "python",
   "nbconvert_exporter": "python",
   "pygments_lexer": "ipython3",
   "version": "3.9.12"
  }
 },
 "nbformat": 4,
 "nbformat_minor": 5
}
