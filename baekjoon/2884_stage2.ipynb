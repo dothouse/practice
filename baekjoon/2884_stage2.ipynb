{
 "cells": [
  {
   "cell_type": "markdown",
   "id": "647bf668-49c9-475f-b29b-77f40e9f0920",
   "metadata": {},
   "source": [
    "# 2884"
   ]
  },
  {
   "cell_type": "code",
   "execution_count": null,
   "id": "3883c710-2c06-4705-ad9c-a51c2f6c1522",
   "metadata": {},
   "outputs": [],
   "source": [
    "h, m = map(int, input().split())\n",
    "\n",
    "if h > 24 or m > 60 :\n",
    "    print(\"miss\")\n",
    "\n",
    "elif m >= 45 :\n",
    "    m = m - 45\n",
    "    print(f'{h}:{m}')\n",
    "\n",
    "elif m < 45 and h > 0:\n",
    "    m = m - 45 + 60\n",
    "    h = h - 1\n",
    "    print(f'{h}:{m}')\n",
    "\n",
    "else :\n",
    "    m = m - 45 + 60\n",
    "    h = h - 1 + 24\n",
    "    print(f'{h}:{m}')"
   ]
  },
  {
   "cell_type": "code",
   "execution_count": null,
   "id": "469cc522-9022-4db6-b02f-5f2804ac439a",
   "metadata": {},
   "outputs": [],
   "source": [
    "#2884\n",
    "\n",
    "h, m = map(int, input().split())\n",
    "\n",
    "if m >= 45 :\n",
    "    m = m - 45\n",
    "\n",
    "elif m < 45 and h > 0:\n",
    "    m = m - 45 + 60\n",
    "    h = h - 1\n",
    "\n",
    "else :\n",
    "    m = m - 45 + 60\n",
    "    h = h - 1 + 24\n",
    "\n",
    "print(f\"{h} {m}\")"
   ]
  }
 ],
 "metadata": {
  "kernelspec": {
   "display_name": "Python 3 (ipykernel)",
   "language": "python",
   "name": "python3"
  },
  "language_info": {
   "codemirror_mode": {
    "name": "ipython",
    "version": 3
   },
   "file_extension": ".py",
   "mimetype": "text/x-python",
   "name": "python",
   "nbconvert_exporter": "python",
   "pygments_lexer": "ipython3",
   "version": "3.9.12"
  }
 },
 "nbformat": 4,
 "nbformat_minor": 5
}
