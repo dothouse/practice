{
 "cells": [
  {
   "cell_type": "markdown",
   "id": "c5fb55cf-4e08-45f0-bd8c-55a1497e86a1",
   "metadata": {},
   "source": [
    "# 5597\t과제 안 내신 분..?"
   ]
  },
  {
   "cell_type": "code",
   "execution_count": null,
   "id": "aba058d9-289d-498d-abb8-8326e3b222cc",
   "metadata": {},
   "outputs": [],
   "source": [
    "student = []\n",
    "\n",
    "while True:\n",
    "    try:\n",
    "        a = int(input())\n",
    "        student.append(a)\n",
    "    except:\n",
    "        break\n",
    "\n",
    "for i in range(30):\n",
    "    if student.count(i+1) == 0:\n",
    "        print(i+1)"
   ]
  }
 ],
 "metadata": {
  "kernelspec": {
   "display_name": "Python 3 (ipykernel)",
   "language": "python",
   "name": "python3"
  },
  "language_info": {
   "codemirror_mode": {
    "name": "ipython",
    "version": 3
   },
   "file_extension": ".py",
   "mimetype": "text/x-python",
   "name": "python",
   "nbconvert_exporter": "python",
   "pygments_lexer": "ipython3",
   "version": "3.9.12"
  }
 },
 "nbformat": 4,
 "nbformat_minor": 5
}
