{
 "cells": [
  {
   "cell_type": "markdown",
   "id": "fdd86eaa-831b-4095-81e7-d6ea8602f1f0",
   "metadata": {},
   "source": [
    "# 2563\t색종이"
   ]
  },
  {
   "cell_type": "code",
   "execution_count": 1,
   "id": "b4b70a34-bc9e-4461-900a-861c02ee9e68",
   "metadata": {},
   "outputs": [
    {
     "name": "stdin",
     "output_type": "stream",
     "text": [
      " 1\n",
      " 3 7\n"
     ]
    },
    {
     "name": "stdout",
     "output_type": "stream",
     "text": [
      "100\n"
     ]
    }
   ],
   "source": [
    "N = int(input())\n",
    "paper = [[0] * 100 for _ in range(100)]\n",
    "\n",
    "for _ in range(N):\n",
    "    width, height = map(int, input().split())\n",
    "    \n",
    "    for i in range(height, height + 10):\n",
    "        for j in range(width, width + 10):\n",
    "            paper[i][j] = 1\n",
    "\n",
    "total = 0\n",
    "for n in range(100):\n",
    "    total += sum(paper[n])\n",
    "\n",
    "print(total)"
   ]
  },
  {
   "cell_type": "code",
   "execution_count": null,
   "id": "41003bc7-2c90-443c-9675-608cca7f6767",
   "metadata": {},
   "outputs": [],
   "source": []
  }
 ],
 "metadata": {
  "kernelspec": {
   "display_name": "Python 3 (ipykernel)",
   "language": "python",
   "name": "python3"
  },
  "language_info": {
   "codemirror_mode": {
    "name": "ipython",
    "version": 3
   },
   "file_extension": ".py",
   "mimetype": "text/x-python",
   "name": "python",
   "nbconvert_exporter": "python",
   "pygments_lexer": "ipython3",
   "version": "3.9.12"
  }
 },
 "nbformat": 4,
 "nbformat_minor": 5
}
