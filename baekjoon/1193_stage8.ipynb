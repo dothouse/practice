{
 "cells": [
  {
   "cell_type": "markdown",
   "id": "cc7cf08f-2743-4c5f-a059-06bb992ef624",
   "metadata": {},
   "source": [
    "# 1193\t분수찾기"
   ]
  },
  {
   "cell_type": "code",
   "execution_count": 2,
   "id": "59a7e44f-27c7-4dca-b591-463f36372408",
   "metadata": {},
   "outputs": [
    {
     "name": "stdin",
     "output_type": "stream",
     "text": [
      " 8\n"
     ]
    },
    {
     "name": "stdout",
     "output_type": "stream",
     "text": [
      "2/3\n"
     ]
    }
   ],
   "source": [
    "N = int(input())\n",
    "\n",
    "groups = 1\n",
    "\n",
    "while N > groups:\n",
    "    N -= groups \n",
    "    groups += 1\n",
    "\n",
    "if groups % 2 == 0:\n",
    "    print(f'{N}/{groups - N + 1}')\n",
    "else :\n",
    "    print(f'{groups - N + 1}/{N}')"
   ]
  },
  {
   "cell_type": "code",
   "execution_count": null,
   "id": "0e443e8d-89fd-4181-b386-958d024b0b70",
   "metadata": {},
   "outputs": [],
   "source": []
  }
 ],
 "metadata": {
  "kernelspec": {
   "display_name": "Python 3 (ipykernel)",
   "language": "python",
   "name": "python3"
  },
  "language_info": {
   "codemirror_mode": {
    "name": "ipython",
    "version": 3
   },
   "file_extension": ".py",
   "mimetype": "text/x-python",
   "name": "python",
   "nbconvert_exporter": "python",
   "pygments_lexer": "ipython3",
   "version": "3.9.12"
  }
 },
 "nbformat": 4,
 "nbformat_minor": 5
}
