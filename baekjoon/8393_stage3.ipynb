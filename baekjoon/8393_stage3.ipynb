{
 "cells": [
  {
   "cell_type": "markdown",
   "id": "7cda0350-923e-4ae3-9e78-32ed2f5f9fdf",
   "metadata": {},
   "source": [
    "# 8393 합"
   ]
  },
  {
   "cell_type": "code",
   "execution_count": null,
   "id": "ae86d770-8316-494b-84ab-d46284a68ec9",
   "metadata": {},
   "outputs": [],
   "source": [
    "a = int(input())\n",
    "sum = 0\n",
    "\n",
    "for i in range(a+1):\n",
    "    sum += i\n",
    "print(sum)"
   ]
  }
 ],
 "metadata": {
  "kernelspec": {
   "display_name": "Python 3 (ipykernel)",
   "language": "python",
   "name": "python3"
  },
  "language_info": {
   "codemirror_mode": {
    "name": "ipython",
    "version": 3
   },
   "file_extension": ".py",
   "mimetype": "text/x-python",
   "name": "python",
   "nbconvert_exporter": "python",
   "pygments_lexer": "ipython3",
   "version": "3.9.12"
  }
 },
 "nbformat": 4,
 "nbformat_minor": 5
}
