{
 "cells": [
  {
   "cell_type": "markdown",
   "id": "1cbc5b9b-3f6d-42af-aca6-25eeee360a32",
   "metadata": {},
   "source": [
    "# 9506\t약수들의 합"
   ]
  },
  {
   "cell_type": "code",
   "execution_count": 1,
   "id": "61b1b10d-3308-4043-bebd-c724897e2781",
   "metadata": {},
   "outputs": [
    {
     "name": "stdin",
     "output_type": "stream",
     "text": [
      " 6\n"
     ]
    },
    {
     "name": "stdout",
     "output_type": "stream",
     "text": [
      "6 = 1 + 2 + 3\n"
     ]
    },
    {
     "name": "stdin",
     "output_type": "stream",
     "text": [
      " -1\n"
     ]
    }
   ],
   "source": [
    "while True:\n",
    "    a = int(input())\n",
    "    factors = []\n",
    "    if a == -1:\n",
    "        break\n",
    "    else:\n",
    "        for i in range(1, a):            \n",
    "            if a % i == 0:\n",
    "                factors.append(i)\n",
    "            \n",
    "        if sum(factors) == a:\n",
    "            print(a, \" = \", \" + \".join(str(i) for i in factors), sep=\"\")\n",
    "        else :\n",
    "            print(a, \"is NOT perfect.\")\n"
   ]
  },
  {
   "cell_type": "code",
   "execution_count": null,
   "id": "0eed4bb2-f8c9-4eda-93af-94ff826fae49",
   "metadata": {},
   "outputs": [],
   "source": []
  }
 ],
 "metadata": {
  "kernelspec": {
   "display_name": "Python 3 (ipykernel)",
   "language": "python",
   "name": "python3"
  },
  "language_info": {
   "codemirror_mode": {
    "name": "ipython",
    "version": 3
   },
   "file_extension": ".py",
   "mimetype": "text/x-python",
   "name": "python",
   "nbconvert_exporter": "python",
   "pygments_lexer": "ipython3",
   "version": "3.9.12"
  }
 },
 "nbformat": 4,
 "nbformat_minor": 5
}
