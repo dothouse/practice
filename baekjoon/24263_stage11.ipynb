{
 "cells": [
  {
   "cell_type": "markdown",
   "id": "c8bea6a2-32b1-414b-9657-ec87661d4f6b",
   "metadata": {},
   "source": [
    "# q2\t24263\t알고리즘 수업 - 알고리즘의 수행 시간 2"
   ]
  },
  {
   "cell_type": "code",
   "execution_count": 1,
   "id": "3f61ee9c-392d-48ae-9ce6-39b48854b170",
   "metadata": {},
   "outputs": [],
   "source": [
    "# 1부터 a까지 수행\n",
    "# 즉 1 * a 번수행"
   ]
  },
  {
   "cell_type": "code",
   "execution_count": 2,
   "id": "a7772914-e8e3-4689-b31b-5ee8fbc9d927",
   "metadata": {},
   "outputs": [
    {
     "name": "stdin",
     "output_type": "stream",
     "text": [
      " 7\n"
     ]
    },
    {
     "name": "stdout",
     "output_type": "stream",
     "text": [
      "7\n",
      "1\n"
     ]
    }
   ],
   "source": [
    "a = int(input())\n",
    "\n",
    "print(a)\n",
    "print(1)"
   ]
  },
  {
   "cell_type": "code",
   "execution_count": null,
   "id": "33d999dc-83d0-47e9-998b-239dde5a25d4",
   "metadata": {},
   "outputs": [],
   "source": []
  }
 ],
 "metadata": {
  "kernelspec": {
   "display_name": "Python 3 (ipykernel)",
   "language": "python",
   "name": "python3"
  },
  "language_info": {
   "codemirror_mode": {
    "name": "ipython",
    "version": 3
   },
   "file_extension": ".py",
   "mimetype": "text/x-python",
   "name": "python",
   "nbconvert_exporter": "python",
   "pygments_lexer": "ipython3",
   "version": "3.9.12"
  }
 },
 "nbformat": 4,
 "nbformat_minor": 5
}
