{
 "cells": [
  {
   "cell_type": "markdown",
   "id": "84f0496e-a835-4ff3-b1d7-e8cd635ef702",
   "metadata": {},
   "source": [
    "# q3\t19532\t수학은 비대면강의입니다"
   ]
  },
  {
   "cell_type": "code",
   "execution_count": 1,
   "id": "4ad4190d-50a5-46cb-90ed-4abbe073c36a",
   "metadata": {},
   "outputs": [
    {
     "name": "stdin",
     "output_type": "stream",
     "text": [
      " 1 3 -1 4 1 7\n"
     ]
    },
    {
     "name": "stdout",
     "output_type": "stream",
     "text": [
      "2 -1\n"
     ]
    }
   ],
   "source": [
    "a, b, c, d, e, f = map(int, input().split())\n",
    "\n",
    "for x in range(-999, 1000):\n",
    "    for y in range(-999, 1000):\n",
    "        if (a * x) + (b * y) == c:\n",
    "            if (d * x) + (e * y) == f:\n",
    "                print(x, y)"
   ]
  },
  {
   "cell_type": "code",
   "execution_count": null,
   "id": "93af3190-8098-4472-b91c-d6ae4b744e3e",
   "metadata": {},
   "outputs": [],
   "source": []
  }
 ],
 "metadata": {
  "kernelspec": {
   "display_name": "Python 3 (ipykernel)",
   "language": "python",
   "name": "python3"
  },
  "language_info": {
   "codemirror_mode": {
    "name": "ipython",
    "version": 3
   },
   "file_extension": ".py",
   "mimetype": "text/x-python",
   "name": "python",
   "nbconvert_exporter": "python",
   "pygments_lexer": "ipython3",
   "version": "3.9.12"
  }
 },
 "nbformat": 4,
 "nbformat_minor": 5
}
