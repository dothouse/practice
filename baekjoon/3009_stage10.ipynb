{
 "cells": [
  {
   "cell_type": "markdown",
   "id": "e76957a8-c1cb-441a-af18-8a2dcb3370c6",
   "metadata": {},
   "source": [
    "# q3\t3009\t네 번째 점"
   ]
  },
  {
   "cell_type": "code",
   "execution_count": 1,
   "id": "dd385b3f-ea59-4ee8-8e60-1b9c35c9ef17",
   "metadata": {},
   "outputs": [
    {
     "name": "stdin",
     "output_type": "stream",
     "text": [
      " 10 30\n",
      " 30 10\n",
      " 30 30\n"
     ]
    },
    {
     "name": "stdout",
     "output_type": "stream",
     "text": [
      "10 10 "
     ]
    }
   ],
   "source": [
    "w1, h1 = map(int, input().split())\n",
    "w2, h2 = map(int, input().split())\n",
    "w3, h3 = map(int, input().split())\n",
    "\n",
    "w = [w1, w2, w3]\n",
    "h = [h1, h2, h3]\n",
    "\n",
    "w4, h4 = 0, 0\n",
    "if w.count(min(w)) > w.count(max(w)):\n",
    "    w4 = max(w)\n",
    "else :\n",
    "    w4 = min(w)\n",
    "\n",
    "\n",
    "if h.count(min(h)) > h.count(max(h)):\n",
    "    h4 = max(h)\n",
    "else :\n",
    "    h4 = min(h)\n",
    "\n",
    "print(w4, h4, end = \" \")"
   ]
  },
  {
   "cell_type": "code",
   "execution_count": null,
   "id": "1a8139cf-7a9c-4802-a1d4-2d503d687a55",
   "metadata": {},
   "outputs": [],
   "source": []
  }
 ],
 "metadata": {
  "kernelspec": {
   "display_name": "Python 3 (ipykernel)",
   "language": "python",
   "name": "python3"
  },
  "language_info": {
   "codemirror_mode": {
    "name": "ipython",
    "version": 3
   },
   "file_extension": ".py",
   "mimetype": "text/x-python",
   "name": "python",
   "nbconvert_exporter": "python",
   "pygments_lexer": "ipython3",
   "version": "3.9.12"
  }
 },
 "nbformat": 4,
 "nbformat_minor": 5
}
