{
 "cells": [
  {
   "cell_type": "markdown",
   "id": "4bc02b4d-db68-46ca-b1c8-17c79f4eb952",
   "metadata": {},
   "source": [
    "# 10952\tA+B - 5"
   ]
  },
  {
   "cell_type": "code",
   "execution_count": null,
   "id": "efcff4ff-00b1-4139-b182-08e6bef8ae15",
   "metadata": {},
   "outputs": [],
   "source": [
    "while True:\n",
    "    a, b = map(int, input().split())\n",
    "    if (a == 0) & (b == 0):\n",
    "        break\n",
    "    else :\n",
    "        print(a + b)"
   ]
  }
 ],
 "metadata": {
  "kernelspec": {
   "display_name": "Python 3 (ipykernel)",
   "language": "python",
   "name": "python3"
  },
  "language_info": {
   "codemirror_mode": {
    "name": "ipython",
    "version": 3
   },
   "file_extension": ".py",
   "mimetype": "text/x-python",
   "name": "python",
   "nbconvert_exporter": "python",
   "pygments_lexer": "ipython3",
   "version": "3.9.12"
  }
 },
 "nbformat": 4,
 "nbformat_minor": 5
}
