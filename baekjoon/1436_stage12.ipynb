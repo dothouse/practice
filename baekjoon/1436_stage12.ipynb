{
 "cells": [
  {
   "cell_type": "markdown",
   "id": "89a6f2de-7f79-4886-907d-584a74780dea",
   "metadata": {},
   "source": [
    "# 1436\t영화감독 숌"
   ]
  },
  {
   "cell_type": "code",
   "execution_count": null,
   "id": "47e83e7f-fa8c-4f51-9578-5d691ae5b181",
   "metadata": {},
   "outputs": [],
   "source": [
    "# runtime error\n",
    "# 666이 연속으로 들어가야함\n",
    "\n",
    "N = int(input())\n",
    "\n",
    "six = []\n",
    "cnt = 0\n",
    "\n",
    "for i in range(10000):\n",
    "    numbers = list(map(int, str(i)))\n",
    "    if numbers.count(6) == 3:\n",
    "        cnt += 1\n",
    "        if cnt == N:\n",
    "            print(i)"
   ]
  },
  {
   "cell_type": "code",
   "execution_count": null,
   "id": "b12b584f-0550-40cb-b0f2-8b21ea804925",
   "metadata": {},
   "outputs": [],
   "source": [
    "# 재도전\n",
    "\n",
    "N = int(input())\n",
    "\n",
    "cnt = 0\n",
    "num = 100\n",
    "\n",
    "while cnt < N:\n",
    "    num += 1\n",
    "    if str(num).find('666') != -1:\n",
    "        cnt += 1\n",
    "    \n",
    "\n",
    "print(num)"
   ]
  }
 ],
 "metadata": {
  "kernelspec": {
   "display_name": "Python 3 (ipykernel)",
   "language": "python",
   "name": "python3"
  },
  "language_info": {
   "codemirror_mode": {
    "name": "ipython",
    "version": 3
   },
   "file_extension": ".py",
   "mimetype": "text/x-python",
   "name": "python",
   "nbconvert_exporter": "python",
   "pygments_lexer": "ipython3",
   "version": "3.9.12"
  }
 },
 "nbformat": 4,
 "nbformat_minor": 5
}
