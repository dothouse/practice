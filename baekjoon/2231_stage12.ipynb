{
 "cells": [
  {
   "cell_type": "markdown",
   "id": "5f73cd42-77ca-47d9-8dfb-ffcc39e096c2",
   "metadata": {},
   "source": [
    "# q2\t2231\t분해합"
   ]
  },
  {
   "cell_type": "code",
   "execution_count": 2,
   "id": "ecc588d0-075d-40e6-80b4-782593fc39a9",
   "metadata": {},
   "outputs": [
    {
     "name": "stdin",
     "output_type": "stream",
     "text": [
      " 216\n"
     ]
    },
    {
     "name": "stdout",
     "output_type": "stream",
     "text": [
      "198\n"
     ]
    }
   ],
   "source": [
    "N = int(input())\n",
    "\n",
    "result = []\n",
    "for i in range(0, N + 1):\n",
    "    sum_numbers = sum(map(int, str(i)))\n",
    "    P = sum_numbers + i\n",
    "    if P == N:\n",
    "        result.append(i)\n",
    "\n",
    "if len(result) > 0 :\n",
    "    print(min(result))\n",
    "else :\n",
    "    print(0)"
   ]
  },
  {
   "cell_type": "code",
   "execution_count": null,
   "id": "e0f3a0df-e137-4cfb-9a6a-b85eb1683155",
   "metadata": {},
   "outputs": [],
   "source": []
  }
 ],
 "metadata": {
  "kernelspec": {
   "display_name": "Python 3 (ipykernel)",
   "language": "python",
   "name": "python3"
  },
  "language_info": {
   "codemirror_mode": {
    "name": "ipython",
    "version": 3
   },
   "file_extension": ".py",
   "mimetype": "text/x-python",
   "name": "python",
   "nbconvert_exporter": "python",
   "pygments_lexer": "ipython3",
   "version": "3.9.12"
  }
 },
 "nbformat": 4,
 "nbformat_minor": 5
}
