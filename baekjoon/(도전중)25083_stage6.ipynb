{
 "cells": [
  {
   "cell_type": "markdown",
   "id": "ffe6bd0f-f15f-4fa3-b290-75b62c196ac4",
   "metadata": {},
   "source": [
    "# 25083\t새싹"
   ]
  },
  {
   "cell_type": "code",
   "execution_count": null,
   "id": "052f2bae-23bc-493a-96e0-e3532455be83",
   "metadata": {},
   "outputs": [],
   "source": []
  },
  {
   "cell_type": "code",
   "execution_count": null,
   "id": "6d6fe0da-b291-446a-b78a-16584d8b340d",
   "metadata": {},
   "outputs": [],
   "source": []
  }
 ],
 "metadata": {
  "kernelspec": {
   "display_name": "Python 3 (ipykernel)",
   "language": "python",
   "name": "python3"
  },
  "language_info": {
   "codemirror_mode": {
    "name": "ipython",
    "version": 3
   },
   "file_extension": ".py",
   "mimetype": "text/x-python",
   "name": "python",
   "nbconvert_exporter": "python",
   "pygments_lexer": "ipython3",
   "version": "3.9.12"
  }
 },
 "nbformat": 4,
 "nbformat_minor": 5
}
