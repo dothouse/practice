{
 "cells": [
  {
   "cell_type": "markdown",
   "id": "703cb188-daf4-4c81-ae98-57ec0b865a52",
   "metadata": {},
   "source": [
    "# 2588"
   ]
  },
  {
   "cell_type": "code",
   "execution_count": null,
   "id": "82802b59-e87e-46b8-93c9-1e25fc598d48",
   "metadata": {},
   "outputs": [],
   "source": [
    "a = int(input())\n",
    "b = int(input())\n",
    "\n",
    "one = a * (b % 10)\n",
    "two = a * ((b // 10) % 10)\n",
    "three = a * ((b // 100) % 10)\n",
    "\n",
    "print(one)\n",
    "print(two)\n",
    "print(three)\n",
    "print(a*b)"
   ]
  }
 ],
 "metadata": {
  "kernelspec": {
   "display_name": "Python 3 (ipykernel)",
   "language": "python",
   "name": "python3"
  },
  "language_info": {
   "codemirror_mode": {
    "name": "ipython",
    "version": 3
   },
   "file_extension": ".py",
   "mimetype": "text/x-python",
   "name": "python",
   "nbconvert_exporter": "python",
   "pygments_lexer": "ipython3",
   "version": "3.9.12"
  }
 },
 "nbformat": 4,
 "nbformat_minor": 5
}
