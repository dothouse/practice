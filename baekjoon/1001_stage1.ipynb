{
 "cells": [
  {
   "cell_type": "markdown",
   "id": "217b80ab-9a2d-4a27-abbd-b1e7e78dd5d8",
   "metadata": {},
   "source": [
    "# 1001"
   ]
  },
  {
   "cell_type": "code",
   "execution_count": null,
   "id": "15564658-2155-457d-a0aa-bf64c61ef206",
   "metadata": {},
   "outputs": [],
   "source": [
    "a, b= map(int, input().split())\n",
    "\n",
    "print(a-b)"
   ]
  }
 ],
 "metadata": {
  "kernelspec": {
   "display_name": "Python 3 (ipykernel)",
   "language": "python",
   "name": "python3"
  },
  "language_info": {
   "codemirror_mode": {
    "name": "ipython",
    "version": 3
   },
   "file_extension": ".py",
   "mimetype": "text/x-python",
   "name": "python",
   "nbconvert_exporter": "python",
   "pygments_lexer": "ipython3",
   "version": "3.9.12"
  }
 },
 "nbformat": 4,
 "nbformat_minor": 5
}
