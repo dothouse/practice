{
 "cells": [
  {
   "cell_type": "markdown",
   "id": "ec9dfe55-7109-47c2-8e59-8c2b1be3c2d9",
   "metadata": {},
   "source": [
    "# 2908"
   ]
  },
  {
   "cell_type": "code",
   "execution_count": null,
   "id": "8df2d009-f9ec-4121-a177-8ae644d0ca89",
   "metadata": {},
   "outputs": [],
   "source": [
    "young1, young2 = input().split()\n",
    "\n",
    "young1_r = int(young1[2] + young1[1] + young1[0])\n",
    "young2_r = int(young2[2] + young2[1] + young2[0])\n",
    "\n",
    "if young1_r > young2_r:\n",
    "    print(young1_r)\n",
    "else :\n",
    "    print(young2_r)"
   ]
  }
 ],
 "metadata": {
  "kernelspec": {
   "display_name": "Python 3 (ipykernel)",
   "language": "python",
   "name": "python3"
  },
  "language_info": {
   "codemirror_mode": {
    "name": "ipython",
    "version": 3
   },
   "file_extension": ".py",
   "mimetype": "text/x-python",
   "name": "python",
   "nbconvert_exporter": "python",
   "pygments_lexer": "ipython3",
   "version": "3.9.12"
  }
 },
 "nbformat": 4,
 "nbformat_minor": 5
}
