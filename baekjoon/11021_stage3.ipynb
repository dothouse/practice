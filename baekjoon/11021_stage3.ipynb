{
 "cells": [
  {
   "cell_type": "markdown",
   "id": "033e6eac-5441-42d4-80ba-df928a14cbd5",
   "metadata": {},
   "source": [
    "# 11021\tA+B - 7"
   ]
  },
  {
   "cell_type": "code",
   "execution_count": null,
   "id": "6b1a7d7d-4691-4e8b-b91e-f08c1f1cda9a",
   "metadata": {},
   "outputs": [],
   "source": [
    "n = int(input())\n",
    "\n",
    "for i in range(n):\n",
    "    a, b = map(int, input().split())\n",
    "    print(f\"Case #{i+1}: {a+b}\")"
   ]
  }
 ],
 "metadata": {
  "kernelspec": {
   "display_name": "Python 3 (ipykernel)",
   "language": "python",
   "name": "python3"
  },
  "language_info": {
   "codemirror_mode": {
    "name": "ipython",
    "version": 3
   },
   "file_extension": ".py",
   "mimetype": "text/x-python",
   "name": "python",
   "nbconvert_exporter": "python",
   "pygments_lexer": "ipython3",
   "version": "3.9.12"
  }
 },
 "nbformat": 4,
 "nbformat_minor": 5
}
