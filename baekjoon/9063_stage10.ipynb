{
 "cells": [
  {
   "cell_type": "markdown",
   "id": "a8477f92-b587-4c31-844f-cd6740c6b14c",
   "metadata": {},
   "source": [
    "# 9063 대지"
   ]
  },
  {
   "cell_type": "code",
   "execution_count": 1,
   "id": "45da9283-3eff-47a5-8cff-6e653bf7e16c",
   "metadata": {},
   "outputs": [
    {
     "name": "stdin",
     "output_type": "stream",
     "text": [
      " 4\n",
      " 2 1\n",
      " 3 2\n",
      " 5 2\n",
      " 3 4\n"
     ]
    },
    {
     "name": "stdout",
     "output_type": "stream",
     "text": [
      "9\n"
     ]
    }
   ],
   "source": [
    "N = int(input())\n",
    "x_list, y_list = [], []\n",
    "\n",
    "for i in range(N):\n",
    "    x, y = map(int, input().split())\n",
    "    x_list.append(x)\n",
    "    y_list.append(y)\n",
    "\n",
    "if N < 2:\n",
    "    print(0)\n",
    "else :\n",
    "    print((max(x_list) - min(x_list)) * (max(y_list) - min(y_list)))"
   ]
  },
  {
   "cell_type": "code",
   "execution_count": 2,
   "id": "726bfb4e-9d62-4775-8a3b-5083c1ace509",
   "metadata": {},
   "outputs": [],
   "source": [
    "# 만약 입력이 1개인 경우 사각형을 이룰수 없기 때문에\n",
    "# 마지막에 N이 1인경우 \n",
    "# 0을 출력"
   ]
  },
  {
   "cell_type": "code",
   "execution_count": null,
   "id": "3192b5da-7cdb-41ad-861e-94084f389bd9",
   "metadata": {},
   "outputs": [],
   "source": []
  }
 ],
 "metadata": {
  "kernelspec": {
   "display_name": "Python 3 (ipykernel)",
   "language": "python",
   "name": "python3"
  },
  "language_info": {
   "codemirror_mode": {
    "name": "ipython",
    "version": 3
   },
   "file_extension": ".py",
   "mimetype": "text/x-python",
   "name": "python",
   "nbconvert_exporter": "python",
   "pygments_lexer": "ipython3",
   "version": "3.9.12"
  }
 },
 "nbformat": 4,
 "nbformat_minor": 5
}
