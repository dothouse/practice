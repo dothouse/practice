{
 "cells": [
  {
   "cell_type": "markdown",
   "id": "7e298616-5711-490f-8b85-1d197436a1a4",
   "metadata": {},
   "source": [
    "# 15552 빠른 A+B"
   ]
  },
  {
   "cell_type": "code",
   "execution_count": null,
   "id": "85a6a8e4-e1b8-419d-a318-105632af2493",
   "metadata": {},
   "outputs": [],
   "source": [
    "import sys \n",
    "num_case = int(input())\n",
    "\n",
    "for i in range(num_case):\n",
    "    a, b = map(int, sys.stdin.readline().split())\n",
    "    print(a+b)"
   ]
  }
 ],
 "metadata": {
  "kernelspec": {
   "display_name": "Python 3 (ipykernel)",
   "language": "python",
   "name": "python3"
  },
  "language_info": {
   "codemirror_mode": {
    "name": "ipython",
    "version": 3
   },
   "file_extension": ".py",
   "mimetype": "text/x-python",
   "name": "python",
   "nbconvert_exporter": "python",
   "pygments_lexer": "ipython3",
   "version": "3.9.12"
  }
 },
 "nbformat": 4,
 "nbformat_minor": 5
}
