{
 "cells": [
  {
   "cell_type": "markdown",
   "id": "e8391e9b-b147-4218-9ba3-bb5135197b00",
   "metadata": {},
   "source": [
    "# 5622"
   ]
  },
  {
   "cell_type": "code",
   "execution_count": null,
   "id": "ddf4b289-34cc-400c-b047-e64d333e0d45",
   "metadata": {},
   "outputs": [],
   "source": [
    "dial = ['ABC', 'DEF', 'GHI', 'JKL', 'MNO', 'PQRS', 'TUV', 'WXYZ']\n",
    "\n",
    "data5622 = input()\n",
    "total = 0\n",
    "\n",
    "for i in range(len(data5622)):\n",
    "    for j in dial:\n",
    "        if data5622[i] in j:\n",
    "            total += dial.index(j)+3\n",
    "print(total)"
   ]
  },
  {
   "cell_type": "code",
   "execution_count": null,
   "id": "ee2ec6ea-a635-4fa7-be48-85a79a520cba",
   "metadata": {},
   "outputs": [],
   "source": [
    "# 1차시도\n",
    "\n",
    "import re\n",
    "\n",
    "case10 = list(input())\n",
    "\n",
    "num = 0\n",
    "for i in case10:\n",
    "\n",
    "    if re.findall('[A-C]', i) != []:\n",
    "        num += 3\n",
    "    elif re.findall('[D-F]', i) != []:\n",
    "        num += 4\n",
    "    elif re.findall('[G-I]', i) != []:\n",
    "        num += 5\n",
    "    elif re.findall('[J-L]', i) != []:\n",
    "        num += 6\n",
    "    elif re.findall('[M-O]', i) != []:\n",
    "        num += 7\n",
    "    elif re.findall('[P-S]', i) != []:\n",
    "        num += 8\n",
    "    elif re.findall('[T-V]', i) != []:\n",
    "        num += 9\n",
    "    elif re.findall('[W-Z]', i) != []:\n",
    "        num += 10\n",
    "\n",
    "print(num)"
   ]
  }
 ],
 "metadata": {
  "kernelspec": {
   "display_name": "Python 3 (ipykernel)",
   "language": "python",
   "name": "python3"
  },
  "language_info": {
   "codemirror_mode": {
    "name": "ipython",
    "version": 3
   },
   "file_extension": ".py",
   "mimetype": "text/x-python",
   "name": "python",
   "nbconvert_exporter": "python",
   "pygments_lexer": "ipython3",
   "version": "3.9.12"
  }
 },
 "nbformat": 4,
 "nbformat_minor": 5
}
