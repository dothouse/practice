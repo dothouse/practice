{
 "cells": [
  {
   "cell_type": "markdown",
   "id": "13bf45db-2288-47ee-903f-7bad742bc581",
   "metadata": {},
   "source": [
    "# 10810\t공 넣기"
   ]
  },
  {
   "cell_type": "code",
   "execution_count": null,
   "id": "d3e3383c-1eab-41f8-b001-cae6744884f9",
   "metadata": {},
   "outputs": [],
   "source": [
    "N, M = map(int, input().split())\n",
    "\n",
    "lst = [0] * N\n",
    "\n",
    "for _ in range(M):\n",
    "    i, j, k = map(int, input().split())\n",
    "    for b in range(i, j+1):\n",
    "        lst[b-1] = k\n",
    "\n",
    "for i in range(N):\n",
    "    print(lst[i], end = ' ')\n",
    "    "
   ]
  }
 ],
 "metadata": {
  "kernelspec": {
   "display_name": "Python 3 (ipykernel)",
   "language": "python",
   "name": "python3"
  },
  "language_info": {
   "codemirror_mode": {
    "name": "ipython",
    "version": 3
   },
   "file_extension": ".py",
   "mimetype": "text/x-python",
   "name": "python",
   "nbconvert_exporter": "python",
   "pygments_lexer": "ipython3",
   "version": "3.9.12"
  }
 },
 "nbformat": 4,
 "nbformat_minor": 5
}
