{
 "cells": [
  {
   "cell_type": "markdown",
   "id": "8050101c-5b21-481a-9a0e-be3a2ebf5be6",
   "metadata": {},
   "source": [
    "# 9 약수, 배수와 소수"
   ]
  },
  {
   "cell_type": "markdown",
   "id": "003c7ba9-9d34-4229-bb88-196ae1b78dc7",
   "metadata": {},
   "source": [
    "### q1\t5086\t배수와 약수"
   ]
  },
  {
   "cell_type": "code",
   "execution_count": 12,
   "id": "4979968c-1c00-43b5-8ad3-6d028a7c9b63",
   "metadata": {},
   "outputs": [
    {
     "name": "stdin",
     "output_type": "stream",
     "text": [
      " 8 16\n"
     ]
    },
    {
     "name": "stdout",
     "output_type": "stream",
     "text": [
      "factor\n"
     ]
    },
    {
     "name": "stdin",
     "output_type": "stream",
     "text": [
      " 32 4\n"
     ]
    },
    {
     "name": "stdout",
     "output_type": "stream",
     "text": [
      "multiple\n"
     ]
    },
    {
     "name": "stdin",
     "output_type": "stream",
     "text": [
      " 17 5\n"
     ]
    },
    {
     "name": "stdout",
     "output_type": "stream",
     "text": [
      "neither\n"
     ]
    },
    {
     "name": "stdin",
     "output_type": "stream",
     "text": [
      " 0 0\n"
     ]
    }
   ],
   "source": [
    "c = 0\n",
    "\n",
    "while True:\n",
    "    a, b = map(int, input().split())\n",
    "    if a == 0 & b == 0:\n",
    "        break\n",
    "    else :\n",
    "        if b % a == 0:\n",
    "            c = 'factor'\n",
    "        elif a % b == 0:\n",
    "            c = 'multiple'\n",
    "        elif (b % a == 0) & (a % b == 0):\n",
    "            c = 'both'\n",
    "        else :\n",
    "            c = 'neither'\n",
    "        print(c)\n"
   ]
  },
  {
   "cell_type": "markdown",
   "id": "a2f3adb2-0202-4850-9ab2-38abfbb0d720",
   "metadata": {},
   "source": [
    "### q2\t2501\t약수 구하기"
   ]
  },
  {
   "cell_type": "code",
   "execution_count": 25,
   "id": "8ca2a045-bf1a-46ca-8e4c-a2efaeb77427",
   "metadata": {},
   "outputs": [
    {
     "name": "stdin",
     "output_type": "stream",
     "text": [
      " 6 3\n"
     ]
    },
    {
     "name": "stdout",
     "output_type": "stream",
     "text": [
      "3\n"
     ]
    }
   ],
   "source": [
    "a, b = map(int, input().split())\n",
    "\n",
    "factors = []\n",
    "\n",
    "for i in range(1, a+1):\n",
    "    if a % i == 0:\n",
    "        factors.append(i)\n",
    "\n",
    "if b <= len(factors):\n",
    "    print(factors[b-1])\n",
    "else :\n",
    "    print(0)\n",
    "    \n",
    "\n",
    "\n",
    "\n"
   ]
  },
  {
   "cell_type": "markdown",
   "id": "6f9b7a8d-5e70-4ed0-b7c7-9e04768d1673",
   "metadata": {},
   "source": [
    "### q3\t9506\t약수들의 합"
   ]
  },
  {
   "cell_type": "code",
   "execution_count": 79,
   "id": "a17242cc-1a8a-4270-8664-516174952b08",
   "metadata": {},
   "outputs": [
    {
     "name": "stdin",
     "output_type": "stream",
     "text": [
      " 6\n"
     ]
    },
    {
     "name": "stdout",
     "output_type": "stream",
     "text": [
      "6 = 1 + 2 + 3\n"
     ]
    },
    {
     "name": "stdin",
     "output_type": "stream",
     "text": [
      " -1\n"
     ]
    }
   ],
   "source": [
    "\n",
    "\n",
    "while True:\n",
    "    a = int(input())\n",
    "    factors = []\n",
    "    if a == -1:\n",
    "        break\n",
    "    else:\n",
    "        for i in range(1, a):            \n",
    "            if a % i == 0:\n",
    "                factors.append(i)\n",
    "            \n",
    "        if sum(factors) == a:\n",
    "            print(a, \" = \", \" + \".join(str(i) for i in factors), sep=\"\")\n",
    "        else :\n",
    "            print(a, \"is NOT perfect.\")\n",
    "\n",
    "\n",
    "    "
   ]
  },
  {
   "cell_type": "markdown",
   "id": "68a50431-1c74-488d-bcd4-aaea8d945612",
   "metadata": {},
   "source": [
    "### q4\t1978\t소수 찾기"
   ]
  },
  {
   "cell_type": "code",
   "execution_count": 99,
   "id": "cede9c00-ec9f-4b44-a102-fe1a2af87b31",
   "metadata": {},
   "outputs": [
    {
     "name": "stdin",
     "output_type": "stream",
     "text": [
      " 4\n",
      " 1 2 3 12 25\n"
     ]
    },
    {
     "name": "stdout",
     "output_type": "stream",
     "text": [
      "2\n"
     ]
    }
   ],
   "source": [
    "N = int(input())\n",
    "\n",
    "numbers = [i for i in map(int, input().split())]\n",
    "result = 0\n",
    "\n",
    "for j in numbers:\n",
    "    cnt = 0\n",
    "    for k in range(1, j):\n",
    "        if j % k == 0:\n",
    "            cnt += 1\n",
    "\n",
    "    if cnt == 1:\n",
    "        result += 1\n",
    "\n",
    "print(result)"
   ]
  },
  {
   "cell_type": "markdown",
   "id": "41e386c6-36dc-48b4-991e-a4782c4e5b4e",
   "metadata": {},
   "source": [
    "### q5\t2581\t소수"
   ]
  },
  {
   "cell_type": "code",
   "execution_count": 110,
   "id": "500fb9cf-1301-4a77-ae67-36e769ceffde",
   "metadata": {},
   "outputs": [
    {
     "name": "stdin",
     "output_type": "stream",
     "text": [
      " 60\n",
      " 100\n"
     ]
    },
    {
     "name": "stdout",
     "output_type": "stream",
     "text": [
      "620\n",
      "61\n"
     ]
    }
   ],
   "source": [
    "M = int(input())\n",
    "N = int(input())\n",
    "lst = []\n",
    "\n",
    "for i in range(M, N+1):\n",
    "    cnt = 0\n",
    "    for j in range(1, i):\n",
    "        if i % j == 0:\n",
    "            cnt += 1\n",
    "    if cnt == 1:\n",
    "        lst.append(i)\n",
    "\n",
    "if sum(lst) == 0:\n",
    "    print(-1)\n",
    "else :\n",
    "    print(sum(lst), lst[0], sep = '\\n')\n",
    "\n",
    "        "
   ]
  },
  {
   "cell_type": "markdown",
   "id": "f184655b-8e08-4b08-a278-60c0b83df2f6",
   "metadata": {},
   "source": [
    "### q6\t11653\t소인수분해"
   ]
  },
  {
   "cell_type": "code",
   "execution_count": 114,
   "id": "b5858585-b537-43db-a5fe-17c5f8876fde",
   "metadata": {},
   "outputs": [
    {
     "name": "stdin",
     "output_type": "stream",
     "text": [
      " 10\n"
     ]
    },
    {
     "name": "stdout",
     "output_type": "stream",
     "text": [
      "[]\n",
      "[]\n",
      "[]\n",
      "[]\n",
      "[2]\n",
      "[]\n",
      "[2, 3, 3]\n",
      "[]\n",
      "[2, 4, 4, 4]\n",
      "[3, 3]\n",
      "[2, 5, 5, 5, 5]\n"
     ]
    }
   ],
   "source": [
    "N = int(input())\n",
    "factor_lst = []\n",
    "\n",
    "while N > 1:      \n",
    "    for i in range(2, N+1):\n",
    "        if N % i == 0:\n",
    "            N = N // i\n",
    "            factor_lst.append(i)\n",
    "            break\n",
    "            \n",
    "print(*factor_lst, sep = '\\n')"
   ]
  }
 ],
 "metadata": {
  "kernelspec": {
   "display_name": "Python 3 (ipykernel)",
   "language": "python",
   "name": "python3"
  },
  "language_info": {
   "codemirror_mode": {
    "name": "ipython",
    "version": 3
   },
   "file_extension": ".py",
   "mimetype": "text/x-python",
   "name": "python",
   "nbconvert_exporter": "python",
   "pygments_lexer": "ipython3",
   "version": "3.9.12"
  }
 },
 "nbformat": 4,
 "nbformat_minor": 5
}
