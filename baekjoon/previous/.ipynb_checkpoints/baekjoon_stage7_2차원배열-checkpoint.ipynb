{
 "cells": [
  {
   "cell_type": "code",
   "execution_count": 22,
   "id": "1e708688-121d-41c1-a7f4-b28bda2fd9f9",
   "metadata": {},
   "outputs": [
    {
     "name": "stdin",
     "output_type": "stream",
     "text": [
      " \n"
     ]
    },
    {
     "ename": "ValueError",
     "evalue": "not enough values to unpack (expected 2, got 0)",
     "output_type": "error",
     "traceback": [
      "\u001b[1;31m---------------------------------------------------------------------------\u001b[0m",
      "\u001b[1;31mValueError\u001b[0m                                Traceback (most recent call last)",
      "Cell \u001b[1;32mIn[22], line 3\u001b[0m\n\u001b[0;32m      1\u001b[0m \u001b[38;5;66;03m# 1\t2738\t행렬 덧셈\u001b[39;00m\n\u001b[1;32m----> 3\u001b[0m N, M \u001b[38;5;241m=\u001b[39m \u001b[38;5;28mmap\u001b[39m(\u001b[38;5;28mint\u001b[39m, \u001b[38;5;28minput\u001b[39m()\u001b[38;5;241m.\u001b[39msplit())\n\u001b[0;32m      5\u001b[0m matrix_1 \u001b[38;5;241m=\u001b[39m []\n\u001b[0;32m      6\u001b[0m matrix_2 \u001b[38;5;241m=\u001b[39m []\n",
      "\u001b[1;31mValueError\u001b[0m: not enough values to unpack (expected 2, got 0)"
     ]
    }
   ],
   "source": [
    "# 1\t2738\t행렬 덧셈\n",
    "\n",
    "N, M = map(int, input().split())\n",
    "\n",
    "matrix_1 = []\n",
    "matrix_2 = []\n",
    "\n",
    "for i in range(N):\n",
    "    row1 = list(map(int, input().split()))\n",
    "    matrix_1.append(row1)\n",
    "\n",
    "for j in range(N):\n",
    "    row2 = list(map(int, input().split()))\n",
    "    matrix_2.append(row2)\n",
    "\n",
    "\n",
    "for k in range(N):\n",
    "    for q in range(M):\n",
    "        print(matrix_1[k][q] + matrix_2[k][q], end = ' ')\n",
    "    print()"
   ]
  },
  {
   "cell_type": "code",
   "execution_count": 41,
   "id": "d13e0e3a-74d8-4fa3-8770-189b21d53fa1",
   "metadata": {},
   "outputs": [
    {
     "name": "stdin",
     "output_type": "stream",
     "text": [
      " 3 23 85 34 17 74 25 52 65\n",
      " 10 7 39 42 88 52 14 72 63\n",
      " 87 42 18 78 53 45 18 84 53\n",
      " 34 28 64 85 12 16 75 36 55\n",
      " 21 77 45 35 28 75 90 76 1\n",
      " 25 87 65 15 28 11 37 28 74\n",
      " 65 27 75 41 7 89 78 64 39\n",
      " 47 47 70 45 23 65 3 41 44\n",
      " 87 13 82 38 31 12 29 29 80\n"
     ]
    },
    {
     "name": "stdout",
     "output_type": "stream",
     "text": [
      "90\n",
      "5 7\n"
     ]
    }
   ],
   "source": [
    "# 2\t2566\t최댓값\n",
    "matrix = []\n",
    "max_list = []\n",
    "\n",
    "for i in range(9):\n",
    "    row = list(map(int, input().split()))\n",
    "    matrix.append(row)\n",
    "    max_list.append(max(matrix[i]))\n",
    "    max_result = max(max_list)\n",
    "    \n",
    "print(max_result)\n",
    "print(max_list.index(max_result)+1, matrix[max_list.index(max_result)].index(max_result)+1)\n",
    "                    \n"
   ]
  },
  {
   "cell_type": "code",
   "execution_count": 75,
   "id": "676132bf-da69-4e93-a351-423a885ca17c",
   "metadata": {},
   "outputs": [
    {
     "name": "stdin",
     "output_type": "stream",
     "text": [
      " ABCDE\n",
      " abcde\n",
      " 01234\n",
      " GHIJ\n",
      " fghij\n"
     ]
    },
    {
     "name": "stdout",
     "output_type": "stream",
     "text": [
      "AaAbBcCdDeDAa0GfBb1HgCc2IhDd3JiEe4j\n"
     ]
    }
   ],
   "source": [
    "# 3\t10798\t세로읽기\n",
    "words = []\n",
    "\n",
    "for i in range(5):\n",
    "    row = list(str(input()))\n",
    "    row15 = []\n",
    "    for j in range(len(row)):\n",
    "        row15.append(row[j])\n",
    "    for k in range(15-len(row)):\n",
    "        row15.append(\"\")\n",
    "    words.append(row15)\n",
    "\n",
    "for a in range(15):\n",
    "    for b in range(len(words)):\n",
    "        test = words[b][a]\n",
    "        final.append(test)\n",
    "\n",
    "print(\"\".join(final))\n",
    "\n",
    "    "
   ]
  },
  {
   "cell_type": "code",
   "execution_count": 82,
   "id": "5e3345a2-a984-44c1-b73d-299572e19f00",
   "metadata": {},
   "outputs": [
    {
     "name": "stdout",
     "output_type": "stream",
     "text": [
      "Aa0FfBb1GgCc2HhDd3IiEe4Jj"
     ]
    }
   ],
   "source": [
    "# 3\t10798\t세로읽기\n",
    "\n",
    "words = [input() for i in range(5)]\n",
    "\n",
    "for j in range(15):\n",
    "    for i in range(5):\n",
    "        if j < len(words[i]):\n",
    "            print(words[i][j], end =\"\")\n",
    "        \n",
    "\n",
    "words = [input() for i in range(5)]\n",
    "\n",
    "for j in range(15):\n",
    "    for i in range(5):\n",
    "        if j < len(words[i]):\n",
    "            print(words[i][j], end='')\n",
    "\n",
    "        "
   ]
  },
  {
   "cell_type": "code",
   "execution_count": 4,
   "id": "8ee5fc06-e5e5-4426-972f-eac73947a314",
   "metadata": {},
   "outputs": [
    {
     "name": "stdin",
     "output_type": "stream",
     "text": [
      " 1\n",
      " 3 7\n"
     ]
    },
    {
     "name": "stdout",
     "output_type": "stream",
     "text": [
      "100\n"
     ]
    }
   ],
   "source": [
    "# 4\t2563\t색종이\n",
    "N = int(input())\n",
    "paper = [[0] * 100 for _ in range(100)]\n",
    "\n",
    "for _ in range(N):\n",
    "    width, height = map(int, input().split())\n",
    "    \n",
    "    for i in range(height, height + 10):\n",
    "        for j in range(width, width + 10):\n",
    "            paper[i][j] = 1\n",
    "\n",
    "total = 0\n",
    "for n in range(100):\n",
    "    total += sum(paper[n])\n",
    "\n",
    "print(total)"
   ]
  }
 ],
 "metadata": {
  "kernelspec": {
   "display_name": "Python 3 (ipykernel)",
   "language": "python",
   "name": "python3"
  },
  "language_info": {
   "codemirror_mode": {
    "name": "ipython",
    "version": 3
   },
   "file_extension": ".py",
   "mimetype": "text/x-python",
   "name": "python",
   "nbconvert_exporter": "python",
   "pygments_lexer": "ipython3",
   "version": "3.9.12"
  }
 },
 "nbformat": 4,
 "nbformat_minor": 5
}
