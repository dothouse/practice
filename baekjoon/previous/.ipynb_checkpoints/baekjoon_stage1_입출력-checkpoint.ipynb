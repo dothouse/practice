{
 "cells": [
  {
   "cell_type": "code",
   "execution_count": 1,
   "metadata": {
    "colab": {
     "base_uri": "https://localhost:8080/"
    },
    "executionInfo": {
     "elapsed": 9,
     "status": "ok",
     "timestamp": 1698234113027,
     "user": {
      "displayName": "송진석",
      "userId": "14796603013551188771"
     },
     "user_tz": -540
    },
    "id": "NvKhMErjofJd",
    "outputId": "44be60ae-e4aa-4e10-efc5-d175900e9f47"
   },
   "outputs": [
    {
     "name": "stdout",
     "output_type": "stream",
     "text": [
      "Hello World!\n"
     ]
    }
   ],
   "source": [
    "# 2557\n",
    "\n",
    "print(\"Hello World!\")"
   ]
  },
  {
   "cell_type": "code",
   "execution_count": 7,
   "metadata": {
    "colab": {
     "base_uri": "https://localhost:8080/"
    },
    "executionInfo": {
     "elapsed": 3096,
     "status": "ok",
     "timestamp": 1698234566572,
     "user": {
      "displayName": "송진석",
      "userId": "14796603013551188771"
     },
     "user_tz": -540
    },
    "id": "QQDVqM3RpAAC",
    "outputId": "ae5ec420-e80b-4456-dae2-9238a912e900"
   },
   "outputs": [
    {
     "name": "stdout",
     "output_type": "stream",
     "text": [
      "두 수를 입력하세요1 2\n",
      "3\n"
     ]
    }
   ],
   "source": [
    "# 1000\n",
    "\n",
    "a, b= map(int, input().split())\n",
    "\n",
    "print(a+b)"
   ]
  },
  {
   "cell_type": "code",
   "execution_count": null,
   "metadata": {},
   "outputs": [],
   "source": [
    "# 1001\n",
    "\n",
    "a, b= map(int, input().split())\n",
    "\n",
    "print(a-b)"
   ]
  },
  {
   "cell_type": "code",
   "execution_count": null,
   "metadata": {
    "id": "o1DTctBlsbRD"
   },
   "outputs": [],
   "source": [
    "# 10098\n",
    "\n",
    "a, b= map(int, input().split())\n",
    "\n",
    "print(a*b)"
   ]
  },
  {
   "cell_type": "code",
   "execution_count": null,
   "metadata": {
    "id": "cfjhEo3CsUkV"
   },
   "outputs": [],
   "source": [
    "# 1008\n",
    "\n",
    "a, b= map(int, input().split())\n",
    "\n",
    "print(a/b)"
   ]
  },
  {
   "cell_type": "code",
   "execution_count": 14,
   "metadata": {
    "colab": {
     "base_uri": "https://localhost:8080/"
    },
    "executionInfo": {
     "elapsed": 3023,
     "status": "ok",
     "timestamp": 1698235371754,
     "user": {
      "displayName": "송진석",
      "userId": "14796603013551188771"
     },
     "user_tz": -540
    },
    "id": "8pTAlmDCsy7X",
    "outputId": "ec06ab11-8249-4498-953f-0c5117fc24b7"
   },
   "outputs": [
    {
     "name": "stdout",
     "output_type": "stream",
     "text": [
      "7 3\n",
      "10\n",
      "4\n",
      "21\n",
      "2\n",
      "1\n"
     ]
    }
   ],
   "source": [
    "# 10896\n",
    "a, b = map(int, input().split())\n",
    "\n",
    "print(a+b)\n",
    "print(a-b)\n",
    "print(a*b)\n",
    "print(a//b)\n",
    "print(a%b)"
   ]
  },
  {
   "cell_type": "code",
   "execution_count": 16,
   "metadata": {
    "colab": {
     "base_uri": "https://localhost:8080/"
    },
    "executionInfo": {
     "elapsed": 4271,
     "status": "ok",
     "timestamp": 1698235518777,
     "user": {
      "displayName": "송진석",
      "userId": "14796603013551188771"
     },
     "user_tz": -540
    },
    "id": "x0-v1AtMtKG-",
    "outputId": "c1c551f8-b954-4edb-f88c-b60b2d227183"
   },
   "outputs": [
    {
     "name": "stdout",
     "output_type": "stream",
     "text": [
      "joonas\n",
      "joonas??!\n"
     ]
    }
   ],
   "source": [
    "# 10926\n",
    "\n",
    "a = input()\n",
    "print(f'{a}??!')"
   ]
  },
  {
   "cell_type": "code",
   "execution_count": 18,
   "metadata": {
    "colab": {
     "base_uri": "https://localhost:8080/"
    },
    "executionInfo": {
     "elapsed": 3202,
     "status": "ok",
     "timestamp": 1698235634085,
     "user": {
      "displayName": "송진석",
      "userId": "14796603013551188771"
     },
     "user_tz": -540
    },
    "id": "DLPFFeh3uUT0",
    "outputId": "9c28c1fc-325b-415b-b384-d405052ab964"
   },
   "outputs": [
    {
     "name": "stdout",
     "output_type": "stream",
     "text": [
      "2541\n",
      "1998\n"
     ]
    }
   ],
   "source": [
    "# 18108\n",
    "\n",
    "a = int(input()) - (2541 - 1998)\n",
    "print(a)"
   ]
  },
  {
   "cell_type": "code",
   "execution_count": 19,
   "metadata": {
    "colab": {
     "base_uri": "https://localhost:8080/"
    },
    "executionInfo": {
     "elapsed": 2907,
     "status": "ok",
     "timestamp": 1698235803380,
     "user": {
      "displayName": "송진석",
      "userId": "14796603013551188771"
     },
     "user_tz": -540
    },
    "id": "tZiRl0qWuwbU",
    "outputId": "4ee41aa8-f47c-4a18-84c5-7141ce8562a5"
   },
   "outputs": [
    {
     "name": "stdout",
     "output_type": "stream",
     "text": [
      "5 8 4\n",
      "1\n",
      "1\n",
      "0\n",
      "0\n"
     ]
    }
   ],
   "source": [
    "# 10430\n",
    "\n",
    "A, B, C = map(int, input().split())\n",
    "\n",
    "print((A+B)%C)\n",
    "print(((A%C) + (B%C))%C)\n",
    "print((A*B)%C)\n",
    "print(((A%C)*(B%C))%C)\n",
    "\n",
    "\n"
   ]
  },
  {
   "cell_type": "code",
   "execution_count": 22,
   "metadata": {
    "colab": {
     "base_uri": "https://localhost:8080/"
    },
    "executionInfo": {
     "elapsed": 5287,
     "status": "ok",
     "timestamp": 1698236093187,
     "user": {
      "displayName": "송진석",
      "userId": "14796603013551188771"
     },
     "user_tz": -540
    },
    "id": "SOU8NdJyvdi9",
    "outputId": "d6f1ca38-a944-434b-ed2f-9982a1e348b7"
   },
   "outputs": [
    {
     "name": "stdout",
     "output_type": "stream",
     "text": [
      "472\n",
      "385\n",
      "2360\n",
      "3776\n",
      "1416\n",
      "181720\n"
     ]
    }
   ],
   "source": [
    "# 2588\n",
    "\n",
    "a = int(input())\n",
    "b = int(input())\n",
    "\n",
    "one = a * (b % 10)\n",
    "two = a * ((b // 10) % 10)\n",
    "three = a * ((b // 100) % 10)\n",
    "\n",
    "print(one)\n",
    "print(two)\n",
    "print(three)\n",
    "print(a*b)"
   ]
  },
  {
   "cell_type": "code",
   "execution_count": 26,
   "metadata": {
    "colab": {
     "base_uri": "https://localhost:8080/"
    },
    "executionInfo": {
     "elapsed": 5791,
     "status": "ok",
     "timestamp": 1698236328855,
     "user": {
      "displayName": "송진석",
      "userId": "14796603013551188771"
     },
     "user_tz": -540
    },
    "id": "oT8M-608wJCN",
    "outputId": "f38f7a06-336b-4ec0-c5a8-3792c969d410"
   },
   "outputs": [
    {
     "name": "stdout",
     "output_type": "stream",
     "text": [
      "77 77 7777\n",
      "7931\n"
     ]
    }
   ],
   "source": [
    "#11382\n",
    "\n",
    "a, b, c = map(int, input().split())\n",
    "\n",
    "\n",
    "print(a+b+c)"
   ]
  },
  {
   "cell_type": "code",
   "execution_count": 29,
   "metadata": {
    "colab": {
     "base_uri": "https://localhost:8080/"
    },
    "executionInfo": {
     "elapsed": 9,
     "status": "ok",
     "timestamp": 1698236544586,
     "user": {
      "displayName": "송진석",
      "userId": "14796603013551188771"
     },
     "user_tz": -540
    },
    "id": "LR_UXU28wLVz",
    "outputId": "97aa060d-2e4b-45d5-84b4-2a78e249bed2"
   },
   "outputs": [
    {
     "name": "stdout",
     "output_type": "stream",
     "text": [
      "\\    /\\\n",
      " )  ( ')\n",
      "(  /  )\n",
      " \\(__)|\n"
     ]
    }
   ],
   "source": [
    "#10171\n",
    "\n",
    "print(\"\\\\    /\\\\\")\n",
    "print(\" )  ( ')\")\n",
    "print(\"(  /  )\")\n",
    "print(\" \\\\(__)|\")"
   ]
  },
  {
   "cell_type": "code",
   "execution_count": null,
   "metadata": {
    "id": "Y9now4jeyCA2"
   },
   "outputs": [],
   "source": [
    "# 10172\n",
    "\n"
   ]
  }
 ],
 "metadata": {
  "colab": {
   "authorship_tag": "ABX9TyPPshSuRmHG9PlgpzZxX3gl",
   "provenance": []
  },
  "kernelspec": {
   "display_name": "Python 3 (ipykernel)",
   "language": "python",
   "name": "python3"
  },
  "language_info": {
   "codemirror_mode": {
    "name": "ipython",
    "version": 3
   },
   "file_extension": ".py",
   "mimetype": "text/x-python",
   "name": "python",
   "nbconvert_exporter": "python",
   "pygments_lexer": "ipython3",
   "version": "3.9.12"
  }
 },
 "nbformat": 4,
 "nbformat_minor": 4
}
