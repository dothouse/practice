{
 "cells": [
  {
   "cell_type": "markdown",
   "id": "06adbce1-5fed-4c83-96e2-d65fe7e05caa",
   "metadata": {},
   "source": [
    "# 10 기하: 직사각형과 삼각형"
   ]
  },
  {
   "cell_type": "markdown",
   "id": "02a140b2-415c-4b3c-8da7-c6869ad61a2f",
   "metadata": {},
   "source": [
    "### q1\t27323\t직사각형"
   ]
  },
  {
   "cell_type": "code",
   "execution_count": 1,
   "id": "4d0f3d34-a681-4495-960b-9ac577bfa955",
   "metadata": {},
   "outputs": [
    {
     "name": "stdin",
     "output_type": "stream",
     "text": [
      " 2\n",
      " 3\n"
     ]
    },
    {
     "name": "stdout",
     "output_type": "stream",
     "text": [
      "6\n"
     ]
    }
   ],
   "source": [
    "A = int(input())\n",
    "B = int(input())\n",
    "\n",
    "print(A*B)"
   ]
  },
  {
   "cell_type": "markdown",
   "id": "89309e29-05c2-4084-a95d-0a2f07b22b45",
   "metadata": {},
   "source": [
    "### q2\t1085\t직사각형에서 탈출"
   ]
  },
  {
   "cell_type": "code",
   "execution_count": 7,
   "id": "36cbbdaf-768e-441a-9a3e-1695b3e5a9b3",
   "metadata": {},
   "outputs": [
    {
     "name": "stdin",
     "output_type": "stream",
     "text": [
      " 653 375 1000 1000\n"
     ]
    },
    {
     "name": "stdout",
     "output_type": "stream",
     "text": [
      "347\n"
     ]
    }
   ],
   "source": [
    "x, y, w, h = map(int, input().split())\n",
    "\n",
    "print(min(x, y, (h - y), (w - x)))\n"
   ]
  },
  {
   "cell_type": "markdown",
   "id": "92f02d3f-ad7d-4ed1-962c-87a3bcad5ea2",
   "metadata": {},
   "source": [
    "### q3\t3009\t네 번째 점"
   ]
  },
  {
   "cell_type": "code",
   "execution_count": 24,
   "id": "f4911a2f-71b2-498f-a5f0-fbaa2f532a6d",
   "metadata": {},
   "outputs": [
    {
     "name": "stdin",
     "output_type": "stream",
     "text": [
      " 10 30\n",
      " 30 10\n",
      " 30 30\n"
     ]
    },
    {
     "name": "stdout",
     "output_type": "stream",
     "text": [
      "10 10 "
     ]
    }
   ],
   "source": [
    "w1, h1 = map(int, input().split())\n",
    "w2, h2 = map(int, input().split())\n",
    "w3, h3 = map(int, input().split())\n",
    "\n",
    "w = [w1, w2, w3]\n",
    "h = [h1, h2, h3]\n",
    "\n",
    "w4, h4 = 0, 0\n",
    "if w.count(min(w)) > w.count(max(w)):\n",
    "    w4 = max(w)\n",
    "else :\n",
    "    w4 = min(w)\n",
    "\n",
    "\n",
    "if h.count(min(h)) > h.count(max(h)):\n",
    "    h4 = max(h)\n",
    "else :\n",
    "    h4 = min(h)\n",
    "\n",
    "print(w4, h4, end = \" \")\n"
   ]
  },
  {
   "cell_type": "markdown",
   "id": "44246266-ad70-4dfb-a9f7-01cbce944d56",
   "metadata": {},
   "source": [
    "### q4\t15894\t수학은 체육과목 입니다"
   ]
  },
  {
   "cell_type": "code",
   "execution_count": 26,
   "id": "b590ba77-8145-4564-8463-a8d5b13d4b4d",
   "metadata": {},
   "outputs": [
    {
     "name": "stdin",
     "output_type": "stream",
     "text": [
      " 4\n"
     ]
    },
    {
     "name": "stdout",
     "output_type": "stream",
     "text": [
      "16\n"
     ]
    }
   ],
   "source": [
    "N = int(input())\n",
    "\n",
    "print(4*N)"
   ]
  },
  {
   "cell_type": "markdown",
   "id": "ce4f350c-30a0-4dd6-a266-26c875ff3084",
   "metadata": {},
   "source": [
    "### q5\t9063\t대지"
   ]
  },
  {
   "cell_type": "code",
   "execution_count": 33,
   "id": "7590f9db-de15-4db3-b636-e018242ce803",
   "metadata": {},
   "outputs": [
    {
     "name": "stdin",
     "output_type": "stream",
     "text": [
      " 4\n",
      " 2 1\n",
      " 3 2\n",
      " 5 2\n",
      " 3 4\n"
     ]
    },
    {
     "name": "stdout",
     "output_type": "stream",
     "text": [
      "9\n"
     ]
    }
   ],
   "source": [
    "N = int(input())\n",
    "x_list, y_list = [], []\n",
    "\n",
    "for i in range(N):\n",
    "    x, y = map(int, input().split())\n",
    "    x_list.append(x)\n",
    "    y_list.append(y)\n",
    "\n",
    "if N < 2:\n",
    "    print(0)\n",
    "else :\n",
    "    print((max(x_list) - min(x_list)) * (max(y_list) - min(y_list)))\n",
    "\n",
    "    \n",
    "    "
   ]
  },
  {
   "cell_type": "markdown",
   "id": "774449a4-8bd1-4948-8c44-5117ce7e2b38",
   "metadata": {},
   "source": [
    "### q6\t10101\t삼각형 외우기"
   ]
  },
  {
   "cell_type": "code",
   "execution_count": 36,
   "id": "4a65d8b0-d2c8-4b64-bc38-88cc326ba3bb",
   "metadata": {},
   "outputs": [
    {
     "name": "stdin",
     "output_type": "stream",
     "text": [
      " 70\n",
      " 70\n",
      " 70\n"
     ]
    },
    {
     "name": "stdout",
     "output_type": "stream",
     "text": [
      "Error\n"
     ]
    }
   ],
   "source": [
    "a = int(input())\n",
    "b = int(input())\n",
    "c = int(input())\n",
    "\n",
    "if a + b + c == 180:\n",
    "    if a == b == c:\n",
    "        print('Equilateral')\n",
    "    elif (a == b) | (b == c) | (c == a) :\n",
    "        print('Isosceles')\n",
    "    else :\n",
    "        print('Scalene')\n",
    "else :\n",
    "    print('Error')"
   ]
  },
  {
   "cell_type": "markdown",
   "id": "72101271-c53e-4381-8053-ade720f47662",
   "metadata": {},
   "source": [
    "### q7\t5073\t삼각형과 세 변"
   ]
  },
  {
   "cell_type": "code",
   "execution_count": 42,
   "id": "6cf6a36c-6c3b-41c3-8f96-4e70a3fec2dc",
   "metadata": {},
   "outputs": [
    {
     "name": "stdin",
     "output_type": "stream",
     "text": [
      " 7 7 7\n"
     ]
    },
    {
     "name": "stdout",
     "output_type": "stream",
     "text": [
      "Equilateral\n"
     ]
    },
    {
     "name": "stdin",
     "output_type": "stream",
     "text": [
      " 6 5 4\n"
     ]
    },
    {
     "name": "stdout",
     "output_type": "stream",
     "text": [
      "Scalene\n"
     ]
    },
    {
     "name": "stdin",
     "output_type": "stream",
     "text": [
      " 3 2 5\n"
     ]
    },
    {
     "name": "stdout",
     "output_type": "stream",
     "text": [
      "Invalid\n"
     ]
    },
    {
     "name": "stdin",
     "output_type": "stream",
     "text": [
      " 6 2 6\n"
     ]
    },
    {
     "name": "stdout",
     "output_type": "stream",
     "text": [
      "Isosceles\n"
     ]
    },
    {
     "name": "stdin",
     "output_type": "stream",
     "text": [
      " 0 0 0\n"
     ]
    }
   ],
   "source": [
    "while True:\n",
    "    a, b, c = map(int, input().split())\n",
    "    if a == b == c == 0:\n",
    "        break\n",
    "    \n",
    "    if max(a, b, c) >= sum([a, b, c]) - max(a, b, c):\n",
    "        print('Invalid')\n",
    "    else :\n",
    "        if a == b == c:\n",
    "            print('Equilateral')\n",
    "        elif (a == b) | (b == c) | (c == a):\n",
    "            print('Isosceles')\n",
    "        else :\n",
    "            print('Scalene')\n",
    "    "
   ]
  },
  {
   "cell_type": "markdown",
   "id": "62227e69-40d9-40ce-a8dc-084d56270208",
   "metadata": {},
   "source": [
    "### q8\t14215\t세 막대"
   ]
  },
  {
   "cell_type": "code",
   "execution_count": 60,
   "id": "3ae49154-53db-4b4d-83eb-bf4a05827244",
   "metadata": {},
   "outputs": [
    {
     "name": "stdin",
     "output_type": "stream",
     "text": [
      " 41 64 16\n"
     ]
    },
    {
     "name": "stdout",
     "output_type": "stream",
     "text": [
      "113\n"
     ]
    }
   ],
   "source": [
    "numbers = list(map(int, input().split()))\n",
    "\n",
    "long = max(numbers)\n",
    "sum2 = sum(numbers) - max(numbers)\n",
    "\n",
    "if long >= sum2:\n",
    "    long = sum2 - 1\n",
    "print(long + sum2)\n"
   ]
  },
  {
   "cell_type": "code",
   "execution_count": 55,
   "id": "4185d1c9-9947-42c6-a958-c5cd6451f893",
   "metadata": {},
   "outputs": [
    {
     "name": "stdout",
     "output_type": "stream",
     "text": [
      "6\n"
     ]
    }
   ],
   "source": []
  }
 ],
 "metadata": {
  "kernelspec": {
   "display_name": "Python 3 (ipykernel)",
   "language": "python",
   "name": "python3"
  },
  "language_info": {
   "codemirror_mode": {
    "name": "ipython",
    "version": 3
   },
   "file_extension": ".py",
   "mimetype": "text/x-python",
   "name": "python",
   "nbconvert_exporter": "python",
   "pygments_lexer": "ipython3",
   "version": "3.9.12"
  }
 },
 "nbformat": 4,
 "nbformat_minor": 5
}
