{
 "cells": [
  {
   "cell_type": "code",
   "execution_count": 1,
   "id": "678e4a2a-fae3-494a-af37-8b82312b6882",
   "metadata": {},
   "outputs": [],
   "source": [
    "# 1\t25083\t새싹\n",
    "\n"
   ]
  },
  {
   "cell_type": "code",
   "execution_count": 5,
   "id": "8e53be14-727b-4d06-a5c6-1463aecf3c95",
   "metadata": {},
   "outputs": [
    {
     "name": "stdin",
     "output_type": "stream",
     "text": [
      " 2 1 2 1 2 1\n"
     ]
    },
    {
     "name": "stdout",
     "output_type": "stream",
     "text": [
      "-1 0 0 1 0 7\n"
     ]
    }
   ],
   "source": [
    "# 2 3003\t킹, 퀸, 룩, 비숍, 나이트, 폰\n",
    "\n",
    "\n",
    "chess = [1, 1, 2, 2, 2, 8]\n",
    "\n",
    "king, queen, rook, bishop, knight, pawn = map(int, input().split())\n",
    "\n",
    "chess[0] -= king\n",
    "chess[1] -= queen\n",
    "chess[2] -= rook\n",
    "chess[3] -= bishop\n",
    "chess[4] -= knight\n",
    "chess[5] -= pawn\n",
    "\n",
    "print(*chess)\n",
    "\n",
    "\n",
    "\n"
   ]
  },
  {
   "cell_type": "code",
   "execution_count": 34,
   "id": "65f7fa9b-6dbf-4726-abd3-53a86e627b32",
   "metadata": {},
   "outputs": [
    {
     "name": "stdin",
     "output_type": "stream",
     "text": [
      " 5\n"
     ]
    },
    {
     "name": "stdout",
     "output_type": "stream",
     "text": [
      "     *\n",
      "    ***\n",
      "   *****\n",
      "  *******\n",
      " *********\n",
      "  *******\n",
      "   *****\n",
      "    ***\n",
      "     *\n"
     ]
    }
   ],
   "source": [
    "# 3 2444\t별 찍기 - 7\n",
    "n = int(input())\n",
    "for i in range(1, n):\n",
    "    print(' '*(n-i) + '*'*(2*i-1))\n",
    "for i in range(n, 0, -1):\n",
    "    print(' '*(n-i) + '*'*(2*i-1))"
   ]
  },
  {
   "cell_type": "code",
   "execution_count": 60,
   "id": "4139be64-ad58-44b6-9902-0f818ec6f133",
   "metadata": {},
   "outputs": [
    {
     "name": "stdin",
     "output_type": "stream",
     "text": [
      " level\n"
     ]
    },
    {
     "name": "stdout",
     "output_type": "stream",
     "text": [
      "1\n"
     ]
    }
   ],
   "source": [
    "# 4\t10988\t팰린드롬인지 확인하기\n",
    "\n",
    "word = list(input())\n",
    "lst = []\n",
    "lst_check = []\n",
    "\n",
    "for i in range(len(word)):\n",
    "    lst.append(word[i])\n",
    "    lst_check.append(word[i])\n",
    "lst_check.reverse()\n",
    "\n",
    "if lst == lst_check:\n",
    "    print(1)\n",
    "else :\n",
    "    print(0)\n"
   ]
  },
  {
   "cell_type": "code",
   "execution_count": 65,
   "id": "f871887b-9fe7-4104-8fc0-203e1f136211",
   "metadata": {},
   "outputs": [
    {
     "name": "stdin",
     "output_type": "stream",
     "text": [
      " test\n"
     ]
    },
    {
     "name": "stdout",
     "output_type": "stream",
     "text": [
      "0\n"
     ]
    }
   ],
   "source": [
    "# 4-1\t10988\t팰린드롬인지 확인하기\n",
    "\n",
    "word2 = list(str(input()))\n",
    "\n",
    "if list(reversed(word2)) == word2:\n",
    "    print(1)\n",
    "else:\n",
    "    print(0)"
   ]
  },
  {
   "cell_type": "code",
   "execution_count": 184,
   "id": "997df5fb-7152-4be7-b252-6c970b34ebe5",
   "metadata": {},
   "outputs": [
    {
     "name": "stdin",
     "output_type": "stream",
     "text": [
      " baaa\n"
     ]
    },
    {
     "name": "stdout",
     "output_type": "stream",
     "text": [
      "A\n"
     ]
    }
   ],
   "source": [
    "# 5\t1157\t단어 공부\n",
    "\n",
    "lst5 = list(str(input()))\n",
    "lst5_lower = []\n",
    "for a in range(len(lst5)):\n",
    "    lst5_lower.append(lst5[a].lower())\n",
    "\n",
    "check_lst = [0] * len(set(lst5_lower))\n",
    "\n",
    "for i in range(len(lst5_lower)):\n",
    "    for j in range(len(set(lst5_lower))):\n",
    "        if lst5_lower[i] == list(set(lst5_lower))[j]:\n",
    "            check_lst[j] += 1\n",
    "\n",
    "result = []\n",
    "for k in range(len(check_lst)):\n",
    "    if check_lst[k] == list(set(check_lst))[-1]:\n",
    "        result.append(list(set(lst5_lower))[k])\n",
    "    \n",
    "if len(result) == 1:\n",
    "    print(result[0].upper())\n",
    "else :\n",
    "    print('?')\n",
    "\n"
   ]
  },
  {
   "cell_type": "code",
   "execution_count": 203,
   "id": "dd2b3e46-4749-4736-ae42-8bebaf752e4c",
   "metadata": {},
   "outputs": [
    {
     "name": "stdin",
     "output_type": "stream",
     "text": [
      " test\n"
     ]
    },
    {
     "name": "stdout",
     "output_type": "stream",
     "text": [
      "T\n"
     ]
    }
   ],
   "source": [
    "words = input().upper()\n",
    "unique_words = list(set(words))\n",
    "\n",
    "list5 = []\n",
    "\n",
    "for i in unique_words:\n",
    "    list5.append(words.count(i))\n",
    "\n",
    "if list5.count(max(list5)) > 1:\n",
    "    print('?')\n",
    "else :\n",
    "    print(unique_words[list5.index(max(list5))])\n",
    "\n",
    "\n",
    "    \n",
    "    \n",
    "        "
   ]
  },
  {
   "cell_type": "code",
   "execution_count": 220,
   "id": "7b845ae8-01ae-48df-985b-8ed25551c40f",
   "metadata": {},
   "outputs": [
    {
     "name": "stdin",
     "output_type": "stream",
     "text": [
      " ljes=njak\n"
     ]
    },
    {
     "name": "stdout",
     "output_type": "stream",
     "text": [
      "6\n"
     ]
    }
   ],
   "source": [
    "# 6\t2941\t크로아티아 알파벳\n",
    "\n",
    "croatia = ['c=', 'c-', 'dz=', 'd-', 'lj', 'nj', 's=', 'z=']\n",
    "text = input()\n",
    "co = 0\n",
    "\n",
    "for i in croatia:\n",
    "    if i in text:\n",
    "        co += text.count(i)\n",
    "\n",
    "\n",
    "print(len(text)-co)\n"
   ]
  },
  {
   "cell_type": "code",
   "execution_count": 225,
   "id": "e6d6ba7a-3e59-4ffc-932f-fa34a3905e64",
   "metadata": {},
   "outputs": [
    {
     "name": "stdin",
     "output_type": "stream",
     "text": [
      " 3\n",
      " 1\n",
      " 1\n",
      " 1\n"
     ]
    }
   ],
   "source": [
    "# 7\t1316\t그룹 단어 체커\n",
    "\n",
    "N = int(input())\n",
    "i = 0\n",
    "\n",
    "while i < N:\n",
    "    i += 1\n",
    "    text = input()\n",
    "    \n",
    "    \n"
   ]
  },
  {
   "cell_type": "code",
   "execution_count": 58,
   "id": "5ad8edb5-3435-49fc-a6b0-67e94cb94bef",
   "metadata": {},
   "outputs": [
    {
     "name": "stdin",
     "output_type": "stream",
     "text": [
      " BruteForce 3.0 F Greedy 1.0 F DivideandConquer 2.0 F DynamicProgramming 3.0 F DepthFirstSearch 4.0 F BreadthFirstSearch 3.0 F ShortestPath 4.0 F DisjointSet 2.0 F MinimumSpanningTree 2.0 F TopologicalSorting 1.0 F LeastCommonAncestor 2.0 F SegmentTree 4.0 F EulerTourTechnique 3.0 F StronglyConnectedComponent 2.0 F BipartiteMatching 2.0 F MaximumFlowProblem 3.0 F SuffixArray 1.0 F HeavyLightDecomposition 4.0 F CentroidDecomposition 3.0 F SplayTree 1.0 F\n"
     ]
    },
    {
     "name": "stdout",
     "output_type": "stream",
     "text": [
      "0.000000\n"
     ]
    }
   ],
   "source": [
    "# 8 \t25206\t너의 평점은\n",
    "\n",
    "all = input().split(\" \")\n",
    "table = {'A+':4.5, 'A0':4.0, 'B+':3.5, 'B0':3.0, 'C+':2.5, 'C0':2.0, 'D+':1.5, 'D0':1.0, 'F':0.0, 'P' : 0.0}\n",
    "total_score = []\n",
    "total_times = []\n",
    "\n",
    "for i in range(int(len(all)/3)):\n",
    "    if all[i*3 + 2] != 'P':\n",
    "        times = int((float(all[i*3 + 1])))\n",
    "        score = table[all[i*3 + 2]]\n",
    "        total_times.append(times)\n",
    "        total_score.append(times * score)\n",
    "    #print()\n",
    "   \n",
    "print('{:.6f}' .format(sum(total_score)/sum(total_times)))\n",
    "    \n",
    "    \n",
    "    \n",
    "    "
   ]
  },
  {
   "cell_type": "code",
   "execution_count": 77,
   "id": "ffe245f4-c28e-46fd-b6a4-f16bb63516a3",
   "metadata": {},
   "outputs": [
    {
     "name": "stdin",
     "output_type": "stream",
     "text": [
      " ObjectOrientedProgramming1 3.0 A+\n",
      " IntroductiontoComputerEngineering 3.0 A+\n",
      " ObjectOrientedProgramming2 3.0 A0\n",
      " CreativeComputerEngineeringDesign 3.0 A+\n",
      " AssemblyLanguage 3.0 A+\n",
      " InternetProgramming 3.0 B0\n",
      " ApplicationProgramminginJava 3.0 A0\n",
      " SystemProgramming 3.0 B0\n",
      " OperatingSystem 3.0 B0\n",
      " WirelessCommunicationsandNetworking 3.0 C+\n",
      " LogicCircuits 3.0 B0\n",
      " DataStructure 4.0 A+\n",
      " MicroprocessorApplication 3.0 B+\n",
      " EmbeddedSoftware 3.0 C0\n",
      " ComputerSecurity 3.0 D+\n",
      " Database 3.0 C+\n",
      " Algorithm 3.0 B0\n",
      " CapstoneDesigninCSE 3.0 B+\n",
      " CompilerDesign 3.0 D0\n",
      " ProblemSolving 4.0 P\n"
     ]
    },
    {
     "name": "stdout",
     "output_type": "stream",
     "text": [
      "3.2844827586206895\n"
     ]
    }
   ],
   "source": [
    "# 8 \t25206\t너의 평점은\n",
    "n = 20\n",
    "score = 0\n",
    "total_credit = 0\n",
    "\n",
    "table = {'A+':4.5, 'A0':4.0, 'B+':3.5, 'B0':3.0, 'C+':2.5, 'C0':2.0, 'D+':1.5, 'D0':1.0, 'F':0.0, 'P' : 0.0}\n",
    "\n",
    "\n",
    "for _ in range(n):\n",
    "    subject, credit, grade = input().split()\n",
    "    credit = float(credit)\n",
    "    if grade != \"P\":\n",
    "        score += credit * table[grade]\n",
    "        total_credit += credit\n",
    "\n",
    "print(f'{score / total_credit: .6f}' )\n",
    "    \n"
   ]
  },
  {
   "cell_type": "code",
   "execution_count": 48,
   "id": "7660344c-96b4-4fca-962b-bce9df22f8ed",
   "metadata": {},
   "outputs": [
    {
     "name": "stdin",
     "output_type": "stream",
     "text": [
      " ObjectOrientedProgramming1 3.0 A+ IntroductiontoComputerEngineering 3.0 A+ ObjectOrientedProgramming2 3.0 A0 CreativeComputerEngineeringDesign 3.0 A+ AssemblyLanguage 3.0 A+ InternetProgramming 3.0 B0 ApplicationProgramminginJava 3.0 A0 SystemProgramming 3.0 B0 OperatingSystem 3.0 B0 WirelessCommunicationsandNetworking 3.0 C+ LogicCircuits 3.0 B0 DataStructure 4.0 A+ MicroprocessorApplication 3.0 B+ EmbeddedSoftware 3.0 C0 ComputerSecurity 3.0 D+ Database 3.0 C+ Algorithm 3.0 B0 CapstoneDesigninCSE 3.0 B+ CompilerDesign 3.0 D0 ProblemSolving 4.0 P\n"
     ]
    },
    {
     "data": {
      "text/plain": [
       "['ObjectOrientedProgramming1',\n",
       " '3.0',\n",
       " 'A+',\n",
       " 'IntroductiontoComputerEngineering',\n",
       " '3.0',\n",
       " 'A+',\n",
       " 'ObjectOrientedProgramming2',\n",
       " '3.0',\n",
       " 'A0',\n",
       " 'CreativeComputerEngineeringDesign',\n",
       " '3.0',\n",
       " 'A+',\n",
       " 'AssemblyLanguage',\n",
       " '3.0',\n",
       " 'A+',\n",
       " 'InternetProgramming',\n",
       " '3.0',\n",
       " 'B0',\n",
       " 'ApplicationProgramminginJava',\n",
       " '3.0',\n",
       " 'A0',\n",
       " 'SystemProgramming',\n",
       " '3.0',\n",
       " 'B0',\n",
       " 'OperatingSystem',\n",
       " '3.0',\n",
       " 'B0',\n",
       " 'WirelessCommunicationsandNetworking',\n",
       " '3.0',\n",
       " 'C+',\n",
       " 'LogicCircuits',\n",
       " '3.0',\n",
       " 'B0',\n",
       " 'DataStructure',\n",
       " '4.0',\n",
       " 'A+',\n",
       " 'MicroprocessorApplication',\n",
       " '3.0',\n",
       " 'B+',\n",
       " 'EmbeddedSoftware',\n",
       " '3.0',\n",
       " 'C0',\n",
       " 'ComputerSecurity',\n",
       " '3.0',\n",
       " 'D+',\n",
       " 'Database',\n",
       " '3.0',\n",
       " 'C+',\n",
       " 'Algorithm',\n",
       " '3.0',\n",
       " 'B0',\n",
       " 'CapstoneDesigninCSE',\n",
       " '3.0',\n",
       " 'B+',\n",
       " 'CompilerDesign',\n",
       " '3.0',\n",
       " 'D0',\n",
       " 'ProblemSolving',\n",
       " '4.0',\n",
       " 'P']"
      ]
     },
     "execution_count": 48,
     "metadata": {},
     "output_type": "execute_result"
    }
   ],
   "source": []
  },
  {
   "cell_type": "code",
   "execution_count": 38,
   "id": "1c36fa5a-98f8-4003-8de3-3b2bcf2ce0e6",
   "metadata": {},
   "outputs": [
    {
     "data": {
      "text/plain": [
       "175"
      ]
     },
     "execution_count": 38,
     "metadata": {},
     "output_type": "execute_result"
    }
   ],
   "source": [
    "sum(total)"
   ]
  },
  {
   "cell_type": "code",
   "execution_count": 6,
   "id": "7daf825b-5d5c-4a47-bf55-f6bb89a9ac07",
   "metadata": {},
   "outputs": [
    {
     "data": {
      "text/plain": [
       "4.5"
      ]
     },
     "execution_count": 6,
     "metadata": {},
     "output_type": "execute_result"
    }
   ],
   "source": [
    "score['A+']"
   ]
  },
  {
   "cell_type": "code",
   "execution_count": null,
   "id": "cab70b1f-266a-4884-9a1b-3c87320a2ed3",
   "metadata": {},
   "outputs": [],
   "source": []
  }
 ],
 "metadata": {
  "kernelspec": {
   "display_name": "Python 3 (ipykernel)",
   "language": "python",
   "name": "python3"
  },
  "language_info": {
   "codemirror_mode": {
    "name": "ipython",
    "version": 3
   },
   "file_extension": ".py",
   "mimetype": "text/x-python",
   "name": "python",
   "nbconvert_exporter": "python",
   "pygments_lexer": "ipython3",
   "version": "3.9.12"
  }
 },
 "nbformat": 4,
 "nbformat_minor": 5
}
