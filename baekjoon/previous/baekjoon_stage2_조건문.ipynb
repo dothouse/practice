{
 "cells": [
  {
   "cell_type": "code",
   "execution_count": 1,
   "metadata": {
    "colab": {
     "base_uri": "https://localhost:8080/"
    },
    "executionInfo": {
     "elapsed": 273907,
     "status": "ok",
     "timestamp": 1698237594106,
     "user": {
      "displayName": "송진석",
      "userId": "14796603013551188771"
     },
     "user_tz": -540
    },
    "id": "u3cYeVP7yi83",
    "outputId": "0f9e0c13-b297-4157-b296-ce423f197599"
   },
   "outputs": [
    {
     "name": "stdout",
     "output_type": "stream",
     "text": [
      "1 2\n",
      "<\n"
     ]
    }
   ],
   "source": [
    "# 1330\n",
    "\n",
    "a, b = map(int, input().split())\n",
    "\n",
    "if a > b:\n",
    "    print(\">\")\n",
    "\n",
    "elif a == b :\n",
    "    print(\"==\")\n",
    "\n",
    "else :\n",
    "    print(\"<\")"
   ]
  },
  {
   "cell_type": "code",
   "execution_count": 2,
   "metadata": {
    "colab": {
     "base_uri": "https://localhost:8080/"
    },
    "executionInfo": {
     "elapsed": 3123,
     "status": "ok",
     "timestamp": 1698237768153,
     "user": {
      "displayName": "송진석",
      "userId": "14796603013551188771"
     },
     "user_tz": -540
    },
    "id": "yVEbbpOI1OWj",
    "outputId": "4f3c4d0d-1140-4908-97a7-1610136f6ec5"
   },
   "outputs": [
    {
     "name": "stdout",
     "output_type": "stream",
     "text": [
      "100\n",
      "A\n"
     ]
    }
   ],
   "source": [
    "# 9498\n",
    "\n",
    "score = int(input())\n",
    "\n",
    "if score >= 90 and score <= 100:\n",
    "    print(\"A\")\n",
    "\n",
    "elif score >= 80 and score <= 89:\n",
    "    print(\"B\")\n",
    "\n",
    "elif score >= 70 and score <= 79:\n",
    "    print(\"C\")\n",
    "\n",
    "elif score >= 60 and score <= 69:\n",
    "    print(\"D\")\n",
    "\n",
    "else :\n",
    "    print(\"F\")"
   ]
  },
  {
   "cell_type": "code",
   "execution_count": 4,
   "metadata": {
    "colab": {
     "base_uri": "https://localhost:8080/"
    },
    "executionInfo": {
     "elapsed": 3288,
     "status": "ok",
     "timestamp": 1698238007045,
     "user": {
      "displayName": "송진석",
      "userId": "14796603013551188771"
     },
     "user_tz": -540
    },
    "id": "tWLGFHxR29E4",
    "outputId": "921c2b22-41b2-4783-c77c-449656cfae40"
   },
   "outputs": [
    {
     "name": "stdout",
     "output_type": "stream",
     "text": [
      "2000\n",
      "1\n"
     ]
    }
   ],
   "source": [
    "#2753\n",
    "\n",
    "a = int(input())\n",
    "\n",
    "if a % 4 == 0 and (a % 100 != 0 or a % 400 == 0) :\n",
    "    print(\"1\")\n",
    "else :\n",
    "    print(\"0\")\n",
    "\n"
   ]
  },
  {
   "cell_type": "code",
   "execution_count": 5,
   "metadata": {
    "colab": {
     "base_uri": "https://localhost:8080/"
    },
    "executionInfo": {
     "elapsed": 4820,
     "status": "ok",
     "timestamp": 1698238209139,
     "user": {
      "displayName": "송진석",
      "userId": "14796603013551188771"
     },
     "user_tz": -540
    },
    "id": "u-erfFI93YZ5",
    "outputId": "a7c2f429-62a1-4a71-fded-cf2abbb8ec42"
   },
   "outputs": [
    {
     "name": "stdout",
     "output_type": "stream",
     "text": [
      "12\n",
      "5\n",
      "1\n"
     ]
    }
   ],
   "source": [
    "# 14681\n",
    "\n",
    "x = int(input())\n",
    "y = int(input())\n",
    "\n",
    "if x > 0 and y > 0 :\n",
    "    print(\"1\")\n",
    "\n",
    "elif x < 0 and y > 0 :\n",
    "    print(\"2\")\n",
    "\n",
    "elif x < 0 and y < 0 :\n",
    "    print(\"3\")\n",
    "\n",
    "else :\n",
    "    print(\"4\")"
   ]
  },
  {
   "cell_type": "code",
   "execution_count": 15,
   "metadata": {
    "colab": {
     "base_uri": "https://localhost:8080/"
    },
    "executionInfo": {
     "elapsed": 4943,
     "status": "ok",
     "timestamp": 1698239023351,
     "user": {
      "displayName": "송진석",
      "userId": "14796603013551188771"
     },
     "user_tz": -540
    },
    "id": "w7kkX8Cu3aUC",
    "outputId": "1e6b1fec-b850-4696-fe69-f618fb3445bc"
   },
   "outputs": [
    {
     "name": "stdout",
     "output_type": "stream",
     "text": [
      "23 40\n",
      "22:55\n"
     ]
    }
   ],
   "source": [
    "#2884\n",
    "\n",
    "h, m = map(int, input().split())\n",
    "\n",
    "if h > 24 or m > 60 :\n",
    "    print(\"miss\")\n",
    "\n",
    "elif m >= 45 :\n",
    "    m = m - 45\n",
    "    print(f'{h}:{m}')\n",
    "\n",
    "elif m < 45 and h > 0:\n",
    "    m = m - 45 + 60\n",
    "    h = h - 1\n",
    "    print(f'{h}:{m}')\n",
    "\n",
    "else :\n",
    "    m = m - 45 + 60\n",
    "    h = h - 1 + 24\n",
    "    print(f'{h}:{m}')\n",
    "\n"
   ]
  },
  {
   "cell_type": "code",
   "execution_count": 18,
   "metadata": {
    "colab": {
     "base_uri": "https://localhost:8080/"
    },
    "executionInfo": {
     "elapsed": 4978,
     "status": "ok",
     "timestamp": 1698239236136,
     "user": {
      "displayName": "송진석",
      "userId": "14796603013551188771"
     },
     "user_tz": -540
    },
    "id": "DFUFQmcv6PnJ",
    "outputId": "39fdb311-75c6-4c7e-856a-023041229344"
   },
   "outputs": [
    {
     "name": "stdout",
     "output_type": "stream",
     "text": [
      "23 40\n",
      "22:55\n"
     ]
    }
   ],
   "source": [
    "#2884\n",
    "\n",
    "h, m = map(int, input().split())\n",
    "\n",
    "if m >= 45 :\n",
    "    m = m - 45\n",
    "\n",
    "elif m < 45 and h > 0:\n",
    "    m = m - 45 + 60\n",
    "    h = h - 1\n",
    "\n",
    "else :\n",
    "    m = m - 45 + 60\n",
    "    h = h - 1 + 24\n",
    "\n",
    "print(f\"{h} {m}\")"
   ]
  },
  {
   "cell_type": "code",
   "execution_count": 44,
   "metadata": {
    "colab": {
     "base_uri": "https://localhost:8080/"
    },
    "executionInfo": {
     "elapsed": 3881,
     "status": "ok",
     "timestamp": 1698241728756,
     "user": {
      "displayName": "송진석",
      "userId": "14796603013551188771"
     },
     "user_tz": -540
    },
    "id": "efqTJI7r8R2V",
    "outputId": "a5b14d15-4f5a-45fa-f0c3-bdb18add29ce"
   },
   "outputs": [
    {
     "name": "stdout",
     "output_type": "stream",
     "text": [
      "14 30\n",
      "20\n",
      "14 50\n"
     ]
    }
   ],
   "source": [
    "# 2525\n",
    "\n",
    "h, m = map(int, input().split())\n",
    "timer = int(input())\n",
    "\n",
    "h_timer = timer // 60\n",
    "m_timer = timer % 60\n",
    "\n",
    "h_last = None\n",
    "m_last = None\n",
    "\n",
    "if m + m_timer >= 60 :\n",
    "    h_last = (h_timer + h + 1) % 24\n",
    "    m_last = (m_timer + m - 60)\n",
    "\n",
    "else :\n",
    "    h_last = (h_timer + h) % 24\n",
    "    m_last = (m_timer + m)\n",
    "\n",
    "\n",
    "\n",
    "\n",
    "print(f\"{h_last} {m_last}\")\n",
    "\n"
   ]
  },
  {
   "cell_type": "code",
   "execution_count": 53,
   "metadata": {
    "colab": {
     "base_uri": "https://localhost:8080/"
    },
    "executionInfo": {
     "elapsed": 3693,
     "status": "ok",
     "timestamp": 1698242082437,
     "user": {
      "displayName": "송진석",
      "userId": "14796603013551188771"
     },
     "user_tz": -540
    },
    "id": "HUTH91yc9jzl",
    "outputId": "eabdf136-a9f7-4a20-e361-bdc1ea38d771"
   },
   "outputs": [
    {
     "name": "stdout",
     "output_type": "stream",
     "text": [
      "6 2 5\n",
      "600\n"
     ]
    }
   ],
   "source": [
    "#2480\n",
    "\n",
    "a, b, c = map(int, input().split())\n",
    "prize = None\n",
    "\n",
    "if a == b == c :\n",
    "    prize = 10000 + (a * 1000)\n",
    "\n",
    "elif a == b :\n",
    "     prize = 1000 + (a * 100)\n",
    "\n",
    "elif a == c :\n",
    "     prize = 1000 + (a * 100)\n",
    "\n",
    "elif b == c :\n",
    "     prize = 1000 + (b * 100)\n",
    "\n",
    "else :\n",
    "    prize = (max(a, b, c) * 100)\n",
    "\n",
    "print(prize)"
   ]
  },
  {
   "cell_type": "code",
   "execution_count": null,
   "metadata": {
    "id": "42d1Lpgb_6Xu"
   },
   "outputs": [],
   "source": []
  }
 ],
 "metadata": {
  "colab": {
   "authorship_tag": "ABX9TyOtvchKN7xRcophQn4ZNXUf",
   "provenance": []
  },
  "kernelspec": {
   "display_name": "Python 3 (ipykernel)",
   "language": "python",
   "name": "python3"
  },
  "language_info": {
   "codemirror_mode": {
    "name": "ipython",
    "version": 3
   },
   "file_extension": ".py",
   "mimetype": "text/x-python",
   "name": "python",
   "nbconvert_exporter": "python",
   "pygments_lexer": "ipython3",
   "version": "3.9.12"
  }
 },
 "nbformat": 4,
 "nbformat_minor": 4
}
