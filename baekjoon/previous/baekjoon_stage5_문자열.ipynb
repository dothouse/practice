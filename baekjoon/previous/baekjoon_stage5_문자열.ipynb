{
 "cells": [
  {
   "cell_type": "code",
   "execution_count": null,
   "metadata": {
    "colab": {
     "base_uri": "https://localhost:8080/"
    },
    "executionInfo": {
     "elapsed": 3680,
     "status": "ok",
     "timestamp": 1698930203834,
     "user": {
      "displayName": "송진석",
      "userId": "14796603013551188771"
     },
     "user_tz": -540
    },
    "id": "qd5_H5n2Hmc9",
    "outputId": "e1b59614-57f1-48df-ce82-8773d94b5adb"
   },
   "outputs": [
    {
     "name": "stdout",
     "output_type": "stream",
     "text": [
      "shiftpsh\n",
      "6\n",
      "p\n"
     ]
    }
   ],
   "source": [
    "# 1 - 27866\n",
    "\n",
    "cha1 = input()\n",
    "int1 = int(input())\n",
    "\n",
    "print(cha1[int1-1])"
   ]
  },
  {
   "cell_type": "code",
   "execution_count": null,
   "metadata": {
    "colab": {
     "base_uri": "https://localhost:8080/"
    },
    "executionInfo": {
     "elapsed": 1435,
     "status": "ok",
     "timestamp": 1698930265623,
     "user": {
      "displayName": "송진석",
      "userId": "14796603013551188771"
     },
     "user_tz": -540
    },
    "id": "Ewfzg6F7IMs-",
    "outputId": "866dbfca-7f91-48cf-cc86-766214be3de9"
   },
   "outputs": [
    {
     "name": "stdout",
     "output_type": "stream",
     "text": [
      "pulljima\n",
      "8\n"
     ]
    }
   ],
   "source": [
    "# 2 - 2743\n",
    "\n",
    "cha2 = input()\n",
    "\n",
    "print(len(cha2))\n"
   ]
  },
  {
   "cell_type": "code",
   "execution_count": null,
   "metadata": {
    "colab": {
     "base_uri": "https://localhost:8080/"
    },
    "executionInfo": {
     "elapsed": 18159,
     "status": "ok",
     "timestamp": 1698930545736,
     "user": {
      "displayName": "송진석",
      "userId": "14796603013551188771"
     },
     "user_tz": -540
    },
    "id": "iuq9iNx8IvRz",
    "outputId": "02caecb0-bf45-4984-f20c-167766a76d61"
   },
   "outputs": [
    {
     "name": "stdout",
     "output_type": "stream",
     "text": [
      "3\n",
      "ACDKJFOWIEGHE\n",
      "AE\n",
      "O\n",
      "OO\n",
      "AB\n",
      "AB\n"
     ]
    }
   ],
   "source": [
    "# 3 - 9086\n",
    "\n",
    "test_case = int(input())\n",
    "\n",
    "for i in range(test_case):\n",
    "    cha3 = input()\n",
    "    print(cha3[0], cha3[-1], sep = \"\")\n"
   ]
  },
  {
   "cell_type": "code",
   "execution_count": null,
   "metadata": {
    "colab": {
     "base_uri": "https://localhost:8080/"
    },
    "executionInfo": {
     "elapsed": 7121,
     "status": "ok",
     "timestamp": 1698930657378,
     "user": {
      "displayName": "송진석",
      "userId": "14796603013551188771"
     },
     "user_tz": -540
    },
    "id": "G1jplM60Jgk8",
    "outputId": "9def9ecb-887c-4843-e6f8-dfefb272a790"
   },
   "outputs": [
    {
     "name": "stdout",
     "output_type": "stream",
     "text": [
      "A\n",
      "65\n"
     ]
    }
   ],
   "source": [
    "# 4 - 11654\n",
    "\n",
    "case4 = input()\n",
    "\n",
    "print(ord(case4))\n"
   ]
  },
  {
   "cell_type": "code",
   "execution_count": null,
   "metadata": {
    "colab": {
     "base_uri": "https://localhost:8080/"
    },
    "executionInfo": {
     "elapsed": 9913,
     "status": "ok",
     "timestamp": 1698931276374,
     "user": {
      "displayName": "송진석",
      "userId": "14796603013551188771"
     },
     "user_tz": -540
    },
    "id": "okN5Vw4EKGfR",
    "outputId": "0928cbfc-02d4-4b13-8c7c-958017750951"
   },
   "outputs": [
    {
     "name": "stdout",
     "output_type": "stream",
     "text": [
      "11\n",
      "10987654321\n",
      "46\n"
     ]
    }
   ],
   "source": [
    "# 5 - 11720\n",
    "\n",
    "nums = int(input())\n",
    "case5 = (input())\n",
    "\n",
    "sums = 0\n",
    "for i in range(0, nums):\n",
    "    sums += int(case5[i])\n",
    "\n",
    "print(sums)\n",
    "\n"
   ]
  },
  {
   "cell_type": "code",
   "execution_count": null,
   "metadata": {
    "colab": {
     "base_uri": "https://localhost:8080/"
    },
    "executionInfo": {
     "elapsed": 5448,
     "status": "ok",
     "timestamp": 1698931734532,
     "user": {
      "displayName": "송진석",
      "userId": "14796603013551188771"
     },
     "user_tz": -540
    },
    "id": "qEDpoTSdLJza",
    "outputId": "1a4677f6-42e2-4e62-8cf4-36985d3ef062"
   },
   "outputs": [
    {
     "name": "stdout",
     "output_type": "stream",
     "text": [
      "baekjoon\n",
      "1\n",
      "0\n",
      "-1\n",
      "-1\n",
      "2\n",
      "-1\n",
      "-1\n",
      "-1\n",
      "-1\n",
      "4\n",
      "3\n",
      "-1\n",
      "-1\n",
      "7\n",
      "5\n",
      "-1\n",
      "-1\n",
      "-1\n",
      "-1\n",
      "-1\n",
      "-1\n",
      "-1\n",
      "-1\n",
      "-1\n",
      "-1\n",
      "-1\n"
     ]
    }
   ],
   "source": [
    "# 6 - 10809\n",
    "\n",
    "case6 = input()\n",
    "alphabet = 'abcdefghijklmnopqrstuvwxyz'\n",
    "\n",
    "for i in alphabet:\n",
    "    print(case6.find(i))\n",
    "\n"
   ]
  },
  {
   "cell_type": "code",
   "execution_count": null,
   "metadata": {
    "colab": {
     "base_uri": "https://localhost:8080/"
    },
    "executionInfo": {
     "elapsed": 11268,
     "status": "ok",
     "timestamp": 1698932629399,
     "user": {
      "displayName": "송진석",
      "userId": "14796603013551188771"
     },
     "user_tz": -540
    },
    "id": "cs5OoSAGLTOF",
    "outputId": "e1f089a8-4e3f-4847-8f8e-3f0e3dd4765c"
   },
   "outputs": [
    {
     "name": "stdout",
     "output_type": "stream",
     "text": [
      "2\n",
      "3 AV\n",
      "AAAVVV\n",
      "5 AV\n",
      "AAAAAVVVVV\n"
     ]
    }
   ],
   "source": [
    "# 7 - 2675\n",
    "\n",
    "case7 = int(input())\n",
    "\n",
    "for n in range(case7):\n",
    "    num7, word7 = input().split()\n",
    "    for i in range(len(word7)):\n",
    "        print(word7[i] * int(num7), end = \"\")\n",
    "    print()"
   ]
  },
  {
   "cell_type": "code",
   "execution_count": null,
   "metadata": {
    "colab": {
     "base_uri": "https://localhost:8080/"
    },
    "executionInfo": {
     "elapsed": 3621,
     "status": "ok",
     "timestamp": 1699402988301,
     "user": {
      "displayName": "송진석",
      "userId": "14796603013551188771"
     },
     "user_tz": -540
    },
    "id": "HPprjmiGN51K",
    "outputId": "0db67c88-75e6-4f95-f126-45f2985b40ac"
   },
   "outputs": [
    {
     "name": "stdout",
     "output_type": "stream",
     "text": [
      " The first character is a blank\n",
      "6\n"
     ]
    }
   ],
   "source": [
    "#8 - 1152\n",
    "\n",
    "case8 = input().split()\n",
    "result8 = []\n",
    "\n",
    "for i in case8:\n",
    "    result8.append(i)\n",
    "\n",
    "print(len(result8))\n",
    "\n"
   ]
  },
  {
   "cell_type": "code",
   "execution_count": null,
   "metadata": {
    "colab": {
     "base_uri": "https://localhost:8080/"
    },
    "executionInfo": {
     "elapsed": 3404,
     "status": "ok",
     "timestamp": 1699403360989,
     "user": {
      "displayName": "송진석",
      "userId": "14796603013551188771"
     },
     "user_tz": -540
    },
    "id": "6ogDkoA2T6nC",
    "outputId": "2eb96acc-dcff-4201-a38a-108a28c1eef9"
   },
   "outputs": [
    {
     "name": "stdout",
     "output_type": "stream",
     "text": [
      "734 893\n",
      "437\n"
     ]
    }
   ],
   "source": [
    "# 9  - 2908\n",
    "\n",
    "young1, young2 = input().split()\n",
    "\n",
    "young1_r = int(young1[2] + young1[1] + young1[0])\n",
    "young2_r = int(young2[2] + young2[1] + young2[0])\n",
    "\n",
    "if young1_r > young2_r:\n",
    "    print(young1_r)\n",
    "else :\n",
    "    print(young2_r)"
   ]
  },
  {
   "cell_type": "code",
   "execution_count": 5,
   "metadata": {
    "colab": {
     "base_uri": "https://localhost:8080/"
    },
    "executionInfo": {
     "elapsed": 1846,
     "status": "ok",
     "timestamp": 1699426639272,
     "user": {
      "displayName": "송진석",
      "userId": "14796603013551188771"
     },
     "user_tz": -540
    },
    "id": "HyipKAbYU1bT",
    "outputId": "649cff7b-04c7-4daf-b0cd-a8cecf3def20"
   },
   "outputs": [
    {
     "name": "stdin",
     "output_type": "stream",
     "text": [
      " WA\n"
     ]
    },
    {
     "name": "stdout",
     "output_type": "stream",
     "text": [
      "13\n"
     ]
    }
   ],
   "source": [
    "# 10 - 5622\n",
    "\n",
    "dial = ['ABC', 'DEF', 'GHI', 'JKL', 'MNO', 'PQRS', 'TUV', 'WXYZ']\n",
    "\n",
    "data5622 = input()\n",
    "total = 0\n",
    "\n",
    "for i in range(len(data5622)):\n",
    "    for j in dial:\n",
    "        if data5622[i] in j:\n",
    "            total += dial.index(j)+3\n",
    "print(total)\n"
   ]
  },
  {
   "cell_type": "code",
   "execution_count": null,
   "metadata": {
    "colab": {
     "base_uri": "https://localhost:8080/"
    },
    "executionInfo": {
     "elapsed": 2664,
     "status": "ok",
     "timestamp": 1699423469103,
     "user": {
      "displayName": "송진석",
      "userId": "14796603013551188771"
     },
     "user_tz": -540
    },
    "id": "mBdluAG_YwYT",
    "outputId": "f0a766f2-171f-44e0-c57f-2b40200a70ce"
   },
   "outputs": [
    {
     "name": "stdout",
     "output_type": "stream",
     "text": [
      "UNUCIC\n",
      "36\n"
     ]
    }
   ],
   "source": [
    "\n",
    "\n"
   ]
  },
  {
   "cell_type": "code",
   "execution_count": null,
   "metadata": {
    "colab": {
     "base_uri": "https://localhost:8080/"
    },
    "executionInfo": {
     "elapsed": 5679,
     "status": "ok",
     "timestamp": 1699423937232,
     "user": {
      "displayName": "송진석",
      "userId": "14796603013551188771"
     },
     "user_tz": -540
    },
    "id": "g67-NZetar7a",
    "outputId": "a4c9eb68-eb1c-4160-ff2b-60683130620f"
   },
   "outputs": [
    {
     "name": "stdout",
     "output_type": "stream",
     "text": [
      "Hello Baekjoon Online Judge\n",
      "Hello Baekjoon Online Judge\n"
     ]
    }
   ],
   "source": [
    "# 11 - 11718\n",
    "\n",
    "while True:\n",
    "    try:\n",
    "        print(input())\n",
    "    except:\n",
    "        break"
   ]
  },
  {
   "cell_type": "code",
   "execution_count": null,
   "metadata": {
    "id": "45MQH5_5av6C"
   },
   "outputs": [],
   "source": []
  }
 ],
 "metadata": {
  "colab": {
   "authorship_tag": "ABX9TyMzItSpuDirgDP8w+xiL5NY",
   "provenance": []
  },
  "kernelspec": {
   "display_name": "Python 3 (ipykernel)",
   "language": "python",
   "name": "python3"
  },
  "language_info": {
   "codemirror_mode": {
    "name": "ipython",
    "version": 3
   },
   "file_extension": ".py",
   "mimetype": "text/x-python",
   "name": "python",
   "nbconvert_exporter": "python",
   "pygments_lexer": "ipython3",
   "version": "3.9.12"
  }
 },
 "nbformat": 4,
 "nbformat_minor": 4
}
