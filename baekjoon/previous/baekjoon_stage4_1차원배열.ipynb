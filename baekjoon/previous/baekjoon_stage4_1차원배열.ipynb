{
 "cells": [
  {
   "cell_type": "code",
   "execution_count": 1,
   "id": "1a0bf9e4-3016-44e6-9162-8bca15a6bfa1",
   "metadata": {},
   "outputs": [
    {
     "name": "stdin",
     "output_type": "stream",
     "text": [
      " 11\n",
      " 1 4 1 2 4 2 4 2 3 4 4\n",
      " 2\n"
     ]
    },
    {
     "name": "stdout",
     "output_type": "stream",
     "text": [
      "3\n"
     ]
    }
   ],
   "source": [
    "# 1\t10807\t개수 세기\n",
    "\n",
    "a = int(input())\n",
    "b = map(int, input().split())\n",
    "c = int(input())\n",
    "d = 0\n",
    "for i in b:\n",
    "    if i == c:\n",
    "        d += 1\n",
    "print(d)\n"
   ]
  },
  {
   "cell_type": "code",
   "execution_count": 3,
   "id": "5db3684f-a268-4c62-ac73-5cfc2afde37b",
   "metadata": {},
   "outputs": [
    {
     "name": "stdin",
     "output_type": "stream",
     "text": [
      " 11\n",
      " 1 4 1 2 4 2 4 2 3 4 4\n",
      " 2\n"
     ]
    },
    {
     "name": "stdout",
     "output_type": "stream",
     "text": [
      "3\n"
     ]
    }
   ],
   "source": [
    "# 1-1\t10807\t개수 세기\n",
    "a = int(input())\n",
    "b = list(map(int, input().split()))\n",
    "c = int(input())\n",
    "\n",
    "print(b.count(c))\n"
   ]
  },
  {
   "cell_type": "code",
   "execution_count": 14,
   "id": "726a1bd8-7e43-4602-9cf5-bba0c928f8c7",
   "metadata": {},
   "outputs": [
    {
     "name": "stdin",
     "output_type": "stream",
     "text": [
      " 10 5\n",
      " 1 10 4 9 2 3 8 5 7 6\n"
     ]
    },
    {
     "name": "stdout",
     "output_type": "stream",
     "text": [
      "1 4 2 3 "
     ]
    }
   ],
   "source": [
    "# 2\t10871\tX보다 작은 수\n",
    "N, X = map(int, (input().split()))\n",
    "A = map(int, input().split())\n",
    "\n",
    "for i in A:\n",
    "    if int(i) < X:\n",
    "        print(i, end = \" \")\n"
   ]
  },
  {
   "cell_type": "code",
   "execution_count": 18,
   "id": "7ba55b77-1e0e-4a3d-845a-beee185ac12e",
   "metadata": {},
   "outputs": [
    {
     "name": "stdin",
     "output_type": "stream",
     "text": [
      " 10 5\n",
      " 1 10 4 9 2 3 8 5 7 6\n"
     ]
    },
    {
     "name": "stdout",
     "output_type": "stream",
     "text": [
      "1 4 2 3 "
     ]
    }
   ],
   "source": [
    "# 2-1\t10871\tX보다 작은 수\n",
    "N, X = map(int, (input().split()))\n",
    "A = list(map(int, input().split()))\n",
    "\n",
    "for i in range(N):\n",
    "    if A[i] < X:\n",
    "        print(A[i], end = \" \")"
   ]
  },
  {
   "cell_type": "code",
   "execution_count": 19,
   "id": "8846c72f-a58d-450b-92d1-0177bf5f137e",
   "metadata": {},
   "outputs": [
    {
     "name": "stdin",
     "output_type": "stream",
     "text": [
      " 5\n",
      " 20 10 35 30 7\n"
     ]
    },
    {
     "name": "stdout",
     "output_type": "stream",
     "text": [
      "7 35\n"
     ]
    }
   ],
   "source": [
    "# 3\t10818\t최소, 최대\n",
    "a = int(input())\n",
    "b = list(map(int, input().split()))\n",
    "\n",
    "print(min(b), max(b))        "
   ]
  },
  {
   "cell_type": "code",
   "execution_count": 34,
   "id": "1f314ea0-1148-498d-8a2e-1abff868c530",
   "metadata": {},
   "outputs": [
    {
     "name": "stdin",
     "output_type": "stream",
     "text": [
      " 3\n",
      " 29\n",
      " \n"
     ]
    },
    {
     "name": "stdout",
     "output_type": "stream",
     "text": [
      "29\n"
     ]
    }
   ],
   "source": [
    "# 4\t2562\t최댓값\n",
    "\n",
    "lst = []\n",
    "\n",
    "\n",
    "while True:\n",
    "    try: \n",
    "        a = int(input())    \n",
    "        lst.append(a)\n",
    "    except:\n",
    "        break\n",
    "\n",
    "print(max(lst))\n",
    "for i in range(len(lst)):\n",
    "    if lst[i] == max(lst):\n",
    "        print(i+1)\n"
   ]
  },
  {
   "cell_type": "code",
   "execution_count": 40,
   "id": "40e20069-7518-43ad-955f-883a41dd3f69",
   "metadata": {},
   "outputs": [
    {
     "name": "stdin",
     "output_type": "stream",
     "text": [
      " 2\n",
      " 39\n",
      " \n"
     ]
    },
    {
     "name": "stdout",
     "output_type": "stream",
     "text": [
      "39\n",
      "2\n"
     ]
    }
   ],
   "source": [
    "# 4\t2562\t최댓값\n",
    "lst = []\n",
    "\n",
    "\n",
    "while True:\n",
    "    try: \n",
    "        a = int(input())    \n",
    "        lst.append(a)\n",
    "    except:\n",
    "        break\n",
    "\n",
    "print(max(lst))\n",
    "print(lst.index(max(lst)) + 1)\n"
   ]
  },
  {
   "cell_type": "code",
   "execution_count": 76,
   "id": "3282621c-846f-4e57-b9b7-9e0a1a07b86b",
   "metadata": {},
   "outputs": [
    {
     "name": "stdin",
     "output_type": "stream",
     "text": [
      " 5 4\n",
      " 1 2 3\n",
      " 3 4 4\n",
      " 1 4 1\n",
      " 2 2 2\n"
     ]
    },
    {
     "name": "stdout",
     "output_type": "stream",
     "text": [
      "4 6 5 5 0 "
     ]
    }
   ],
   "source": [
    "# 5\t10810\t공 넣기\n",
    "\n",
    "N, M = map(int, input().split())\n",
    "\n",
    "lst = [0] * N\n",
    "\n",
    "for _ in range(M):\n",
    "    i, j, k = map(int, input().split())\n",
    "    for b in range(i, j+1):\n",
    "        lst[b-1] = k\n",
    "\n",
    "for i in range(N):\n",
    "    print(lst[i], end = ' ')\n",
    "    \n",
    "\n",
    "\n",
    "\n",
    "\n"
   ]
  },
  {
   "cell_type": "code",
   "execution_count": 43,
   "id": "3618f9c5-0995-4f75-bb82-26bc5417f123",
   "metadata": {},
   "outputs": [
    {
     "name": "stdin",
     "output_type": "stream",
     "text": [
      " 4\n"
     ]
    },
    {
     "ename": "ValueError",
     "evalue": "not enough values to unpack (expected 2, got 1)",
     "output_type": "error",
     "traceback": [
      "\u001b[1;31m---------------------------------------------------------------------------\u001b[0m",
      "\u001b[1;31mValueError\u001b[0m                                Traceback (most recent call last)",
      "Cell \u001b[1;32mIn[43], line 3\u001b[0m\n\u001b[0;32m      1\u001b[0m \u001b[38;5;66;03m# 6\t10813\t공 바꾸기\u001b[39;00m\n\u001b[1;32m----> 3\u001b[0m N, M \u001b[38;5;241m=\u001b[39m \u001b[38;5;28mmap\u001b[39m(\u001b[38;5;28mint\u001b[39m, \u001b[38;5;28minput\u001b[39m()\u001b[38;5;241m.\u001b[39msplit())\n\u001b[0;32m      5\u001b[0m basket \u001b[38;5;241m=\u001b[39m []\n\u001b[0;32m      6\u001b[0m \u001b[38;5;28;01mfor\u001b[39;00m i \u001b[38;5;129;01min\u001b[39;00m \u001b[38;5;28mrange\u001b[39m(N):\n",
      "\u001b[1;31mValueError\u001b[0m: not enough values to unpack (expected 2, got 1)"
     ]
    }
   ],
   "source": [
    "# 6\t10813\t공 바꾸기\n",
    "\n",
    "N, M = map(int, input().split())\n",
    "\n",
    "basket = []\n",
    "for i in range(N):\n",
    "    basket.append(i + 1)\n",
    "\n",
    "for j in range(M):\n",
    "    a, b = map(int, input().split())\n",
    "    for i in range(((b-a + 1)//2) + 1):\n",
    "        basket[a - 1 - i], basket[b - 1 - i] = basket[b - 1 - i], basket[a - 1 - i]  \n",
    "    \n",
    "print(*basket)\n",
    "    \n"
   ]
  },
  {
   "cell_type": "code",
   "execution_count": null,
   "id": "79ce6aa7-ed75-4ef9-bf86-d984fb66f770",
   "metadata": {},
   "outputs": [],
   "source": [
    "# 7\t5597\t과제 안 내신 분..?\n",
    "\n",
    "student = []\n",
    "\n",
    "while True:\n",
    "    try:\n",
    "        a = int(input())\n",
    "        student.append(a)\n",
    "    except:\n",
    "        break\n",
    "\n",
    "for i in range(30):\n",
    "    if student.count(i+1) == 0:\n",
    "        print(i+1)\n",
    "\n",
    "\n"
   ]
  },
  {
   "cell_type": "code",
   "execution_count": 45,
   "id": "015de40b-9743-45c7-b047-334028302e56",
   "metadata": {},
   "outputs": [
    {
     "name": "stdin",
     "output_type": "stream",
     "text": [
      " 5\n",
      " 5\n",
      " 5\n",
      " 5\n",
      " 5\n",
      " 5\n",
      " 5\n",
      " 5\n",
      " 5\n",
      " 5\n"
     ]
    },
    {
     "name": "stdout",
     "output_type": "stream",
     "text": [
      "1\n"
     ]
    }
   ],
   "source": [
    "# 8\t3052\t나머지\n",
    "\n",
    "numbers = []\n",
    "\n",
    "for i in range(10):\n",
    "    a = int(input())\n",
    "    numbers.append(a % 42)\n",
    "\n",
    "print(len(set(numbers)))\n",
    "\n",
    "    "
   ]
  },
  {
   "cell_type": "code",
   "execution_count": 51,
   "id": "9aa63df0-2646-4a11-a398-d8429c4574e4",
   "metadata": {},
   "outputs": [
    {
     "name": "stdin",
     "output_type": "stream",
     "text": [
      " 5 1\n",
      " 1 4\n"
     ]
    },
    {
     "name": "stdout",
     "output_type": "stream",
     "text": [
      "4 3 2 1 5\n",
      "[4, 3, 2, 1]\n"
     ]
    }
   ],
   "source": [
    "# 9\t10811\t바구니 뒤집기\n",
    "\n",
    "N, M = map(int, input().split())\n",
    "\n",
    "basket = []\n",
    "for i in range(N):\n",
    "    basket.append(i+1)\n",
    "\n",
    "times = 0\n",
    "\n",
    "while times < M:\n",
    "    a, b = map(int, input().split())\n",
    "    times += 1\n",
    "    temp = basket[a -1 :b]\n",
    "    temp.reverse()\n",
    "    basket[a-1: b] = temp\n",
    "    \n",
    "    \n",
    "print(*basket)"
   ]
  },
  {
   "cell_type": "code",
   "execution_count": 7,
   "id": "fb885287-f3bf-43d7-8b37-cf5503329768",
   "metadata": {},
   "outputs": [
    {
     "name": "stdin",
     "output_type": "stream",
     "text": [
      " 3\n",
      " 40 80 60\n"
     ]
    },
    {
     "name": "stdout",
     "output_type": "stream",
     "text": [
      "75.0\n"
     ]
    }
   ],
   "source": [
    "# 10\t1546\t평균\n",
    "\n",
    "N = int(input())\n",
    "subject = list(map(int, input().split()))\n",
    "max_values = max(subject)\n",
    "result = []\n",
    "\n",
    "for i in range(len(subject)):\n",
    "    result.append(subject[i] / max_values * 100)\n",
    "print(sum(result) / len(result))\n",
    "    \n",
    "\n"
   ]
  },
  {
   "cell_type": "code",
   "execution_count": 63,
   "id": "a526bbb1-590b-4c18-b892-9b17a61bdd6a",
   "metadata": {},
   "outputs": [
    {
     "data": {
      "text/plain": [
       "list"
      ]
     },
     "execution_count": 63,
     "metadata": {},
     "output_type": "execute_result"
    }
   ],
   "source": [
    "\n",
    "type(subject)"
   ]
  },
  {
   "cell_type": "code",
   "execution_count": 66,
   "id": "aad35638-6fda-4536-afef-b60016399de4",
   "metadata": {},
   "outputs": [
    {
     "ename": "TypeError",
     "evalue": "'int' object is not callable",
     "output_type": "error",
     "traceback": [
      "\u001b[1;31m---------------------------------------------------------------------------\u001b[0m",
      "\u001b[1;31mTypeError\u001b[0m                                 Traceback (most recent call last)",
      "Cell \u001b[1;32mIn[66], line 1\u001b[0m\n\u001b[1;32m----> 1\u001b[0m \u001b[38;5;28mmax\u001b[39m \u001b[38;5;241m=\u001b[39m \u001b[38;5;28;43mmax\u001b[39;49m\u001b[43m(\u001b[49m\u001b[43msubject\u001b[49m\u001b[43m)\u001b[49m\n\u001b[0;32m      2\u001b[0m \u001b[38;5;28mmax\u001b[39m\n",
      "\u001b[1;31mTypeError\u001b[0m: 'int' object is not callable"
     ]
    }
   ],
   "source": [
    "max = max(subject)\n",
    "max"
   ]
  },
  {
   "cell_type": "code",
   "execution_count": null,
   "id": "a9fe26ed-7e6c-40c1-b113-033d312cf4e5",
   "metadata": {},
   "outputs": [],
   "source": []
  }
 ],
 "metadata": {
  "kernelspec": {
   "display_name": "Python 3 (ipykernel)",
   "language": "python",
   "name": "python3"
  },
  "language_info": {
   "codemirror_mode": {
    "name": "ipython",
    "version": 3
   },
   "file_extension": ".py",
   "mimetype": "text/x-python",
   "name": "python",
   "nbconvert_exporter": "python",
   "pygments_lexer": "ipython3",
   "version": "3.9.12"
  }
 },
 "nbformat": 4,
 "nbformat_minor": 5
}
