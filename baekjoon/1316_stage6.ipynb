{
 "cells": [
  {
   "cell_type": "markdown",
   "id": "2d17f84d-3366-4761-b407-007ed3a7515f",
   "metadata": {},
   "source": [
    "# 1316\t그룹 단어 체커"
   ]
  },
  {
   "cell_type": "code",
   "execution_count": null,
   "id": "3552ccf9-9585-43d1-92af-9cae05c617be",
   "metadata": {},
   "outputs": [],
   "source": [
    "N = int(input())\n",
    "i = 0\n",
    "\n",
    "while i < N:\n",
    "    i += 1\n",
    "    text = input()"
   ]
  }
 ],
 "metadata": {
  "kernelspec": {
   "display_name": "Python 3 (ipykernel)",
   "language": "python",
   "name": "python3"
  },
  "language_info": {
   "codemirror_mode": {
    "name": "ipython",
    "version": 3
   },
   "file_extension": ".py",
   "mimetype": "text/x-python",
   "name": "python",
   "nbconvert_exporter": "python",
   "pygments_lexer": "ipython3",
   "version": "3.9.12"
  }
 },
 "nbformat": 4,
 "nbformat_minor": 5
}
