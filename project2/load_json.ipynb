{
 "cells": [
  {
   "cell_type": "code",
   "execution_count": null,
   "metadata": {},
   "outputs": [],
   "source": [
    "import pandas as pd\n",
    "\n",
    "import os\n",
    "import json"
   ]
  },
  {
   "cell_type": "code",
   "execution_count": null,
   "metadata": {},
   "outputs": [],
   "source": [
    "###\n",
    "# Define the folder path\n",
    "path = 'D:/song/practice/project2/data/용도별 목적대화 데이터/train'\n",
    "\n",
    "# Initialize an empty list to store JSON data from all files\n",
    "all_json_data = []\n",
    "\n",
    "for file_name in os.listdir(path):\n",
    "    # Check if the file is a JSON file\n",
    "    if file_name.endswith('.json'):\n",
    "        # Construct the full file path\n",
    "        file_path = os.path.join(path, file_name)\n",
    "        # Open the file and load JSON data\n",
    "        with open(file_path, 'r', encoding='utf-8') as f:\n",
    "            json_data = json.load(f)\n",
    "            all_json_data.append(json_data)"
   ]
  },
  {
   "cell_type": "code",
   "execution_count": null,
   "metadata": {},
   "outputs": [],
   "source": [
    "# Define the folder path\n",
    "base_path = 'd:/practice/project2/data/용도별 목적대화 데이터/train'\n",
    "\n",
    "# List all directories (folders) within the specified folder\n",
    "subfolders = [f.path for f in os.scandir(base_path) if f.is_dir()]\n",
    "\n",
    "# Initialize an empty list to store JSON data from all files\n",
    "all_json_data = []\n",
    "\n",
    "# Iterate through all files in the folder\n",
    "for path in subfolders:\n",
    "    for file_name in os.listdir(path):\n",
    "        # Check if the file is a JSON file\n",
    "        if file_name.endswith('.json'):\n",
    "            # Construct the full file path\n",
    "            file_path = os.path.join(path, file_name)\n",
    "            # Open the file and load JSON data\n",
    "            with open(file_path, 'r', encoding='utf-8') as f:\n",
    "                json_data = json.load(f)\n",
    "                all_json_data.append(json_data)"
   ]
  },
  {
   "cell_type": "code",
   "execution_count": null,
   "metadata": {},
   "outputs": [],
   "source": [
    "# Define the folder path\n",
    "base_path = 'D:/song/practice/project2/data/용도별 목적대화 데이터/train/'\n",
    "\n",
    "# List all directories (folders) within the specified folder\n",
    "subfolder1 = [f.path + '/' for f in os.scandir(base_path) if f.is_dir()]\n",
    "\n",
    "subfolder2 = []\n",
    "for subfolder in subfolder1:\n",
    "    subfolder2.append([f.path for f in os.scandir(subfolder) if f.is_dir()])\n",
    "\n",
    "subfolders = [item for sublist in subfolder2 for item in sublist]\n",
    "subfolders\n",
    "\n",
    "# Initialize an empty list to store JSON data from all files\n",
    "all_json_data = []\n",
    "\n",
    "# Iterate through all files in the folder\n",
    "for path in subfolders:\n",
    "    for file_name in os.listdir(path):\n",
    "        # Check if the file is a JSON file\n",
    "        if file_name.endswith('.json'):\n",
    "            # Construct the full file path\n",
    "            file_path = os.path.join(path, file_name)\n",
    "            # Open the file and load JSON data\n",
    "            with open(file_path, 'r', encoding='utf-8') as f:\n",
    "                json_data = json.load(f)\n",
    "                all_json_data.append(json_data)"
   ]
  }
 ],
 "metadata": {
  "kernelspec": {
   "display_name": "project2",
   "language": "python",
   "name": "project2"
  },
  "language_info": {
   "codemirror_mode": {
    "name": "ipython",
    "version": 3
   },
   "file_extension": ".py",
   "mimetype": "text/x-python",
   "name": "python",
   "nbconvert_exporter": "python",
   "pygments_lexer": "ipython3",
   "version": "3.9.18"
  }
 },
 "nbformat": 4,
 "nbformat_minor": 4
}
