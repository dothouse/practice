{
 "cells": [
  {
   "cell_type": "code",
   "execution_count": 1,
   "id": "1392f8b7-b8b3-439b-9d57-41e2467fda3f",
   "metadata": {},
   "outputs": [],
   "source": [
    "import pandas as pd\n",
    "import matplotlib.pyplot as plt\n",
    "import numpy as np\n",
    "import pyreadstat\n",
    "import seaborn as sns\n",
    "import scipy.stats as stats #\n",
    "import statsmodels.api as sm"
   ]
  },
  {
   "cell_type": "code",
   "execution_count": 2,
   "id": "3e6a2e18-f5fa-4d6b-a4e1-15a00a77c79b",
   "metadata": {},
   "outputs": [],
   "source": [
    "# 그래프를 노트북 안에 그리기 위해 설정\n",
    "%matplotlib inline\n",
    "\n",
    "# 필요한 패키지와 라이브러리 가져온다.\n",
    "import matplotlib as mpl\n",
    "import matplotlib.pyplot as plt\n",
    "import matplotlib.font_manager as fm\n",
    "\n",
    "# 그래프에서 마이너스 폰트 깨지는 문제에 대한 대처\n",
    "mpl.rcParams['axes.unicode_minus'] = False\n",
    "\n",
    "# 폰트 지정하기\n",
    "plt.rcParams['font.family'] = 'Malgun Gothic'"
   ]
  },
  {
   "cell_type": "markdown",
   "id": "4fbb3ab4-5d7b-4ef6-b966-968d78451a86",
   "metadata": {},
   "source": [
    "### 데이터 불러오기"
   ]
  },
  {
   "cell_type": "code",
   "execution_count": 3,
   "id": "8d576d72-8609-42db-9da4-c7b4645b8156",
   "metadata": {},
   "outputs": [],
   "source": [
    "raw = pd.read_csv('D:/song/python_practice/0data/welfare/welfare.csv',\n",
    "                  index_col = 0)\n",
    "raw.head()\n",
    "\n",
    "df = raw.copy()"
   ]
  },
  {
   "cell_type": "code",
   "execution_count": 4,
   "id": "c7dbde10-82de-40e8-b993-9a467af8df54",
   "metadata": {},
   "outputs": [
    {
     "name": "stdout",
     "output_type": "stream",
     "text": [
      "<class 'pandas.core.frame.DataFrame'>\n",
      "Index: 16256 entries, 0 to 16255\n",
      "Data columns (total 28 columns):\n",
      " #   Column           Non-Null Count  Dtype  \n",
      "---  ------           --------------  -----  \n",
      " 0   h17_merkey       16256 non-null  float64\n",
      " 1   pid              16256 non-null  float64\n",
      " 2   inhouse_num      16256 non-null  float64\n",
      " 3   relation         16256 non-null  float64\n",
      " 4   sex              16256 non-null  float64\n",
      " 5   birth            16256 non-null  float64\n",
      " 6   edu              16256 non-null  float64\n",
      " 7   edu_detail       16256 non-null  float64\n",
      " 8   disable_type     16256 non-null  float64\n",
      " 9   disable_degree   16256 non-null  float64\n",
      " 10  marriage         16256 non-null  float64\n",
      " 11  religion         16256 non-null  int64  \n",
      " 12  live_together    16256 non-null  float64\n",
      " 13  industry         8372 non-null   float64\n",
      " 14  job              8372 non-null   float64\n",
      " 15  inc_regular      2928 non-null   float64\n",
      " 16  inc_temp         4175 non-null   float64\n",
      " 17  inc_owner        1144 non-null   float64\n",
      " 18  age              16256 non-null  int64  \n",
      " 19  sex_factor       16256 non-null  object \n",
      " 20  marriage2        14481 non-null  float64\n",
      " 21  religion_factor  16256 non-null  object \n",
      " 22  inc              7659 non-null   float64\n",
      " 23  inc_log          7659 non-null   float64\n",
      " 24  h17_reg5         16256 non-null  float64\n",
      " 25  h17_reg7         16256 non-null  float64\n",
      " 26  region5          16256 non-null  object \n",
      " 27  region7          16256 non-null  object \n",
      "dtypes: float64(22), int64(2), object(4)\n",
      "memory usage: 3.6+ MB\n"
     ]
    }
   ],
   "source": [
    "df.info()"
   ]
  },
  {
   "cell_type": "markdown",
   "id": "1164747f-9783-4eea-ae9c-842f5e330d18",
   "metadata": {},
   "source": [
    "# EDA"
   ]
  },
  {
   "cell_type": "markdown",
   "id": "e2d74fdf-4485-4696-b320-dd0ed3310ca6",
   "metadata": {},
   "source": [
    "### 성별과 월급\n",
    "    - 성별 : sex - 1/남성, 2/여성\n",
    "    - 성별 : sex_factor - male / female\n",
    "\n",
    "    - 소득 : inc"
   ]
  },
  {
   "cell_type": "code",
   "execution_count": 5,
   "id": "6e82aa63-7a14-4135-b721-7d9d0cce0ae8",
   "metadata": {},
   "outputs": [
    {
     "data": {
      "text/html": [
       "<div>\n",
       "<style scoped>\n",
       "    .dataframe tbody tr th:only-of-type {\n",
       "        vertical-align: middle;\n",
       "    }\n",
       "\n",
       "    .dataframe tbody tr th {\n",
       "        vertical-align: top;\n",
       "    }\n",
       "\n",
       "    .dataframe thead th {\n",
       "        text-align: right;\n",
       "    }\n",
       "</style>\n",
       "<table border=\"1\" class=\"dataframe\">\n",
       "  <thead>\n",
       "    <tr style=\"text-align: right;\">\n",
       "      <th></th>\n",
       "      <th>count</th>\n",
       "    </tr>\n",
       "    <tr>\n",
       "      <th>sex_factor</th>\n",
       "      <th></th>\n",
       "    </tr>\n",
       "  </thead>\n",
       "  <tbody>\n",
       "    <tr>\n",
       "      <th>female</th>\n",
       "      <td>8971</td>\n",
       "    </tr>\n",
       "    <tr>\n",
       "      <th>male</th>\n",
       "      <td>7285</td>\n",
       "    </tr>\n",
       "  </tbody>\n",
       "</table>\n",
       "</div>"
      ],
      "text/plain": [
       "            count\n",
       "sex_factor       \n",
       "female       8971\n",
       "male         7285"
      ]
     },
     "execution_count": 5,
     "metadata": {},
     "output_type": "execute_result"
    }
   ],
   "source": [
    "df_sex = df.sex_factor.value_counts().to_frame()\n",
    "df_sex"
   ]
  },
  {
   "cell_type": "code",
   "execution_count": 6,
   "id": "40f3eaa3-b9bf-4729-8264-d5eb754cb1b3",
   "metadata": {},
   "outputs": [
    {
     "data": {
      "image/png": "[encoded data removed]",
      "text/plain": [
       "<Figure size 640x480 with 1 Axes>"
      ]
     },
     "metadata": {},
     "output_type": "display_data"
    }
   ],
   "source": [
    "plt.bar(df_sex.index, df_sex['count'], color = ['crimson', 'b'])\n",
    "plt.xticks(rotation = 0)\n",
    "plt.xlabel(None)\n",
    "plt.show()"
   ]
  },
  {
   "cell_type": "code",
   "execution_count": 7,
   "id": "40f24dc0-280b-4544-9a6f-53747f049cad",
   "metadata": {},
   "outputs": [
    {
     "data": {
      "text/plain": [
       "count    7659.000000\n",
       "mean     2605.595900\n",
       "std      2078.524839\n",
       "min        11.000000\n",
       "25%       800.000000\n",
       "50%      2319.000000\n",
       "75%      3781.500000\n",
       "max      8910.000000\n",
       "Name: inc, dtype: float64"
      ]
     },
     "execution_count": 7,
     "metadata": {},
     "output_type": "execute_result"
    }
   ],
   "source": [
    "df.inc.describe()"
   ]
  },
  {
   "cell_type": "code",
   "execution_count": 8,
   "id": "26d16f45-9cfd-4f22-823f-4767f9ab8f35",
   "metadata": {},
   "outputs": [
    {
     "data": {
      "text/html": [
       "<div>\n",
       "<style scoped>\n",
       "    .dataframe tbody tr th:only-of-type {\n",
       "        vertical-align: middle;\n",
       "    }\n",
       "\n",
       "    .dataframe tbody tr th {\n",
       "        vertical-align: top;\n",
       "    }\n",
       "\n",
       "    .dataframe thead th {\n",
       "        text-align: right;\n",
       "    }\n",
       "</style>\n",
       "<table border=\"1\" class=\"dataframe\">\n",
       "  <thead>\n",
       "    <tr style=\"text-align: right;\">\n",
       "      <th></th>\n",
       "      <th>count</th>\n",
       "    </tr>\n",
       "    <tr>\n",
       "      <th>inc</th>\n",
       "      <th></th>\n",
       "    </tr>\n",
       "  </thead>\n",
       "  <tbody>\n",
       "    <tr>\n",
       "      <th>11.0</th>\n",
       "      <td>1</td>\n",
       "    </tr>\n",
       "    <tr>\n",
       "      <th>20.0</th>\n",
       "      <td>1</td>\n",
       "    </tr>\n",
       "    <tr>\n",
       "      <th>24.0</th>\n",
       "      <td>1</td>\n",
       "    </tr>\n",
       "    <tr>\n",
       "      <th>25.0</th>\n",
       "      <td>1</td>\n",
       "    </tr>\n",
       "    <tr>\n",
       "      <th>27.0</th>\n",
       "      <td>4</td>\n",
       "    </tr>\n",
       "    <tr>\n",
       "      <th>...</th>\n",
       "      <td>...</td>\n",
       "    </tr>\n",
       "    <tr>\n",
       "      <th>8885.0</th>\n",
       "      <td>1</td>\n",
       "    </tr>\n",
       "    <tr>\n",
       "      <th>8890.0</th>\n",
       "      <td>1</td>\n",
       "    </tr>\n",
       "    <tr>\n",
       "      <th>8896.0</th>\n",
       "      <td>1</td>\n",
       "    </tr>\n",
       "    <tr>\n",
       "      <th>8900.0</th>\n",
       "      <td>1</td>\n",
       "    </tr>\n",
       "    <tr>\n",
       "      <th>8910.0</th>\n",
       "      <td>1</td>\n",
       "    </tr>\n",
       "  </tbody>\n",
       "</table>\n",
       "<p>2772 rows × 1 columns</p>\n",
       "</div>"
      ],
      "text/plain": [
       "        count\n",
       "inc          \n",
       "11.0        1\n",
       "20.0        1\n",
       "24.0        1\n",
       "25.0        1\n",
       "27.0        4\n",
       "...       ...\n",
       "8885.0      1\n",
       "8890.0      1\n",
       "8896.0      1\n",
       "8900.0      1\n",
       "8910.0      1\n",
       "\n",
       "[2772 rows x 1 columns]"
      ]
     },
     "execution_count": 8,
     "metadata": {},
     "output_type": "execute_result"
    }
   ],
   "source": [
    "df_inc = df['inc'].value_counts().to_frame().sort_values('inc')\n",
    "df_inc"
   ]
  },
  {
   "cell_type": "code",
   "execution_count": 9,
   "id": "030a984f-dfda-49a9-a324-5091f869f770",
   "metadata": {},
   "outputs": [
    {
     "name": "stdout",
     "output_type": "stream",
     "text": [
      "<class 'pandas.core.series.Series'>\n",
      "Index: 16256 entries, 0 to 16255\n",
      "Series name: inc\n",
      "Non-Null Count  Dtype  \n",
      "--------------  -----  \n",
      "7659 non-null   float64\n",
      "dtypes: float64(1)\n",
      "memory usage: 254.0 KB\n"
     ]
    }
   ],
   "source": [
    "df.inc.info()"
   ]
  },
  {
   "cell_type": "code",
   "execution_count": 10,
   "id": "4534ef0c-7454-44ba-a974-058a5ca64662",
   "metadata": {},
   "outputs": [
    {
     "data": {
      "image/png": "[encoded data removed]",
      "text/plain": [
       "<Figure size 500x500 with 1 Axes>"
      ]
     },
     "metadata": {},
     "output_type": "display_data"
    }
   ],
   "source": [
    "sns.displot(df.inc / 12)\n",
    "plt.show()"
   ]
  },
  {
   "cell_type": "code",
   "execution_count": 11,
   "id": "4f42c172-f389-4890-8f42-fad3fa887265",
   "metadata": {},
   "outputs": [
    {
     "data": {
      "text/plain": [
       "sex_factor\n",
       "female    1890.00\n",
       "male      3342.62\n",
       "Name: inc, dtype: float64"
      ]
     },
     "execution_count": 11,
     "metadata": {},
     "output_type": "execute_result"
    }
   ],
   "source": [
    "df.groupby('sex_factor')['inc'].agg('mean').round(2)"
   ]
  },
  {
   "cell_type": "code",
   "execution_count": 12,
   "id": "ba1a826c-2c6c-4200-a114-b7df42951d40",
   "metadata": {},
   "outputs": [
    {
     "data": {
      "text/html": [
       "<div>\n",
       "<style scoped>\n",
       "    .dataframe tbody tr th:only-of-type {\n",
       "        vertical-align: middle;\n",
       "    }\n",
       "\n",
       "    .dataframe tbody tr th {\n",
       "        vertical-align: top;\n",
       "    }\n",
       "\n",
       "    .dataframe thead th {\n",
       "        text-align: right;\n",
       "    }\n",
       "</style>\n",
       "<table border=\"1\" class=\"dataframe\">\n",
       "  <thead>\n",
       "    <tr style=\"text-align: right;\">\n",
       "      <th></th>\n",
       "      <th>inc</th>\n",
       "    </tr>\n",
       "    <tr>\n",
       "      <th>sex_factor</th>\n",
       "      <th></th>\n",
       "    </tr>\n",
       "  </thead>\n",
       "  <tbody>\n",
       "    <tr>\n",
       "      <th>female</th>\n",
       "      <td>1890.00</td>\n",
       "    </tr>\n",
       "    <tr>\n",
       "      <th>male</th>\n",
       "      <td>3342.62</td>\n",
       "    </tr>\n",
       "  </tbody>\n",
       "</table>\n",
       "</div>"
      ],
      "text/plain": [
       "                inc\n",
       "sex_factor         \n",
       "female      1890.00\n",
       "male        3342.62"
      ]
     },
     "execution_count": 12,
     "metadata": {},
     "output_type": "execute_result"
    }
   ],
   "source": [
    "sex_inc = df.groupby('sex_factor')[['inc']].agg('mean').round(2)\n",
    "sex_inc"
   ]
  },
  {
   "cell_type": "code",
   "execution_count": 13,
   "id": "5c65a344-15d9-4375-86f8-1821898c311e",
   "metadata": {},
   "outputs": [
    {
     "data": {
      "image/png": "[encoded data removed]",
      "text/plain": [
       "<Figure size 640x480 with 1 Axes>"
      ]
     },
     "metadata": {},
     "output_type": "display_data"
    }
   ],
   "source": [
    "plt.bar(sex_inc.index, sex_inc.inc, color = ['crimson', 'lightblue'])\n",
    "plt.show()"
   ]
  },
  {
   "cell_type": "code",
   "execution_count": 14,
   "id": "f1bc15f6-981d-4c6e-b6aa-3979cbbbd4f2",
   "metadata": {},
   "outputs": [
    {
     "name": "stdout",
     "output_type": "stream",
     "text": [
      "t-value : 32.63\n",
      "p-value : 0.0\n",
      "성별에 따른 임금의 차이가 존재한다.\n"
     ]
    }
   ],
   "source": [
    "# 성별에 따른 inc - (t - test 결과)\n",
    "\n",
    "ttest1, ttest1_p = stats.ttest_ind(df.inc[(df['sex'] == 1) & (df.inc.isna() == False)],\n",
    "                                                 df.inc[(df['sex'] == 2) & (df.inc.isna() == False)],\n",
    "                                                 equal_var=True)\n",
    "print('t-value :', round(ttest1, 2))\n",
    "print('p-value :', round(ttest1_p, 2))\n",
    "print('성별에 따른 임금의 차이가 존재한다.')"
   ]
  },
  {
   "cell_type": "markdown",
   "id": "798045cb-ae66-492c-8318-1e443f601c24",
   "metadata": {},
   "source": [
    "### 나이와 월급의 관계\n",
    "- 나이와 소득간의 관계를 확인하기 위해\n",
    "- 나이를 생산가능연령으로 제한 (15 <= age < 65)\n",
    "- 나이와 소득은 양의 관계(상관, 회귀 모두)"
   ]
  },
  {
   "cell_type": "code",
   "execution_count": 15,
   "id": "9225f7b7-67b6-4a34-8346-f68cef72be35",
   "metadata": {},
   "outputs": [
    {
     "name": "stdout",
     "output_type": "stream",
     "text": [
      "<class 'pandas.core.series.Series'>\n",
      "Index: 16256 entries, 0 to 16255\n",
      "Series name: age\n",
      "Non-Null Count  Dtype\n",
      "--------------  -----\n",
      "16256 non-null  int64\n",
      "dtypes: int64(1)\n",
      "memory usage: 254.0 KB\n"
     ]
    }
   ],
   "source": [
    "df.age.info() \n",
    "# null 값 미존재"
   ]
  },
  {
   "cell_type": "code",
   "execution_count": 16,
   "id": "43411f62-a005-4fd9-b30d-c8434b1d5021",
   "metadata": {},
   "outputs": [
    {
     "data": {
      "text/plain": [
       "array([ 78,  75,  81,  61,  60,  20,  96,  83,  53,  31,  82,  45,  48,\n",
       "        19,  15,  59,  62,  37,  71,  38,  39,  41,   3,  52,  80,  51,\n",
       "        49,  17,  69,  50,  87,  55,  47,  13,  11,  86,  64,  28,  56,\n",
       "        25,  68,  65,  29,  24,  16,  73,  67,  93,  85,  32,  34,  26,\n",
       "        66,  76,  43,  63,  40,  77,  58,  22,  35,  36,  10,   6,  27,\n",
       "        90,  70,  33,  42,  46,  23,  21,  84,   9,   7,  74,  57,  54,\n",
       "        98,  44,  14,  12,  89,   8,   4,  91,  72,  79,   5,  30,  88,\n",
       "        18, 106,  97,   2,  94,  92, 102, 101,  95, 104,  99, 103, 100,\n",
       "       117], dtype=int64)"
      ]
     },
     "execution_count": 16,
     "metadata": {},
     "output_type": "execute_result"
    }
   ],
   "source": [
    "df.age.unique()"
   ]
  },
  {
   "cell_type": "code",
   "execution_count": 44,
   "id": "2d5864a5-78d0-4717-b350-1b327d8490c5",
   "metadata": {},
   "outputs": [],
   "source": [
    "inc_condition = df['inc'].isna() == False\n",
    "df_inc_condition = df[inc_condition]# inc가 nan인 경우 제외한 df\n",
    "df2 = df_inc_condition[(df_inc_condition['age'] >= 15) & (df_inc_condition['age'] < 65)] # 생산가능연령만 표시"
   ]
  },
  {
   "cell_type": "code",
   "execution_count": 45,
   "id": "bd30be1c-bcf8-49e9-88af-c5a16460cba5",
   "metadata": {},
   "outputs": [
    {
     "data": {
      "text/html": [
       "<div>\n",
       "<style scoped>\n",
       "    .dataframe tbody tr th:only-of-type {\n",
       "        vertical-align: middle;\n",
       "    }\n",
       "\n",
       "    .dataframe tbody tr th {\n",
       "        vertical-align: top;\n",
       "    }\n",
       "\n",
       "    .dataframe thead th {\n",
       "        text-align: right;\n",
       "    }\n",
       "</style>\n",
       "<table border=\"1\" class=\"dataframe\">\n",
       "  <thead>\n",
       "    <tr style=\"text-align: right;\">\n",
       "      <th></th>\n",
       "      <th>age</th>\n",
       "      <th>inc</th>\n",
       "    </tr>\n",
       "  </thead>\n",
       "  <tbody>\n",
       "    <tr>\n",
       "      <th>age</th>\n",
       "      <td>1.000000</td>\n",
       "      <td>0.088002</td>\n",
       "    </tr>\n",
       "    <tr>\n",
       "      <th>inc</th>\n",
       "      <td>0.088002</td>\n",
       "      <td>1.000000</td>\n",
       "    </tr>\n",
       "  </tbody>\n",
       "</table>\n",
       "</div>"
      ],
      "text/plain": [
       "          age       inc\n",
       "age  1.000000  0.088002\n",
       "inc  0.088002  1.000000"
      ]
     },
     "execution_count": 45,
     "metadata": {},
     "output_type": "execute_result"
    }
   ],
   "source": [
    "df2[['age', 'inc']].corr()"
   ]
  },
  {
   "cell_type": "code",
   "execution_count": 52,
   "id": "84668b66-07e8-4a1f-95f6-1f30c3d3c17b",
   "metadata": {},
   "outputs": [
    {
     "name": "stdout",
     "output_type": "stream",
     "text": [
      "age - inc의 상관관계 - corr1\n",
      "corr1 - 상관계수 : 0.09\n",
      "corr1 - pvalue : 0.0\n",
      "age - inc 상관관계 - 유의\n",
      "\n",
      "age - inc_log의 상관관계 - corr2\n",
      "corr2 - 상관계수 : 0.1\n",
      "corr2 - pvalue : 0.0\n",
      "age - inc 상관관계 - 유의\n",
      "\n"
     ]
    }
   ],
   "source": [
    "corr1, corr1_p = stats.pearsonr(df2['age'], df2['inc'])\n",
    "corr2, corr2_p = stats.pearsonr(df2['age'], df2['inc_log'])\n",
    "print('age - inc의 상관관계 - corr1')\n",
    "print('corr1 - 상관계수 :', round(corr1, 2))\n",
    "print('corr1 - pvalue :', round(corr1_p, 2))\n",
    "print('age - inc 상관관계 - 유의')\n",
    "print('')\n",
    "print('age - inc_log의 상관관계 - corr2')\n",
    "print('corr2 - 상관계수 :', round(corr2, 2))\n",
    "print('corr2 - pvalue :', round(corr2_p, 2))\n",
    "print('age - inc 상관관계 - 유의')\n",
    "print('')"
   ]
  },
  {
   "cell_type": "code",
   "execution_count": 66,
   "id": "aba02d93-6621-4f37-be9a-39b674434e62",
   "metadata": {},
   "outputs": [
    {
     "data": {
      "text/html": [
       "<div>\n",
       "<style scoped>\n",
       "    .dataframe tbody tr th:only-of-type {\n",
       "        vertical-align: middle;\n",
       "    }\n",
       "\n",
       "    .dataframe tbody tr th {\n",
       "        vertical-align: top;\n",
       "    }\n",
       "\n",
       "    .dataframe thead th {\n",
       "        text-align: right;\n",
       "    }\n",
       "</style>\n",
       "<table border=\"1\" class=\"dataframe\">\n",
       "  <thead>\n",
       "    <tr style=\"text-align: right;\">\n",
       "      <th></th>\n",
       "      <th>상관계수</th>\n",
       "      <th>p-value</th>\n",
       "      <th>유의도</th>\n",
       "    </tr>\n",
       "  </thead>\n",
       "  <tbody>\n",
       "    <tr>\n",
       "      <th>inc_age</th>\n",
       "      <td>0.088</td>\n",
       "      <td>0.0</td>\n",
       "      <td>**</td>\n",
       "    </tr>\n",
       "    <tr>\n",
       "      <th>inc(log)_age</th>\n",
       "      <td>0.100</td>\n",
       "      <td>0.0</td>\n",
       "      <td>**</td>\n",
       "    </tr>\n",
       "  </tbody>\n",
       "</table>\n",
       "</div>"
      ],
      "text/plain": [
       "               상관계수  p-value 유의도\n",
       "inc_age       0.088      0.0  **\n",
       "inc(log)_age  0.100      0.0  **"
      ]
     },
     "execution_count": 66,
     "metadata": {},
     "output_type": "execute_result"
    }
   ],
   "source": [
    "corr_df = [[corr1, corr1_p], [corr2, corr2_p]]\n",
    "corr_df = pd.DataFrame(corr_df,\n",
    "                       index = ['inc_age','inc(log)_age'],  \n",
    "                       columns = ['상관계수', 'p-value']).round(3)\n",
    "corr_df['유의도'] = corr_df['p-value'].apply(lambda x: 'X' if x >= 0.05 else '*' if 0.01 <= x < 0.05 else '**')\n",
    "corr_df"
   ]
  },
  {
   "cell_type": "code",
   "execution_count": 67,
   "id": "1614f22e-3a42-4954-a736-64cac8fb8e3a",
   "metadata": {},
   "outputs": [
    {
     "data": {
      "text/html": [
       "<table class=\"simpletable\">\n",
       "<caption>OLS Regression Results</caption>\n",
       "<tr>\n",
       "  <th>Dep. Variable:</th>           <td>inc</td>       <th>  R-squared:         </th> <td>   0.008</td> \n",
       "</tr>\n",
       "<tr>\n",
       "  <th>Model:</th>                   <td>OLS</td>       <th>  Adj. R-squared:    </th> <td>   0.008</td> \n",
       "</tr>\n",
       "<tr>\n",
       "  <th>Method:</th>             <td>Least Squares</td>  <th>  F-statistic:       </th> <td>   42.51</td> \n",
       "</tr>\n",
       "<tr>\n",
       "  <th>Date:</th>             <td>Thu, 23 Nov 2023</td> <th>  Prob (F-statistic):</th> <td>7.68e-11</td> \n",
       "</tr>\n",
       "<tr>\n",
       "  <th>Time:</th>                 <td>16:44:40</td>     <th>  Log-Likelihood:    </th> <td> -49228.</td> \n",
       "</tr>\n",
       "<tr>\n",
       "  <th>No. Observations:</th>      <td>  5448</td>      <th>  AIC:               </th> <td>9.846e+04</td>\n",
       "</tr>\n",
       "<tr>\n",
       "  <th>Df Residuals:</th>          <td>  5446</td>      <th>  BIC:               </th> <td>9.847e+04</td>\n",
       "</tr>\n",
       "<tr>\n",
       "  <th>Df Model:</th>              <td>     1</td>      <th>                     </th>     <td> </td>    \n",
       "</tr>\n",
       "<tr>\n",
       "  <th>Covariance Type:</th>      <td>nonrobust</td>    <th>                     </th>     <td> </td>    \n",
       "</tr>\n",
       "</table>\n",
       "<table class=\"simpletable\">\n",
       "<tr>\n",
       "    <td></td>       <th>coef</th>     <th>std err</th>      <th>t</th>      <th>P>|t|</th>  <th>[0.025</th>    <th>0.975]</th>  \n",
       "</tr>\n",
       "<tr>\n",
       "  <th>const</th> <td> 2546.7041</td> <td>  107.766</td> <td>   23.632</td> <td> 0.000</td> <td> 2335.439</td> <td> 2757.969</td>\n",
       "</tr>\n",
       "<tr>\n",
       "  <th>age</th>   <td>   14.9529</td> <td>    2.294</td> <td>    6.520</td> <td> 0.000</td> <td>   10.457</td> <td>   19.449</td>\n",
       "</tr>\n",
       "</table>\n",
       "<table class=\"simpletable\">\n",
       "<tr>\n",
       "  <th>Omnibus:</th>       <td>302.401</td> <th>  Durbin-Watson:     </th> <td>   1.987</td>\n",
       "</tr>\n",
       "<tr>\n",
       "  <th>Prob(Omnibus):</th> <td> 0.000</td>  <th>  Jarque-Bera (JB):  </th> <td> 341.909</td>\n",
       "</tr>\n",
       "<tr>\n",
       "  <th>Skew:</th>          <td> 0.599</td>  <th>  Prob(JB):          </th> <td>5.69e-75</td>\n",
       "</tr>\n",
       "<tr>\n",
       "  <th>Kurtosis:</th>      <td> 2.730</td>  <th>  Cond. No.          </th> <td>    184.</td>\n",
       "</tr>\n",
       "</table><br/><br/>Notes:<br/>[1] Standard Errors assume that the covariance matrix of the errors is correctly specified."
      ],
      "text/latex": [
       "\\begin{center}\n",
       "\\begin{tabular}{lclc}\n",
       "\\toprule\n",
       "\\textbf{Dep. Variable:}    &       inc        & \\textbf{  R-squared:         } &     0.008   \\\\\n",
       "\\textbf{Model:}            &       OLS        & \\textbf{  Adj. R-squared:    } &     0.008   \\\\\n",
       "\\textbf{Method:}           &  Least Squares   & \\textbf{  F-statistic:       } &     42.51   \\\\\n",
       "\\textbf{Date:}             & Thu, 23 Nov 2023 & \\textbf{  Prob (F-statistic):} &  7.68e-11   \\\\\n",
       "\\textbf{Time:}             &     16:44:40     & \\textbf{  Log-Likelihood:    } &   -49228.   \\\\\n",
       "\\textbf{No. Observations:} &        5448      & \\textbf{  AIC:               } & 9.846e+04   \\\\\n",
       "\\textbf{Df Residuals:}     &        5446      & \\textbf{  BIC:               } & 9.847e+04   \\\\\n",
       "\\textbf{Df Model:}         &           1      & \\textbf{                     } &             \\\\\n",
       "\\textbf{Covariance Type:}  &    nonrobust     & \\textbf{                     } &             \\\\\n",
       "\\bottomrule\n",
       "\\end{tabular}\n",
       "\\begin{tabular}{lcccccc}\n",
       "               & \\textbf{coef} & \\textbf{std err} & \\textbf{t} & \\textbf{P$> |$t$|$} & \\textbf{[0.025} & \\textbf{0.975]}  \\\\\n",
       "\\midrule\n",
       "\\textbf{const} &    2546.7041  &      107.766     &    23.632  &         0.000        &     2335.439    &     2757.969     \\\\\n",
       "\\textbf{age}   &      14.9529  &        2.294     &     6.520  &         0.000        &       10.457    &       19.449     \\\\\n",
       "\\bottomrule\n",
       "\\end{tabular}\n",
       "\\begin{tabular}{lclc}\n",
       "\\textbf{Omnibus:}       & 302.401 & \\textbf{  Durbin-Watson:     } &    1.987  \\\\\n",
       "\\textbf{Prob(Omnibus):} &   0.000 & \\textbf{  Jarque-Bera (JB):  } &  341.909  \\\\\n",
       "\\textbf{Skew:}          &   0.599 & \\textbf{  Prob(JB):          } & 5.69e-75  \\\\\n",
       "\\textbf{Kurtosis:}      &   2.730 & \\textbf{  Cond. No.          } &     184.  \\\\\n",
       "\\bottomrule\n",
       "\\end{tabular}\n",
       "%\\caption{OLS Regression Results}\n",
       "\\end{center}\n",
       "\n",
       "Notes: \\newline\n",
       " [1] Standard Errors assume that the covariance matrix of the errors is correctly specified."
      ],
      "text/plain": [
       "<class 'statsmodels.iolib.summary.Summary'>\n",
       "\"\"\"\n",
       "                            OLS Regression Results                            \n",
       "==============================================================================\n",
       "Dep. Variable:                    inc   R-squared:                       0.008\n",
       "Model:                            OLS   Adj. R-squared:                  0.008\n",
       "Method:                 Least Squares   F-statistic:                     42.51\n",
       "Date:                Thu, 23 Nov 2023   Prob (F-statistic):           7.68e-11\n",
       "Time:                        16:44:40   Log-Likelihood:                -49228.\n",
       "No. Observations:                5448   AIC:                         9.846e+04\n",
       "Df Residuals:                    5446   BIC:                         9.847e+04\n",
       "Df Model:                           1                                         \n",
       "Covariance Type:            nonrobust                                         \n",
       "==============================================================================\n",
       "                 coef    std err          t      P>|t|      [0.025      0.975]\n",
       "------------------------------------------------------------------------------\n",
       "const       2546.7041    107.766     23.632      0.000    2335.439    2757.969\n",
       "age           14.9529      2.294      6.520      0.000      10.457      19.449\n",
       "==============================================================================\n",
       "Omnibus:                      302.401   Durbin-Watson:                   1.987\n",
       "Prob(Omnibus):                  0.000   Jarque-Bera (JB):              341.909\n",
       "Skew:                           0.599   Prob(JB):                     5.69e-75\n",
       "Kurtosis:                       2.730   Cond. No.                         184.\n",
       "==============================================================================\n",
       "\n",
       "Notes:\n",
       "[1] Standard Errors assume that the covariance matrix of the errors is correctly specified.\n",
       "\"\"\""
      ]
     },
     "execution_count": 67,
     "metadata": {},
     "output_type": "execute_result"
    }
   ],
   "source": [
    "# inc ~ age 의 단순회귀분석\n",
    "y = df2['inc']\n",
    "x = df2['age']\n",
    "x = sm.add_constant(x) # 상수항 추가\n",
    "\n",
    "reg1 = sm.OLS(y, \n",
    "              x)\n",
    "reg1.fit().summary()"
   ]
  },
  {
   "cell_type": "code",
   "execution_count": 68,
   "id": "9d904930-4d13-47ee-86a8-054b3f133190",
   "metadata": {},
   "outputs": [
    {
     "data": {
      "text/html": [
       "<table class=\"simpletable\">\n",
       "<caption>OLS Regression Results</caption>\n",
       "<tr>\n",
       "  <th>Dep. Variable:</th>         <td>inc_log</td>     <th>  R-squared:         </th> <td>   0.010</td> \n",
       "</tr>\n",
       "<tr>\n",
       "  <th>Model:</th>                   <td>OLS</td>       <th>  Adj. R-squared:    </th> <td>   0.010</td> \n",
       "</tr>\n",
       "<tr>\n",
       "  <th>Method:</th>             <td>Least Squares</td>  <th>  F-statistic:       </th> <td>   54.72</td> \n",
       "</tr>\n",
       "<tr>\n",
       "  <th>Date:</th>             <td>Thu, 23 Nov 2023</td> <th>  Prob (F-statistic):</th> <td>1.60e-13</td> \n",
       "</tr>\n",
       "<tr>\n",
       "  <th>Time:</th>                 <td>16:44:52</td>     <th>  Log-Likelihood:    </th> <td> -7079.7</td> \n",
       "</tr>\n",
       "<tr>\n",
       "  <th>No. Observations:</th>      <td>  5448</td>      <th>  AIC:               </th> <td>1.416e+04</td>\n",
       "</tr>\n",
       "<tr>\n",
       "  <th>Df Residuals:</th>          <td>  5446</td>      <th>  BIC:               </th> <td>1.418e+04</td>\n",
       "</tr>\n",
       "<tr>\n",
       "  <th>Df Model:</th>              <td>     1</td>      <th>                     </th>     <td> </td>    \n",
       "</tr>\n",
       "<tr>\n",
       "  <th>Covariance Type:</th>      <td>nonrobust</td>    <th>                     </th>     <td> </td>    \n",
       "</tr>\n",
       "</table>\n",
       "<table class=\"simpletable\">\n",
       "<tr>\n",
       "    <td></td>       <th>coef</th>     <th>std err</th>      <th>t</th>      <th>P>|t|</th>  <th>[0.025</th>    <th>0.975]</th>  \n",
       "</tr>\n",
       "<tr>\n",
       "  <th>const</th> <td>    7.4563</td> <td>    0.047</td> <td>  158.462</td> <td> 0.000</td> <td>    7.364</td> <td>    7.549</td>\n",
       "</tr>\n",
       "<tr>\n",
       "  <th>age</th>   <td>    0.0074</td> <td>    0.001</td> <td>    7.397</td> <td> 0.000</td> <td>    0.005</td> <td>    0.009</td>\n",
       "</tr>\n",
       "</table>\n",
       "<table class=\"simpletable\">\n",
       "<tr>\n",
       "  <th>Omnibus:</th>       <td>1241.934</td> <th>  Durbin-Watson:     </th> <td>   1.975</td>\n",
       "</tr>\n",
       "<tr>\n",
       "  <th>Prob(Omnibus):</th>  <td> 0.000</td>  <th>  Jarque-Bera (JB):  </th> <td>2687.298</td>\n",
       "</tr>\n",
       "<tr>\n",
       "  <th>Skew:</th>           <td>-1.314</td>  <th>  Prob(JB):          </th> <td>    0.00</td>\n",
       "</tr>\n",
       "<tr>\n",
       "  <th>Kurtosis:</th>       <td> 5.221</td>  <th>  Cond. No.          </th> <td>    184.</td>\n",
       "</tr>\n",
       "</table><br/><br/>Notes:<br/>[1] Standard Errors assume that the covariance matrix of the errors is correctly specified."
      ],
      "text/latex": [
       "\\begin{center}\n",
       "\\begin{tabular}{lclc}\n",
       "\\toprule\n",
       "\\textbf{Dep. Variable:}    &     inc\\_log     & \\textbf{  R-squared:         } &     0.010   \\\\\n",
       "\\textbf{Model:}            &       OLS        & \\textbf{  Adj. R-squared:    } &     0.010   \\\\\n",
       "\\textbf{Method:}           &  Least Squares   & \\textbf{  F-statistic:       } &     54.72   \\\\\n",
       "\\textbf{Date:}             & Thu, 23 Nov 2023 & \\textbf{  Prob (F-statistic):} &  1.60e-13   \\\\\n",
       "\\textbf{Time:}             &     16:44:52     & \\textbf{  Log-Likelihood:    } &   -7079.7   \\\\\n",
       "\\textbf{No. Observations:} &        5448      & \\textbf{  AIC:               } & 1.416e+04   \\\\\n",
       "\\textbf{Df Residuals:}     &        5446      & \\textbf{  BIC:               } & 1.418e+04   \\\\\n",
       "\\textbf{Df Model:}         &           1      & \\textbf{                     } &             \\\\\n",
       "\\textbf{Covariance Type:}  &    nonrobust     & \\textbf{                     } &             \\\\\n",
       "\\bottomrule\n",
       "\\end{tabular}\n",
       "\\begin{tabular}{lcccccc}\n",
       "               & \\textbf{coef} & \\textbf{std err} & \\textbf{t} & \\textbf{P$> |$t$|$} & \\textbf{[0.025} & \\textbf{0.975]}  \\\\\n",
       "\\midrule\n",
       "\\textbf{const} &       7.4563  &        0.047     &   158.462  &         0.000        &        7.364    &        7.549     \\\\\n",
       "\\textbf{age}   &       0.0074  &        0.001     &     7.397  &         0.000        &        0.005    &        0.009     \\\\\n",
       "\\bottomrule\n",
       "\\end{tabular}\n",
       "\\begin{tabular}{lclc}\n",
       "\\textbf{Omnibus:}       & 1241.934 & \\textbf{  Durbin-Watson:     } &    1.975  \\\\\n",
       "\\textbf{Prob(Omnibus):} &   0.000  & \\textbf{  Jarque-Bera (JB):  } & 2687.298  \\\\\n",
       "\\textbf{Skew:}          &  -1.314  & \\textbf{  Prob(JB):          } &     0.00  \\\\\n",
       "\\textbf{Kurtosis:}      &   5.221  & \\textbf{  Cond. No.          } &     184.  \\\\\n",
       "\\bottomrule\n",
       "\\end{tabular}\n",
       "%\\caption{OLS Regression Results}\n",
       "\\end{center}\n",
       "\n",
       "Notes: \\newline\n",
       " [1] Standard Errors assume that the covariance matrix of the errors is correctly specified."
      ],
      "text/plain": [
       "<class 'statsmodels.iolib.summary.Summary'>\n",
       "\"\"\"\n",
       "                            OLS Regression Results                            \n",
       "==============================================================================\n",
       "Dep. Variable:                inc_log   R-squared:                       0.010\n",
       "Model:                            OLS   Adj. R-squared:                  0.010\n",
       "Method:                 Least Squares   F-statistic:                     54.72\n",
       "Date:                Thu, 23 Nov 2023   Prob (F-statistic):           1.60e-13\n",
       "Time:                        16:44:52   Log-Likelihood:                -7079.7\n",
       "No. Observations:                5448   AIC:                         1.416e+04\n",
       "Df Residuals:                    5446   BIC:                         1.418e+04\n",
       "Df Model:                           1                                         \n",
       "Covariance Type:            nonrobust                                         \n",
       "==============================================================================\n",
       "                 coef    std err          t      P>|t|      [0.025      0.975]\n",
       "------------------------------------------------------------------------------\n",
       "const          7.4563      0.047    158.462      0.000       7.364       7.549\n",
       "age            0.0074      0.001      7.397      0.000       0.005       0.009\n",
       "==============================================================================\n",
       "Omnibus:                     1241.934   Durbin-Watson:                   1.975\n",
       "Prob(Omnibus):                  0.000   Jarque-Bera (JB):             2687.298\n",
       "Skew:                          -1.314   Prob(JB):                         0.00\n",
       "Kurtosis:                       5.221   Cond. No.                         184.\n",
       "==============================================================================\n",
       "\n",
       "Notes:\n",
       "[1] Standard Errors assume that the covariance matrix of the errors is correctly specified.\n",
       "\"\"\""
      ]
     },
     "execution_count": 68,
     "metadata": {},
     "output_type": "execute_result"
    }
   ],
   "source": [
    "# inc_log ~ age 의 단순회귀분석\n",
    "y = df2['inc_log']\n",
    "x = df2['age']\n",
    "x = sm.add_constant(x) # 상수항 추가\n",
    "\n",
    "reg1 = sm.OLS(y, \n",
    "              x)\n",
    "reg1.fit().summary()"
   ]
  },
  {
   "cell_type": "markdown",
   "id": "7d1d2dc1-485e-418a-895a-d5ce205e436a",
   "metadata": {},
   "source": [
    "##### 위의 결과에 따라 inc와 age는 양의 상관관계"
   ]
  },
  {
   "cell_type": "code",
   "execution_count": 83,
   "id": "576648d8-55d0-427b-8dca-a7e437f914e0",
   "metadata": {},
   "outputs": [
    {
     "data": {
      "image/png": "[encoded data removed]",
      "text/plain": [
       "<Figure size 640x480 with 1 Axes>"
      ]
     },
     "metadata": {},
     "output_type": "display_data"
    }
   ],
   "source": [
    "age_inc = df2.groupby('age')[['inc','inc_log']].agg('mean')\n",
    "\n",
    "plt.plot(age_inc.index, age_inc['inc'])\n",
    "plt.show()"
   ]
  },
  {
   "cell_type": "code",
   "execution_count": 84,
   "id": "bffdd83b-ed7b-43f7-9ddb-daebeacfd242",
   "metadata": {},
   "outputs": [
    {
     "data": {
      "image/png": "[encoded data removed]",
      "text/plain": [
       "<Figure size 640x480 with 1 Axes>"
      ]
     },
     "metadata": {},
     "output_type": "display_data"
    }
   ],
   "source": [
    "plt.plot(age_inc.index, age_inc['inc_log'])\n",
    "plt.show()"
   ]
  },
  {
   "cell_type": "markdown",
   "id": "80d46b5a-d657-4ef6-b3cf-cb0c73f4f69a",
   "metadata": {},
   "source": [
    "##### 그래프 결과 2차항의 가능성이 보인다.\n"
   ]
  },
  {
   "cell_type": "code",
   "execution_count": 88,
   "id": "b737a194-d90f-425f-9477-2bcfb8d3cd74",
   "metadata": {},
   "outputs": [
    {
     "data": {
      "text/html": [
       "<table class=\"simpletable\">\n",
       "<caption>OLS Regression Results</caption>\n",
       "<tr>\n",
       "  <th>Dep. Variable:</th>           <td>inc</td>       <th>  R-squared:         </th> <td>   0.124</td> \n",
       "</tr>\n",
       "<tr>\n",
       "  <th>Model:</th>                   <td>OLS</td>       <th>  Adj. R-squared:    </th> <td>   0.123</td> \n",
       "</tr>\n",
       "<tr>\n",
       "  <th>Method:</th>             <td>Least Squares</td>  <th>  F-statistic:       </th> <td>   384.6</td> \n",
       "</tr>\n",
       "<tr>\n",
       "  <th>Date:</th>             <td>Thu, 23 Nov 2023</td> <th>  Prob (F-statistic):</th> <td>5.67e-157</td>\n",
       "</tr>\n",
       "<tr>\n",
       "  <th>Time:</th>                 <td>16:52:51</td>     <th>  Log-Likelihood:    </th> <td> -48889.</td> \n",
       "</tr>\n",
       "<tr>\n",
       "  <th>No. Observations:</th>      <td>  5448</td>      <th>  AIC:               </th> <td>9.778e+04</td>\n",
       "</tr>\n",
       "<tr>\n",
       "  <th>Df Residuals:</th>          <td>  5445</td>      <th>  BIC:               </th> <td>9.780e+04</td>\n",
       "</tr>\n",
       "<tr>\n",
       "  <th>Df Model:</th>              <td>     2</td>      <th>                     </th>     <td> </td>    \n",
       "</tr>\n",
       "<tr>\n",
       "  <th>Covariance Type:</th>      <td>nonrobust</td>    <th>                     </th>     <td> </td>    \n",
       "</tr>\n",
       "</table>\n",
       "<table class=\"simpletable\">\n",
       "<tr>\n",
       "    <td></td>       <th>coef</th>     <th>std err</th>      <th>t</th>      <th>P>|t|</th>  <th>[0.025</th>    <th>0.975]</th>  \n",
       "</tr>\n",
       "<tr>\n",
       "  <th>const</th> <td>-6518.0186</td> <td>  352.425</td> <td>  -18.495</td> <td> 0.000</td> <td>-7208.912</td> <td>-5827.125</td>\n",
       "</tr>\n",
       "<tr>\n",
       "  <th>age</th>   <td>  462.1224</td> <td>   16.791</td> <td>   27.522</td> <td> 0.000</td> <td>  429.205</td> <td>  495.039</td>\n",
       "</tr>\n",
       "<tr>\n",
       "  <th>age^2</th> <td>   -5.0950</td> <td>    0.190</td> <td>  -26.854</td> <td> 0.000</td> <td>   -5.467</td> <td>   -4.723</td>\n",
       "</tr>\n",
       "</table>\n",
       "<table class=\"simpletable\">\n",
       "<tr>\n",
       "  <th>Omnibus:</th>       <td>221.667</td> <th>  Durbin-Watson:     </th> <td>   2.091</td>\n",
       "</tr>\n",
       "<tr>\n",
       "  <th>Prob(Omnibus):</th> <td> 0.000</td>  <th>  Jarque-Bera (JB):  </th> <td> 249.182</td>\n",
       "</tr>\n",
       "<tr>\n",
       "  <th>Skew:</th>          <td> 0.524</td>  <th>  Prob(JB):          </th> <td>7.78e-55</td>\n",
       "</tr>\n",
       "<tr>\n",
       "  <th>Kurtosis:</th>      <td> 2.969</td>  <th>  Cond. No.          </th> <td>3.34e+04</td>\n",
       "</tr>\n",
       "</table><br/><br/>Notes:<br/>[1] Standard Errors assume that the covariance matrix of the errors is correctly specified.<br/>[2] The condition number is large, 3.34e+04. This might indicate that there are<br/>strong multicollinearity or other numerical problems."
      ],
      "text/latex": [
       "\\begin{center}\n",
       "\\begin{tabular}{lclc}\n",
       "\\toprule\n",
       "\\textbf{Dep. Variable:}    &       inc        & \\textbf{  R-squared:         } &     0.124   \\\\\n",
       "\\textbf{Model:}            &       OLS        & \\textbf{  Adj. R-squared:    } &     0.123   \\\\\n",
       "\\textbf{Method:}           &  Least Squares   & \\textbf{  F-statistic:       } &     384.6   \\\\\n",
       "\\textbf{Date:}             & Thu, 23 Nov 2023 & \\textbf{  Prob (F-statistic):} & 5.67e-157   \\\\\n",
       "\\textbf{Time:}             &     16:52:51     & \\textbf{  Log-Likelihood:    } &   -48889.   \\\\\n",
       "\\textbf{No. Observations:} &        5448      & \\textbf{  AIC:               } & 9.778e+04   \\\\\n",
       "\\textbf{Df Residuals:}     &        5445      & \\textbf{  BIC:               } & 9.780e+04   \\\\\n",
       "\\textbf{Df Model:}         &           2      & \\textbf{                     } &             \\\\\n",
       "\\textbf{Covariance Type:}  &    nonrobust     & \\textbf{                     } &             \\\\\n",
       "\\bottomrule\n",
       "\\end{tabular}\n",
       "\\begin{tabular}{lcccccc}\n",
       "               & \\textbf{coef} & \\textbf{std err} & \\textbf{t} & \\textbf{P$> |$t$|$} & \\textbf{[0.025} & \\textbf{0.975]}  \\\\\n",
       "\\midrule\n",
       "\\textbf{const} &   -6518.0186  &      352.425     &   -18.495  &         0.000        &    -7208.912    &    -5827.125     \\\\\n",
       "\\textbf{age}   &     462.1224  &       16.791     &    27.522  &         0.000        &      429.205    &      495.039     \\\\\n",
       "\\textbf{age^2} &      -5.0950  &        0.190     &   -26.854  &         0.000        &       -5.467    &       -4.723     \\\\\n",
       "\\bottomrule\n",
       "\\end{tabular}\n",
       "\\begin{tabular}{lclc}\n",
       "\\textbf{Omnibus:}       & 221.667 & \\textbf{  Durbin-Watson:     } &    2.091  \\\\\n",
       "\\textbf{Prob(Omnibus):} &   0.000 & \\textbf{  Jarque-Bera (JB):  } &  249.182  \\\\\n",
       "\\textbf{Skew:}          &   0.524 & \\textbf{  Prob(JB):          } & 7.78e-55  \\\\\n",
       "\\textbf{Kurtosis:}      &   2.969 & \\textbf{  Cond. No.          } & 3.34e+04  \\\\\n",
       "\\bottomrule\n",
       "\\end{tabular}\n",
       "%\\caption{OLS Regression Results}\n",
       "\\end{center}\n",
       "\n",
       "Notes: \\newline\n",
       " [1] Standard Errors assume that the covariance matrix of the errors is correctly specified. \\newline\n",
       " [2] The condition number is large, 3.34e+04. This might indicate that there are \\newline\n",
       " strong multicollinearity or other numerical problems."
      ],
      "text/plain": [
       "<class 'statsmodels.iolib.summary.Summary'>\n",
       "\"\"\"\n",
       "                            OLS Regression Results                            \n",
       "==============================================================================\n",
       "Dep. Variable:                    inc   R-squared:                       0.124\n",
       "Model:                            OLS   Adj. R-squared:                  0.123\n",
       "Method:                 Least Squares   F-statistic:                     384.6\n",
       "Date:                Thu, 23 Nov 2023   Prob (F-statistic):          5.67e-157\n",
       "Time:                        16:52:51   Log-Likelihood:                -48889.\n",
       "No. Observations:                5448   AIC:                         9.778e+04\n",
       "Df Residuals:                    5445   BIC:                         9.780e+04\n",
       "Df Model:                           2                                         \n",
       "Covariance Type:            nonrobust                                         \n",
       "==============================================================================\n",
       "                 coef    std err          t      P>|t|      [0.025      0.975]\n",
       "------------------------------------------------------------------------------\n",
       "const      -6518.0186    352.425    -18.495      0.000   -7208.912   -5827.125\n",
       "age          462.1224     16.791     27.522      0.000     429.205     495.039\n",
       "age^2         -5.0950      0.190    -26.854      0.000      -5.467      -4.723\n",
       "==============================================================================\n",
       "Omnibus:                      221.667   Durbin-Watson:                   2.091\n",
       "Prob(Omnibus):                  0.000   Jarque-Bera (JB):              249.182\n",
       "Skew:                           0.524   Prob(JB):                     7.78e-55\n",
       "Kurtosis:                       2.969   Cond. No.                     3.34e+04\n",
       "==============================================================================\n",
       "\n",
       "Notes:\n",
       "[1] Standard Errors assume that the covariance matrix of the errors is correctly specified.\n",
       "[2] The condition number is large, 3.34e+04. This might indicate that there are\n",
       "strong multicollinearity or other numerical problems.\n",
       "\"\"\""
      ]
     },
     "execution_count": 88,
     "metadata": {},
     "output_type": "execute_result"
    }
   ],
   "source": [
    "# inc ~ age + age^2\n",
    "y = df2['inc']\n",
    "x = df2['age']\n",
    "x = sm.add_constant(x) # 상수항 추가\n",
    "x['age^2'] = x['age'] ** 2\n",
    "\n",
    "reg1 = sm.OLS(y, \n",
    "              x)\n",
    "reg1.fit().summary()"
   ]
  },
  {
   "cell_type": "code",
   "execution_count": 110,
   "id": "af9e9279-0e0b-44d3-a86f-2664a3dbdbf4",
   "metadata": {},
   "outputs": [
    {
     "name": "stdout",
     "output_type": "stream",
     "text": [
      "변곡점은 45.35세로 예상된다\n"
     ]
    }
   ],
   "source": [
    "# 변곡점 b / -2a\n",
    "b = reg1.fit().params['age']\n",
    "a = reg1.fit().params['age^2']\n",
    "\n",
    "print('변곡점은 ', round(-(b/(a * 2)), 2), '세로 예상된다', sep = '')"
   ]
  },
  {
   "cell_type": "code",
   "execution_count": 111,
   "id": "37c4f70e-fba2-4d78-91f1-91dc183c130b",
   "metadata": {},
   "outputs": [],
   "source": [
    "### 연령대와 임금\n",
    "- 연령대 \n",
    "    - 30세 미만 young\n",
    "    - 60세 미만 middle\n",
    "    - 60세 이상 old"
   ]
  },
  {
   "cell_type": "code",
   "execution_count": 117,
   "id": "044f5a6f-8f7c-43d5-8bb8-01f973a44e36",
   "metadata": {},
   "outputs": [
    {
     "data": {
      "text/html": [
       "<div>\n",
       "<style scoped>\n",
       "    .dataframe tbody tr th:only-of-type {\n",
       "        vertical-align: middle;\n",
       "    }\n",
       "\n",
       "    .dataframe tbody tr th {\n",
       "        vertical-align: top;\n",
       "    }\n",
       "\n",
       "    .dataframe thead th {\n",
       "        text-align: right;\n",
       "    }\n",
       "</style>\n",
       "<table border=\"1\" class=\"dataframe\">\n",
       "  <thead>\n",
       "    <tr style=\"text-align: right;\">\n",
       "      <th></th>\n",
       "      <th>count</th>\n",
       "    </tr>\n",
       "    <tr>\n",
       "      <th>age_factor</th>\n",
       "      <th></th>\n",
       "    </tr>\n",
       "  </thead>\n",
       "  <tbody>\n",
       "    <tr>\n",
       "      <th>old</th>\n",
       "      <td>7917</td>\n",
       "    </tr>\n",
       "    <tr>\n",
       "      <th>middle</th>\n",
       "      <td>5230</td>\n",
       "    </tr>\n",
       "    <tr>\n",
       "      <th>young</th>\n",
       "      <td>3109</td>\n",
       "    </tr>\n",
       "  </tbody>\n",
       "</table>\n",
       "</div>"
      ],
      "text/plain": [
       "            count\n",
       "age_factor       \n",
       "old          7917\n",
       "middle       5230\n",
       "young        3109"
      ]
     },
     "execution_count": 117,
     "metadata": {},
     "output_type": "execute_result"
    }
   ],
   "source": [
    "df['age_factor'] = df['age'].apply(lambda x: 'young' if x < 30 else \n",
    "                                   'middle' if 30 <= x < 60 else 'old')\n",
    "\n",
    "df_age_factor = df['age_factor'].value_counts().to_frame()\n",
    "df_age_factor\n"
   ]
  },
  {
   "cell_type": "code",
   "execution_count": 128,
   "id": "e2a47345-20d2-4c6a-8119-8ffe2775f43c",
   "metadata": {},
   "outputs": [
    {
     "data": {
      "image/png": "[encoded data removed]",
      "text/plain": [
       "<Figure size 640x480 with 1 Axes>"
      ]
     },
     "metadata": {},
     "output_type": "display_data"
    }
   ],
   "source": [
    "plt.bar(df_age_factor.index, df_age_factor['count'], color = ['g', 'lime', 'yellow'])\n",
    "plt.show()"
   ]
  },
  {
   "cell_type": "code",
   "execution_count": 131,
   "id": "072e97b5-1dbf-476b-8c8b-209bd7e694d4",
   "metadata": {},
   "outputs": [
    {
     "data": {
      "text/html": [
       "<div>\n",
       "<style scoped>\n",
       "    .dataframe tbody tr th:only-of-type {\n",
       "        vertical-align: middle;\n",
       "    }\n",
       "\n",
       "    .dataframe tbody tr th {\n",
       "        vertical-align: top;\n",
       "    }\n",
       "\n",
       "    .dataframe thead th {\n",
       "        text-align: right;\n",
       "    }\n",
       "</style>\n",
       "<table border=\"1\" class=\"dataframe\">\n",
       "  <thead>\n",
       "    <tr style=\"text-align: right;\">\n",
       "      <th></th>\n",
       "      <th>inc</th>\n",
       "    </tr>\n",
       "    <tr>\n",
       "      <th>age_factor</th>\n",
       "      <th></th>\n",
       "    </tr>\n",
       "  </thead>\n",
       "  <tbody>\n",
       "    <tr>\n",
       "      <th>middle</th>\n",
       "      <td>3589.22</td>\n",
       "    </tr>\n",
       "    <tr>\n",
       "      <th>old</th>\n",
       "      <td>1487.21</td>\n",
       "    </tr>\n",
       "    <tr>\n",
       "      <th>young</th>\n",
       "      <td>1921.37</td>\n",
       "    </tr>\n",
       "  </tbody>\n",
       "</table>\n",
       "</div>"
      ],
      "text/plain": [
       "                inc\n",
       "age_factor         \n",
       "middle      3589.22\n",
       "old         1487.21\n",
       "young       1921.37"
      ]
     },
     "execution_count": 131,
     "metadata": {},
     "output_type": "execute_result"
    }
   ],
   "source": [
    "##### 연령대별 임금분석\n",
    "df.groupby('age_factor')[['inc']].agg('mean').round(2)"
   ]
  },
  {
   "cell_type": "code",
   "execution_count": null,
   "id": "1bfbe242-251c-4e16-bb58-482029aebe06",
   "metadata": {},
   "outputs": [],
   "source": [
    "# 3집단의 차이를 보기 위해서는 ANOVA\n",
    "sm.stats.anova_oneway(df, "
   ]
  },
  {
   "cell_type": "code",
   "execution_count": null,
   "id": "4a835eaa-4942-4255-a0d2-cb896a2f2a1b",
   "metadata": {},
   "outputs": [],
   "source": []
  }
 ],
 "metadata": {
  "kernelspec": {
   "display_name": "Python 3 (ipykernel)",
   "language": "python",
   "name": "python3"
  },
  "language_info": {
   "codemirror_mode": {
    "name": "ipython",
    "version": 3
   },
   "file_extension": ".py",
   "mimetype": "text/x-python",
   "name": "python",
   "nbconvert_exporter": "python",
   "pygments_lexer": "ipython3",
   "version": "3.9.12"
  }
 },
 "nbformat": 4,
 "nbformat_minor": 5
}
