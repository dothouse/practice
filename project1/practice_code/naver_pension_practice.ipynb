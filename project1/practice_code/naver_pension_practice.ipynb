{
 "cells": [
  {
   "cell_type": "code",
   "execution_count": 1,
   "metadata": {},
   "outputs": [],
   "source": [
    "from selenium import webdriver\n",
    "from selenium.webdriver.common.by import By\n",
    "from selenium.webdriver.common.keys import Keys\n",
    "\n",
    "# 대기시간 설정을 위한 \n",
    "from selenium.webdriver.support.ui import WebDriverWait\n",
    "from selenium.webdriver.support import expected_conditions as EC\n",
    "\n",
    "from urllib.parse import quote\n",
    "import time\n",
    "import pandas as pd\n",
    "import requests\n",
    "from bs4 import BeautifulSoup\n",
    "import re\n",
    "from datetime import datetime, timedelta\n",
    "from tqdm import tqdm\n",
    "\n",
    "# 시스템 확인 - 파일 경로 확인\n",
    "import os\n",
    "# 다운로드 파일이동\n",
    "import shutil\n",
    "\n",
    "#엑셀파일 불러들이기 위한\n",
    "import xlrd\n",
    "\n",
    "#time.sleep을 위한 난수생성\n",
    "import random\n",
    "\n",
    "import pandas as pd"
   ]
  },
  {
   "cell_type": "markdown",
   "metadata": {},
   "source": [
    "### 제주도 농어촌민박(펜션, 게스트하우스, 민박 등)\n",
    "- 출처 - 제주데이터허브\n",
    "- https://jejudatahub.net/data/view/data/956\n"
   ]
  },
  {
   "cell_type": "code",
   "execution_count": 2,
   "metadata": {},
   "outputs": [
    {
     "data": {
      "text/html": [
       "<div>\n",
       "<style scoped>\n",
       "    .dataframe tbody tr th:only-of-type {\n",
       "        vertical-align: middle;\n",
       "    }\n",
       "\n",
       "    .dataframe tbody tr th {\n",
       "        vertical-align: top;\n",
       "    }\n",
       "\n",
       "    .dataframe thead th {\n",
       "        text-align: right;\n",
       "    }\n",
       "</style>\n",
       "<table border=\"1\" class=\"dataframe\">\n",
       "  <thead>\n",
       "    <tr style=\"text-align: right;\">\n",
       "      <th></th>\n",
       "      <th>읍면동</th>\n",
       "      <th>민박명</th>\n",
       "      <th>소재지</th>\n",
       "      <th>데이터기준일</th>\n",
       "    </tr>\n",
       "  </thead>\n",
       "  <tbody>\n",
       "    <tr>\n",
       "      <th>0</th>\n",
       "      <td>한림읍</td>\n",
       "      <td>기영 민박</td>\n",
       "      <td>제주시 한림읍 한림로 345</td>\n",
       "      <td>20211123</td>\n",
       "    </tr>\n",
       "    <tr>\n",
       "      <th>1</th>\n",
       "      <td>한림읍</td>\n",
       "      <td>에너벨리</td>\n",
       "      <td>제주시 한림읍 한림로 356</td>\n",
       "      <td>20211123</td>\n",
       "    </tr>\n",
       "    <tr>\n",
       "      <th>2</th>\n",
       "      <td>한림읍</td>\n",
       "      <td>협재 빌리지</td>\n",
       "      <td>제주시 한림읍 한림로 338-1</td>\n",
       "      <td>20211123</td>\n",
       "    </tr>\n",
       "    <tr>\n",
       "      <th>3</th>\n",
       "      <td>한림읍</td>\n",
       "      <td>해송민박</td>\n",
       "      <td>제주시 한림읍 협재4길 7-15</td>\n",
       "      <td>20211123</td>\n",
       "    </tr>\n",
       "    <tr>\n",
       "      <th>4</th>\n",
       "      <td>한림읍</td>\n",
       "      <td>영심 민박</td>\n",
       "      <td>제주시 한림읍 협재4길 7-7</td>\n",
       "      <td>20211123</td>\n",
       "    </tr>\n",
       "    <tr>\n",
       "      <th>5</th>\n",
       "      <td>한림읍</td>\n",
       "      <td>원룸민박</td>\n",
       "      <td>제주시 한림읍 비양도길 275</td>\n",
       "      <td>20211123</td>\n",
       "    </tr>\n",
       "    <tr>\n",
       "      <th>6</th>\n",
       "      <td>한림읍</td>\n",
       "      <td>바다그리기</td>\n",
       "      <td>제주시 한림읍 옹포2길 16</td>\n",
       "      <td>20211123</td>\n",
       "    </tr>\n",
       "    <tr>\n",
       "      <th>7</th>\n",
       "      <td>한림읍</td>\n",
       "      <td>비양도 민박</td>\n",
       "      <td>제주시 한림읍 비양도길 8</td>\n",
       "      <td>20211123</td>\n",
       "    </tr>\n",
       "    <tr>\n",
       "      <th>8</th>\n",
       "      <td>한림읍</td>\n",
       "      <td>해조대 민박</td>\n",
       "      <td>제주시 한림읍 한림로 339</td>\n",
       "      <td>20211123</td>\n",
       "    </tr>\n",
       "    <tr>\n",
       "      <th>9</th>\n",
       "      <td>한림읍</td>\n",
       "      <td>이쁜새민박</td>\n",
       "      <td>제주시 한림읍 협재로 68-5</td>\n",
       "      <td>20211123</td>\n",
       "    </tr>\n",
       "    <tr>\n",
       "      <th>10</th>\n",
       "      <td>한림읍</td>\n",
       "      <td>월령 코지</td>\n",
       "      <td>제주시 한림읍 월령3길 39-22</td>\n",
       "      <td>20211123</td>\n",
       "    </tr>\n",
       "    <tr>\n",
       "      <th>11</th>\n",
       "      <td>한림읍</td>\n",
       "      <td>해피데이</td>\n",
       "      <td>제주시 한림읍 한림로 423</td>\n",
       "      <td>20211123</td>\n",
       "    </tr>\n",
       "    <tr>\n",
       "      <th>12</th>\n",
       "      <td>한림읍</td>\n",
       "      <td>성원민박</td>\n",
       "      <td>제주시 한림읍 비양도길 24</td>\n",
       "      <td>20211123</td>\n",
       "    </tr>\n",
       "    <tr>\n",
       "      <th>13</th>\n",
       "      <td>한림읍</td>\n",
       "      <td>민박하얀집</td>\n",
       "      <td>제주시 한림읍 협재1길 9</td>\n",
       "      <td>20211123</td>\n",
       "    </tr>\n",
       "    <tr>\n",
       "      <th>14</th>\n",
       "      <td>한림읍</td>\n",
       "      <td>향나무민박</td>\n",
       "      <td>제주시 한림읍 한림로 537</td>\n",
       "      <td>20211123</td>\n",
       "    </tr>\n",
       "    <tr>\n",
       "      <th>15</th>\n",
       "      <td>한림읍</td>\n",
       "      <td>코지하우스민박</td>\n",
       "      <td>제주시 한림읍 금능9길 28</td>\n",
       "      <td>20211123</td>\n",
       "    </tr>\n",
       "    <tr>\n",
       "      <th>16</th>\n",
       "      <td>한림읍</td>\n",
       "      <td>마레게스트하우스 민박</td>\n",
       "      <td>제주시 한림읍 한림로 197</td>\n",
       "      <td>20211123</td>\n",
       "    </tr>\n",
       "    <tr>\n",
       "      <th>17</th>\n",
       "      <td>한림읍</td>\n",
       "      <td>풍차와 바다</td>\n",
       "      <td>제주시 한림읍 월령3길 36</td>\n",
       "      <td>20211123</td>\n",
       "    </tr>\n",
       "    <tr>\n",
       "      <th>18</th>\n",
       "      <td>한림읍</td>\n",
       "      <td>삼보민박</td>\n",
       "      <td>제주시 한림읍 명월성로 627</td>\n",
       "      <td>20211123</td>\n",
       "    </tr>\n",
       "    <tr>\n",
       "      <th>19</th>\n",
       "      <td>한림읍</td>\n",
       "      <td>까사루나 민박</td>\n",
       "      <td>제주시 한림읍 명월로 3-6</td>\n",
       "      <td>20211123</td>\n",
       "    </tr>\n",
       "  </tbody>\n",
       "</table>\n",
       "</div>"
      ],
      "text/plain": [
       "    읍면동          민박명                 소재지    데이터기준일\n",
       "0   한림읍        기영 민박     제주시 한림읍 한림로 345  20211123\n",
       "1   한림읍         에너벨리     제주시 한림읍 한림로 356  20211123\n",
       "2   한림읍       협재 빌리지   제주시 한림읍 한림로 338-1  20211123\n",
       "3   한림읍         해송민박   제주시 한림읍 협재4길 7-15  20211123\n",
       "4   한림읍        영심 민박    제주시 한림읍 협재4길 7-7  20211123\n",
       "5   한림읍         원룸민박    제주시 한림읍 비양도길 275  20211123\n",
       "6   한림읍        바다그리기     제주시 한림읍 옹포2길 16  20211123\n",
       "7   한림읍       비양도 민박      제주시 한림읍 비양도길 8  20211123\n",
       "8   한림읍       해조대 민박     제주시 한림읍 한림로 339  20211123\n",
       "9   한림읍        이쁜새민박    제주시 한림읍 협재로 68-5  20211123\n",
       "10  한림읍        월령 코지  제주시 한림읍 월령3길 39-22  20211123\n",
       "11  한림읍         해피데이     제주시 한림읍 한림로 423  20211123\n",
       "12  한림읍         성원민박     제주시 한림읍 비양도길 24  20211123\n",
       "13  한림읍        민박하얀집      제주시 한림읍 협재1길 9  20211123\n",
       "14  한림읍        향나무민박     제주시 한림읍 한림로 537  20211123\n",
       "15  한림읍      코지하우스민박     제주시 한림읍 금능9길 28  20211123\n",
       "16  한림읍  마레게스트하우스 민박     제주시 한림읍 한림로 197  20211123\n",
       "17  한림읍       풍차와 바다     제주시 한림읍 월령3길 36  20211123\n",
       "18  한림읍         삼보민박    제주시 한림읍 명월성로 627  20211123\n",
       "19  한림읍      까사루나 민박     제주시 한림읍 명월로 3-6  20211123"
      ]
     },
     "execution_count": 2,
     "metadata": {},
     "output_type": "execute_result"
    }
   ],
   "source": [
    "df_accomo = pd.read_csv('./data/제주농어촌민박현황.csv')\n",
    "df_accomo.head(20)"
   ]
  },
  {
   "cell_type": "code",
   "execution_count": 3,
   "metadata": {},
   "outputs": [
    {
     "data": {
      "text/plain": [
       "0              기영 민박\n",
       "1               에너벨리\n",
       "2             협재 빌리지\n",
       "3               해송민박\n",
       "4              영심 민박\n",
       "            ...     \n",
       "2979         화랑펜션2층집\n",
       "2980    김군빌리지 게스트하우스\n",
       "2981           도두봉팬션\n",
       "2982           바다성펜션\n",
       "2983             올레뷰\n",
       "Name: 민박명, Length: 2984, dtype: object"
      ]
     },
     "execution_count": 3,
     "metadata": {},
     "output_type": "execute_result"
    }
   ],
   "source": [
    "accomo_list = df_accomo['민박명']\n",
    "accomo_list"
   ]
  },
  {
   "cell_type": "markdown",
   "metadata": {},
   "source": [
    "### 네이버 블로그 데이터 확인\n",
    "\n"
   ]
  },
  {
   "cell_type": "code",
   "execution_count": 4,
   "metadata": {},
   "outputs": [],
   "source": [
    "# 제주 + \"제주낭만펜션\" 검색결과 URL\n",
    "# \"\" 포함시 필수검색 옵션\n",
    "url = 'https://search.naver.com/search.naver?where=view&sm=tab_jum&query=%EC%A0%9C%EC%A3%BC+%22%EB%82%AD%EB%A7%8C%EC%A0%9C%EC%A3%BC%ED%8E%9C%EC%85%98%22+-%EC%98%88%EC%95%BD%EC%BD%94%EB%93%9C+-%EC%98%88%EC%95%BD%EC%BD%94%EB%93%9C&tqi'"
   ]
  },
  {
   "cell_type": "code",
   "execution_count": 21,
   "metadata": {},
   "outputs": [],
   "source": [
    "base_url = 'https://search.naver.com/search.naver?where=blog&&sm=tab_jum&query=%EC%A0%9C%EC%A3%BC+'\n",
    "accomo_name = quote(f'\"{accomo_list[10]}\"')\n",
    "\n",
    "# 제외하고자 하는 검색어\n",
    "# 파트너스 - -%ED%8C%8C%ED%8A%B8%EB%84%88%EC%8A%A4\n",
    "# 예약코드 - -%EC%98%88%EC%95%BD%EC%BD%94%EB%93%9C\n",
    "delete_search = '+-%EC%98%88%EC%95%BD%EC%BD%94%EB%93%9C+-%ED%8C%8C%ED%8A%B8%EB%84%88%EC%8A%A4'\n",
    "\n",
    "# 검색 URL - 네이버 VIEW 중에서 BLOG / 숙소이름 / 제외검색어\n",
    "url = base_url + accomo_name + delete_search\n",
    "\n",
    "driver = webdriver.Chrome()\n",
    "driver.get(url)"
   ]
  },
  {
   "cell_type": "code",
   "execution_count": 22,
   "metadata": {},
   "outputs": [
    {
     "data": {
      "text/plain": [
       "'%ED%8C%8C%ED%8A%B8%EB%84%88%EC%8A%A4'"
      ]
     },
     "execution_count": 22,
     "metadata": {},
     "output_type": "execute_result"
    }
   ],
   "source": [
    "quote('파트너스')"
   ]
  },
  {
   "cell_type": "code",
   "execution_count": null,
   "metadata": {},
   "outputs": [],
   "source": [
    "base_url = 'https://search.naver.com/search.naver?where=blog&&sm=tab_jum&query=%EC%A0%9C%EC%A3%BC+'\n",
    "accomo_name = quote(f'\"{accomo_list[10]}\"')\n",
    "\n",
    "# 제외하고자 하는 검색어\n",
    "# 파트너스 - -%ED%8C%8C%ED%8A%B8%EB%84%88%EC%8A%A4\n",
    "# 예약코드 - -%EC%98%88%EC%95%BD%EC%BD%94%EB%93%9C\n",
    "delete_search = f'+-{quote(\"파트너스\")}+-{quote(\"예약코드\")}'\n",
    "\n",
    "# 검색 URL - 네이버 VIEW 중에서 BLOG / 숙소이름 / 제외검색어\n",
    "url = base_url + accomo_name + delete_search\n",
    "\n",
    "driver = webdriver.Chrome()\n",
    "driver.get(url)"
   ]
  },
  {
   "cell_type": "code",
   "execution_count": 23,
   "metadata": {},
   "outputs": [
    {
     "data": {
      "text/plain": [
       "['파트너스', '예약코드']"
      ]
     },
     "execution_count": 23,
     "metadata": {},
     "output_type": "execute_result"
    }
   ],
   "source": [
    "delete_words = [\"파트너스\", \"예약코드\"]\n",
    "delete_words"
   ]
  },
  {
   "cell_type": "code",
   "execution_count": 24,
   "metadata": {},
   "outputs": [
    {
     "data": {
      "text/plain": [
       "'%22%ED%8C%8C%ED%8A%B8%EB%84%88%EC%8A%A4%22'"
      ]
     },
     "execution_count": 24,
     "metadata": {},
     "output_type": "execute_result"
    }
   ],
   "source": [
    "quote(f'\"{delete_words[0]}\"')"
   ]
  },
  {
   "cell_type": "code",
   "execution_count": null,
   "metadata": {},
   "outputs": [],
   "source": [
    "base_url = 'https://search.naver.com/search.naver?where=blog&&sm=tab_jum&query=%EC%A0%9C%EC%A3%BC+'\n",
    "accomo_name = quote(f'\"{accomo_list[3]}\"')\n",
    "\n",
    "# 제외하고자 하는 검색어\n",
    "# 파트너스 - -%ED%8C%8C%ED%8A%B8%EB%84%88%EC%8A%A4\n",
    "# 예약코드 - -%EC%98%88%EC%95%BD%EC%BD%94%EB%93%9C\n",
    "delete_words = [\"파트너스\", \"예약코드\"]\n",
    "delete_words\n",
    "\n",
    "delete_search = \"\"\n",
    "for word in delete_words:    \n",
    "    delete_search += f'+-{quote(word)}'\n",
    "\n",
    "# 검색 URL - 네이버 VIEW 중에서 BLOG / 숙소이름 / 제외검색어\n",
    "url = base_url + accomo_name + delete_search\n",
    "\n",
    "driver = webdriver.Chrome()\n",
    "driver.get(url)"
   ]
  },
  {
   "cell_type": "code",
   "execution_count": 10,
   "metadata": {},
   "outputs": [],
   "source": [
    "base_url = 'https://search.naver.com/search.naver?where=blog&&sm=tab_jum&query=%EC%A0%9C%EC%A3%BC+'\n",
    "accomo_name = quote(f'\"{accomo_list[3]}\"')\n",
    "\n",
    "# 제외하고자 하는 검색어\n",
    "# 파트너스 - -%ED%8C%8C%ED%8A%B8%EB%84%88%EC%8A%A4\n",
    "# 예약코드 - -%EC%98%88%EC%95%BD%EC%BD%94%EB%93%9C\n",
    "delete_words = [\"파트너스\", \"예약코드\"]\n",
    "delete_words\n",
    "\n",
    "delete_search = \"\"\n",
    "for word in delete_words:    \n",
    "    delete_search += f'+-{quote(word)}'\n",
    "\n",
    "# 검색 URL - 네이버 VIEW 중에서 BLOG / 숙소이름 / 제외검색어\n",
    "url = base_url + accomo_name + delete_search\n",
    "\n",
    "driver = webdriver.Chrome()\n",
    "driver.get(url)\n",
    "driver.execute_script('window.scrollTo(0, 5500)')\n",
    "\n",
    "\n",
    "# 스크롤 내리기\n",
    "for i in range(10):\n",
    "    last_height = driver.execute_script(\"return document.body.scrollHeight\")\n",
    "    driver.find_element(By.TAG_NAME, 'body').send_keys(Keys.PAGE_DOWN)    \n",
    "    time.sleep(round(random.uniform(0.0, 1.2), 3))\n",
    "    new_height = driver.execute_script(\"return document.body.scrollHeight\")\n",
    "    if new_height == last_height:\n",
    "        break\n",
    "\n",
    "\n"
   ]
  },
  {
   "cell_type": "code",
   "execution_count": 43,
   "metadata": {},
   "outputs": [],
   "source": [
    "base_url = 'https://search.naver.com/search.naver?where=blog&&sm=tab_jum&query=%EC%A0%9C%EC%A3%BC+'\n",
    "accomo_name = quote(f'\"{accomo_list[5]}\"')\n",
    "\n",
    "# 제외하고자 하는 검색어\n",
    "# 파트너스 - -%ED%8C%8C%ED%8A%B8%EB%84%88%EC%8A%A4\n",
    "# 예약코드 - -%EC%98%88%EC%95%BD%EC%BD%94%EB%93%9C\n",
    "delete_words = [\"파트너스\", \"예약코드\"]\n",
    "delete_words\n",
    "\n",
    "delete_search = \"\"\n",
    "for word in delete_words:    \n",
    "    delete_search += f'+-{quote(word)}'\n",
    "\n",
    "# 검색 URL - 네이버 VIEW 중에서 BLOG / 숙소이름 / 제외검색어\n",
    "url = base_url + accomo_name + delete_search\n",
    "\n",
    "driver = webdriver.Chrome()\n",
    "driver.get(url)\n",
    "\n",
    "\n",
    "# 스크롤 내리기\n",
    "for _ in range(3):\n",
    "    last_height = driver.execute_script(\"return document.body.scrollHeight\")\n",
    "\n",
    "    # 창의 내리기 끝까지 하지않고, 중간에 멈춰서 한번은 page_down을 통해서\n",
    "    driver.execute_script(f'window.scrollTo(0, {last_height - random.randint(1, 100)})')\n",
    "    time.sleep(round(random.uniform(0.0, 1.0), 3))\n",
    "    driver.find_element(By.TAG_NAME, 'body').send_keys(Keys.PAGE_DOWN)     \n",
    "    time.sleep(round(random.uniform(0.0, 1.2), 3))\n",
    "\n",
    "    # 창의 높이가 달라지지 않으면 스크롤 내리기 중단\n",
    "    new_height = driver.execute_script(\"return document.body.scrollHeight\")\n",
    "    if new_height == last_height:\n",
    "        break\n",
    "\n",
    "soup = BeautifulSoup(driver.page_source, 'html.parser')\n",
    "lis = soup.select_one('.lst_view').select('.view_wrap')\n",
    "\n",
    "blog = []\n",
    "\n",
    "for li in lis:\n",
    "    name = accomo_name\n",
    "    title = li.select_one('.title_area').text.strip()\n",
    "    blog_link = li.select_one('.title_area').select_one('a')['href']\n",
    "    blog.append({'민박' : name,\n",
    "                 'title' : title,\n",
    "                 'link' : blog_link})\n",
    "    \n",
    "\n",
    "    \n"
   ]
  },
  {
   "cell_type": "code",
   "execution_count": 44,
   "metadata": {},
   "outputs": [
    {
     "data": {
      "text/html": [
       "<div>\n",
       "<style scoped>\n",
       "    .dataframe tbody tr th:only-of-type {\n",
       "        vertical-align: middle;\n",
       "    }\n",
       "\n",
       "    .dataframe tbody tr th {\n",
       "        vertical-align: top;\n",
       "    }\n",
       "\n",
       "    .dataframe thead th {\n",
       "        text-align: right;\n",
       "    }\n",
       "</style>\n",
       "<table border=\"1\" class=\"dataframe\">\n",
       "  <thead>\n",
       "    <tr style=\"text-align: right;\">\n",
       "      <th></th>\n",
       "      <th>민박</th>\n",
       "      <th>title</th>\n",
       "      <th>link</th>\n",
       "    </tr>\n",
       "  </thead>\n",
       "  <tbody>\n",
       "    <tr>\n",
       "      <th>0</th>\n",
       "      <td>예약코드</td>\n",
       "      <td>2023 제주 서부 여행 16일차 [숙소 주월담 후기]</td>\n",
       "      <td>https://blog.naver.com/flute1017/223183879709</td>\n",
       "    </tr>\n",
       "    <tr>\n",
       "      <th>1</th>\n",
       "      <td>예약코드</td>\n",
       "      <td>서귀포 안덕면 제주할망밥상 제주화순항 맛집 백반맛집...</td>\n",
       "      <td>https://blog.naver.com/pigrabbitnana/223204879419</td>\n",
       "    </tr>\n",
       "    <tr>\n",
       "      <th>2</th>\n",
       "      <td>예약코드</td>\n",
       "      <td>비양도(제주)</td>\n",
       "      <td>https://blog.naver.com/sks6012/223288837255</td>\n",
       "    </tr>\n",
       "    <tr>\n",
       "      <th>3</th>\n",
       "      <td>예약코드</td>\n",
       "      <td>제주안덕면밥집 제주할망밥상 화순점</td>\n",
       "      <td>https://blog.naver.com/sjehyn/222930637481</td>\n",
       "    </tr>\n",
       "    <tr>\n",
       "      <th>4</th>\n",
       "      <td>예약코드</td>\n",
       "      <td>제주도 워케이션 제주감성숙소, 독채펜션 제주숙박 으로 힐링하자</td>\n",
       "      <td>https://blog.naver.com/spxl1010/222925235440</td>\n",
       "    </tr>\n",
       "    <tr>\n",
       "      <th>...</th>\n",
       "      <td>...</td>\n",
       "      <td>...</td>\n",
       "      <td>...</td>\n",
       "    </tr>\n",
       "    <tr>\n",
       "      <th>115</th>\n",
       "      <td>예약코드</td>\n",
       "      <td>제주도 Day-6</td>\n",
       "      <td>https://blog.naver.com/sjjang61/88092659</td>\n",
       "    </tr>\n",
       "    <tr>\n",
       "      <th>116</th>\n",
       "      <td>예약코드</td>\n",
       "      <td>일본 : 파란만장 오사카 여행①</td>\n",
       "      <td>https://blog.naver.com/lee_mo_ri/220752069925</td>\n",
       "    </tr>\n",
       "    <tr>\n",
       "      <th>117</th>\n",
       "      <td>예약코드</td>\n",
       "      <td>임야담보대출 좋은조건 75까지로</td>\n",
       "      <td>http://thegreenfarm.kr/9661856137</td>\n",
       "    </tr>\n",
       "    <tr>\n",
       "      <th>118</th>\n",
       "      <td>예약코드</td>\n",
       "      <td>[제주도 대지] 조천읍 함덕리 준 주거지역에 위치하고...</td>\n",
       "      <td>https://blog.naver.com/gt9969/221935773740</td>\n",
       "    </tr>\n",
       "    <tr>\n",
       "      <th>119</th>\n",
       "      <td>예약코드</td>\n",
       "      <td>올레tv 만기 스카이라이프인터넷 변경 요금과 지원금 문의</td>\n",
       "      <td>https://blog.naver.com/skt1215/222424798098</td>\n",
       "    </tr>\n",
       "  </tbody>\n",
       "</table>\n",
       "<p>120 rows × 3 columns</p>\n",
       "</div>"
      ],
      "text/plain": [
       "       민박                               title  \\\n",
       "0    예약코드      2023 제주 서부 여행 16일차 [숙소 주월담 후기]   \n",
       "1    예약코드     서귀포 안덕면 제주할망밥상 제주화순항 맛집 백반맛집...   \n",
       "2    예약코드                             비양도(제주)   \n",
       "3    예약코드                  제주안덕면밥집 제주할망밥상 화순점   \n",
       "4    예약코드  제주도 워케이션 제주감성숙소, 독채펜션 제주숙박 으로 힐링하자   \n",
       "..    ...                                 ...   \n",
       "115  예약코드                           제주도 Day-6   \n",
       "116  예약코드                   일본 : 파란만장 오사카 여행①   \n",
       "117  예약코드                   임야담보대출 좋은조건 75까지로   \n",
       "118  예약코드    [제주도 대지] 조천읍 함덕리 준 주거지역에 위치하고...   \n",
       "119  예약코드     올레tv 만기 스카이라이프인터넷 변경 요금과 지원금 문의   \n",
       "\n",
       "                                                  link  \n",
       "0        https://blog.naver.com/flute1017/223183879709  \n",
       "1    https://blog.naver.com/pigrabbitnana/223204879419  \n",
       "2          https://blog.naver.com/sks6012/223288837255  \n",
       "3           https://blog.naver.com/sjehyn/222930637481  \n",
       "4         https://blog.naver.com/spxl1010/222925235440  \n",
       "..                                                 ...  \n",
       "115           https://blog.naver.com/sjjang61/88092659  \n",
       "116      https://blog.naver.com/lee_mo_ri/220752069925  \n",
       "117                  http://thegreenfarm.kr/9661856137  \n",
       "118         https://blog.naver.com/gt9969/221935773740  \n",
       "119        https://blog.naver.com/skt1215/222424798098  \n",
       "\n",
       "[120 rows x 3 columns]"
      ]
     },
     "execution_count": 44,
     "metadata": {},
     "output_type": "execute_result"
    }
   ],
   "source": [
    "pd.DataFrame(blog)\n"
   ]
  },
  {
   "cell_type": "markdown",
   "metadata": {},
   "source": [
    "여기서 부터"
   ]
  },
  {
   "cell_type": "code",
   "execution_count": 33,
   "metadata": {},
   "outputs": [
    {
     "name": "stderr",
     "output_type": "stream",
     "text": [
      " 10%|█         | 1/10 [00:06<00:56,  6.22s/it]"
     ]
    },
    {
     "name": "stdout",
     "output_type": "stream",
     "text": [
      "1번째 \"기영 민박\" 블로그 링크 수집완료\n"
     ]
    },
    {
     "name": "stderr",
     "output_type": "stream",
     "text": [
      " 10%|█         | 1/10 [00:11<01:47, 11.89s/it]\n"
     ]
    },
    {
     "ename": "NoSuchWindowException",
     "evalue": "Message: no such window: target window already closed\nfrom unknown error: web view not found\n  (Session info: chrome=120.0.6099.200)\nStacktrace:\n\tGetHandleVerifier [0x00007FF7F50B2142+3514994]\n\t(No symbol) [0x00007FF7F4CD0CE2]\n\t(No symbol) [0x00007FF7F4B776AA]\n\t(No symbol) [0x00007FF7F4B50AFD]\n\t(No symbol) [0x00007FF7F4BECB1B]\n\t(No symbol) [0x00007FF7F4C0218F]\n\t(No symbol) [0x00007FF7F4BE5D93]\n\t(No symbol) [0x00007FF7F4BB4BDC]\n\t(No symbol) [0x00007FF7F4BB5C64]\n\tGetHandleVerifier [0x00007FF7F50DE16B+3695259]\n\tGetHandleVerifier [0x00007FF7F5136737+4057191]\n\tGetHandleVerifier [0x00007FF7F512E4E3+4023827]\n\tGetHandleVerifier [0x00007FF7F4E004F9+689705]\n\t(No symbol) [0x00007FF7F4CDC048]\n\t(No symbol) [0x00007FF7F4CD8044]\n\t(No symbol) [0x00007FF7F4CD81C9]\n\t(No symbol) [0x00007FF7F4CC88C4]\n\tBaseThreadInitThunk [0x00007FFD95A47344+20]\n\tRtlUserThreadStart [0x00007FFD95B826B1+33]\n",
     "output_type": "error",
     "traceback": [
      "\u001b[1;31m---------------------------------------------------------------------------\u001b[0m",
      "\u001b[1;31mNoSuchWindowException\u001b[0m                     Traceback (most recent call last)",
      "Cell \u001b[1;32mIn[33], line 41\u001b[0m\n\u001b[0;32m     39\u001b[0m driver\u001b[38;5;241m.\u001b[39mexecute_script(\u001b[38;5;124mf\u001b[39m\u001b[38;5;124m'\u001b[39m\u001b[38;5;124mwindow.scrollTo(0, \u001b[39m\u001b[38;5;132;01m{\u001b[39;00mlast_height\u001b[38;5;250m \u001b[39m\u001b[38;5;241m-\u001b[39m\u001b[38;5;250m \u001b[39mrandom\u001b[38;5;241m.\u001b[39mrandint(\u001b[38;5;241m1\u001b[39m,\u001b[38;5;250m \u001b[39m\u001b[38;5;241m100\u001b[39m)\u001b[38;5;132;01m}\u001b[39;00m\u001b[38;5;124m)\u001b[39m\u001b[38;5;124m'\u001b[39m)\n\u001b[0;32m     40\u001b[0m time\u001b[38;5;241m.\u001b[39msleep(\u001b[38;5;28mround\u001b[39m(random\u001b[38;5;241m.\u001b[39muniform(\u001b[38;5;241m0.0\u001b[39m, \u001b[38;5;241m1.0\u001b[39m), \u001b[38;5;241m3\u001b[39m))\n\u001b[1;32m---> 41\u001b[0m \u001b[43mdriver\u001b[49m\u001b[38;5;241;43m.\u001b[39;49m\u001b[43mfind_element\u001b[49m\u001b[43m(\u001b[49m\u001b[43mBy\u001b[49m\u001b[38;5;241;43m.\u001b[39;49m\u001b[43mTAG_NAME\u001b[49m\u001b[43m,\u001b[49m\u001b[43m \u001b[49m\u001b[38;5;124;43m'\u001b[39;49m\u001b[38;5;124;43mbody\u001b[39;49m\u001b[38;5;124;43m'\u001b[39;49m\u001b[43m)\u001b[49m\u001b[38;5;241m.\u001b[39msend_keys(Keys\u001b[38;5;241m.\u001b[39mPAGE_DOWN)     \n\u001b[0;32m     42\u001b[0m time\u001b[38;5;241m.\u001b[39msleep(\u001b[38;5;28mround\u001b[39m(random\u001b[38;5;241m.\u001b[39muniform(\u001b[38;5;241m0.0\u001b[39m, \u001b[38;5;241m1.2\u001b[39m), \u001b[38;5;241m3\u001b[39m))\n\u001b[0;32m     44\u001b[0m \u001b[38;5;66;03m# 창의 높이가 달라지지 않으면 스크롤 내리기 중단\u001b[39;00m\n",
      "File \u001b[1;32md:\\song\\venvs\\project1\\lib\\site-packages\\selenium\\webdriver\\remote\\webdriver.py:742\u001b[0m, in \u001b[0;36mWebDriver.find_element\u001b[1;34m(self, by, value)\u001b[0m\n\u001b[0;32m    739\u001b[0m     by \u001b[38;5;241m=\u001b[39m By\u001b[38;5;241m.\u001b[39mCSS_SELECTOR\n\u001b[0;32m    740\u001b[0m     value \u001b[38;5;241m=\u001b[39m \u001b[38;5;124mf\u001b[39m\u001b[38;5;124m'\u001b[39m\u001b[38;5;124m[name=\u001b[39m\u001b[38;5;124m\"\u001b[39m\u001b[38;5;132;01m{\u001b[39;00mvalue\u001b[38;5;132;01m}\u001b[39;00m\u001b[38;5;124m\"\u001b[39m\u001b[38;5;124m]\u001b[39m\u001b[38;5;124m'\u001b[39m\n\u001b[1;32m--> 742\u001b[0m \u001b[38;5;28;01mreturn\u001b[39;00m \u001b[38;5;28;43mself\u001b[39;49m\u001b[38;5;241;43m.\u001b[39;49m\u001b[43mexecute\u001b[49m\u001b[43m(\u001b[49m\u001b[43mCommand\u001b[49m\u001b[38;5;241;43m.\u001b[39;49m\u001b[43mFIND_ELEMENT\u001b[49m\u001b[43m,\u001b[49m\u001b[43m \u001b[49m\u001b[43m{\u001b[49m\u001b[38;5;124;43m\"\u001b[39;49m\u001b[38;5;124;43musing\u001b[39;49m\u001b[38;5;124;43m\"\u001b[39;49m\u001b[43m:\u001b[49m\u001b[43m \u001b[49m\u001b[43mby\u001b[49m\u001b[43m,\u001b[49m\u001b[43m \u001b[49m\u001b[38;5;124;43m\"\u001b[39;49m\u001b[38;5;124;43mvalue\u001b[39;49m\u001b[38;5;124;43m\"\u001b[39;49m\u001b[43m:\u001b[49m\u001b[43m \u001b[49m\u001b[43mvalue\u001b[49m\u001b[43m}\u001b[49m\u001b[43m)\u001b[49m[\u001b[38;5;124m\"\u001b[39m\u001b[38;5;124mvalue\u001b[39m\u001b[38;5;124m\"\u001b[39m]\n",
      "File \u001b[1;32md:\\song\\venvs\\project1\\lib\\site-packages\\selenium\\webdriver\\remote\\webdriver.py:348\u001b[0m, in \u001b[0;36mWebDriver.execute\u001b[1;34m(self, driver_command, params)\u001b[0m\n\u001b[0;32m    346\u001b[0m response \u001b[38;5;241m=\u001b[39m \u001b[38;5;28mself\u001b[39m\u001b[38;5;241m.\u001b[39mcommand_executor\u001b[38;5;241m.\u001b[39mexecute(driver_command, params)\n\u001b[0;32m    347\u001b[0m \u001b[38;5;28;01mif\u001b[39;00m response:\n\u001b[1;32m--> 348\u001b[0m     \u001b[38;5;28;43mself\u001b[39;49m\u001b[38;5;241;43m.\u001b[39;49m\u001b[43merror_handler\u001b[49m\u001b[38;5;241;43m.\u001b[39;49m\u001b[43mcheck_response\u001b[49m\u001b[43m(\u001b[49m\u001b[43mresponse\u001b[49m\u001b[43m)\u001b[49m\n\u001b[0;32m    349\u001b[0m     response[\u001b[38;5;124m\"\u001b[39m\u001b[38;5;124mvalue\u001b[39m\u001b[38;5;124m\"\u001b[39m] \u001b[38;5;241m=\u001b[39m \u001b[38;5;28mself\u001b[39m\u001b[38;5;241m.\u001b[39m_unwrap_value(response\u001b[38;5;241m.\u001b[39mget(\u001b[38;5;124m\"\u001b[39m\u001b[38;5;124mvalue\u001b[39m\u001b[38;5;124m\"\u001b[39m, \u001b[38;5;28;01mNone\u001b[39;00m))\n\u001b[0;32m    350\u001b[0m     \u001b[38;5;28;01mreturn\u001b[39;00m response\n",
      "File \u001b[1;32md:\\song\\venvs\\project1\\lib\\site-packages\\selenium\\webdriver\\remote\\errorhandler.py:229\u001b[0m, in \u001b[0;36mErrorHandler.check_response\u001b[1;34m(self, response)\u001b[0m\n\u001b[0;32m    227\u001b[0m         alert_text \u001b[38;5;241m=\u001b[39m value[\u001b[38;5;124m\"\u001b[39m\u001b[38;5;124malert\u001b[39m\u001b[38;5;124m\"\u001b[39m]\u001b[38;5;241m.\u001b[39mget(\u001b[38;5;124m\"\u001b[39m\u001b[38;5;124mtext\u001b[39m\u001b[38;5;124m\"\u001b[39m)\n\u001b[0;32m    228\u001b[0m     \u001b[38;5;28;01mraise\u001b[39;00m exception_class(message, screen, stacktrace, alert_text)  \u001b[38;5;66;03m# type: ignore[call-arg]  # mypy is not smart enough here\u001b[39;00m\n\u001b[1;32m--> 229\u001b[0m \u001b[38;5;28;01mraise\u001b[39;00m exception_class(message, screen, stacktrace)\n",
      "\u001b[1;31mNoSuchWindowException\u001b[0m: Message: no such window: target window already closed\nfrom unknown error: web view not found\n  (Session info: chrome=120.0.6099.200)\nStacktrace:\n\tGetHandleVerifier [0x00007FF7F50B2142+3514994]\n\t(No symbol) [0x00007FF7F4CD0CE2]\n\t(No symbol) [0x00007FF7F4B776AA]\n\t(No symbol) [0x00007FF7F4B50AFD]\n\t(No symbol) [0x00007FF7F4BECB1B]\n\t(No symbol) [0x00007FF7F4C0218F]\n\t(No symbol) [0x00007FF7F4BE5D93]\n\t(No symbol) [0x00007FF7F4BB4BDC]\n\t(No symbol) [0x00007FF7F4BB5C64]\n\tGetHandleVerifier [0x00007FF7F50DE16B+3695259]\n\tGetHandleVerifier [0x00007FF7F5136737+4057191]\n\tGetHandleVerifier [0x00007FF7F512E4E3+4023827]\n\tGetHandleVerifier [0x00007FF7F4E004F9+689705]\n\t(No symbol) [0x00007FF7F4CDC048]\n\t(No symbol) [0x00007FF7F4CD8044]\n\t(No symbol) [0x00007FF7F4CD81C9]\n\t(No symbol) [0x00007FF7F4CC88C4]\n\tBaseThreadInitThunk [0x00007FFD95A47344+20]\n\tRtlUserThreadStart [0x00007FFD95B826B1+33]\n"
     ]
    }
   ],
   "source": [
    "result = []\n",
    "cnt = 0\n",
    "\n",
    "for accomo in tqdm(accomo_list[:10]):\n",
    "\n",
    "    # 숙소 이름별 - 검색\n",
    "    base_url = 'https://search.naver.com/search.naver?where=blog&&sm=tab_jum&query=%EC%A0%9C%EC%A3%BC+'\n",
    "    accomo_name = quote(f'\"{accomo}\"')\n",
    "\n",
    "    # 제외하고자 하는 검색어\n",
    "    # 파트너스 - -%ED%8C%8C%ED%8A%B8%EB%84%88%EC%8A%A4\n",
    "    # 예약코드 - -%EC%98%88%EC%95%BD%EC%BD%94%EB%93%9C\n",
    "    delete_words = [\"파트너스\", \"예약코드\"]\n",
    "    delete_words\n",
    "\n",
    "    delete_search = \"\"\n",
    "    for word in delete_words:    \n",
    "        delete_search += f'+-{quote(word)}'\n",
    "\n",
    "    # 검색 URL - 네이버 VIEW 중에서 BLOG / 숙소이름 / 제외검색어\n",
    "    url = base_url + accomo_name + delete_search\n",
    "    driver = webdriver.Chrome()\n",
    "    driver.get(url)\n",
    "\n",
    "\n",
    "    # 스크롤 내리기\n",
    "\n",
    "    # len(soup.select('.detail_box')) = 30 첫페이지에 나오는 수가 30개\n",
    "    # 30개 이하인 경우 분석에서 제외\n",
    "    if len(driver.find_elements(By.CLASS_NAME, 'detail_box')) > 30:\n",
    "        continue\n",
    "    \n",
    "    else :\n",
    "        # 스크롤은 3번만 내리자\n",
    "        for _ in range(3):\n",
    "            last_height = driver.execute_script(\"return document.body.scrollHeight\")\n",
    "\n",
    "            # 창의 내리기 끝까지 하지않고, 중간에 멈춰서 한번은 page_down을 통해서\n",
    "            driver.execute_script(f'window.scrollTo(0, {last_height - random.randint(1, 100)})')\n",
    "            time.sleep(round(random.uniform(0.0, 1.0), 3))\n",
    "            driver.find_element(By.TAG_NAME, 'body').send_keys(Keys.PAGE_DOWN)     \n",
    "            time.sleep(round(random.uniform(0.0, 1.2), 3))\n",
    "\n",
    "            # 창의 높이가 달라지지 않으면 스크롤 내리기 중단\n",
    "            new_height = driver.execute_script(\"return document.body.scrollHeight\")\n",
    "            if new_height == last_height:\n",
    "                break\n",
    "    \n",
    "    time.sleep(round(random.uniform(0.0, 2.2), 3))\n",
    "    soup = BeautifulSoup(driver.page_source, 'html.parser')\n",
    "    lis = soup.select_one('.lst_view').select('.view_wrap')\n",
    "    \n",
    "    title_list = []\n",
    "    content_list = []\n",
    "    blog_list = []\n",
    "    time_list = []\n",
    "\n",
    "    # 블로그가 10개 미만인 경우 분석에서 제외\n",
    "    if len(lis) >= 10:\n",
    "        for li in lis:\n",
    "            title_raw = li.select_one('.title_area').select_one('a').text.strip()\n",
    "            #title = re.sub('[-=+,/\\?:^.@*\\\"※~ㆍ!』><‘|\\(\\)\\[\\]`\\'…》\\”\\“\\’·]', \"\", title_raw)\n",
    "            title_list.append(title_raw)\n",
    "\n",
    "            content_raw = li.select_one('.dsc_link').text.strip()\n",
    "            #content = re.sub('[-=+,/\\?:^.@*\\\"※~ㆍ!』><‘|\\(\\)\\[\\]`\\'…》\\”\\“\\’·]', \"\", content_raw)\n",
    "            content_list.append(content_raw)  \n",
    "                      \n",
    "            blog_link = li.select_one('.title_area').select_one('a')['href']\n",
    "            blog_list.append(blog_link)\n",
    "\n",
    "            blog_time = li.select_one('.user_info').select_one('span').text.strip()\n",
    "            time_list.append(blog_time)\n",
    "\n",
    "    result.append({'name' : accomo,\n",
    "                   'title' : title_list,\n",
    "                   'contents' : content_list,\n",
    "                   'blog' : blog_list,\n",
    "                   'time' : time_list})\n",
    "    cnt += 1\n",
    "    time.sleep(round(random.uniform(0.0, 1.2), 3))\n",
    "\n",
    "    print(f'{cnt}번째 \"{accomo}\" 블로그 링크 수집완료')\n",
    "time.sleep(round(random.uniform(0.0, 4.2), 3))\n",
    "        \n"
   ]
  },
  {
   "cell_type": "code",
   "execution_count": 34,
   "metadata": {},
   "outputs": [
    {
     "data": {
      "text/html": [
       "<div>\n",
       "<style scoped>\n",
       "    .dataframe tbody tr th:only-of-type {\n",
       "        vertical-align: middle;\n",
       "    }\n",
       "\n",
       "    .dataframe tbody tr th {\n",
       "        vertical-align: top;\n",
       "    }\n",
       "\n",
       "    .dataframe thead th {\n",
       "        text-align: right;\n",
       "    }\n",
       "</style>\n",
       "<table border=\"1\" class=\"dataframe\">\n",
       "  <thead>\n",
       "    <tr style=\"text-align: right;\">\n",
       "      <th></th>\n",
       "      <th>name</th>\n",
       "      <th>title</th>\n",
       "      <th>contents</th>\n",
       "      <th>blog</th>\n",
       "      <th>time</th>\n",
       "      <th>blog_num</th>\n",
       "    </tr>\n",
       "  </thead>\n",
       "  <tbody>\n",
       "    <tr>\n",
       "      <th>0</th>\n",
       "      <td>기영 민박</td>\n",
       "      <td>[[제주여행] 제주 마지막날 Day3 / 바다에서 하염없이 멍때리기..., 제주 혼...</td>\n",
       "      <td>[옮겨 #기영민박 들려서 맥주 병나발 불고 육지로 돌아가기 싫음을 온몸으로 표현 돈...</td>\n",
       "      <td>[https://blog.naver.com/imvaney/223121121422, ...</td>\n",
       "      <td>[2023.06.05., 2023.11.26., 2016.12.13., 2021.0...</td>\n",
       "      <td>90</td>\n",
       "    </tr>\n",
       "  </tbody>\n",
       "</table>\n",
       "</div>"
      ],
      "text/plain": [
       "    name                                              title  \\\n",
       "0  기영 민박  [[제주여행] 제주 마지막날 Day3 / 바다에서 하염없이 멍때리기..., 제주 혼...   \n",
       "\n",
       "                                            contents  \\\n",
       "0  [옮겨 #기영민박 들려서 맥주 병나발 불고 육지로 돌아가기 싫음을 온몸으로 표현 돈...   \n",
       "\n",
       "                                                blog  \\\n",
       "0  [https://blog.naver.com/imvaney/223121121422, ...   \n",
       "\n",
       "                                                time  blog_num  \n",
       "0  [2023.06.05., 2023.11.26., 2016.12.13., 2021.0...        90  "
      ]
     },
     "execution_count": 34,
     "metadata": {},
     "output_type": "execute_result"
    }
   ],
   "source": [
    "result = pd.DataFrame(result)\n",
    "result['blog_num'] = result['blog'].apply(lambda x: len(x))\n",
    "result"
   ]
  },
  {
   "cell_type": "code",
   "execution_count": 18,
   "metadata": {},
   "outputs": [],
   "source": [
    "blog_url = 'https://blog.naver.com/flute1017/223183879709'\n",
    "driver = webdriver.Chrome()\n",
    "driver.get(blog_url)\n",
    "driver.switch_to.frame('mainFrame')\n",
    "\n",
    "\n",
    "lis = driver.find_element(By.CLASS_NAME, 'se-main-container').find_elements(By.CLASS_NAME, 'se-text')\n",
    "contents = []\n",
    "\n",
    "for li in lis:\n",
    "    content = re.sub('[-=+,#/\\?:^.@*\\\"※~ㆍ!』><‘|\\(\\)\\[\\]`\\'…》\\”\\“\\’·]', \"\", li.text.strip())\n",
    "    contents.append(content.replace('\\U0001f979','').replace('\\n',''))\n",
    "    text = ' '.join(contents)"
   ]
  },
  {
   "cell_type": "code",
   "execution_count": 54,
   "metadata": {},
   "outputs": [
    {
     "name": "stdout",
     "output_type": "stream",
     "text": [
      "기영 민박\n",
      "https://blog.naver.com/imvaney/223121121422\n",
      "https://blog.naver.com/josiesbottleshop/223275216016\n",
      "https://blog.naver.com/youngsugi471/220884814752\n",
      "https://blog.naver.com/iamkimin/222195563764\n",
      "https://blog.naver.com/nomadlife80/222419017686\n",
      "https://blog.naver.com/iam-6/220583052225\n",
      "https://blog.naver.com/jmh4047/221176159709\n",
      "https://blog.naver.com/pious86/220491355835\n",
      "https://blog.naver.com/youngsugi471/220798234189\n",
      "https://blog.naver.com/youngsugi471/220792952169\n",
      "https://blog.naver.com/youngsugi471/220403012299\n",
      "https://blog.naver.com/youngsugi471/220321533428\n",
      "https://blog.naver.com/youngsugi471/220798118157\n",
      "https://blog.naver.com/youngsugi471/220888972624\n",
      "https://blog.naver.com/youngsugi471/220437866825\n",
      "https://blog.naver.com/youngsugi471/221088527170\n",
      "https://blog.naver.com/youngsugi471/221719914120\n",
      "https://blog.naver.com/youngsugi471/220712652034\n",
      "https://blog.naver.com/youngsugi471/220786303213\n",
      "https://blog.naver.com/youngsugi471/220592380297\n",
      "https://blog.naver.com/youngsugi471/220840139749\n",
      "https://blog.naver.com/youngsugi471/220729029658\n",
      "https://blog.naver.com/youngsugi471/220720768316\n",
      "https://blog.naver.com/youngsugi471/220803350179\n",
      "https://blog.naver.com/youngsugi471/220823234585\n",
      "https://blog.naver.com/youngsugi471/220739976909\n",
      "https://blog.naver.com/youngsugi471/220451715085\n",
      "https://blog.naver.com/youngsugi471/220692743449\n",
      "https://blog.naver.com/youngsugi471/220122055702\n",
      "https://blog.naver.com/youngsugi471/220231680697\n",
      "https://blog.naver.com/youngsugi471/220769094430\n",
      "에너벨리\n",
      "https://blog.naver.com/hi_7312319/222858227603\n",
      "https://blog.naver.com/ysunnylee/223129124265\n",
      "https://blog.naver.com/hshhsh0820/223304215746\n",
      "https://blog.naver.com/rh2611/223110608959\n",
      "https://blog.naver.com/bbk0528/222933096552\n",
      "https://blog.naver.com/hotelskyparkjeju1/223078480973\n",
      "https://blog.naver.com/yygraphikos/223170909704\n",
      "https://blog.naver.com/jangnara4567/222935751316\n",
      "https://blog.naver.com/0one0407/223201941891\n",
      "https://blog.naver.com/novemberarchive/222604694275\n",
      "https://blog.naver.com/whdeo1363/222644446359\n",
      "https://blog.naver.com/dksrkgus7/222636463065\n",
      "https://blog.naver.com/tlarkdud17/223042844210\n",
      "https://blog.naver.com/dezuki88/223106420310\n",
      "https://blog.naver.com/recycle2013/222898482298\n",
      "https://blog.naver.com/wlswn6065/223034123568\n",
      "https://blog.naver.com/gosharon/222948032950\n",
      "https://blog.naver.com/noheej01/222959212875\n",
      "https://blog.naver.com/bobo3628/222900918771\n",
      "https://blog.naver.com/nha88kr/222975673167\n",
      "https://blog.naver.com/jangnara4567/222926089559\n",
      "https://blog.naver.com/pk0935/223145988310\n",
      "https://blog.naver.com/dbstj1023/222675822576\n",
      "https://blog.naver.com/vlrmfpt1025/222915946954\n",
      "https://blog.naver.com/joyful00730/222632279408\n",
      "https://blog.naver.com/hae0717/222665467056\n",
      "https://blog.naver.com/yan05043/223119440860\n",
      "https://blog.naver.com/nadaumii/222871972838\n",
      "https://blog.naver.com/recycle2013/222960468045\n",
      "https://blog.naver.com/bohumian/223101385805\n",
      "https://blog.naver.com/tlsduswn456/222774230040\n",
      "협재 빌리지\n",
      "https://blog.naver.com/mowcho/222563341734\n",
      "https://blog.naver.com/sunghwa774/221126796080\n",
      "https://blog.naver.com/ccamjigi77/220596040277\n",
      "https://blog.naver.com/sarasa212/220454319465\n",
      "https://blog.naver.com/munjh0326/220828546995\n",
      "https://blog.naver.com/ccamjigi77/220643149100\n",
      "https://blog.naver.com/bonnie_kim1989/223182811673\n",
      "https://blog.naver.com/es1486/222154281532\n",
      "https://blog.naver.com/naresup/220609285761\n",
      "https://blog.naver.com/hankyuldata/222460767111\n",
      "https://blog.naver.com/ezking00/221324177538\n",
      "해송민박\n",
      "https://blog.naver.com/e__uni_/221542178596\n",
      "https://blog.naver.com/hmi0419/220950395578\n",
      "https://blog.naver.com/twodool2/80070034178\n",
      "https://blog.naver.com/omg0606/222353088193\n",
      "https://blog.naver.com/ktnok114/221211372390\n",
      "https://blog.naver.com/ktnok114/220943448081\n",
      "https://blog.naver.com/naresup/220609285761\n",
      "https://blog.naver.com/hankyuldata/222460767111\n",
      "https://blog.naver.com/tkkim07/221486939173\n",
      "https://blog.naver.com/ezking00/221324177538\n",
      "https://blog.naver.com/sksms01021/20113029488\n",
      "https://blog.naver.com/plht/220741798497\n",
      "영심 민박\n",
      "원룸민박\n",
      "https://blog.naver.com/flute1017/223183879709\n",
      "https://blog.naver.com/pigrabbitnana/223204879419\n",
      "https://blog.naver.com/sks6012/223288837255\n",
      "https://blog.naver.com/sjehyn/222930637481\n",
      "https://blog.naver.com/spxl1010/222925235440\n",
      "https://blog.naver.com/studiogleam/222951757055\n",
      "https://blog.naver.com/gsbb6394/223083490819\n",
      "https://blog.naver.com/hanaroa124b/222853832824\n",
      "https://blog.naver.com/jeju_corgi_house/221187274241\n",
      "https://blog.naver.com/ryujh4321/222118852629\n",
      "https://blog.naver.com/always516622/221436229299\n",
      "https://blog.naver.com/cassiemom/221436506351\n",
      "https://blog.naver.com/wooriairline/220319864280\n",
      "https://blog.naver.com/bbomworld91/221436413530\n",
      "https://blog.naver.com/bass77/220300236456\n",
      "https://blog.naver.com/jeju_corgi_house/220883383824\n",
      "https://blog.naver.com/jeju_corgi_house/220993548496\n",
      "https://blog.naver.com/jeju_corgi_house/221058613111\n",
      "https://blog.naver.com/jeju_corgi_house/221001680795\n",
      "https://blog.naver.com/jeju_corgi_house/221310455656\n",
      "https://blog.naver.com/jeju_corgi_house/221043997325\n",
      "https://blog.naver.com/jeju_corgi_house/221008031864\n",
      "https://blog.naver.com/jeju_corgi_house/221036129546\n",
      "https://blog.naver.com/golf5100/222996318285\n",
      "https://blog.naver.com/jeju_corgi_house/221130328002\n",
      "https://blog.naver.com/jeju_corgi_house/221084899217\n",
      "https://blog.naver.com/jeju_corgi_house/220968439292\n",
      "https://blog.naver.com/opensky2000/222253490433\n",
      "https://blog.naver.com/jeju_corgi_house/220933259868\n",
      "https://blog.naver.com/jeju_corgi_house/220947268105\n",
      "https://blog.naver.com/jeju_corgi_house/221360579634\n",
      "바다그리기\n",
      "https://blog.naver.com/soonamupark/223307104315\n",
      "https://blog.naver.com/leekn01/222980762571\n",
      "https://blog.naver.com/risapa/223227327682\n",
      "https://blog.naver.com/bujjim/222894662352\n",
      "https://blog.naver.com/yhezzang/223222470908\n",
      "https://blog.naver.com/mjecd99/222654145959\n",
      "https://blog.naver.com/syuaz/222696360041\n",
      "https://blog.naver.com/thdus9855/222654092021\n",
      "https://blog.naver.com/ddolbaerang/222920599040\n",
      "https://blog.naver.com/hyoroong/222932618534\n",
      "https://blog.naver.com/alwjd8253/222915000202\n",
      "https://blog.naver.com/silee11/222873061853\n",
      "https://blog.naver.com/jaeppee_/223239426047\n",
      "https://blog.naver.com/leekn01/223018240723\n",
      "https://blog.naver.com/golf5100/223071360464\n",
      "https://blog.naver.com/risapa/222683009645\n",
      "https://blog.naver.com/sljetam/223208164209\n",
      "https://blog.naver.com/andromedas84/222611838682\n",
      "https://blog.naver.com/my_palette/223100936911\n",
      "https://blog.naver.com/funbility-/222891920629\n",
      "https://blog.naver.com/limjiheon06/223168754703\n",
      "https://blog.naver.com/gksml326/223047871774\n",
      "https://blog.naver.com/wntjdtls/222630612487\n",
      "https://blog.naver.com/silee11/222874858907\n",
      "https://blog.naver.com/stylepig/222792190755\n",
      "https://blog.naver.com/commom81/223163730132\n",
      "https://blog.naver.com/lucyartstudio_jeju/223193058237\n",
      "https://blog.naver.com/risapa/222944518729\n",
      "https://blog.naver.com/golf5100/223082981680\n",
      "https://blog.naver.com/ddalgimoi/223286074393\n",
      "https://blog.naver.com/my_palette/223079093776\n",
      "비양도 민박\n",
      "https://blog.naver.com/ejdcl915/223226863609\n",
      "https://blog.naver.com/myriariaria/222840708377\n",
      "https://blog.naver.com/tkchoung/222775247112\n",
      "https://blog.naver.com/kjy4985/223038560771\n",
      "https://blog.naver.com/yolohwan/223038692154\n",
      "https://blog.naver.com/hasugu-dr/222935069335\n",
      "https://blog.naver.com/94qkrehgus/223082297320\n",
      "https://blog.naver.com/vheh0_0/223038565923\n",
      "https://blog.naver.com/dldogml1/222145992358\n",
      "https://blog.naver.com/jbwk/223038542285\n",
      "https://blog.naver.com/wildrosestom/221875147041\n",
      "https://blog.naver.com/jejusolsol/223096618038\n",
      "https://blog.naver.com/buwok/223038596004\n",
      "https://blog.naver.com/mko0506/223038647059\n",
      "https://blog.naver.com/gsbb6394/223083490819\n",
      "https://blog.naver.com/traver888/221278178076\n",
      "https://blog.naver.com/ginalover/221942099721\n",
      "https://blog.naver.com/sabanana/222433520136\n",
      "https://blog.naver.com/hn4427/221588508822\n",
      "https://blog.naver.com/tkatnszz1/223053336379\n",
      "https://blog.naver.com/nylon77/220710309459\n",
      "https://blog.naver.com/goodcho100/222106439908\n",
      "https://blog.naver.com/annchae/221369402066\n",
      "https://blog.naver.com/lovelypaqua/221760649980\n",
      "https://blog.naver.com/yoni_mode/221878404354\n",
      "https://blog.naver.com/hwas3/140202955682\n",
      "https://blog.naver.com/sacato/221678414147\n",
      "https://blog.naver.com/ineosky/222131108579\n",
      "https://blog.naver.com/ahzzilove/221311236750\n",
      "https://blog.naver.com/jksoul/120016376740\n",
      "https://blog.naver.com/goodcho100/222162244111\n",
      "해조대 민박\n",
      "이쁜새민박\n"
     ]
    }
   ],
   "source": [
    "for idx, ser in df.iterrows():\n",
    "    name = ser['name']\n",
    "    print(name)\n",
    "    cnt = 0\n",
    "    for blog_link in ser['blog']:        \n",
    "        # naver 블로그만 선택\n",
    "        if blog_link.find('blog.naver.com') > 0:\n",
    "            print(blog_link)\n",
    "            cnt += 1\n",
    "            if cnt > 30:\n",
    "                break\n",
    "        "
   ]
  },
  {
   "cell_type": "code",
   "execution_count": 35,
   "metadata": {},
   "outputs": [
    {
     "data": {
      "text/html": [
       "<div>\n",
       "<style scoped>\n",
       "    .dataframe tbody tr th:only-of-type {\n",
       "        vertical-align: middle;\n",
       "    }\n",
       "\n",
       "    .dataframe tbody tr th {\n",
       "        vertical-align: top;\n",
       "    }\n",
       "\n",
       "    .dataframe thead th {\n",
       "        text-align: right;\n",
       "    }\n",
       "</style>\n",
       "<table border=\"1\" class=\"dataframe\">\n",
       "  <thead>\n",
       "    <tr style=\"text-align: right;\">\n",
       "      <th></th>\n",
       "      <th>name</th>\n",
       "      <th>title</th>\n",
       "      <th>contents</th>\n",
       "      <th>blog</th>\n",
       "      <th>time</th>\n",
       "      <th>blog_num</th>\n",
       "    </tr>\n",
       "  </thead>\n",
       "  <tbody>\n",
       "    <tr>\n",
       "      <th>0</th>\n",
       "      <td>기영 민박</td>\n",
       "      <td>[[제주여행] 제주 마지막날 Day3 / 바다에서 하염없이 멍때리기..., 제주 혼...</td>\n",
       "      <td>[옮겨 #기영민박 들려서 맥주 병나발 불고 육지로 돌아가기 싫음을 온몸으로 표현 돈...</td>\n",
       "      <td>[https://blog.naver.com/imvaney/223121121422, ...</td>\n",
       "      <td>[2023.06.05., 2023.11.26., 2016.12.13., 2021.0...</td>\n",
       "      <td>90</td>\n",
       "    </tr>\n",
       "  </tbody>\n",
       "</table>\n",
       "</div>"
      ],
      "text/plain": [
       "    name                                              title  \\\n",
       "0  기영 민박  [[제주여행] 제주 마지막날 Day3 / 바다에서 하염없이 멍때리기..., 제주 혼...   \n",
       "\n",
       "                                            contents  \\\n",
       "0  [옮겨 #기영민박 들려서 맥주 병나발 불고 육지로 돌아가기 싫음을 온몸으로 표현 돈...   \n",
       "\n",
       "                                                blog  \\\n",
       "0  [https://blog.naver.com/imvaney/223121121422, ...   \n",
       "\n",
       "                                                time  blog_num  \n",
       "0  [2023.06.05., 2023.11.26., 2016.12.13., 2021.0...        90  "
      ]
     },
     "execution_count": 35,
     "metadata": {},
     "output_type": "execute_result"
    }
   ],
   "source": [
    "df =result\n",
    "df.blog\n",
    "\n",
    "df1 = df[df['name'] == '기영 민박']\n",
    "df1"
   ]
  },
  {
   "cell_type": "code",
   "execution_count": 36,
   "metadata": {},
   "outputs": [],
   "source": [
    "df1.to_csv('test.csv')"
   ]
  },
  {
   "cell_type": "code",
   "execution_count": 37,
   "metadata": {},
   "outputs": [
    {
     "data": {
      "text/html": [
       "<div>\n",
       "<style scoped>\n",
       "    .dataframe tbody tr th:only-of-type {\n",
       "        vertical-align: middle;\n",
       "    }\n",
       "\n",
       "    .dataframe tbody tr th {\n",
       "        vertical-align: top;\n",
       "    }\n",
       "\n",
       "    .dataframe thead th {\n",
       "        text-align: right;\n",
       "    }\n",
       "</style>\n",
       "<table border=\"1\" class=\"dataframe\">\n",
       "  <thead>\n",
       "    <tr style=\"text-align: right;\">\n",
       "      <th></th>\n",
       "      <th>Unnamed: 0</th>\n",
       "      <th>name</th>\n",
       "      <th>title</th>\n",
       "      <th>contents</th>\n",
       "      <th>blog</th>\n",
       "      <th>time</th>\n",
       "      <th>blog_num</th>\n",
       "    </tr>\n",
       "  </thead>\n",
       "  <tbody>\n",
       "    <tr>\n",
       "      <th>0</th>\n",
       "      <td>0</td>\n",
       "      <td>기영 민박</td>\n",
       "      <td>['[제주여행] 제주 마지막날 Day3 / 바다에서 하염없이 멍때리기...', '제...</td>\n",
       "      <td>['옮겨 #기영민박 들려서 맥주 병나발 불고 육지로 돌아가기 싫음을 온몸으로 표현 ...</td>\n",
       "      <td>['https://blog.naver.com/imvaney/223121121422'...</td>\n",
       "      <td>['2023.06.05.', '2023.11.26.', '2016.12.13.', ...</td>\n",
       "      <td>90</td>\n",
       "    </tr>\n",
       "  </tbody>\n",
       "</table>\n",
       "</div>"
      ],
      "text/plain": [
       "   Unnamed: 0   name                                              title  \\\n",
       "0           0  기영 민박  ['[제주여행] 제주 마지막날 Day3 / 바다에서 하염없이 멍때리기...', '제...   \n",
       "\n",
       "                                            contents  \\\n",
       "0  ['옮겨 #기영민박 들려서 맥주 병나발 불고 육지로 돌아가기 싫음을 온몸으로 표현 ...   \n",
       "\n",
       "                                                blog  \\\n",
       "0  ['https://blog.naver.com/imvaney/223121121422'...   \n",
       "\n",
       "                                                time  blog_num  \n",
       "0  ['2023.06.05.', '2023.11.26.', '2016.12.13.', ...        90  "
      ]
     },
     "execution_count": 37,
     "metadata": {},
     "output_type": "execute_result"
    }
   ],
   "source": [
    "df2 = pd.read_csv('test.csv')\n",
    "df2"
   ]
  },
  {
   "cell_type": "code",
   "execution_count": 41,
   "metadata": {},
   "outputs": [],
   "source": [
    "def convert_date(s):\n",
    "    if len(s) == 11 : # 2023.12.13.  \n",
    "        return s[:-1] # 마지막 점 제거\n",
    "    \n",
    "    now = datetime.now()\n",
    "    date = s[:-1]\n",
    "    if '어제' in s:\n",
    "        date = now - timedelta(days = 1)\n",
    "    elif '일' in s:\n",
    "        date = now - timedelta(days = int(s[0]))\n",
    "    elif '시간' in s:\n",
    "        date = now - timedelta(hours = int(s[:-4]))\n",
    "    elif '분' in s:\n",
    "        date = now - timedelta(minutes = int(s[:-3]))\n",
    "    elif '주' in s:\n",
    "        date = now - timedelta(weeks = int(s[:-3]))\n",
    "\n",
    "    return date.strftime('%Y.%m.%d')"
   ]
  },
  {
   "cell_type": "code",
   "execution_count": 43,
   "metadata": {},
   "outputs": [
    {
     "data": {
      "text/plain": [
       "0   2023-12-29 21:14:12.131562\n",
       "Name: time, dtype: datetime64[ns]"
      ]
     },
     "execution_count": 43,
     "metadata": {},
     "output_type": "execute_result"
    }
   ],
   "source": [
    "now = datetime.now()\n",
    "df2['time'].apply(lambda x: now - timedelta(days=6))"
   ]
  },
  {
   "cell_type": "code",
   "execution_count": 69,
   "metadata": {},
   "outputs": [
    {
     "name": "stdout",
     "output_type": "stream",
     "text": [
      "기영 민박\n"
     ]
    },
    {
     "name": "stderr",
     "output_type": "stream",
     "text": [
      "100%|██████████| 90/90 [07:16<00:00,  4.85s/it]\n"
     ]
    }
   ],
   "source": [
    "accomo_contents = []\n",
    "for idx, ser in df1.iterrows():\n",
    "    name = ser['name']\n",
    "    print(name)\n",
    "    cnt = 0\n",
    "    \n",
    "    \n",
    "\n",
    "\n",
    "    for blog_url in tqdm(ser['blog']):        \n",
    "        # naver 블로그만 선택\n",
    "        if blog_url.find('blog.naver.com') > 0:\n",
    "                      \n",
    "            driver = webdriver.Chrome()\n",
    "            driver.get(blog_url)\n",
    "            driver.switch_to.frame('mainFrame')\n",
    "\n",
    "            try : \n",
    "                lis = driver.find_element(By.CLASS_NAME, 'se-main-container').find_elements(By.CLASS_NAME, 'se-text')\n",
    "                blog_contents = []\n",
    "\n",
    "                for li in lis:\n",
    "                    content = re.sub('[-=+,#/\\?:^.@*\\\"※~ㆍ!』><‘|\\(\\)\\[\\]`\\'…》\\”\\“\\’·]', \"\", li.text.strip())\n",
    "                    blog_contents.append(content.replace('\\U0001f979','').replace('\\n',''))\n",
    "                    text = ' '.join(blog_contents)\n",
    "\n",
    "                cnt += 1\n",
    "                accomo_contents.append(blog_contents)\n",
    "                \n",
    "            except : \n",
    "                try :\n",
    "                    lis = driver.find_element(By.CLASS_NAME, 'postViewArea').find_elements(By.CLASS_NAME, 'se-text')\n",
    "                    blog_contents = []\n",
    "\n",
    "                    for li in lis:\n",
    "                        content = re.sub('[-=+,#/\\?:^.@*\\\"※~ㆍ!』><‘|\\(\\)\\[\\]`\\'…》\\”\\“\\’·]', \"\", li.text.strip())\n",
    "                        blog_contents.append(content.replace('\\U0001f979','').replace('\\n',''))\n",
    "                        text = ' '.join(blog_contents)\n",
    "\n",
    "                    cnt += 1\n",
    "                    accomo_contents.append(blog_contents)\n",
    "                     \n",
    "                except :\n",
    "                     continue\n",
    "\n",
    "            if cnt > 30:\n",
    "                    break\n",
    "        "
   ]
  },
  {
   "cell_type": "code",
   "execution_count": null,
   "metadata": {},
   "outputs": [],
   "source": [
    "from selenium import webdriver\n",
    "from selenium.webdriver.common.by import By\n",
    "from selenium.webdriver.common.keys import Keys\n",
    "\n",
    "# 대기시간 설정을 위한 \n",
    "from selenium.webdriver.support.ui import WebDriverWait\n",
    "from selenium.webdriver.support import expected_conditions as EC\n",
    "\n",
    "from urllib.parse import quote\n",
    "import time\n",
    "import pandas as pd\n",
    "import requests\n",
    "from bs4 import BeautifulSoup\n",
    "import re\n",
    "from datetime import datetime, timedelta\n",
    "from tqdm import tqdm\n",
    "\n",
    "# 시스템 확인 - 파일 경로 확인\n",
    "import os\n",
    "# 다운로드 파일이동\n",
    "import shutil\n",
    "\n",
    "#엑셀파일 불러들이기 위한\n",
    "import xlrd\n",
    "\n",
    "#time.sleep을 위한 난수생성\n",
    "import random\n",
    "\n",
    "import pandas as pd\n",
    "\n"
   ]
  },
  {
   "cell_type": "code",
   "execution_count": 2,
   "metadata": {},
   "outputs": [
    {
     "data": {
      "text/html": [
       "<div>\n",
       "<style scoped>\n",
       "    .dataframe tbody tr th:only-of-type {\n",
       "        vertical-align: middle;\n",
       "    }\n",
       "\n",
       "    .dataframe tbody tr th {\n",
       "        vertical-align: top;\n",
       "    }\n",
       "\n",
       "    .dataframe thead th {\n",
       "        text-align: right;\n",
       "    }\n",
       "</style>\n",
       "<table border=\"1\" class=\"dataframe\">\n",
       "  <thead>\n",
       "    <tr style=\"text-align: right;\">\n",
       "      <th></th>\n",
       "      <th>Unnamed: 0</th>\n",
       "      <th>name</th>\n",
       "      <th>title</th>\n",
       "      <th>contents</th>\n",
       "      <th>blog</th>\n",
       "      <th>time</th>\n",
       "      <th>blog_num</th>\n",
       "    </tr>\n",
       "  </thead>\n",
       "  <tbody>\n",
       "    <tr>\n",
       "      <th>0</th>\n",
       "      <td>0</td>\n",
       "      <td>기영 민박</td>\n",
       "      <td>['[제주여행] 제주 마지막날 Day3 / 바다에서 하염없이 멍때리기...', '제...</td>\n",
       "      <td>['옮겨 #기영민박 들려서 맥주 병나발 불고 육지로 돌아가기 싫음을 온몸으로 표현 ...</td>\n",
       "      <td>['https://blog.naver.com/imvaney/223121121422'...</td>\n",
       "      <td>['2023.06.05.', '2023.11.26.', '2016.12.13.', ...</td>\n",
       "      <td>90</td>\n",
       "    </tr>\n",
       "  </tbody>\n",
       "</table>\n",
       "</div>"
      ],
      "text/plain": [
       "   Unnamed: 0   name                                              title  \\\n",
       "0           0  기영 민박  ['[제주여행] 제주 마지막날 Day3 / 바다에서 하염없이 멍때리기...', '제...   \n",
       "\n",
       "                                            contents  \\\n",
       "0  ['옮겨 #기영민박 들려서 맥주 병나발 불고 육지로 돌아가기 싫음을 온몸으로 표현 ...   \n",
       "\n",
       "                                                blog  \\\n",
       "0  ['https://blog.naver.com/imvaney/223121121422'...   \n",
       "\n",
       "                                                time  blog_num  \n",
       "0  ['2023.06.05.', '2023.11.26.', '2016.12.13.', ...        90  "
      ]
     },
     "execution_count": 2,
     "metadata": {},
     "output_type": "execute_result"
    }
   ],
   "source": [
    "df2 = pd.read_csv('test.csv')\n",
    "df2"
   ]
  },
  {
   "cell_type": "code",
   "execution_count": 3,
   "metadata": {},
   "outputs": [
    {
     "name": "stdout",
     "output_type": "stream",
     "text": [
      "['https://blog.naver.com/imvaney/223121121422', 'https://blog.naver.com/josiesbottleshop/223275216016', 'https://blog.naver.com/youngsugi471/220884814752', 'https://blog.naver.com/iamkimin/222195563764', 'https://blog.naver.com/nomadlife80/222419017686', 'https://blog.naver.com/iam-6/220583052225', 'https://blog.naver.com/jmh4047/221176159709', 'https://blog.naver.com/pious86/220491355835', 'https://blog.naver.com/youngsugi471/220798234189', 'https://blog.naver.com/youngsugi471/220792952169', 'https://blog.naver.com/youngsugi471/220403012299', 'https://blog.naver.com/youngsugi471/220321533428', 'https://blog.naver.com/youngsugi471/220798118157', 'https://blog.naver.com/youngsugi471/220888972624', 'https://blog.naver.com/youngsugi471/220437866825', 'https://blog.naver.com/youngsugi471/221088527170', 'https://blog.naver.com/youngsugi471/221719914120', 'https://blog.naver.com/youngsugi471/220712652034', 'https://blog.naver.com/youngsugi471/220786303213', 'https://blog.naver.com/youngsugi471/220592380297', 'https://blog.naver.com/youngsugi471/220840139749', 'https://blog.naver.com/youngsugi471/220729029658', 'https://blog.naver.com/youngsugi471/220720768316', 'https://blog.naver.com/youngsugi471/220803350179', 'https://blog.naver.com/youngsugi471/220823234585', 'https://blog.naver.com/youngsugi471/220739976909', 'https://blog.naver.com/youngsugi471/220451715085', 'https://blog.naver.com/youngsugi471/220692743449', 'https://blog.naver.com/youngsugi471/220122055702', 'https://blog.naver.com/youngsugi471/220231680697', 'https://blog.naver.com/youngsugi471/220769094430', 'https://blog.naver.com/youngsugi471/220020399240', 'https://blog.naver.com/youngsugi471/220684264000', 'https://blog.naver.com/youngsugi471/220819742133', 'https://tourbook.tistory.com/3425', 'https://blog.naver.com/youngsugi471/220450960728', 'https://blog.naver.com/youngsugi471/221109242241', 'https://blog.naver.com/youngsugi471/220692715711', 'https://blog.naver.com/youngsugi471/220607927516', 'https://blog.naver.com/youngsugi471/220784351288', 'https://blog.naver.com/youngsugi471/220601219435', 'https://blog.naver.com/youngsugi471/220769099213', 'https://blog.naver.com/youngsugi471/220803360818', 'https://blog.naver.com/youngsugi471/220527844190', 'https://blog.naver.com/youngsugi471/220726029595', 'https://blog.naver.com/youngsugi471/220726027700', 'https://blog.naver.com/iamkimin/222197137336', 'https://blog.naver.com/jmh4047/221023129677', 'https://blog.naver.com/youngsugi471/220447720464', 'https://blog.naver.com/youngsugi471/220452128010', 'https://blog.naver.com/youngsugi471/220452129136', 'https://blog.naver.com/youngsugi471/220439738521', 'https://blog.naver.com/youngsugi471/220478170184', 'https://blog.naver.com/youngsugi471/220478168095', 'https://blog.naver.com/youngsugi471/220437864555', 'https://blog.naver.com/youngsugi471/220487918255', 'https://blog.naver.com/naresup/220609285761', 'https://blog.naver.com/badangvil/220609292670', 'https://blog.naver.com/ezking00/221324177538', 'https://blog.naver.com/ginnie0505/220436704306', 'https://blog.naver.com/youngsugi471/220769094430', 'https://blog.naver.com/youngsugi471/220020399240', 'https://blog.naver.com/youngsugi471/220684264000', 'https://blog.naver.com/youngsugi471/220819742133', 'https://tourbook.tistory.com/3425', 'https://blog.naver.com/youngsugi471/220450960728', 'https://blog.naver.com/youngsugi471/221109242241', 'https://blog.naver.com/youngsugi471/220692715711', 'https://blog.naver.com/youngsugi471/220607927516', 'https://blog.naver.com/youngsugi471/220784351288', 'https://blog.naver.com/youngsugi471/220601219435', 'https://blog.naver.com/youngsugi471/220769099213', 'https://blog.naver.com/youngsugi471/220803360818', 'https://blog.naver.com/youngsugi471/220527844190', 'https://blog.naver.com/youngsugi471/220726029595', 'https://blog.naver.com/youngsugi471/220726027700', 'https://blog.naver.com/iamkimin/222197137336', 'https://blog.naver.com/jmh4047/221023129677', 'https://blog.naver.com/youngsugi471/220447720464', 'https://blog.naver.com/youngsugi471/220452128010', 'https://blog.naver.com/youngsugi471/220452129136', 'https://blog.naver.com/youngsugi471/220439738521', 'https://blog.naver.com/youngsugi471/220478170184', 'https://blog.naver.com/youngsugi471/220478168095', 'https://blog.naver.com/youngsugi471/220437864555', 'https://blog.naver.com/youngsugi471/220487918255', 'https://blog.naver.com/naresup/220609285761', 'https://blog.naver.com/badangvil/220609292670', 'https://blog.naver.com/ezking00/221324177538', 'https://blog.naver.com/ginnie0505/220436704306']\n"
     ]
    }
   ],
   "source": [
    "for i in df2['blog']:\n",
    "    print(i)"
   ]
  },
  {
   "cell_type": "code",
   "execution_count": 5,
   "metadata": {},
   "outputs": [
    {
     "data": {
      "text/plain": [
       "array([\"['2023.06.05.', '2023.11.26.', '2016.12.13.', '2021.01.04.', '2021.07.03.', '2015.12.30.', '2018.01.02.', '2015.09.24.', '2016.08.27.', '2016.08.21.', '2015.06.27.', '2015.04.05.', '2016.08.27.', '2016.12.18.', '2015.08.01.', '2017.09.03.', '2019.11.27.', '2016.05.18.', '2016.08.12.', '2016.01.09.', '2016.10.19.', '2016.06.06.', '2016.05.27.', '2016.09.02.', '2016.09.28.', '2016.06.19.', '2015.08.15.', '2016.04.25.', '2014.09.14.', '2015.01.06.', '2016.07.22.', '2014.06.04.', '2016.04.15.', '2016.09.24.', '2023.06.22.', '2015.08.14.', '2017.10.01.', '2016.04.25.', '2016.01.25.', '2016.08.10.', '2016.01.18.', '2016.07.22.', '2016.09.02.', '2015.11.03.', '2016.06.02.', '2016.06.02.', '2021.01.05.', '2017.06.06.', '2015.08.11.', '2015.08.16.', '2015.08.16.', '2015.08.03.', '2015.09.11.', '2015.09.11.', '2015.08.01.', '2015.09.21.', '2016.01.26.', '2016.01.26.', '2018.07.23.', '2015.07.31.', '2016.07.22.', '2014.06.04.', '2016.04.15.', '2016.09.24.', '2023.06.22.', '2015.08.14.', '2017.10.01.', '2016.04.25.', '2016.01.25.', '2016.08.10.', '2016.01.18.', '2016.07.22.', '2016.09.02.', '2015.11.03.', '2016.06.02.', '2016.06.02.', '2021.01.05.', '2017.06.06.', '2015.08.11.', '2015.08.16.', '2015.08.16.', '2015.08.03.', '2015.09.11.', '2015.09.11.', '2015.08.01.', '2015.09.21.', '2016.01.26.', '2016.01.26.', '2018.07.23.', '2015.07.31.']\"],\n",
       "      dtype=object)"
      ]
     },
     "execution_count": 5,
     "metadata": {},
     "output_type": "execute_result"
    }
   ],
   "source": [
    "df2['time'].unique()"
   ]
  },
  {
   "cell_type": "code",
   "execution_count": 74,
   "metadata": {},
   "outputs": [],
   "source": [
    "# 날짜 변환 함수 생성\n",
    "def convert_date(s):\n",
    "    if len(s) == 11 : # 2023.12.13.  \n",
    "        return s[:-1] # 마지막 점 제거\n",
    "  \n",
    "    now = datetime.now()\n",
    "    if '어제' in s:\n",
    "        blog_time = now - timedelta(days = 1)\n",
    "    elif '일' in s:\n",
    "        blog_time = now - timedelta(days = int(s[0]))\n",
    "    elif '시간' in s:\n",
    "        blog_time = now - timedelta(hours = int(s[:-4]))\n",
    "    elif '분' in s:\n",
    "        blog_time = now - timedelta(minutes = int(s[:-3]))\n",
    "    elif '주' in s:\n",
    "        blog_time = now - timedelta(weeks = int(s[:-3]))\n",
    "\n",
    "    return blog_time.strftime('%Y.%m.%d')\n",
    "\n",
    "# date = now - timedelta(weeks=int(re.sub(r'[^0-9]',\"\",s)))"
   ]
  },
  {
   "cell_type": "code",
   "execution_count": 47,
   "metadata": {},
   "outputs": [
    {
     "data": {
      "text/plain": [
       "'20231126'"
      ]
     },
     "execution_count": 47,
     "metadata": {},
     "output_type": "execute_result"
    }
   ],
   "source": [
    "temp = df2['time'][0]\n",
    "temp2 = ''.join(temp).split(',')[1]\n",
    "temp3 = re.sub(r'[^0-9]',\"\",temp2)\n",
    "temp3\n"
   ]
  },
  {
   "cell_type": "code",
   "execution_count": 41,
   "metadata": {},
   "outputs": [
    {
     "name": "stdout",
     "output_type": "stream",
     "text": [
      "<class 'str'>\n"
     ]
    }
   ],
   "source": [
    "print(type(temp))"
   ]
  },
  {
   "cell_type": "code",
   "execution_count": 88,
   "metadata": {},
   "outputs": [
    {
     "name": "stdout",
     "output_type": "stream",
     "text": [
      "기영 민박\n",
      "2023.06.05.\n",
      "2023-06-05 00:00:00\n"
     ]
    },
    {
     "ename": "AttributeError",
     "evalue": "'str' object has no attribute 'strftime'",
     "output_type": "error",
     "traceback": [
      "\u001b[1;31m---------------------------------------------------------------------------\u001b[0m",
      "\u001b[1;31mAttributeError\u001b[0m                            Traceback (most recent call last)",
      "Cell \u001b[1;32mIn[88], line 24\u001b[0m\n\u001b[0;32m     22\u001b[0m \u001b[38;5;28mprint\u001b[39m(blog_time)\n\u001b[0;32m     23\u001b[0m \u001b[38;5;28mprint\u001b[39m(datetime\u001b[38;5;241m.\u001b[39mstrptime(blog_time, \u001b[38;5;124m'\u001b[39m\u001b[38;5;124m%\u001b[39m\u001b[38;5;124mY.\u001b[39m\u001b[38;5;124m%\u001b[39m\u001b[38;5;124mm.\u001b[39m\u001b[38;5;132;01m%d\u001b[39;00m\u001b[38;5;124m.\u001b[39m\u001b[38;5;124m'\u001b[39m) )\n\u001b[1;32m---> 24\u001b[0m \u001b[38;5;28mprint\u001b[39m(\u001b[43mblog_time\u001b[49m\u001b[38;5;241;43m.\u001b[39;49m\u001b[43mstrftime\u001b[49m(\u001b[38;5;124m'\u001b[39m\u001b[38;5;124m%\u001b[39m\u001b[38;5;124mY.\u001b[39m\u001b[38;5;124m%\u001b[39m\u001b[38;5;124mm.\u001b[39m\u001b[38;5;132;01m%d\u001b[39;00m\u001b[38;5;124m'\u001b[39m))\n",
      "\u001b[1;31mAttributeError\u001b[0m: 'str' object has no attribute 'strftime'"
     ]
    }
   ],
   "source": [
    "for idx, ser in df2.iterrows():\n",
    "    name = ser['name']\n",
    "    print(name)\n",
    "    cnt = 0\n",
    "    for blog_time in ''.join(ser['time']).split(','):        \n",
    "        # naver 블로그만 선택\n",
    "        #print())\n",
    "        blog_time = re.sub(\"[\\[\\]''']\",\"\",blog_time.strip())\n",
    "        blog_time = datetime.strptime(blog_time, '%Y.%m.%d.') \n",
    "\n",
    "\n",
    "        now = datetime.now()\n",
    "        if '어제' in blog_time:\n",
    "            blog_time = now - timedelta(days = 1)\n",
    "        elif '일' in blog_time:\n",
    "            blog_time = now - timedelta(days = int(blog_time[0]))\n",
    "        elif '시간' in blog_time:\n",
    "            blog_time = now - timedelta(hours = int(blog_time[:-4]))\n",
    "        elif '분' in blog_time:\n",
    "            blog_time = now - timedelta(minutes = int(blog_time[:-3]))\n",
    "        elif '주' in blog_time:\n",
    "            blog_time = now - timedelta(weeks = int(blog_time[:-3]))\n",
    "        \n",
    "        print(blog_time)\n",
    "        print(datetime.strptime(blog_time, '%Y.%m.%d.') )\n",
    "        \n",
    "\n",
    "\n",
    "\n",
    "\n",
    "           \n",
    "\n",
    "           "
   ]
  },
  {
   "cell_type": "code",
   "execution_count": null,
   "metadata": {},
   "outputs": [],
   "source": [
    "for idx, ser in df2.iterrows():\n",
    "    name = ser['name']\n",
    "    blog_time = ser['time']\n",
    "    print(name)\n",
    "    cnt = 0"
   ]
  },
  {
   "cell_type": "code",
   "execution_count": 18,
   "metadata": {},
   "outputs": [
    {
     "name": "stderr",
     "output_type": "stream",
     "text": [
      "100%|██████████| 1/1 [00:00<?, ?it/s]\n"
     ]
    }
   ],
   "source": [
    "for idx, ser in df2.iterrows():\n",
    "    name = ser['name']\n",
    "    print(name)\n",
    "    cnt = 0\n",
    "    \n",
    "    \n",
    "\n",
    "\n",
    "    for blog_url in tqdm(ser['blog']):        \n",
    "        # naver 블로그만 선택\n",
    "        if blog_url.find('blog.naver.com') > 0:\n",
    "                      \n",
    "            driver = webdriver.Chrome()\n",
    "            driver.get(blog_url)\n",
    "            driver.switch_to.frame('mainFrame')\n",
    "\n",
    "            try : \n",
    "                lis = driver.find_element(By.CLASS_NAME, 'se-main-container').find_elements(By.CLASS_NAME, 'se-text')\n",
    "                blog_contents = []\n",
    "\n",
    "                for li in lis:\n",
    "                    content = re.sub('[-=+,#/\\?:^.@*\\\"※~ㆍ!』><‘|\\(\\)\\[\\]`\\'…》\\”\\“\\’·]', \"\", li.text.strip())\n",
    "                    blog_contents.append(content.replace('\\U0001f979','').replace('\\n',''))\n",
    "                    text = ' '.join(blog_contents)\n",
    "\n",
    "                cnt += 1\n",
    "                accomo_contents.append(blog_contents)\n",
    "                \n",
    "            except : \n",
    "                try :\n",
    "                    lis = driver.find_element(By.CLASS_NAME, 'postViewArea').find_elements(By.CLASS_NAME, 'se-text')\n",
    "                    blog_contents = []\n",
    "\n",
    "                    for li in lis:\n",
    "                        content = re.sub('[-=+,#/\\?:^.@*\\\"※~ㆍ!』><‘|\\(\\)\\[\\]`\\'…》\\”\\“\\’·]', \"\", li.text.strip())\n",
    "                        blog_contents.append(content.replace('\\U0001f979','').replace('\\n',''))\n",
    "                        text = ' '.join(blog_contents)\n",
    "\n",
    "                    cnt += 1\n",
    "                    accomo_contents.append(blog_contents)\n",
    "                     \n",
    "                except :\n",
    "                     continue\n",
    "\n",
    "            if cnt > 30:\n",
    "                    break\n",
    "    "
   ]
  },
  {
   "cell_type": "code",
   "execution_count": 19,
   "metadata": {},
   "outputs": [
    {
     "data": {
      "text/plain": [
       "[]"
      ]
     },
     "execution_count": 19,
     "metadata": {},
     "output_type": "execute_result"
    }
   ],
   "source": [
    "accomo_contents"
   ]
  },
  {
   "cell_type": "code",
   "execution_count": null,
   "metadata": {},
   "outputs": [],
   "source": [
    "# # 스크롤 내리기\n",
    "# for _ in range(10):\n",
    "#     last_height = driver.execute_script(\"return document.body.scrollHeight\")\n",
    "#     for _ in range(5):\n",
    "#         driver.find_element(By.TAG_NAME, 'body').send_keys(Keys.PAGE_DOWN) \n",
    "#         time.sleep(round(random.uniform(0.0, 1.2), 3))   \n",
    "#     time.sleep(round(random.uniform(0.0, 1.2), 3))\n",
    "#     new_height = driver.execute_script(\"return document.body.scrollHeight\")\n",
    "#     if new_height == last_height:\n",
    "#         break"
   ]
  },
  {
   "cell_type": "code",
   "execution_count": null,
   "metadata": {},
   "outputs": [],
   "source": [
    "lis = driver.find_element(By.CLASS_NAME, 'postViewArea').find_elements(By.CLASS_NAME, 'se-text')"
   ]
  },
  {
   "cell_type": "code",
   "execution_count": 26,
   "metadata": {},
   "outputs": [],
   "source": [
    "url = 'https://blog.naver.com/youngsugi471/220403012299'\n",
    "driver = webdriver.Chrome()\n",
    "driver.get(url)\n",
    "\n",
    "\n"
   ]
  },
  {
   "cell_type": "code",
   "execution_count": 32,
   "metadata": {},
   "outputs": [
    {
     "ename": "NoSuchElementException",
     "evalue": "Message: no such element: Unable to locate element: {\"method\":\"css selector\",\"selector\":\".post-body\"}\n  (Session info: chrome=120.0.6099.200); For documentation on this error, please visit: https://www.selenium.dev/documentation/webdriver/troubleshooting/errors#no-such-element-exception\nStacktrace:\n\tGetHandleVerifier [0x00007FF7F50B2142+3514994]\n\t(No symbol) [0x00007FF7F4CD0CE2]\n\t(No symbol) [0x00007FF7F4B776AA]\n\t(No symbol) [0x00007FF7F4BC1860]\n\t(No symbol) [0x00007FF7F4BC197C]\n\t(No symbol) [0x00007FF7F4C04EE7]\n\t(No symbol) [0x00007FF7F4BE602F]\n\t(No symbol) [0x00007FF7F4C028F6]\n\t(No symbol) [0x00007FF7F4BE5D93]\n\t(No symbol) [0x00007FF7F4BB4BDC]\n\t(No symbol) [0x00007FF7F4BB5C64]\n\tGetHandleVerifier [0x00007FF7F50DE16B+3695259]\n\tGetHandleVerifier [0x00007FF7F5136737+4057191]\n\tGetHandleVerifier [0x00007FF7F512E4E3+4023827]\n\tGetHandleVerifier [0x00007FF7F4E004F9+689705]\n\t(No symbol) [0x00007FF7F4CDC048]\n\t(No symbol) [0x00007FF7F4CD8044]\n\t(No symbol) [0x00007FF7F4CD81C9]\n\t(No symbol) [0x00007FF7F4CC88C4]\n\tBaseThreadInitThunk [0x00007FFD95A47344+20]\n\tRtlUserThreadStart [0x00007FFD95B826B1+33]\n",
     "output_type": "error",
     "traceback": [
      "\u001b[1;31m---------------------------------------------------------------------------\u001b[0m",
      "\u001b[1;31mNoSuchElementException\u001b[0m                    Traceback (most recent call last)",
      "Cell \u001b[1;32mIn[32], line 1\u001b[0m\n\u001b[1;32m----> 1\u001b[0m \u001b[43mdriver\u001b[49m\u001b[38;5;241;43m.\u001b[39;49m\u001b[43mfind_element\u001b[49m\u001b[43m(\u001b[49m\u001b[43mBy\u001b[49m\u001b[38;5;241;43m.\u001b[39;49m\u001b[43mCLASS_NAME\u001b[49m\u001b[43m,\u001b[49m\u001b[43m \u001b[49m\u001b[38;5;124;43m'\u001b[39;49m\u001b[38;5;124;43mpost-body\u001b[39;49m\u001b[38;5;124;43m'\u001b[39;49m\u001b[43m)\u001b[49m\n",
      "File \u001b[1;32md:\\song\\venvs\\project1\\lib\\site-packages\\selenium\\webdriver\\remote\\webdriver.py:742\u001b[0m, in \u001b[0;36mWebDriver.find_element\u001b[1;34m(self, by, value)\u001b[0m\n\u001b[0;32m    739\u001b[0m     by \u001b[38;5;241m=\u001b[39m By\u001b[38;5;241m.\u001b[39mCSS_SELECTOR\n\u001b[0;32m    740\u001b[0m     value \u001b[38;5;241m=\u001b[39m \u001b[38;5;124mf\u001b[39m\u001b[38;5;124m'\u001b[39m\u001b[38;5;124m[name=\u001b[39m\u001b[38;5;124m\"\u001b[39m\u001b[38;5;132;01m{\u001b[39;00mvalue\u001b[38;5;132;01m}\u001b[39;00m\u001b[38;5;124m\"\u001b[39m\u001b[38;5;124m]\u001b[39m\u001b[38;5;124m'\u001b[39m\n\u001b[1;32m--> 742\u001b[0m \u001b[38;5;28;01mreturn\u001b[39;00m \u001b[38;5;28;43mself\u001b[39;49m\u001b[38;5;241;43m.\u001b[39;49m\u001b[43mexecute\u001b[49m\u001b[43m(\u001b[49m\u001b[43mCommand\u001b[49m\u001b[38;5;241;43m.\u001b[39;49m\u001b[43mFIND_ELEMENT\u001b[49m\u001b[43m,\u001b[49m\u001b[43m \u001b[49m\u001b[43m{\u001b[49m\u001b[38;5;124;43m\"\u001b[39;49m\u001b[38;5;124;43musing\u001b[39;49m\u001b[38;5;124;43m\"\u001b[39;49m\u001b[43m:\u001b[49m\u001b[43m \u001b[49m\u001b[43mby\u001b[49m\u001b[43m,\u001b[49m\u001b[43m \u001b[49m\u001b[38;5;124;43m\"\u001b[39;49m\u001b[38;5;124;43mvalue\u001b[39;49m\u001b[38;5;124;43m\"\u001b[39;49m\u001b[43m:\u001b[49m\u001b[43m \u001b[49m\u001b[43mvalue\u001b[49m\u001b[43m}\u001b[49m\u001b[43m)\u001b[49m[\u001b[38;5;124m\"\u001b[39m\u001b[38;5;124mvalue\u001b[39m\u001b[38;5;124m\"\u001b[39m]\n",
      "File \u001b[1;32md:\\song\\venvs\\project1\\lib\\site-packages\\selenium\\webdriver\\remote\\webdriver.py:348\u001b[0m, in \u001b[0;36mWebDriver.execute\u001b[1;34m(self, driver_command, params)\u001b[0m\n\u001b[0;32m    346\u001b[0m response \u001b[38;5;241m=\u001b[39m \u001b[38;5;28mself\u001b[39m\u001b[38;5;241m.\u001b[39mcommand_executor\u001b[38;5;241m.\u001b[39mexecute(driver_command, params)\n\u001b[0;32m    347\u001b[0m \u001b[38;5;28;01mif\u001b[39;00m response:\n\u001b[1;32m--> 348\u001b[0m     \u001b[38;5;28;43mself\u001b[39;49m\u001b[38;5;241;43m.\u001b[39;49m\u001b[43merror_handler\u001b[49m\u001b[38;5;241;43m.\u001b[39;49m\u001b[43mcheck_response\u001b[49m\u001b[43m(\u001b[49m\u001b[43mresponse\u001b[49m\u001b[43m)\u001b[49m\n\u001b[0;32m    349\u001b[0m     response[\u001b[38;5;124m\"\u001b[39m\u001b[38;5;124mvalue\u001b[39m\u001b[38;5;124m\"\u001b[39m] \u001b[38;5;241m=\u001b[39m \u001b[38;5;28mself\u001b[39m\u001b[38;5;241m.\u001b[39m_unwrap_value(response\u001b[38;5;241m.\u001b[39mget(\u001b[38;5;124m\"\u001b[39m\u001b[38;5;124mvalue\u001b[39m\u001b[38;5;124m\"\u001b[39m, \u001b[38;5;28;01mNone\u001b[39;00m))\n\u001b[0;32m    350\u001b[0m     \u001b[38;5;28;01mreturn\u001b[39;00m response\n",
      "File \u001b[1;32md:\\song\\venvs\\project1\\lib\\site-packages\\selenium\\webdriver\\remote\\errorhandler.py:229\u001b[0m, in \u001b[0;36mErrorHandler.check_response\u001b[1;34m(self, response)\u001b[0m\n\u001b[0;32m    227\u001b[0m         alert_text \u001b[38;5;241m=\u001b[39m value[\u001b[38;5;124m\"\u001b[39m\u001b[38;5;124malert\u001b[39m\u001b[38;5;124m\"\u001b[39m]\u001b[38;5;241m.\u001b[39mget(\u001b[38;5;124m\"\u001b[39m\u001b[38;5;124mtext\u001b[39m\u001b[38;5;124m\"\u001b[39m)\n\u001b[0;32m    228\u001b[0m     \u001b[38;5;28;01mraise\u001b[39;00m exception_class(message, screen, stacktrace, alert_text)  \u001b[38;5;66;03m# type: ignore[call-arg]  # mypy is not smart enough here\u001b[39;00m\n\u001b[1;32m--> 229\u001b[0m \u001b[38;5;28;01mraise\u001b[39;00m exception_class(message, screen, stacktrace)\n",
      "\u001b[1;31mNoSuchElementException\u001b[0m: Message: no such element: Unable to locate element: {\"method\":\"css selector\",\"selector\":\".post-body\"}\n  (Session info: chrome=120.0.6099.200); For documentation on this error, please visit: https://www.selenium.dev/documentation/webdriver/troubleshooting/errors#no-such-element-exception\nStacktrace:\n\tGetHandleVerifier [0x00007FF7F50B2142+3514994]\n\t(No symbol) [0x00007FF7F4CD0CE2]\n\t(No symbol) [0x00007FF7F4B776AA]\n\t(No symbol) [0x00007FF7F4BC1860]\n\t(No symbol) [0x00007FF7F4BC197C]\n\t(No symbol) [0x00007FF7F4C04EE7]\n\t(No symbol) [0x00007FF7F4BE602F]\n\t(No symbol) [0x00007FF7F4C028F6]\n\t(No symbol) [0x00007FF7F4BE5D93]\n\t(No symbol) [0x00007FF7F4BB4BDC]\n\t(No symbol) [0x00007FF7F4BB5C64]\n\tGetHandleVerifier [0x00007FF7F50DE16B+3695259]\n\tGetHandleVerifier [0x00007FF7F5136737+4057191]\n\tGetHandleVerifier [0x00007FF7F512E4E3+4023827]\n\tGetHandleVerifier [0x00007FF7F4E004F9+689705]\n\t(No symbol) [0x00007FF7F4CDC048]\n\t(No symbol) [0x00007FF7F4CD8044]\n\t(No symbol) [0x00007FF7F4CD81C9]\n\t(No symbol) [0x00007FF7F4CC88C4]\n\tBaseThreadInitThunk [0x00007FFD95A47344+20]\n\tRtlUserThreadStart [0x00007FFD95B826B1+33]\n"
     ]
    }
   ],
   "source": [
    "driver.find_element(By.CLASS_NAME, 'post-body')"
   ]
  },
  {
   "cell_type": "code",
   "execution_count": 11,
   "metadata": {},
   "outputs": [
    {
     "data": {
      "text/plain": [
       "8"
      ]
     },
     "execution_count": 11,
     "metadata": {},
     "output_type": "execute_result"
    }
   ],
   "source": []
  },
  {
   "cell_type": "code",
   "execution_count": 24,
   "metadata": {},
   "outputs": [],
   "source": [
    "url2 = 'https://blog.naver.com/imvaney/223121121422'\n",
    "request2 = requests.get(url2)\n",
    "soup2 = BeautifulSoup(request2.text, 'html.parser')"
   ]
  },
  {
   "cell_type": "code",
   "execution_count": 25,
   "metadata": {},
   "outputs": [
    {
     "data": {
      "text/plain": [
       "\n",
       "<!DOCTYPE html PUBLIC \"-//W3C//DTD XHTML 1.0 Transitional//EN\" \"http://www.w3.org/TR/xhtml1/DTD/xhtml1-transitional.dtd\">\n",
       "\n",
       "<html lang=\"ko\">\n",
       "<head>\n",
       "<meta content=\"no-cache\" http-equiv=\"Pragma\"/>\n",
       "<meta content=\"-1\" http-equiv=\"Expires\"/>\n",
       "<meta content=\"noindex,follow\" name=\"robots\"/>\n",
       "<meta content=\"always\" name=\"referrer\"/>\n",
       "<meta content=\"text/html;charset=utf-8\" http-equiv=\"content-type\"/>\n",
       "<meta content=\"IE=edge,chrome=1\" http-equiv=\"X-UA-Compatible\"/>\n",
       "<link href=\"/favicon.ico?3\" rel=\"shortcut icon\" type=\"image/x-icon\"/>\n",
       "<link href=\"https://rss.blog.naver.com/imvaney.xml\" rel=\"alternate\" title=\"RSS feed for imvaney Blog\" type=\"application/rss+xml\"/>\n",
       "<link href=\"https://blog.naver.com/NBlogWlwLayout.naver?blogId=imvaney\" rel=\"wlwmanifest\" type=\"application/wlwmanifest+xml\"/>\n",
       "<title>Vaney's Season Note : 네이버 블로그</title>\n",
       "</head>\n",
       "<script charset=\"UTF-8\" src=\"https://ssl.pstatic.net/t.static.blog/mylog/versioning/Frameset-478668353_https.js\" type=\"text/javascript\"></script>\n",
       "<script charset=\"UTF-8\" type=\"text/javascript\">\n",
       "var photoContent=\"\";\n",
       "var postContent=\"\";\n",
       "\n",
       "var videoId \t  = \"\";\n",
       "var thumbnail \t  = \"\";\n",
       "var inKey \t\t  = \"\";\n",
       "var movieFileSize = \"\";\n",
       "var playTime \t  = \"\";\n",
       "var screenSize \t  = \"\";\n",
       "\n",
       "var blogId = 'imvaney';\n",
       "var blogURL = 'https://blog.naver.com';\n",
       "var eventCnt = '';\n",
       "\n",
       "var g_ShareObject = {};\n",
       "g_ShareObject.referer = \"\";\n",
       "\n",
       "\n",
       "jsMVC.setController(\"framesetTitleController\", FramesetTitleController);\n",
       "jsMVC.setController(\"framesetUrlController\", FramesetUrlController);\n",
       "jsMVC.setController(\"framesetMusicController\", FramesetMusicController);\n",
       "var oFramesetTitleController = jsMVC.getController(\"framesetTitleController\");\n",
       "var oFramesetUrlController = jsMVC.getController(\"framesetUrlController\");\n",
       "var oFramesetMusicController = jsMVC.getController(\"framesetMusicController\");\n",
       "var sTitle = document.title;\n",
       "\n",
       "var topFrameAlert = function(message){\n",
       "\talert(message);\n",
       "};\n",
       "\n",
       "var topFrameConfirm = function(message){\n",
       "\tif(confirm(message)){\n",
       "\t\treturn true;\n",
       "\t} else {\n",
       "\t\treturn false;\n",
       "\t}\n",
       "};\n",
       "</script>\n",
       "<style type=\"text/css\">\n",
       "    html{width:100%;height:100%;}\n",
       "    body{width:100%;height:100%;margin:0;padding:0;font-size:0;}\n",
       "    #mainFrame{width:100%;height:100%;margin:0;padding:0;border:0;}\n",
       "    #hiddenFrame{width:0;height:0;margin:0;padding:0;border:0;}\n",
       "</style>\n",
       "<body>\n",
       "<iframe allowfullscreen=\"\" id=\"mainFrame\" name=\"mainFrame\" onload=\"oFramesetTitleController.start(self.frames['mainFrame'], self, sTitle);oFramesetTitleController.onLoadFrame();oFramesetUrlController.start(self.frames['mainFrame']);oFramesetUrlController.onLoadFrame()\" scrolling=\"auto\" src=\"/PostView.naver?blogId=imvaney&amp;logNo=223121121422&amp;redirect=Dlog&amp;widgetTypeCall=true&amp;directAccess=false\"></iframe>\n",
       "</body>\n",
       "</html>"
      ]
     },
     "execution_count": 25,
     "metadata": {},
     "output_type": "execute_result"
    }
   ],
   "source": [
    "soup2"
   ]
  }
 ],
 "metadata": {
  "kernelspec": {
   "display_name": "project1",
   "language": "python",
   "name": "python3"
  },
  "language_info": {
   "codemirror_mode": {
    "name": "ipython",
    "version": 3
   },
   "file_extension": ".py",
   "mimetype": "text/x-python",
   "name": "python",
   "nbconvert_exporter": "python",
   "pygments_lexer": "ipython3",
   "version": "3.9.12"
  }
 },
 "nbformat": 4,
 "nbformat_minor": 2
}
