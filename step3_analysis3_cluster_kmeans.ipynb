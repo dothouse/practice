{
 "cells": [
  {
   "cell_type": "markdown",
   "metadata": {},
   "source": [
    "# NAVER 한달살기 - 클러스터링(1. 위계적, 2. K-means)\n",
    "\n",
    " 참조사이트\n",
    " - https://hyemin-kim.github.io/2020/08/29/E-Python-TextMining-2/"
   ]
  },
  {
   "cell_type": "code",
   "execution_count": 2,
   "metadata": {},
   "outputs": [],
   "source": [
    "# !pip install matplotlib seaborn sklearn konlpy scikit-learn wordcloud pyLDAvis gensim\n",
    "\n",
    "import pandas as pd\n",
    "import numpy as np\n",
    "import matplotlib.pyplot as plt\n",
    "\n",
    "import re\n",
    "\n",
    "from konlpy.tag import Okt\n",
    "okt = Okt() \n",
    "from collections import Counter"
   ]
  },
  {
   "cell_type": "code",
   "execution_count": 3,
   "metadata": {},
   "outputs": [
    {
     "data": {
      "text/html": [
       "<div>\n",
       "<style scoped>\n",
       "    .dataframe tbody tr th:only-of-type {\n",
       "        vertical-align: middle;\n",
       "    }\n",
       "\n",
       "    .dataframe tbody tr th {\n",
       "        vertical-align: top;\n",
       "    }\n",
       "\n",
       "    .dataframe thead th {\n",
       "        text-align: right;\n",
       "    }\n",
       "</style>\n",
       "<table border=\"1\" class=\"dataframe\">\n",
       "  <thead>\n",
       "    <tr style=\"text-align: right;\">\n",
       "      <th></th>\n",
       "      <th>title</th>\n",
       "      <th>contents</th>\n",
       "      <th>time</th>\n",
       "      <th>blog_text</th>\n",
       "      <th>key</th>\n",
       "    </tr>\n",
       "  </thead>\n",
       "  <tbody>\n",
       "    <tr>\n",
       "      <th>0</th>\n",
       "      <td>돌아기랑 제주도한달살기 24일째(406일) : 비양도</td>\n",
       "      <td>첨에 제주도 한달살기 올때도 어디갈지 생각을 안하고 와서 매번 전날이나 아침에 오늘...</td>\n",
       "      <td>2023.11.27</td>\n",
       "      <td>첨에 제주도 한달살기 올때도 어디갈지 생각을 안하고 와서 매번 전날이나 아침에 오늘...</td>\n",
       "      <td>한달살기</td>\n",
       "    </tr>\n",
       "    <tr>\n",
       "      <th>1</th>\n",
       "      <td>제주도 한달살기 (20) - 우도 코코나라, 문빵구, 돌담집, 몬딱...</td>\n",
       "      <td>한달살기 중 두번째 우도 ㅎㅎ 처음은 전기차를 빌렸지만 이번엔 카트형식으로 나란히 ...</td>\n",
       "      <td>2023.11.07</td>\n",
       "      <td>한달살기 중 두번째 우도 ㅎㅎ처음은 전기차를 빌렸지만 이번엔 카트형식으로 나란히 앉...</td>\n",
       "      <td>한달살기</td>\n",
       "    </tr>\n",
       "    <tr>\n",
       "      <th>2</th>\n",
       "      <td>제주동쪽숙소 제주도한달살기하기 좋은 구좌 제주오션뷰2차♪</td>\n",
       "      <td>#제주오션뷰2차 #제주도펜션 #제주동쪽숙소 제주에는 크게 동쪽과 서쪽으로 나뉘면서 ...</td>\n",
       "      <td>2023.12.13</td>\n",
       "      <td>#제주오션뷰2차#제주도펜션#제주동쪽숙소제주에는 크게 동쪽과 서쪽으로 나뉘면서 다양한...</td>\n",
       "      <td>한달살기</td>\n",
       "    </tr>\n",
       "    <tr>\n",
       "      <th>3</th>\n",
       "      <td>제주도 한달살기 비용 (한달살이 생활비)</td>\n",
       "      <td>제주도 한달살기는 돈이 적게 들지는 않지만 우리 가족에게 꽤 많은 추억을 남겼으므로...</td>\n",
       "      <td>2022.02.23</td>\n",
       "      <td>2021년 4월에 제주도 한달살기를 하고 왔다.세식구 기준(어른 둘, 아기 하나)으...</td>\n",
       "      <td>한달살기</td>\n",
       "    </tr>\n",
       "    <tr>\n",
       "      <th>4</th>\n",
       "      <td>제주도 한달살기 숙소 비용 제주 중문 애견동반 더맨션 이이공공</td>\n",
       "      <td>그중에서도 제일 마음에 들었던 건 오후 시간 깊숙이 들어오는 가을 햇살 창밖에 보이...</td>\n",
       "      <td>2023.10.14</td>\n",
       "      <td>이번에는 좀 여유로운 여행을 하고 싶어서다소 긴 일정으로 제주도에 방문했어요.여행...</td>\n",
       "      <td>한달살기</td>\n",
       "    </tr>\n",
       "    <tr>\n",
       "      <th>...</th>\n",
       "      <td>...</td>\n",
       "      <td>...</td>\n",
       "      <td>...</td>\n",
       "      <td>...</td>\n",
       "      <td>...</td>\n",
       "    </tr>\n",
       "    <tr>\n",
       "      <th>1932</th>\n",
       "      <td>제주도한달살이</td>\n",
       "      <td>드뎌 육지다~ 뒤로 보이는 육지가 제주항이네요. 3다도인 제주에 좋은 추억도 많이 ...</td>\n",
       "      <td>2020.12.18</td>\n",
       "      <td>#제주도 #제주한달살이#실버크클라우드코로나19로 발이묶인 윈드서퍼들의차선택은~~ 한...</td>\n",
       "      <td>한달살이</td>\n",
       "    </tr>\n",
       "    <tr>\n",
       "      <th>1933</th>\n",
       "      <td>[제주도 한달살이] 제주도 게스트하우스 스텝 후기...</td>\n",
       "      <td>연돈 예약 성공해서 연돈도 먹고, 한라산 등산도 가고, 스쿠버다이빙도 배우고, 저녁...</td>\n",
       "      <td>2023.05.28</td>\n",
       "      <td>22년12월28일~23년2월4일약 한달동안 제주살이를 했다.(글 마지막에 스텝 꿀팁...</td>\n",
       "      <td>한달살이</td>\n",
       "    </tr>\n",
       "    <tr>\n",
       "      <th>1934</th>\n",
       "      <td>제주도 한달살이 시작!!!</td>\n",
       "      <td>무계획으로 출발 하는 제주도 한달살이!!! 퇴사를 하고 나니 새로운 환경에서 살아보...</td>\n",
       "      <td>2022.03.16</td>\n",
       "      <td>무계획으로 출발 하는 제주도 한달살이!!!퇴사를 하고 나니 새로운 환경에서 살아보고...</td>\n",
       "      <td>한달살이</td>\n",
       "    </tr>\n",
       "    <tr>\n",
       "      <th>1935</th>\n",
       "      <td>[제주도 한달살이 이야기] 평산제면소에서 마제소바먹고 러닝후...</td>\n",
       "      <td>제주도에선 술 잘 안먹겠다고 다짐했는데 거의 하루 한캔은 아니여도 한모금씩은 매일 ...</td>\n",
       "      <td>2022.02.20</td>\n",
       "      <td>오늘은 숙소 근처에 있다는 마제소바 집에 들렸어요맛집이라고 해서 저번에 왔었는데그때...</td>\n",
       "      <td>한달살이</td>\n",
       "    </tr>\n",
       "    <tr>\n",
       "      <th>1936</th>\n",
       "      <td>제주도 한달살이 day 1</td>\n",
       "      <td>친구가 제주도 한달살이 하러 간다고해서 백수몬인 나도 쫄래쫄래 쫓아가서 2주 있으려...</td>\n",
       "      <td>2022.06.11</td>\n",
       "      <td>친구가 제주도 한달살이 하러 간다고해서백수몬인 나도 쫄래쫄래 쫓아가서2주 있으려다 ...</td>\n",
       "      <td>한달살이</td>\n",
       "    </tr>\n",
       "  </tbody>\n",
       "</table>\n",
       "<p>1937 rows × 5 columns</p>\n",
       "</div>"
      ],
      "text/plain": [
       "                                         title  \\\n",
       "0                돌아기랑 제주도한달살기 24일째(406일) : 비양도   \n",
       "1     제주도 한달살기 (20) - 우도 코코나라, 문빵구, 돌담집, 몬딱...   \n",
       "2              제주동쪽숙소 제주도한달살기하기 좋은 구좌 제주오션뷰2차♪   \n",
       "3                       제주도 한달살기 비용 (한달살이 생활비)   \n",
       "4           제주도 한달살기 숙소 비용 제주 중문 애견동반 더맨션 이이공공   \n",
       "...                                        ...   \n",
       "1932                                   제주도한달살이   \n",
       "1933            [제주도 한달살이] 제주도 게스트하우스 스텝 후기...   \n",
       "1934                            제주도 한달살이 시작!!!   \n",
       "1935      [제주도 한달살이 이야기] 평산제면소에서 마제소바먹고 러닝후...   \n",
       "1936                            제주도 한달살이 day 1   \n",
       "\n",
       "                                               contents        time  \\\n",
       "0     첨에 제주도 한달살기 올때도 어디갈지 생각을 안하고 와서 매번 전날이나 아침에 오늘...  2023.11.27   \n",
       "1     한달살기 중 두번째 우도 ㅎㅎ 처음은 전기차를 빌렸지만 이번엔 카트형식으로 나란히 ...  2023.11.07   \n",
       "2     #제주오션뷰2차 #제주도펜션 #제주동쪽숙소 제주에는 크게 동쪽과 서쪽으로 나뉘면서 ...  2023.12.13   \n",
       "3     제주도 한달살기는 돈이 적게 들지는 않지만 우리 가족에게 꽤 많은 추억을 남겼으므로...  2022.02.23   \n",
       "4     그중에서도 제일 마음에 들었던 건 오후 시간 깊숙이 들어오는 가을 햇살 창밖에 보이...  2023.10.14   \n",
       "...                                                 ...         ...   \n",
       "1932  드뎌 육지다~ 뒤로 보이는 육지가 제주항이네요. 3다도인 제주에 좋은 추억도 많이 ...  2020.12.18   \n",
       "1933  연돈 예약 성공해서 연돈도 먹고, 한라산 등산도 가고, 스쿠버다이빙도 배우고, 저녁...  2023.05.28   \n",
       "1934  무계획으로 출발 하는 제주도 한달살이!!! 퇴사를 하고 나니 새로운 환경에서 살아보...  2022.03.16   \n",
       "1935  제주도에선 술 잘 안먹겠다고 다짐했는데 거의 하루 한캔은 아니여도 한모금씩은 매일 ...  2022.02.20   \n",
       "1936  친구가 제주도 한달살이 하러 간다고해서 백수몬인 나도 쫄래쫄래 쫓아가서 2주 있으려...  2022.06.11   \n",
       "\n",
       "                                              blog_text   key  \n",
       "0     첨에 제주도 한달살기 올때도 어디갈지 생각을 안하고 와서 매번 전날이나 아침에 오늘...  한달살기  \n",
       "1     한달살기 중 두번째 우도 ㅎㅎ처음은 전기차를 빌렸지만 이번엔 카트형식으로 나란히 앉...  한달살기  \n",
       "2     #제주오션뷰2차#제주도펜션#제주동쪽숙소제주에는 크게 동쪽과 서쪽으로 나뉘면서 다양한...  한달살기  \n",
       "3     2021년 4월에 제주도 한달살기를 하고 왔다.세식구 기준(어른 둘, 아기 하나)으...  한달살기  \n",
       "4      이번에는 좀 여유로운 여행을 하고 싶어서다소 긴 일정으로 제주도에 방문했어요.여행...  한달살기  \n",
       "...                                                 ...   ...  \n",
       "1932  #제주도 #제주한달살이#실버크클라우드코로나19로 발이묶인 윈드서퍼들의차선택은~~ 한...  한달살이  \n",
       "1933  22년12월28일~23년2월4일약 한달동안 제주살이를 했다.(글 마지막에 스텝 꿀팁...  한달살이  \n",
       "1934  무계획으로 출발 하는 제주도 한달살이!!!퇴사를 하고 나니 새로운 환경에서 살아보고...  한달살이  \n",
       "1935  오늘은 숙소 근처에 있다는 마제소바 집에 들렸어요맛집이라고 해서 저번에 왔었는데그때...  한달살이  \n",
       "1936  친구가 제주도 한달살이 하러 간다고해서백수몬인 나도 쫄래쫄래 쫓아가서2주 있으려다 ...  한달살이  \n",
       "\n",
       "[1937 rows x 5 columns]"
      ]
     },
     "execution_count": 3,
     "metadata": {},
     "output_type": "execute_result"
    }
   ],
   "source": [
    "df = pd.read_csv('./data/naver_month.csv')\n",
    "df"
   ]
  },
  {
   "cell_type": "code",
   "execution_count": 4,
   "metadata": {},
   "outputs": [
    {
     "data": {
      "text/plain": [
       "title        0\n",
       "contents     0\n",
       "time         0\n",
       "blog_text    0\n",
       "key          0\n",
       "dtype: int64"
      ]
     },
     "execution_count": 4,
     "metadata": {},
     "output_type": "execute_result"
    }
   ],
   "source": [
    "# df 수집 오류 결과 확인\n",
    "(df == 'error').sum()"
   ]
  },
  {
   "cell_type": "code",
   "execution_count": 5,
   "metadata": {},
   "outputs": [
    {
     "data": {
      "text/plain": [
       "title        0\n",
       "contents     0\n",
       "time         0\n",
       "blog_text    3\n",
       "key          0\n",
       "dtype: int64"
      ]
     },
     "execution_count": 5,
     "metadata": {},
     "output_type": "execute_result"
    }
   ],
   "source": [
    "df.isnull().sum()\n",
    "# blog_text가 nan인 행 존재 -> 제외"
   ]
  },
  {
   "cell_type": "code",
   "execution_count": 6,
   "metadata": {},
   "outputs": [
    {
     "data": {
      "text/html": [
       "<div>\n",
       "<style scoped>\n",
       "    .dataframe tbody tr th:only-of-type {\n",
       "        vertical-align: middle;\n",
       "    }\n",
       "\n",
       "    .dataframe tbody tr th {\n",
       "        vertical-align: top;\n",
       "    }\n",
       "\n",
       "    .dataframe thead th {\n",
       "        text-align: right;\n",
       "    }\n",
       "</style>\n",
       "<table border=\"1\" class=\"dataframe\">\n",
       "  <thead>\n",
       "    <tr style=\"text-align: right;\">\n",
       "      <th></th>\n",
       "      <th>title</th>\n",
       "      <th>contents</th>\n",
       "      <th>time</th>\n",
       "      <th>blog_text</th>\n",
       "      <th>key</th>\n",
       "    </tr>\n",
       "  </thead>\n",
       "  <tbody>\n",
       "    <tr>\n",
       "      <th>1807</th>\n",
       "      <td>제주도 한달살이 스물한번째 날</td>\n",
       "      <td>제주도 한달살이 스물한번째 날입니다 오늘은 제주도에 오후부터 비가 예보 되있어서 나...</td>\n",
       "      <td>2022.03.30</td>\n",
       "      <td>NaN</td>\n",
       "      <td>한달살이</td>\n",
       "    </tr>\n",
       "    <tr>\n",
       "      <th>1882</th>\n",
       "      <td>제주도 한달살이 스물여덟번째 날</td>\n",
       "      <td>제주도 한달살이 스물여덟번째 날입니다 이제 제주도 살이 삼일 남았습니다 이번주는 날...</td>\n",
       "      <td>2022.04.07</td>\n",
       "      <td>NaN</td>\n",
       "      <td>한달살이</td>\n",
       "    </tr>\n",
       "    <tr>\n",
       "      <th>1919</th>\n",
       "      <td>제주도 한달살이 열다섯번째 날</td>\n",
       "      <td>제주도 한달살이 열다섯번째 날 입니다 벌써 한달중 절반이 지나가는군요 아침에 일어나...</td>\n",
       "      <td>2022.03.24</td>\n",
       "      <td>NaN</td>\n",
       "      <td>한달살이</td>\n",
       "    </tr>\n",
       "  </tbody>\n",
       "</table>\n",
       "</div>"
      ],
      "text/plain": [
       "                  title                                           contents  \\\n",
       "1807   제주도 한달살이 스물한번째 날  제주도 한달살이 스물한번째 날입니다 오늘은 제주도에 오후부터 비가 예보 되있어서 나...   \n",
       "1882  제주도 한달살이 스물여덟번째 날  제주도 한달살이 스물여덟번째 날입니다 이제 제주도 살이 삼일 남았습니다 이번주는 날...   \n",
       "1919   제주도 한달살이 열다섯번째 날  제주도 한달살이 열다섯번째 날 입니다 벌써 한달중 절반이 지나가는군요 아침에 일어나...   \n",
       "\n",
       "            time blog_text   key  \n",
       "1807  2022.03.30       NaN  한달살이  \n",
       "1882  2022.04.07       NaN  한달살이  \n",
       "1919  2022.03.24       NaN  한달살이  "
      ]
     },
     "execution_count": 6,
     "metadata": {},
     "output_type": "execute_result"
    }
   ],
   "source": [
    "df[df['blog_text'].isna() == 1]"
   ]
  },
  {
   "cell_type": "code",
   "execution_count": 7,
   "metadata": {},
   "outputs": [],
   "source": [
    "# blog_text가 nan인 겨우 제외\n",
    "df = df[df['blog_text'].isna() != 1]"
   ]
  },
  {
   "cell_type": "markdown",
   "metadata": {},
   "source": [
    "### 클러스터링 1 - 위계적\n",
    " https://m.blog.naver.com/j7youngh/222864205826"
   ]
  },
  {
   "cell_type": "code",
   "execution_count": null,
   "metadata": {},
   "outputs": [],
   "source": [
    "stopwords = set([])\n",
    "\n",
    "web_stopwords = pd.read_csv(\"https://raw.githubusercontent.com/yoonkt200/FastCampusDataset/master/korean_stopwords.txt\").values.tolist()\n",
    "web_stopwords[:10]\n",
    "\n",
    "for i in web_stopwords:\n",
    "    stopwords.add(i[0])\n",
    "\n",
    "print(len(stopwords))\n",
    "\n",
    "jeju_stopwords = [ '리뷰', '숙소', '정말', '동안', '다음', '바로', '근처', '조금', '시간',\n",
    "                   '호스트', '정도', '방문', '사장', '이용', '다시', '예약', '살이', '살기', '아주', '추천', '하루', '이번',\n",
    "                   '처음', '달동', '저희', '하나', '사용', '모두', '진짜', '일주일', '보름', '선택', '시작', '한번', '가장', '마음',\n",
    "                   '제외', '이동', '무엇', '준비', '그냥', '감사',  '덕분', '후기', '기회',  '다른', '여기', '우리',\n",
    "                   '미스터', '미스터멘션', '멘션', '때문', '오늘', '도착', '보고', '마지막', '가지', '이제', '지금', '모습', '위해',\n",
    "                   '타고', '사실', '포스팅', '주문', '역시', '침대', '거실', '매일', '출발', '소개', '기억', '참고', '계속', '객실',\n",
    "                   '일차', '이야기', '요즘', '이유', '경우', '일단', '거의', '스텝', '제일', '자주', '어디', '마무리', '아래', '운영',\n",
    "                   '이상', '의자', '별로', '원래', '중간', '뭔가', '첫째', '체크', '잠시', '언제', '살짝', '해도', '계단', '부분', '냉장고',\n",
    "                   '침실', '기본', '제공', '일찍', '인테리어', '완전', '추가', '등등', '매우', '가야', '그때', '기간', '마치', '가득', '대부분',\n",
    "                   '미리', '둘째', '근무', '공간', '스테이', '알파', '엄마', '아빠', '아들', '일정', '계획', '아침', '주방', '서울', '육지',\n",
    "                   '점심', '저녁', '자리', '두리', '언니', '가격', '건물', '숙박', '만원', '가기', '코로나' ,                   \n",
    "                   '호텔', '펜션', '게스트하우스', '독채','화장실', '욕실', '숙박', '세탁기', '가면', '직접', '비용', '길이',\n",
    "                    '여행', '트립', '제주', '제주도', '생각', '느낌',\n",
    "                    '광고', '스텝', '블로그', '개월', '도서관', '스탭'\n",
    "                   ]\n",
    "for word in jeju_stopwords:\n",
    "    stopwords.add(word)\n",
    "\n",
    "print(len(stopwords))\n"
   ]
  },
  {
   "cell_type": "code",
   "execution_count": 8,
   "metadata": {},
   "outputs": [
    {
     "ename": "NameError",
     "evalue": "name 'df_jeju' is not defined",
     "output_type": "error",
     "traceback": [
      "\u001b[1;31m---------------------------------------------------------------------------\u001b[0m",
      "\u001b[1;31mNameError\u001b[0m                                 Traceback (most recent call last)",
      "Cell \u001b[1;32mIn[8], line 13\u001b[0m\n\u001b[0;32m     10\u001b[0m     \u001b[38;5;28;01mreturn\u001b[39;00m nouns\n\u001b[0;32m     12\u001b[0m vect \u001b[38;5;241m=\u001b[39m CountVectorizer(tokenizer \u001b[38;5;241m=\u001b[39m \u001b[38;5;28;01mlambda\u001b[39;00m x: text_cleaning(x))\n\u001b[1;32m---> 13\u001b[0m bow_vect \u001b[38;5;241m=\u001b[39m vect\u001b[38;5;241m.\u001b[39mfit_transform(\u001b[43mdf_jeju\u001b[49m[\u001b[38;5;124m'\u001b[39m\u001b[38;5;124mblog_text\u001b[39m\u001b[38;5;124m'\u001b[39m]\u001b[38;5;241m.\u001b[39mtolist())\n\u001b[0;32m     14\u001b[0m word_list \u001b[38;5;241m=\u001b[39m vect\u001b[38;5;241m.\u001b[39mget_feature_names_out()\n\u001b[0;32m     15\u001b[0m count_list \u001b[38;5;241m=\u001b[39m bow_vect\u001b[38;5;241m.\u001b[39mtoarray()\u001b[38;5;241m.\u001b[39msum(axis\u001b[38;5;241m=\u001b[39m\u001b[38;5;241m0\u001b[39m)\n",
      "\u001b[1;31mNameError\u001b[0m: name 'df_jeju' is not defined"
     ]
    }
   ],
   "source": [
    "from sklearn.feature_extraction.text import CountVectorizer\n",
    "\n",
    "def text_cleaning(text):\n",
    "    hangul = re.compile('[^ ㄱ-ㅣ 가-힣]')  # 정규 표현식 처리\n",
    "    result = hangul.sub('', text)\n",
    "    okt = Okt()  # 형태소 추출\n",
    "    nouns = okt.nouns(result)\n",
    "    nouns = [x for x in nouns if len(x) > 1]  # 한글자 키워드 제거\n",
    "    nouns = [x for x in nouns if x not in stopwords]  # 불용어 제거\n",
    "    return nouns\n",
    "\n"
   ]
  },
  {
   "cell_type": "code",
   "execution_count": null,
   "metadata": {},
   "outputs": [],
   "source": [
    "vect = CountVectorizer(tokenizer = lambda x: text_cleaning(x))\n",
    "bow_vect = vect.fit_transform(df['blog_text'].tolist())\n",
    "word_list = vect.get_feature_names_out()\n",
    "count_list = bow_vect.toarray().sum(axis=0)"
   ]
  },
  {
   "cell_type": "code",
   "execution_count": null,
   "metadata": {},
   "outputs": [],
   "source": [
    "columns = []\n",
    "for k, v in sorted(vect.vocabulary_.items(), key=lambda item:item[1]): \n",
    "  columns.append(k)\n",
    "\n",
    "df = pd.DataFrame(bow_vect.toarray(), columns = columns) # DTM 만들기\n",
    "df_tdm = df.T   "
   ]
  },
  {
   "cell_type": "code",
   "execution_count": null,
   "metadata": {},
   "outputs": [],
   "source": [
    "df_tdm"
   ]
  },
  {
   "cell_type": "code",
   "execution_count": null,
   "metadata": {},
   "outputs": [],
   "source": [
    "import matplotlib.pyplot as plt\n",
    "\n",
    "plt.rc('font', family='malgun Gothic') "
   ]
  },
  {
   "cell_type": "code",
   "execution_count": null,
   "metadata": {},
   "outputs": [
    {
     "name": "stdout",
     "output_type": "stream",
     "text": [
      "594\n",
      "739\n"
     ]
    }
   ],
   "source": [
    "df_tdm['total'] = df_tdm.sum(axis=1)     # 단어 총 빈도수 계산\n",
    "df_words = df_tdm[df_tdm['total'].rank(ascending=False) <= 50] # 빈도수 상위 50개 추출\n",
    "df_words= df_words.drop('total', axis=1)    # 컬럼 'total' 제거\n",
    "df_words[:5]"
   ]
  },
  {
   "cell_type": "code",
   "execution_count": null,
   "metadata": {},
   "outputs": [],
   "source": [
    "from scipy.cluster.hierarchy import linkage, dendrogram\n",
    "from matplotlib import pyplot as plt"
   ]
  },
  {
   "cell_type": "code",
   "execution_count": null,
   "metadata": {},
   "outputs": [],
   "source": [
    "# 군집 방식은 ward로 거리는 유크리디안으로 측정해 군집분석\n",
    "\n",
    "clusters = linkage(df_words, method='ward', metric='euclidean')\n",
    "\n",
    "# 덴드로그램 그리기\n",
    "\n",
    "plt.figure(figsize=(20, 10))               # 이미지 크기 설정\n",
    "dendrogram(clusters,\n",
    "           leaf_rotation=50,               # 라벨 50% 기울리기\n",
    "           leaf_font_size=10,              # 라벨 폰트 크기\n",
    "           labels=df_words.index)          # 라벨에 사용할 변수\n",
    "plt.show()"
   ]
  },
  {
   "cell_type": "code",
   "execution_count": null,
   "metadata": {},
   "outputs": [
    {
     "data": {
      "text/plain": [
       "<gensim.interfaces.TransformedCorpus at 0x1bd68601d00>"
      ]
     },
     "execution_count": 18,
     "metadata": {},
     "output_type": "execute_result"
    }
   ],
   "source": [
    "from sklearn.cluster import AgglomerativeClustering\n",
    "\n",
    "ward = AgglomerativeClustering(n_clusters=5, affinity='euclidean', linkage='ward')\n",
    "predict = ward.fit_predict(df_words)      # 군집 3개 분리값(0, 1, 2)\n",
    "df_words['predict'] = predict             # 해당 군집값(0, 1, 2)을 원본 데이터에 붙이기\n",
    "df_words[:5]"
   ]
  },
  {
   "cell_type": "code",
   "execution_count": null,
   "metadata": {},
   "outputs": [
    {
     "name": "stdout",
     "output_type": "stream",
     "text": [
      "[(0,\n",
      "  '0.015*\"오름\" + 0.015*\"코스\" + 0.012*\"바다\" + 0.011*\"올레길\" + 0.008*\"해수욕장\" + '\n",
      "  '0.008*\"사람\" + 0.008*\"해변\" + 0.007*\"풍경\" + 0.006*\"숲길\" + 0.005*\"한라산\"'),\n",
      " (1,\n",
      "  '0.009*\"바다\" + 0.007*\"위치\" + 0.007*\"하우스\" + 0.006*\"가족\" + 0.006*\"서귀포\" + '\n",
      "  '0.005*\"거리\" + 0.004*\"시설\" + 0.004*\"마당\" + 0.003*\"카페\" + 0.003*\"애월\"'),\n",
      " (2,\n",
      "  '0.018*\"맛집\" + 0.014*\"아기\" + 0.013*\"카페\" + 0.009*\"식당\" + 0.008*\"돼지\" + 0.007*\"메뉴\" '\n",
      "  '+ 0.006*\"고기\" + 0.006*\"바다\" + 0.005*\"애월\" + 0.005*\"음식\"'),\n",
      " (3,\n",
      "  '0.019*\"카페\" + 0.014*\"사람\" + 0.007*\"바다\" + 0.007*\"친구\" + 0.005*\"날씨\" + 0.004*\"커피\" '\n",
      "  '+ 0.004*\"비행기\" + 0.004*\"구경\" + 0.004*\"공항\" + 0.004*\"맛집\"'),\n",
      " (4,\n",
      "  '0.012*\"체험\" + 0.008*\"바다\" + 0.007*\"우도\" + 0.006*\"사람\" + 0.005*\"벚꽃\" + 0.005*\"날씨\" '\n",
      "  '+ 0.005*\"폭포\" + 0.004*\"가족\" + 0.004*\"요금\" + 0.004*\"물놀이\"')]\n"
     ]
    }
   ],
   "source": [
    "cluster_1 = df_words[df_words['predict'] == 0].index\n",
    "print(\"군집 1: \", cluster_1)\n",
    "cluster_2 = df_words[df_words['predict'] == 1].index\n",
    "print(\"군집 2: \", cluster_2)\n",
    "cluster_3 = df_words[df_words['predict'] == 2].index\n",
    "print(\"군집 3: \", cluster_3)\n",
    "cluster_4 = df_words[df_words['predict'] == 3].index\n",
    "print(\"군집 4: \", cluster_4)\n",
    "cluster_5 = df_words[df_words['predict'] == 4].index\n",
    "print(\"군집 5: \", cluster_5)\n",
    "# cluster_6 = df_words[df_words['predict'] == 5].index\n",
    "# print(\"군집 6: \", cluster_6)\n",
    "# cluster_7 = df_words[df_words['predict'] == 6].index\n",
    "# print(\"군집 7: \", cluster_7)"
   ]
  },
  {
   "cell_type": "code",
   "execution_count": null,
   "metadata": {},
   "outputs": [],
   "source": [
    "### K - Means"
   ]
  },
  {
   "cell_type": "code",
   "execution_count": null,
   "metadata": {},
   "outputs": [
    {
     "data": {
      "text/plain": [
       "[([(0.008532017, '바다'),\n",
       "   (0.007435218, '위치'),\n",
       "   (0.0065295785, '하우스'),\n",
       "   (0.005950785, '가족'),\n",
       "   (0.00565107, '서귀포'),\n",
       "   (0.005360794, '거리'),\n",
       "   (0.0044677677, '시설'),\n",
       "   (0.003944621, '마당'),\n",
       "   (0.0033102708, '카페'),\n",
       "   (0.0032529072, '애월'),\n",
       "   (0.0032435188, '생활'),\n",
       "   (0.0032173924, '감성'),\n",
       "   (0.0031897286, '분위기'),\n",
       "   (0.0031345459, '힐링'),\n",
       "   (0.002929392, '오션'),\n",
       "   (0.0029026314, '주변'),\n",
       "   (0.0028906197, '테이블'),\n",
       "   (0.0028083476, '커피'),\n",
       "   (0.0027849872, '사람'),\n",
       "   (0.002684658, '테라스')],\n",
       "  -1.5370684564970298),\n",
       " ([(0.015260089, '오름'),\n",
       "   (0.01474051, '코스'),\n",
       "   (0.012015006, '바다'),\n",
       "   (0.010910882, '올레길'),\n",
       "   (0.008248668, '해수욕장'),\n",
       "   (0.008175294, '사람'),\n",
       "   (0.0076279705, '해변'),\n",
       "   (0.00659035, '풍경'),\n",
       "   (0.0056471177, '숲길'),\n",
       "   (0.005269104, '한라산'),\n",
       "   (0.005115993, '마을'),\n",
       "   (0.004800289, '바람'),\n",
       "   (0.004341899, '함덕'),\n",
       "   (0.0043284358, '날씨'),\n",
       "   (0.004043524, '캠프'),\n",
       "   (0.0040001245, '나무'),\n",
       "   (0.003727931, '정상'),\n",
       "   (0.003587842, '사려'),\n",
       "   (0.0035154573, '자연'),\n",
       "   (0.003437492, '산책')],\n",
       "  -1.716770319521506),\n",
       " ([(0.017691875, '맛집'),\n",
       "   (0.0139049, '아기'),\n",
       "   (0.012520246, '카페'),\n",
       "   (0.009499947, '식당'),\n",
       "   (0.0075613563, '돼지'),\n",
       "   (0.00685792, '메뉴'),\n",
       "   (0.00584976, '고기'),\n",
       "   (0.005617878, '바다'),\n",
       "   (0.004834458, '애월'),\n",
       "   (0.00453575, '음식'),\n",
       "   (0.004517276, '국수'),\n",
       "   (0.0043460904, '사람'),\n",
       "   (0.0041581085, '칼국수'),\n",
       "   (0.0041298186, '전복'),\n",
       "   (0.004117441, '갈치'),\n",
       "   (0.0041132397, '먹기'),\n",
       "   (0.0040700994, '남편'),\n",
       "   (0.0038930809, '맑음'),\n",
       "   (0.0038872499, '포장'),\n",
       "   (0.0038413827, '김밥')],\n",
       "  -1.9918836405693319),\n",
       " ([(0.018633172, '카페'),\n",
       "   (0.014309183, '사람'),\n",
       "   (0.00671999, '바다'),\n",
       "   (0.00666166, '친구'),\n",
       "   (0.004820128, '날씨'),\n",
       "   (0.004477621, '커피'),\n",
       "   (0.0042566336, '비행기'),\n",
       "   (0.0042527593, '구경'),\n",
       "   (0.0036989616, '공항'),\n",
       "   (0.0036256642, '맛집'),\n",
       "   (0.0031950525, '버스'),\n",
       "   (0.0031129685, '분위기'),\n",
       "   (0.0030495285, '정리'),\n",
       "   (0.0028556893, '바람'),\n",
       "   (0.002782459, '기분'),\n",
       "   (0.0027503658, '우동'),\n",
       "   (0.0027098646, '소품'),\n",
       "   (0.002707028, '음료'),\n",
       "   (0.0026563732, '파티'),\n",
       "   (0.0025878465, '게스트')],\n",
       "  -2.035298680653853),\n",
       " ([(0.011893171, '체험'),\n",
       "   (0.008361253, '바다'),\n",
       "   (0.0071331235, '우도'),\n",
       "   (0.00592065, '사람'),\n",
       "   (0.0054964465, '벚꽃'),\n",
       "   (0.005324176, '날씨'),\n",
       "   (0.0046853195, '폭포'),\n",
       "   (0.0043907124, '가족'),\n",
       "   (0.004009211, '요금'),\n",
       "   (0.0038929447, '물놀이'),\n",
       "   (0.0038793967, '주차'),\n",
       "   (0.0037673162, '박물관'),\n",
       "   (0.0034948988, '걱정'),\n",
       "   (0.0034524973, '남편'),\n",
       "   (0.0032222439, '겨울'),\n",
       "   (0.003206859, '강아지'),\n",
       "   (0.0031409792, '파크'),\n",
       "   (0.0031097683, '물고기'),\n",
       "   (0.0029477805, '카페'),\n",
       "   (0.0027731722, '주인')],\n",
       "  -2.5738683729800735)]"
      ]
     },
     "execution_count": 13,
     "metadata": {},
     "output_type": "execute_result"
    }
   ],
   "source": [
    "df_tdm['total'] = df_tdm.sum(axis=1)     # 단어 총 빈도수 계산\n",
    "df_words = df_tdm[df_tdm['total'].rank(ascending=False) <= 50] # 빈도수 상위 50개 추출\n",
    "df_words= df_words.drop('total', axis=1)    # 컬럼 'total' 제거\n",
    "df_words[:5]"
   ]
  },
  {
   "cell_type": "code",
   "execution_count": null,
   "metadata": {},
   "outputs": [
    {
     "name": "stdout",
     "output_type": "stream",
     "text": [
      "Average topic coherence: -1.7964.\n",
      "[([(0.01633619, '카페'),\n",
      "   (0.0112707475, '바다'),\n",
      "   (0.008001221, '사람'),\n",
      "   (0.005564089, '맛집'),\n",
      "   (0.0051417584, '서귀포'),\n",
      "   (0.004922713, '구경'),\n",
      "   (0.004701871, '날씨'),\n",
      "   (0.004456012, '애월'),\n",
      "   (0.0043847184, '커피'),\n",
      "   (0.0040767547, '주차'),\n",
      "   (0.00391286, '메뉴'),\n",
      "   (0.0038187073, '가족'),\n",
      "   (0.0036291163, '산책'),\n",
      "   (0.0036137425, '폭포'),\n",
      "   (0.0035743725, '체험'),\n",
      "   (0.0035304755, '주차장'),\n",
      "   (0.003271304, '바람'),\n",
      "   (0.0032632903, '풍경'),\n",
      "   (0.0031901973, '거리'),\n",
      "   (0.0031835558, '해변')],\n",
      "  -1.554515918452394),\n",
      " ([(0.015573673, '오름'),\n",
      "   (0.014012412, '카페'),\n",
      "   (0.008475053, '사람'),\n",
      "   (0.008451729, '바다'),\n",
      "   (0.00760581, '해수욕장'),\n",
      "   (0.0058782655, '맛집'),\n",
      "   (0.005856765, '날씨'),\n",
      "   (0.005307213, '코스'),\n",
      "   (0.0046243705, '김밥'),\n",
      "   (0.0043938807, '커피'),\n",
      "   (0.0041756905, '해변'),\n",
      "   (0.004086145, '바람'),\n",
      "   (0.0037284042, '나무'),\n",
      "   (0.0037181377, '산책'),\n",
      "   (0.0037178015, '남편'),\n",
      "   (0.0037173233, '풍경'),\n",
      "   (0.0037054014, '정상'),\n",
      "   (0.0037052878, '식당'),\n",
      "   (0.0033916535, '물놀이'),\n",
      "   (0.0032763982, '모래')],\n",
      "  -1.7604937692487224),\n",
      " ([(0.009256613, '사람'),\n",
      "   (0.008199351, '맛집'),\n",
      "   (0.0073928637, '카페'),\n",
      "   (0.0063417354, '바다'),\n",
      "   (0.0059742685, '아기'),\n",
      "   (0.0054110703, '함덕'),\n",
      "   (0.0051426534, '친구'),\n",
      "   (0.0043846685, '고기'),\n",
      "   (0.004155823, '식당'),\n",
      "   (0.004022372, '게스트'),\n",
      "   (0.003986119, '음식'),\n",
      "   (0.0034746856, '분위기'),\n",
      "   (0.003377321, '손님'),\n",
      "   (0.003254845, '돼지'),\n",
      "   (0.0029219615, '요리'),\n",
      "   (0.0029004172, '벚꽃'),\n",
      "   (0.0028677792, '먹기'),\n",
      "   (0.0028100815, '정리'),\n",
      "   (0.002805841, '생활'),\n",
      "   (0.0028031091, '식사')],\n",
      "  -1.820955991393601),\n",
      " ([(0.008332286, '위치'),\n",
      "   (0.007645877, '하우스'),\n",
      "   (0.007185362, '바다'),\n",
      "   (0.006225826, '가족'),\n",
      "   (0.0057494235, '거리'),\n",
      "   (0.005046753, '시설'),\n",
      "   (0.004902837, '마당'),\n",
      "   (0.0047633434, '서귀포'),\n",
      "   (0.0034177222, '생활'),\n",
      "   (0.0033799557, '힐링'),\n",
      "   (0.003239818, '마을'),\n",
      "   (0.0031852822, '분위기'),\n",
      "   (0.0030931633, '주변'),\n",
      "   (0.003057947, '테라스'),\n",
      "   (0.0030473648, '오션'),\n",
      "   (0.0029480164, '빨래'),\n",
      "   (0.002919812, '쉐어'),\n",
      "   (0.0028148263, '테이블'),\n",
      "   (0.002814387, '내부'),\n",
      "   (0.0028037815, '감성')],\n",
      "  -1.839333941588109),\n",
      " ([(0.008373785, '사람'),\n",
      "   (0.00803483, '바다'),\n",
      "   (0.007841835, '올레길'),\n",
      "   (0.0077673174, '우도'),\n",
      "   (0.007131893, '코스'),\n",
      "   (0.005299531, '날씨'),\n",
      "   (0.0051907836, '해변'),\n",
      "   (0.004736946, '차량'),\n",
      "   (0.004453282, '비행기'),\n",
      "   (0.0042751674, '한라산'),\n",
      "   (0.0041543567, '친구'),\n",
      "   (0.0040045846, '버스'),\n",
      "   (0.0036898993, '캠프'),\n",
      "   (0.0036274341, '바람'),\n",
      "   (0.0034954816, '카페'),\n",
      "   (0.0034724977, '공항'),\n",
      "   (0.003039532, '구경'),\n",
      "   (0.0028528844, '가족'),\n",
      "   (0.0027865793, '풍경'),\n",
      "   (0.002655334, '선적')],\n",
      "  -2.0066417974726773)]\n"
     ]
    }
   ],
   "source": [
    "from sklearn.cluster import KMeans\n",
    "\n",
    "kmeans = KMeans(n_clusters= 5)   # default: euclidean 거리\n",
    "predict = kmeans.fit_predict(df_words)    # k-means 분석으로 군집 3개 분리(0, 1, 2)     \n",
    "df_words['predict'] = predict             # 해당 군집값(0, 1, 2)을 원본 데이터에 붙이기\n",
    "print(df_words[:5])"
   ]
  },
  {
   "cell_type": "code",
   "execution_count": null,
   "metadata": {},
   "outputs": [],
   "source": [
    "# 주성분 분석(PCA)을 이용해 단어별 x, y 좌표 얻기\n",
    "\n",
    "from sklearn.decomposition import PCA\n",
    "\n",
    "pca = PCA(n_components=2)                         # 2차원 PCA 모델 설정\n",
    "word_pca = pca.fit_transform(df_words.iloc[0:, :-1])    # 군집 변수('predict')를 제외하고 PCA 실행)\n",
    "df_pca = pd.DataFrame(data=word_pca, index=[df_words.index], columns=['main1', 'main2'])\n",
    "df_pca['predict']= predict\n",
    "df_pca.tail()"
   ]
  },
  {
   "cell_type": "code",
   "execution_count": null,
   "metadata": {},
   "outputs": [],
   "source": [
    "import seaborn as sns\n",
    "import matplotlib.pyplot as plt\n",
    "\n",
    "# seaborn을 이용해 산점도 그리기\n",
    "sns.relplot(data = df_pca, x='main1',y= 'main2', height =8, aspect=1.5, hue='predict') \n",
    "\n",
    "# 산점도에 라벨링하기\n",
    "for i, index in enumerate(df_pca.index):\n",
    "  plt.text(df_pca.main1[i], df_pca.main2[i], index)"
   ]
  },
  {
   "cell_type": "code",
   "execution_count": null,
   "metadata": {},
   "outputs": [],
   "source": [
    "cluster_1 = df_pca[df_pca['predict'] == 0].index\n",
    "print(\"군집 1: \", cluster_1)\n",
    "cluster_2 = df_pca[df_pca['predict'] == 1].index\n",
    "print(\"군집 2: \", cluster_2)\n",
    "cluster_3 = df_pca[df_pca['predict'] == 2].index\n",
    "print(\"군집 3: \", cluster_3)\n",
    "cluster_4 = df_pca[df_pca['predict'] == 3].index\n",
    "print(\"군집 4: \", cluster_4)\n",
    "cluster_5 = df_pca[df_pca['predict'] == 4].index\n",
    "print(\"군집 5: \", cluster_5)\n",
    "# cluster_6 = df_pca[df_pca['predict'] == 5].index\n",
    "# print(\"군집 6: \", cluster_6)"
   ]
  },
  {
   "cell_type": "code",
   "execution_count": null,
   "metadata": {},
   "outputs": [],
   "source": [
    "for i in range(8):\n",
    "    temp = df_pca[df_pca['predict'] == i].index\n",
    "    lis = []\n",
    "    for j in temp:\n",
    "        lis.append(j[0])\n",
    "    print(f'군집{i}', lis)"
   ]
  }
 ],
 "metadata": {
  "kernelspec": {
   "display_name": "project1",
   "language": "python",
   "name": "python3"
  },
  "language_info": {
   "codemirror_mode": {
    "name": "ipython",
    "version": 3
   },
   "file_extension": ".py",
   "mimetype": "text/x-python",
   "name": "python",
   "nbconvert_exporter": "python",
   "pygments_lexer": "ipython3",
   "version": "3.9.12"
  }
 },
 "nbformat": 4,
 "nbformat_minor": 2
}
